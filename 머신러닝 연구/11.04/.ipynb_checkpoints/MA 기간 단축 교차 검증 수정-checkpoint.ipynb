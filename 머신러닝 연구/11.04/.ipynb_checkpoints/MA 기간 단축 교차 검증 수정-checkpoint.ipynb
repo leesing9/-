{
 "cells": [
  {
   "cell_type": "code",
   "execution_count": 47,
   "metadata": {},
   "outputs": [],
   "source": [
    "#기본\n",
    "import warnings\n",
    "warnings.filterwarnings(action='ignore') \n",
    "\n",
    "import pandas as pd\n",
    "import matplotlib.pyplot as plt\n",
    "import numpy as np\n",
    "import pandas_datareader.data as web\n",
    "import FinanceDataReader as fdr\n",
    "import mglearn\n",
    "import sklearn\n",
    "\n",
    "#분류 모델\n",
    "from sklearn.svm import LinearSVC\n",
    "from sklearn import neighbors,svm\n",
    "from sklearn.neighbors import KNeighborsClassifier\n",
    "from sklearn.tree import DecisionTreeClassifier\n",
    "from sklearn.linear_model import LogisticRegression\n",
    "from sklearn.ensemble import RandomForestClassifier\n",
    "from sklearn.ensemble import GradientBoostingClassifier\n",
    "from sklearn.svm import SVC\n",
    "#스케일러\n",
    "from sklearn.preprocessing import MinMaxScaler\n",
    "\n",
    "#성과 평가\n",
    "from sklearn.metrics import confusion_matrix #오차행렬\n",
    "from sklearn.metrics import accuracy_score #정확도\n",
    "from sklearn.metrics import f1_score\n",
    "from sklearn.metrics import classification_report\n",
    "from sklearn.metrics import precision_recall_curve\n",
    "from sklearn.model_selection import cross_val_score\n",
    "from sklearn.model_selection import KFold\n"
   ]
  },
  {
   "cell_type": "code",
   "execution_count": 48,
   "metadata": {},
   "outputs": [],
   "source": [
    "#특성 추가 ------------------------------------------\n",
    "    #이동평균선\n",
    "def get_MA(df):\n",
    "    MA_3=df[\"Close\"].rolling(3).mean()\n",
    "    MA_5=df[\"Close\"].rolling(5).mean()\n",
    "    df=df.assign(MA_10=MA_10,MA_60=MA_60).dropna()\n",
    "    \n",
    "    return df\n",
    "\n",
    "    \n",
    "    #스토캐스틱\n",
    "def get_stochastic(df, n=15, m=5, t=3):\n",
    "    # n일중 최고가\n",
    "    ndays_high = df.High.rolling(window=n, min_periods=1).max()\n",
    "    # n일중 최저가\n",
    "    ndays_low = df.Low.rolling(window=n, min_periods=1).min()\n",
    " \n",
    "    # Fast%K 계산\n",
    "    kdj_k = ((df.Close - ndays_low) / (ndays_high - ndays_low))*100\n",
    "    # Fast%D (=Slow%K) 계산\n",
    "    kdj_d = kdj_k.ewm(span=m).mean()\n",
    "    # Slow%D 계산\n",
    "    kdj_j = kdj_d.ewm(span=t).mean()\n",
    " \n",
    "    # dataframe에 컬럼 추가\n",
    "    df = df.assign(kdj_k=kdj_k, kdj_d=kdj_d, kdj_j=kdj_j).dropna()\n",
    "    \n",
    "    return df\n",
    "   \n",
    "    #시간\n",
    "def get_time(df):\n",
    "    time=np.linspace(0,10,len(df),endpoint=False).reshape(-1,1)\n",
    "    df=df.assign(time=time)\n",
    "    \n",
    "    return df"
   ]
  },
  {
   "cell_type": "code",
   "execution_count": 49,
   "metadata": {},
   "outputs": [],
   "source": [
    "# Methods\n",
    "\n",
    "#train_test_split, score 도출----------------------\n",
    "\n",
    "def print_score(X,y,model):\n",
    "    \n",
    "    setlen=int(round(len(X)*0.7,0))\n",
    "    y=y.astype('int')\n",
    "    X_train,X_test,y_train,y_test=X[:setlen],X[setlen:],y[:setlen],y[setlen:]\n",
    "\n",
    "    reg=model.fit(X_train,y_train)\n",
    "    print(\"훈련 세트 정확도:{:.3f}\".format(reg.score(X_train,y_train)))\n",
    "    print(\"테스트 세트 정확도:{:.3f}\".format(reg.score(X_test,y_test)))\n",
    "\n",
    "    confusion=confusion_matrix(y_test,reg.predict(X_test))\n",
    "    print(confusion)\n",
    "    \n",
    "    \n",
    "\n",
    "\n",
    "#미래 예측을 위한 시간조정-------------------   \n",
    "\n",
    "def adjust_time(X,y):\n",
    "    y=pd.DataFrame(np.array(y),index=X.index).shift(-1).dropna()\n",
    "    X=X.loc[y.index].dropna()\n",
    "    \n",
    "    return X,y\n"
   ]
  },
  {
   "cell_type": "code",
   "execution_count": 50,
   "metadata": {
    "scrolled": true
   },
   "outputs": [
    {
     "data": {
      "text/plain": [
       "RandomForestClassifier(bootstrap=True, class_weight=None, criterion='gini',\n",
       "                       max_depth=None, max_features='auto', max_leaf_nodes=None,\n",
       "                       min_impurity_decrease=0.0, min_impurity_split=None,\n",
       "                       min_samples_leaf=1, min_samples_split=2,\n",
       "                       min_weight_fraction_leaf=0.0, n_estimators='warn',\n",
       "                       n_jobs=None, oob_score=False, random_state=None,\n",
       "                       verbose=0, warm_start=False)"
      ]
     },
     "execution_count": 50,
     "metadata": {},
     "output_type": "execute_result"
    }
   ],
   "source": [
    "\n",
    "RandomForestClassifier()"
   ]
  },
  {
   "cell_type": "code",
   "execution_count": null,
   "metadata": {},
   "outputs": [],
   "source": []
  },
  {
   "cell_type": "code",
   "execution_count": null,
   "metadata": {},
   "outputs": [],
   "source": []
  },
  {
   "cell_type": "code",
   "execution_count": null,
   "metadata": {},
   "outputs": [],
   "source": []
  },
  {
   "cell_type": "code",
   "execution_count": null,
   "metadata": {},
   "outputs": [],
   "source": []
  },
  {
   "cell_type": "code",
   "execution_count": null,
   "metadata": {},
   "outputs": [],
   "source": []
  },
  {
   "cell_type": "code",
   "execution_count": null,
   "metadata": {},
   "outputs": [],
   "source": []
  },
  {
   "cell_type": "code",
   "execution_count": 57,
   "metadata": {},
   "outputs": [],
   "source": [
    "def cross_score(X,y,SC):\n",
    "    print(\"\\n교차검증 테스트------\")\n",
    "    len1=int(round(len(X)*1/5,0))\n",
    "    len2=int(round(len1*4/5,0))\n",
    "    X_cross,y_cross=X[:len1],y[:len1]\n",
    "    X_train,y_train,X_test,y_test=X_cross[:len2],y_cross[:len2],X_cross[len2:],y_cross[len2:]\n",
    "    train_score1=RandomForestClassifier(random_state=2).fit(X_train,y_train).score(X_train,y_train)\n",
    "    test_score1=RandomForestClassifier(random_state=2).fit(X_train,y_train).score(X_test,y_test)\n",
    "\n",
    "    len1=int(round(len(X)*2/5,0))\n",
    "    len2=int(round(len1*4/5,0))\n",
    "    X_cross,y_cross=X[:len1],y[:len1]\n",
    "    X_train,y_train,X_test,y_test=X_cross[:len2],y_cross[:len2],X_cross[len2:],y_cross[len2:]\n",
    "    train_score2=RandomForestClassifier(random_state=2).fit(X_train,y_train).score(X_train,y_train)\n",
    "    test_score2=RandomForestClassifier(random_state=2).fit(X_train,y_train).score(X_test,y_test)\n",
    "\n",
    "    len1=int(round(len(X)*3/5,0))\n",
    "    len2=int(round(len1*4/5,0))\n",
    "    X_cross,y_cross=X[:len1],y[:len1]\n",
    "    X_train,y_train,X_test,y_test=X_cross[:len2],y_cross[:len2],X_cross[len2:],y_cross[len2:]\n",
    "    train_score3=RandomForestClassifier(random_state=2).fit(X_train,y_train).score(X_train,y_train)\n",
    "    test_score3=RandomForestClassifier(random_state=2).fit(X_train,y_train).score(X_test,y_test)\n",
    "\n",
    "    len1=int(round(len(X)*4/5,0))\n",
    "    len2=int(round(len1*4/5,0))\n",
    "    X_cross,y_cross=X[:len1],y[:len1]\n",
    "    X_train,y_train,X_test,y_test=X_cross[:len2],y_cross[:len2],X_cross[len2:],y_cross[len2:]\n",
    "    train_score4=RandomForestClassifier(random_state=2).fit(X_train,y_train).score(X_train,y_train)\n",
    "    test_score4=RandomForestClassifier(random_state=2).fit(X_train,y_train).score(X_test,y_test)\n",
    "\n",
    "    len1=int(round(len(X)*5/5,0))\n",
    "    len2=int(round(len1*4/5,0))\n",
    "    X_cross,y_cross=X[:len1],y[:len1]\n",
    "    X_train,y_train,X_test,y_test=X_cross[:len2],y_cross[:len2],X_cross[len2:],y_cross[len2:]\n",
    "    train_score5=RandomForestClassifier(random_state=2).fit(X_train,y_train).score(X_train,y_train)\n",
    "    test_score5=RandomForestClassifier(random_state=2).fit(X_train,y_train).score(X_test,y_test)\n",
    "\n",
    "    X_train_score=(train_score1+train_score2+train_score3+train_score4+train_score5)/5\n",
    "    X_test_score=(test_score1+test_score2+test_score3+test_score4+test_score5)/5\n",
    "    print(\"  score 1 :\",test_score1,\",\"\"\\n\",\"score 2 :\",test_score2,\",\"\"\\n\",\"score 3 :\",test_score3,\",\"\"\\n\",\"score 4 :\",test_score4,\",\"\"\\n\",\"score 5 :\",test_score5,\",\"\"\\n\")\n",
    "    print(\"교차검증 훈련 점수 : \",X_train_score,\"\\n교차검증 테스트 점수 : \",X_test_score)\n",
    "    SC.append(\"훈련 교차 :%s, 테스트 교차 : %s\" %(X_train_score,X_test_score))\n"
   ]
  },
  {
   "cell_type": "code",
   "execution_count": null,
   "metadata": {},
   "outputs": [],
   "source": []
  },
  {
   "cell_type": "code",
   "execution_count": 59,
   "metadata": {
    "scrolled": true
   },
   "outputs": [
    {
     "name": "stdout",
     "output_type": "stream",
     "text": [
      "\n",
      " US500 -------------\n",
      "MA_3\n",
      "훈련 세트 정확도:0.980\n",
      "테스트 세트 정확도:0.516\n",
      "[[373  68]\n",
      " [430 157]]\n",
      "\n",
      "교차검증 테스트------\n",
      "  score 1 : 0.49635036496350365 ,\n",
      " score 2 : 0.5182481751824818 ,\n",
      " score 3 : 0.5109489051094891 ,\n",
      " score 4 : 0.4854014598540146 ,\n",
      " score 5 : 0.4139941690962099 ,\n",
      "\n",
      "교차검증 훈련 점수 :  0.9779587855118125 \n",
      "교차검증 테스트 점수 :  0.48498861484113986\n",
      "MA_5\n",
      "훈련 세트 정확도:0.983\n",
      "테스트 세트 정확도:0.473\n",
      "[[370  52]\n",
      " [490 116]]\n",
      "\n",
      "교차검증 테스트------\n",
      "  score 1 : 0.5547445255474452 ,\n",
      " score 2 : 0.6788321167883211 ,\n",
      " score 3 : 0.46958637469586373 ,\n",
      " score 4 : 0.458029197080292 ,\n",
      " score 5 : 0.5029154518950437 ,\n",
      "\n",
      "교차검증 훈련 점수 :  0.9822402752574237 \n",
      "교차검증 테스트 점수 :  0.5328215332013932\n",
      "MA_10\n",
      "훈련 세트 정확도:0.986\n",
      "테스트 세트 정확도:0.523\n",
      "[[325  40]\n",
      " [450 213]]\n",
      "\n",
      "교차검증 테스트------\n",
      "  score 1 : 0.6861313868613139 ,\n",
      " score 2 : 0.7627737226277372 ,\n",
      " score 3 : 0.48905109489051096 ,\n",
      " score 4 : 0.4653284671532847 ,\n",
      " score 5 : 0.6239067055393586 ,\n",
      "\n",
      "교차검증 훈련 점수 :  0.984068963207305 \n",
      "교차검증 테스트 점수 :  0.605438275414441\n",
      "MA_20\n",
      "훈련 세트 정확도:0.990\n",
      "테스트 세트 정확도:0.428\n",
      "[[304  27]\n",
      " [561 136]]\n",
      "\n",
      "교차검증 테스트------\n",
      "  score 1 : 0.8759124087591241 ,\n",
      " score 2 : 0.8759124087591241 ,\n",
      " score 3 : 0.6861313868613139 ,\n",
      " score 4 : 0.6478102189781022 ,\n",
      " score 5 : 0.7988338192419825 ,\n",
      "\n",
      "교차검증 훈련 점수 :  0.9915182827613578 \n",
      "교차검증 테스트 점수 :  0.7769200485199292\n",
      "MA_30\n",
      "훈련 세트 정확도:0.990\n",
      "테스트 세트 정확도:0.409\n",
      "[[307  32]\n",
      " [576 113]]\n",
      "\n",
      "교차검증 테스트------\n",
      "  score 1 : 0.8394160583941606 ,\n",
      " score 2 : 0.7518248175182481 ,\n",
      " score 3 : 0.7737226277372263 ,\n",
      " score 4 : 0.791970802919708 ,\n",
      " score 5 : 0.7842565597667639 ,\n",
      "\n",
      "교차검증 훈련 점수 :  0.9918403895823914 \n",
      "교차검증 테스트 점수 :  0.7882381732672215\n",
      "\n",
      " RSTI -------------\n",
      "MA_3\n",
      "훈련 세트 정확도:0.981\n",
      "테스트 세트 정확도:0.565\n",
      "[[333  67]\n",
      " [283 122]]\n",
      "\n",
      "교차검증 테스트------\n",
      "  score 1 : 0.4953271028037383 ,\n",
      " score 2 : 0.4930232558139535 ,\n",
      " score 3 : 0.5217391304347826 ,\n",
      " score 4 : 0.5361305361305362 ,\n",
      " score 5 : 0.5139664804469274 ,\n",
      "\n",
      "교차검증 훈련 점수 :  0.9805354003293362 \n",
      "교차검증 테스트 점수 :  0.5120373011259876\n",
      "MA_5\n",
      "훈련 세트 정확도:0.986\n",
      "테스트 세트 정확도:0.660\n",
      "[[286 108]\n",
      " [166 245]]\n",
      "\n",
      "교차검증 테스트------\n",
      "  score 1 : 0.7289719626168224 ,\n",
      " score 2 : 0.6790697674418604 ,\n",
      " score 3 : 0.5248447204968945 ,\n",
      " score 4 : 0.5664335664335665 ,\n",
      " score 5 : 0.6443202979515829 ,\n",
      "\n",
      "교차검증 훈련 점수 :  0.9847289510916163 \n",
      "교차검증 테스트 점수 :  0.6287280629881453\n",
      "MA_10\n",
      "훈련 세트 정확도:0.990\n",
      "테스트 세트 정확도:0.765\n",
      "[[305  83]\n",
      " [106 311]]\n",
      "\n",
      "교차검증 테스트------\n",
      "  score 1 : 0.616822429906542 ,\n",
      " score 2 : 0.6744186046511628 ,\n",
      " score 3 : 0.5683229813664596 ,\n",
      " score 4 : 0.634032634032634 ,\n",
      " score 5 : 0.7579143389199255 ,\n",
      "\n",
      "교차검증 훈련 점수 :  0.9887055557282579 \n",
      "교차검증 테스트 점수 :  0.6503021977753447\n",
      "MA_20\n",
      "훈련 세트 정확도:0.990\n",
      "테스트 세트 정확도:0.891\n",
      "[[329  46]\n",
      " [ 42 388]]\n",
      "\n",
      "교차검증 테스트------\n",
      "  score 1 : 0.8130841121495327 ,\n",
      " score 2 : 0.8511627906976744 ,\n",
      " score 3 : 0.8229813664596274 ,\n",
      " score 4 : 0.7692307692307693 ,\n",
      " score 5 : 0.88268156424581 ,\n",
      "\n",
      "교차검증 훈련 점수 :  0.9915225815855946 \n",
      "교차검증 테스트 점수 :  0.8278281205566828\n",
      "MA_30\n",
      "훈련 세트 정확도:0.991\n",
      "테스트 세트 정확도:0.883\n",
      "[[354  32]\n",
      " [ 62 357]]\n",
      "\n",
      "교차검증 테스트------\n",
      "  score 1 : 0.7476635514018691 ,\n",
      " score 2 : 0.8325581395348837 ,\n",
      " score 3 : 0.7701863354037267 ,\n",
      " score 4 : 0.7738927738927739 ,\n",
      " score 5 : 0.8789571694599627 ,\n",
      "\n",
      "교차검증 훈련 점수 :  0.9931761316199248 \n",
      "교차검증 테스트 점수 :  0.8006515939386432\n",
      "\n",
      " EURO -------------\n",
      "MA_3\n",
      "훈련 세트 정확도:0.969\n",
      "테스트 세트 정확도:0.498\n",
      "[[ 84 150]\n",
      " [ 57 121]]\n",
      "\n",
      "교차검증 테스트------\n",
      "  score 1 : 0.41818181818181815 ,\n",
      " score 2 : 0.5545454545454546 ,\n",
      " score 3 : 0.5636363636363636 ,\n",
      " score 4 : 0.4772727272727273 ,\n",
      " score 5 : 0.4727272727272727 ,\n",
      "\n",
      "교차검증 훈련 점수 :  0.9755739143677973 \n",
      "교차검증 테스트 점수 :  0.49727272727272726\n",
      "MA_5\n",
      "훈련 세트 정확도:0.980\n",
      "테스트 세트 정확도:0.566\n",
      "[[143  92]\n",
      " [ 87  90]]\n",
      "\n",
      "교차검증 테스트------\n",
      "  score 1 : 0.6 ,\n",
      " score 2 : 0.6090909090909091 ,\n",
      " score 3 : 0.593939393939394 ,\n",
      " score 4 : 0.5409090909090909 ,\n",
      " score 5 : 0.6 ,\n",
      "\n",
      "교차검증 훈련 점수 :  0.9746643063421484 \n",
      "교차검증 테스트 점수 :  0.5887878787878787\n",
      "MA_10\n",
      "훈련 세트 정확도:0.976\n",
      "테스트 세트 정확도:0.704\n",
      "[[194  70]\n",
      " [ 52  96]]\n",
      "\n",
      "교차검증 테스트------\n",
      "  score 1 : 0.5818181818181818 ,\n",
      " score 2 : 0.5909090909090909 ,\n",
      " score 3 : 0.5818181818181818 ,\n",
      " score 4 : 0.6045454545454545 ,\n",
      " score 5 : 0.7454545454545455 ,\n",
      "\n",
      "교차검증 훈련 점수 :  0.9804871293905577 \n",
      "교차검증 테스트 점수 :  0.620909090909091\n",
      "MA_20\n",
      "훈련 세트 정확도:0.983\n",
      "테스트 세트 정확도:0.735\n",
      "[[214  71]\n",
      " [ 38  89]]\n",
      "\n",
      "교차검증 테스트------\n",
      "  score 1 : 0.7454545454545455 ,\n",
      " score 2 : 0.6272727272727273 ,\n",
      " score 3 : 0.6363636363636364 ,\n",
      " score 4 : 0.740909090909091 ,\n",
      " score 5 : 0.8072727272727273 ,\n",
      "\n",
      "교차검증 훈련 점수 :  0.9902028790472028 \n",
      "교차검증 테스트 점수 :  0.7114545454545455\n",
      "MA_30\n",
      "훈련 세트 정확도:0.985\n",
      "테스트 세트 정확도:0.794\n",
      "[[238  51]\n",
      " [ 34  89]]\n",
      "\n",
      "교차검증 테스트------\n",
      "  score 1 : 0.5454545454545454 ,\n",
      " score 2 : 0.38181818181818183 ,\n",
      " score 3 : 0.7393939393939394 ,\n",
      " score 4 : 0.6818181818181818 ,\n",
      " score 5 : 0.8472727272727273 ,\n",
      "\n",
      "교차검증 훈련 점수 :  0.9909636384537771 \n",
      "교차검증 테스트 점수 :  0.639151515151515\n",
      "\n",
      " HSI -------------\n",
      "MA_3\n",
      "훈련 세트 정확도:0.982\n",
      "테스트 세트 정확도:0.541\n",
      "[[535 115]\n",
      " [523 218]]\n",
      "\n",
      "교차검증 테스트------\n",
      "  score 1 : 0.572972972972973 ,\n",
      " score 2 : 0.48787061994609165 ,\n",
      " score 3 : 0.5611510791366906 ,\n",
      " score 4 : 0.5741239892183289 ,\n",
      " score 5 : 0.5329018338727076 ,\n",
      "\n",
      "교차검증 훈련 점수 :  0.9829834482820419 \n",
      "교차검증 테스트 점수 :  0.5458040990293583\n",
      "MA_5\n",
      "훈련 세트 정확도:0.983\n",
      "테스트 세트 정확도:0.592\n",
      "[[538 100]\n",
      " [467 286]]\n",
      "\n",
      "교차검증 테스트------\n",
      "  score 1 : 0.7189189189189189 ,\n",
      " score 2 : 0.5471698113207547 ,\n",
      " score 3 : 0.64568345323741 ,\n",
      " score 4 : 0.6428571428571429 ,\n",
      " score 5 : 0.6213592233009708 ,\n",
      "\n",
      "교차검증 훈련 점수 :  0.9856896103883012 \n",
      "교차검증 테스트 점수 :  0.6351977099270394\n",
      "MA_10\n",
      "훈련 세트 정확도:0.988\n",
      "테스트 세트 정확도:0.611\n",
      "[[565  57]\n",
      " [484 285]]\n",
      "\n",
      "교차검증 테스트------\n",
      "  score 1 : 0.7837837837837838 ,\n",
      " score 2 : 0.7088948787061995 ,\n",
      " score 3 : 0.7050359712230215 ,\n",
      " score 4 : 0.7681940700808625 ,\n",
      " score 5 : 0.7281553398058253 ,\n",
      "\n",
      "교차검증 훈련 점수 :  0.985541836886228 \n",
      "교차검증 테스트 점수 :  0.7388128087199386\n",
      "MA_20\n",
      "훈련 세트 정확도:0.992\n",
      "테스트 세트 정확도:0.818\n",
      "[[552  53]\n",
      " [200 586]]\n",
      "\n",
      "교차검증 테스트------\n",
      "  score 1 : 0.8702702702702703 ,\n",
      " score 2 : 0.8463611859838275 ,\n",
      " score 3 : 0.6007194244604317 ,\n",
      " score 4 : 0.8517520215633423 ,\n",
      " score 5 : 0.8036677454153183 ,\n",
      "\n",
      "교차검증 훈련 점수 :  0.9918109337189793 \n",
      "교차검증 테스트 점수 :  0.794554129538638\n",
      "MA_30\n",
      "훈련 세트 정확도:0.994\n",
      "테스트 세트 정확도:0.785\n",
      "[[532  54]\n",
      " [245 560]]\n",
      "\n",
      "교차검증 테스트------\n",
      "  score 1 : 0.8594594594594595 ,\n",
      " score 2 : 0.8328840970350404 ,\n",
      " score 3 : 0.802158273381295 ,\n",
      " score 4 : 0.8463611859838275 ,\n",
      " score 5 : 0.7659115426105717 ,\n",
      "\n",
      "교차검증 훈련 점수 :  0.9941525669200102 \n",
      "교차검증 테스트 점수 :  0.8213549116940388\n"
     ]
    }
   ],
   "source": [
    "\n",
    "\n",
    "SC=[]\n",
    "for y in [\"US500\",\"RSTI\",\"EURO\",\"HSI\"]:\n",
    "    SC.append(y)\n",
    "    print(\"\\n\",y,\"-------------\")\n",
    "    \n",
    "    KS=fdr.DataReader(y,\"1990-01-01\",\"2019-10-01\")\n",
    "    KS=get_stochastic(KS)\n",
    "    KS=get_time(KS)\n",
    "    #------킬스위치\n",
    "    for x,y in zip(KS[\"Change\"],KS.index):\n",
    "        if abs(x)>0.01:\n",
    "            KS = KS.drop(y, 0) \n",
    "    #----------------\n",
    "    \n",
    "    MA_3=KS[\"Close\"].rolling(3).mean().dropna()\n",
    "    MA_5=KS[\"Close\"].rolling(5).mean().dropna()\n",
    "    MA_10=KS[\"Close\"].rolling(10).mean().dropna()\n",
    "    MA_20=KS[\"Close\"].rolling(20).mean().dropna()\n",
    "    MA_30=KS[\"Close\"].rolling(30).mean().dropna()\n",
    "    malist=[MA_3,MA_5,MA_10,MA_20,MA_30]\n",
    "    malist2=[\"MA_3\",\"MA_5\",\"MA_10\",\"MA_20\",\"MA_30\"]\n",
    "    KS=KS.assign(MA_3=MA_3,MA_5=MA_5,MA_10=MA_10,MA_20=MA_20,MA_30=MA_30).dropna()\n",
    "    n=0\n",
    "    score_list=[]\n",
    "        \n",
    "    for x in malist:\n",
    "        KS[malist2[n]]=x\n",
    "        KS=KS.dropna()\n",
    "        \n",
    "        y=np.where(KS[\"Close\"]>KS[malist2[n]],1,0)\n",
    "        X,y=adjust_time(KS,y)\n",
    "\n",
    "        setlen=int(round(len(X)*0.7,0))\n",
    "        y=y.astype('int')\n",
    "        X_train,X_test,y_train,y_test=X[:setlen],X[setlen:],y[:setlen],y[setlen:]\n",
    "        print(malist2[n])\n",
    "        \n",
    "        print_score(X,y,RandomForestClassifier(random_state=2))\n",
    "        SC.append(malist2[n])\n",
    "        cross_score(X,y,SC)\n",
    "        n=n+1"
   ]
  },
  {
   "cell_type": "code",
   "execution_count": 61,
   "metadata": {
    "scrolled": false
   },
   "outputs": [
    {
     "data": {
      "text/plain": [
       "['US500',\n",
       " 'MA_3',\n",
       " '훈련 교차 :0.9779587855118125, 테스트 교차 : 0.48498861484113986',\n",
       " 'MA_5',\n",
       " '훈련 교차 :0.9822402752574237, 테스트 교차 : 0.5328215332013932',\n",
       " 'MA_10',\n",
       " '훈련 교차 :0.984068963207305, 테스트 교차 : 0.605438275414441',\n",
       " 'MA_20',\n",
       " '훈련 교차 :0.9915182827613578, 테스트 교차 : 0.7769200485199292',\n",
       " 'MA_30',\n",
       " '훈련 교차 :0.9918403895823914, 테스트 교차 : 0.7882381732672215',\n",
       " 'RSTI',\n",
       " 'MA_3',\n",
       " '훈련 교차 :0.9805354003293362, 테스트 교차 : 0.5120373011259876',\n",
       " 'MA_5',\n",
       " '훈련 교차 :0.9847289510916163, 테스트 교차 : 0.6287280629881453',\n",
       " 'MA_10',\n",
       " '훈련 교차 :0.9887055557282579, 테스트 교차 : 0.6503021977753447',\n",
       " 'MA_20',\n",
       " '훈련 교차 :0.9915225815855946, 테스트 교차 : 0.8278281205566828',\n",
       " 'MA_30',\n",
       " '훈련 교차 :0.9931761316199248, 테스트 교차 : 0.8006515939386432',\n",
       " 'EURO',\n",
       " 'MA_3',\n",
       " '훈련 교차 :0.9755739143677973, 테스트 교차 : 0.49727272727272726',\n",
       " 'MA_5',\n",
       " '훈련 교차 :0.9746643063421484, 테스트 교차 : 0.5887878787878787',\n",
       " 'MA_10',\n",
       " '훈련 교차 :0.9804871293905577, 테스트 교차 : 0.620909090909091',\n",
       " 'MA_20',\n",
       " '훈련 교차 :0.9902028790472028, 테스트 교차 : 0.7114545454545455',\n",
       " 'MA_30',\n",
       " '훈련 교차 :0.9909636384537771, 테스트 교차 : 0.639151515151515',\n",
       " 'HSI',\n",
       " 'MA_3',\n",
       " '훈련 교차 :0.9829834482820419, 테스트 교차 : 0.5458040990293583',\n",
       " 'MA_5',\n",
       " '훈련 교차 :0.9856896103883012, 테스트 교차 : 0.6351977099270394',\n",
       " 'MA_10',\n",
       " '훈련 교차 :0.985541836886228, 테스트 교차 : 0.7388128087199386',\n",
       " 'MA_20',\n",
       " '훈련 교차 :0.9918109337189793, 테스트 교차 : 0.794554129538638',\n",
       " 'MA_30',\n",
       " '훈련 교차 :0.9941525669200102, 테스트 교차 : 0.8213549116940388']"
      ]
     },
     "execution_count": 61,
     "metadata": {},
     "output_type": "execute_result"
    }
   ],
   "source": [
    "SC"
   ]
  },
  {
   "cell_type": "code",
   "execution_count": null,
   "metadata": {},
   "outputs": [],
   "source": [
    "\n"
   ]
  },
  {
   "cell_type": "code",
   "execution_count": null,
   "metadata": {},
   "outputs": [],
   "source": []
  },
  {
   "cell_type": "code",
   "execution_count": null,
   "metadata": {},
   "outputs": [],
   "source": []
  },
  {
   "cell_type": "code",
   "execution_count": null,
   "metadata": {},
   "outputs": [],
   "source": []
  },
  {
   "cell_type": "code",
   "execution_count": null,
   "metadata": {},
   "outputs": [],
   "source": []
  },
  {
   "cell_type": "code",
   "execution_count": null,
   "metadata": {},
   "outputs": [],
   "source": [
    "\n",
    "reg1=neighbors.KNeighborsClassifier(n_neighbors=2).fit(X_train,y_train)\n",
    "reg2=svm.SVC(C=1000,gamma=0.01).fit(X_train,y_train)\n",
    "reg3=RandomForestClassifier(n_estimators=50).fit(X_train,y_train)\n",
    "reg4=GradientBoostingClassifier(random_state=0).fit(X_train,y_train)\n",
    "\n",
    "precision,recall,thresholds=precision_recall_curve(y_test,reg4.decision_function(X_test))"
   ]
  },
  {
   "cell_type": "code",
   "execution_count": null,
   "metadata": {},
   "outputs": [],
   "source": [
    "\n",
    "reg1=neighbors.KNeighborsClassifier(n_neighbors=2).fit(X_train,y_train)\n",
    "reg2=svm.SVC(C=1000,gamma=0.01).fit(X_train,y_train)\n",
    "reg3=RandomForestClassifier(n_estimators=50).fit(X_train,y_train)\n",
    "reg4=GradientBoostingClassifier(random_state=0).fit(X_train,y_train)\n",
    "\n",
    "precision,recall,thresholds=precision_recall_curve(y_test,reg4.decision_function(X_test))\n",
    "\n",
    "close_zero=np.argmin(np.abs(thresholds))\n",
    "plt.plot(precision[close_zero],recall[close_zero],'o',markersize=10,label='0',fillstyle=\"none\",c='k',mew=2)\n",
    "plt.plot(precision,recall,label=\"curve\")\n",
    "plt.xlabel(\"precision\")\n",
    "plt.ylabel('recall')\n",
    "plt.legend(loc=\"best\")\n"
   ]
  },
  {
   "cell_type": "code",
   "execution_count": null,
   "metadata": {},
   "outputs": [],
   "source": [
    "from sklearn.metrics import roc_curve\n",
    "\n",
    "plt.figure(figsize=(4, 4))\n",
    "fpr_rf,tpr_rf,thresholds_rf=roc_curve(y_test,reg3.predict_proba(X_test)[:,1])\n",
    "\n",
    "plt.plot(fpr_rf,tpr_rf,'k')\n",
    "plt.xlabel(\"FPR\")\n",
    "plt.ylabel(\"TPR(recall)\")\n",
    "plt.plot(fpr_rf[close_default_rf],tpr_rf[close_default_rf],'^',markersize=10,label=\"RF recall : 0.5\",fillstyle=\"none\",mew=2)\n"
   ]
  },
  {
   "cell_type": "code",
   "execution_count": null,
   "metadata": {},
   "outputs": [],
   "source": [
    "X"
   ]
  },
  {
   "cell_type": "code",
   "execution_count": null,
   "metadata": {
    "scrolled": true
   },
   "outputs": [],
   "source": [
    "plt.plot(X.index,X[\"Close\"])\n",
    "plt.plot(X.index,X[\"MA_60\"],'k')"
   ]
  },
  {
   "cell_type": "code",
   "execution_count": null,
   "metadata": {},
   "outputs": [],
   "source": []
  },
  {
   "cell_type": "code",
   "execution_count": null,
   "metadata": {},
   "outputs": [],
   "source": [
    "y"
   ]
  },
  {
   "cell_type": "code",
   "execution_count": null,
   "metadata": {},
   "outputs": [],
   "source": [
    "plt.plot(X.index,X[\"Close\"])"
   ]
  },
  {
   "cell_type": "code",
   "execution_count": null,
   "metadata": {},
   "outputs": [],
   "source": [
    "plt.plot(X.index[:int(round(len(X.index)*0.8,0))],X[\"Close\"][:int(round(len(X.index)*0.8,0))])\n",
    "plt.plot(X.index[int(round(len(X.index)*0.8,0)):],X[\"Close\"][int(round(len(X.index)*0.8,0)):])\n",
    "\n",
    "plt.title(\"IXIC\")"
   ]
  },
  {
   "cell_type": "code",
   "execution_count": null,
   "metadata": {},
   "outputs": [],
   "source": [
    "X"
   ]
  },
  {
   "cell_type": "code",
   "execution_count": null,
   "metadata": {},
   "outputs": [],
   "source": [
    "len(X)-setlen"
   ]
  },
  {
   "cell_type": "code",
   "execution_count": null,
   "metadata": {},
   "outputs": [],
   "source": [
    "len(X_test)"
   ]
  },
  {
   "cell_type": "code",
   "execution_count": null,
   "metadata": {},
   "outputs": [],
   "source": [
    "setlen=int(round(len(X)*0.7,0))"
   ]
  },
  {
   "cell_type": "code",
   "execution_count": null,
   "metadata": {},
   "outputs": [],
   "source": [
    "len(X)-setlen"
   ]
  },
  {
   "cell_type": "code",
   "execution_count": null,
   "metadata": {},
   "outputs": [],
   "source": [
    "time=np.linspace(0,10,len(df),endpoint=False).reshape(-1,1)\n",
    "    df=df.assign(time=time)"
   ]
  },
  {
   "cell_type": "code",
   "execution_count": null,
   "metadata": {},
   "outputs": [],
   "source": [
    "\n",
    "# 양수와 음수로 조정한 2중 분류 ---------------\n",
    "\n",
    "\n",
    "y=np.where(KS[\"Close\"]>KS[\"MA_60\"],1,0)\n",
    "\n",
    "X,y=adjust_time(KS,y)\n",
    "\n",
    "setlen=int(round(len(X)*0.8,0))\n",
    "y=y.astype('int')\n",
    "X_train,X_test,y_train,y_test=X[:setlen],X[setlen:],y[:setlen],y[setlen:]\n",
    "\n",
    "print_score(X,y,RandomForestClassifier())\n"
   ]
  },
  {
   "cell_type": "code",
   "execution_count": null,
   "metadata": {},
   "outputs": [],
   "source": [
    "lenset=np.linspace(0,100,5)\n",
    "for x in lenset:\n",
    "    len=int(len(X)*x)\n",
    "    X_train,X_test,y_train,y_test="
   ]
  },
  {
   "cell_type": "code",
   "execution_count": null,
   "metadata": {},
   "outputs": [],
   "source": [
    "np.linspace(50,100,2)"
   ]
  },
  {
   "cell_type": "code",
   "execution_count": null,
   "metadata": {},
   "outputs": [],
   "source": [
    "for i in np.linspace(50,100,2):\n",
    "    df.loc[      KS [KS['Change'] >= initial]           [KS['Change'] <= round(np.percentile(KS['Change'], i),4)].index      ] = num\n",
    "    initial = round(np.percentile(KS['Change'], i),4)\n",
    "    num += 1"
   ]
  },
  {
   "cell_type": "code",
   "execution_count": null,
   "metadata": {},
   "outputs": [],
   "source": [
    "np.percentile([0,1,2,3,4],)\n"
   ]
  },
  {
   "cell_type": "code",
   "execution_count": null,
   "metadata": {},
   "outputs": [],
   "source": [
    "y=[60,90,120,180,360]\n",
    "HIS=[0.7413,0.6994,0.6483,0.7452,0.65]\n",
    "RSTI=[0.715,0.731,0.8297,0.7115,0.8702]\n",
    "EURO=[0.7925,0.7509,0.7843,0.7346,0.8714]\n",
    "SP=[0.8338,0.8859,0.8730,0.9572,0.8967]"
   ]
  },
  {
   "cell_type": "code",
   "execution_count": null,
   "metadata": {},
   "outputs": [],
   "source": [
    "U=[0.7779411764705882,\n",
    "0.68,\n",
    "0.6692739310963978,\n",
    "0.7709923664122138,\n",
    "0.8435483870967742]\n",
    "\n",
    "R=[0.660377358490566,\n",
    "0.6266666666666667,\n",
    "0.6788461538461539,\n",
    "0.7683168316831683,\n",
    "0.827659574468085]\n",
    "\n",
    "E=[0.7444444444444445,\n",
    "0.7660377358490567,\n",
    "0.7411764705882352,\n",
    "0.5428571428571429,\n",
    "0.9428571428571428]\n",
    "\n",
    "H=[0.6293478260869565,\n",
    "0.6404371584699453,\n",
    "0.543956043956044,\n",
    "0.7027932960893855,\n",
    "0.7662790697674418]"
   ]
  },
  {
   "cell_type": "code",
   "execution_count": null,
   "metadata": {},
   "outputs": [],
   "source": [
    "plt.ylabel(\"accuracy\")\n",
    "plt.xlabel(\"MA\")\n",
    "plt.plot(y,U,label='US500')\n",
    "plt.plot(y,R,label=\"RSTI\")\n",
    "plt.plot(y,E,label=\"EURO\")\n",
    "plt.plot(y,H,label=\"HSI\")\n",
    "plt.legend(loc=4)\n",
    "plt.show()"
   ]
  },
  {
   "cell_type": "code",
   "execution_count": null,
   "metadata": {},
   "outputs": [],
   "source": [
    "US500',\n",
    " 'MA_60',\n",
    " '0.9946178808039561랑0.7779411764705882',\n",
    " 'MA_90',\n",
    " '0.9954979693375515랑0.68',\n",
    " 'MA_120',\n",
    " '0.9951081073342584랑0.6692739310963978',\n",
    " 'MA_180',\n",
    " '0.9985671221637429랑0.7709923664122138',\n",
    " 'MA_360',\n",
    " '0.9985205364519854랑0.8435483870967742',\n",
    " 'RSTI',\n",
    " 'MA_60',\n",
    " '0.9954822381817754랑0.660377358490566',\n",
    " 'MA_90',\n",
    " '0.9965671430914064랑0.6266666666666667',\n",
    " 'MA_120',\n",
    " '0.9979407023559823랑0.6788461538461539',\n",
    " 'MA_180',\n",
    " '0.9972150610085759랑0.7683168316831683',\n",
    " 'MA_360',\n",
    " '0.9983677397877042랑0.827659574468085',\n",
    " 'EURO',\n",
    " 'MA_60',\n",
    " '0.989258496068303랑0.7444444444444445',\n",
    " 'MA_90',\n",
    " '0.9932027183301922랑0.7660377358490567',\n",
    " 'MA_120',\n",
    " '0.9941954912887276랑0.7411764705882352',\n",
    " 'MA_180',\n",
    " '0.9980217978301775랑0.5428571428571429',\n",
    " 'MA_360',\n",
    " '0.9950377127333099랑0.9428571428571428',\n",
    " 'HSI',\n",
    " 'MA_60',\n",
    " '0.9961781187386279랑0.6293478260869565',\n",
    " 'MA_90',\n",
    " '0.9968203751637746랑0.6404371584699453',\n",
    " 'MA_120',\n",
    " '0.996045692447743랑0.543956043956044',\n",
    " 'MA_180',\n",
    " '0.9981130899959823랑0.7027932960893855',\n",
    " 'MA_360',\n",
    " '0.9993397619218852랑0.7662790697674418']"
   ]
  },
  {
   "cell_type": "code",
   "execution_count": 62,
   "metadata": {},
   "outputs": [],
   "source": [
    "KS=fdr.DataReader(\"EURO\",\"2010\")\n"
   ]
  },
  {
   "cell_type": "code",
   "execution_count": 65,
   "metadata": {},
   "outputs": [],
   "source": [
    "for x,y in zip(KS[\"Change\"],KS.index):\n",
    "    if abs(x)>0.01:\n",
    "        KS = KS.drop(y, 0) # axis = 1"
   ]
  },
  {
   "cell_type": "code",
   "execution_count": null,
   "metadata": {},
   "outputs": [],
   "source": [
    "KS"
   ]
  },
  {
   "cell_type": "code",
   "execution_count": 66,
   "metadata": {},
   "outputs": [
    {
     "data": {
      "text/plain": [
       "[<matplotlib.lines.Line2D at 0x1b23f58e550>]"
      ]
     },
     "execution_count": 66,
     "metadata": {},
     "output_type": "execute_result"
    },
    {
     "data": {
      "image/png": "[encoded data removed]",
      "text/plain": [
       "<Figure size 432x288 with 1 Axes>"
      ]
     },
     "metadata": {},
     "output_type": "display_data"
    }
   ],
   "source": [
    "plt.plot(KS.index,KS[\"Close\"])"
   ]
  },
  {
   "cell_type": "code",
   "execution_count": 77,
   "metadata": {},
   "outputs": [
    {
     "ename": "NameError",
     "evalue": "name 't2' is not defined",
     "output_type": "error",
     "traceback": [
      "\u001b[1;31m---------------------------------------------------------------------------\u001b[0m",
      "\u001b[1;31mNameError\u001b[0m                                 Traceback (most recent call last)",
      "\u001b[1;32m<ipython-input-77-1ceeba9e79cb>\u001b[0m in \u001b[0;36m<module>\u001b[1;34m()\u001b[0m\n\u001b[0;32m      4\u001b[0m \u001b[0mplt\u001b[0m\u001b[1;33m.\u001b[0m\u001b[0mplot\u001b[0m\u001b[1;33m(\u001b[0m\u001b[0mx\u001b[0m\u001b[1;33m,\u001b[0m\u001b[1;33m[\u001b[0m\u001b[1;36m0.456\u001b[0m\u001b[1;33m,\u001b[0m\u001b[1;36m0.532\u001b[0m\u001b[1;33m,\u001b[0m\u001b[1;36m0.601\u001b[0m\u001b[1;33m,\u001b[0m\u001b[1;36m0.669\u001b[0m\u001b[1;33m,\u001b[0m\u001b[1;36m0.679\u001b[0m\u001b[1;33m]\u001b[0m\u001b[1;33m)\u001b[0m\u001b[1;33m\u001b[0m\u001b[0m\n\u001b[0;32m      5\u001b[0m \u001b[0mplt\u001b[0m\u001b[1;33m.\u001b[0m\u001b[0msubplot\u001b[0m\u001b[1;33m(\u001b[0m\u001b[1;36m2\u001b[0m\u001b[1;33m,\u001b[0m\u001b[1;36m2\u001b[0m\u001b[1;33m,\u001b[0m\u001b[1;36m2\u001b[0m\u001b[1;33m)\u001b[0m\u001b[1;33m\u001b[0m\u001b[0m\n\u001b[1;32m----> 6\u001b[1;33m \u001b[0mplt\u001b[0m\u001b[1;33m.\u001b[0m\u001b[0mplot\u001b[0m\u001b[1;33m(\u001b[0m\u001b[0mt2\u001b[0m\u001b[1;33m,\u001b[0m \u001b[0mg\u001b[0m\u001b[1;33m(\u001b[0m\u001b[0mt2\u001b[0m\u001b[1;33m)\u001b[0m\u001b[1;33m)\u001b[0m\u001b[1;33m\u001b[0m\u001b[0m\n\u001b[0m\u001b[0;32m      7\u001b[0m \u001b[1;33m\u001b[0m\u001b[0m\n\u001b[0;32m      8\u001b[0m \u001b[0mplt\u001b[0m\u001b[1;33m.\u001b[0m\u001b[0msubplot\u001b[0m\u001b[1;33m(\u001b[0m\u001b[1;36m2\u001b[0m\u001b[1;33m,\u001b[0m\u001b[1;36m2\u001b[0m\u001b[1;33m,\u001b[0m\u001b[1;36m3\u001b[0m\u001b[1;33m)\u001b[0m\u001b[1;33m\u001b[0m\u001b[0m\n",
      "\u001b[1;31mNameError\u001b[0m: name 't2' is not defined"
     ]
    },
    {
     "data": {
      "image/png": "[encoded data removed]",
      "text/plain": [
       "<Figure size 432x288 with 2 Axes>"
      ]
     },
     "metadata": {},
     "output_type": "display_data"
    }
   ],
   "source": [
    "x=np.linspace(1,10,5)\n",
    "plt.subplot(2,2,1)\n",
    "plt.plot(x,[0.484,0.532,0.605,0.776,0.788])\n",
    "plt.plot(x,[0.456,0.532,0.601,0.669,0.679])\n",
    "plt.subplot(2,2,2)\n",
    "plt.plot(t2, g(t2))\n",
    "\n",
    "plt.subplot(2,2,3)\n",
    "plt.plot(t1, f(t1), 'r-')\n",
    "\n",
    "plt.subplot(2,2,4)\n",
    "plt.plot(t2, g(t2), 'r-')\n",
    "plt.show()"
   ]
  },
  {
   "cell_type": "code",
   "execution_count": null,
   "metadata": {},
   "outputs": [],
   "source": []
  }
 ],
 "metadata": {
  "kernelspec": {
   "display_name": "Python 3",
   "language": "python",
   "name": "python3"
  },
  "language_info": {
   "codemirror_mode": {
    "name": "ipython",
    "version": 3
   },
   "file_extension": ".py",
   "mimetype": "text/x-python",
   "name": "python",
   "nbconvert_exporter": "python",
   "pygments_lexer": "ipython3",
   "version": "3.6.5"
  }
 },
 "nbformat": 4,
 "nbformat_minor": 2
}
