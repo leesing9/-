{
 "cells": [
  {
   "cell_type": "code",
   "execution_count": 1,
   "metadata": {},
   "outputs": [
    {
     "name": "stderr",
     "output_type": "stream",
     "text": [
      "C:\\Users\\이승희\\AppData\\Roaming\\Python\\Python36\\site-packages\\sklearn\\externals\\six.py:31: DeprecationWarning: The module is deprecated in version 0.21 and will be removed in version 0.23 since we've dropped support for Python 2.7. Please rely on the official version of six (https://pypi.org/project/six/).\n",
      "  \"(https://pypi.org/project/six/).\", DeprecationWarning)\n",
      "C:\\Users\\이승희\\AppData\\Roaming\\Python\\Python36\\site-packages\\sklearn\\externals\\joblib\\__init__.py:15: DeprecationWarning: sklearn.externals.joblib is deprecated in 0.21 and will be removed in 0.23. Please import this functionality directly from joblib, which can be installed with: pip install joblib. If this warning is raised when loading pickled models, you may need to re-serialize those models with scikit-learn 0.21+.\n",
      "  warnings.warn(msg, category=DeprecationWarning)\n"
     ]
    }
   ],
   "source": [
    "import pandas as pd\n",
    "import matplotlib.pyplot as plt\n",
    "import numpy as np\n",
    "import pandas_datareader.data as web\n",
    "import FinanceDataReader as fdr\n",
    "from sklearn import neighbors,svm\n",
    "from sklearn.tree import DecisionTreeClassifier\n",
    "from sklearn.linear_model import LogisticRegression\n",
    "import FinanceDataReader as fdr\n",
    "import mglearn\n",
    "from sklearn.preprocessing import MinMaxScaler\n",
    "import sklearn\n",
    "\n",
    "#성과 평가\n",
    "from sklearn.metrics import confusion_matrix #오차행렬\n",
    "from sklearn.metrics import accuracy_score #정확도\n",
    "from sklearn.metrics import f1_score\n",
    "from sklearn.metrics import classification_report\n",
    "from sklearn.metrics import precision_recall_curve\n",
    "\n",
    "from sklearn.ensemble import RandomForestClassifier\n",
    "from sklearn.ensemble import GradientBoostingClassifier\n",
    "\n",
    "setlen=2000\n"
   ]
  },
  {
   "cell_type": "code",
   "execution_count": 2,
   "metadata": {},
   "outputs": [],
   "source": [
    "#특성 추가 ------------------------------------------\n",
    "    #이동평균선\n",
    "def get_MA(df):\n",
    "    MA_10=df[\"Close\"].rolling(10).mean()\n",
    "    MA_60=df[\"Close\"].rolling(60).mean()\n",
    "    df=df.assign(MA_10=MA_10,MA_60=MA_60).dropna()\n",
    "    \n",
    "    return df\n",
    "\n",
    "    \n",
    "    #스토캐스틱\n",
    "def get_stochastic(df, n=15, m=5, t=3):\n",
    "    # n일중 최고가\n",
    "    ndays_high = df.High.rolling(window=n, min_periods=1).max()\n",
    "    # n일중 최저가\n",
    "    ndays_low = df.Low.rolling(window=n, min_periods=1).min()\n",
    " \n",
    "    # Fast%K 계산\n",
    "    kdj_k = ((df.Close - ndays_low) / (ndays_high - ndays_low))*100\n",
    "    # Fast%D (=Slow%K) 계산\n",
    "    kdj_d = kdj_k.ewm(span=m).mean()\n",
    "    # Slow%D 계산\n",
    "    kdj_j = kdj_d.ewm(span=t).mean()\n",
    " \n",
    "    # dataframe에 컬럼 추가\n",
    "    df = df.assign(kdj_k=kdj_k, kdj_d=kdj_d, kdj_j=kdj_j).dropna()\n",
    "    \n",
    "    return df\n",
    "   \n",
    "    #시간\n",
    "def get_time(df):\n",
    "    time=np.linspace(0,10,len(df),endpoint=False).reshape(-1,1)\n",
    "    df=df.assign(time=time)\n",
    "    \n",
    "    return df"
   ]
  },
  {
   "cell_type": "code",
   "execution_count": 9,
   "metadata": {},
   "outputs": [
    {
     "name": "stdout",
     "output_type": "stream",
     "text": [
      "훈련 세트 정확도:0.680\n",
      "테스트 세트 정확도:0.482\n"
     ]
    },
    {
     "name": "stderr",
     "output_type": "stream",
     "text": [
      "C:\\Program Files (x86)\\Microsoft Visual Studio\\Shared\\Anaconda3_64\\lib\\site-packages\\ipykernel_launcher.py:19: UserWarning: Boolean Series key will be reindexed to match DataFrame index.\n",
      "C:\\Program Files (x86)\\Microsoft Visual Studio\\Shared\\Anaconda3_64\\lib\\site-packages\\ipykernel_launcher.py:35: DataConversionWarning: A column-vector y was passed when a 1d array was expected. Please change the shape of y to (n_samples, ), for example using ravel().\n"
     ]
    },
    {
     "data": {
      "text/plain": [
       "array([[188,  95],\n",
       "       [199,  86]], dtype=int64)"
      ]
     },
     "execution_count": 9,
     "metadata": {},
     "output_type": "execute_result"
    }
   ],
   "source": [
    "\n",
    "\n",
    "KS=fdr.DataReader(\"KS11\",\"2009-01-01\",\"2019-08-14\")\n",
    "\n",
    "#특성 추가---\n",
    "KS=get_MA(KS)\n",
    "KS=get_stochastic(KS)\n",
    "KS=get_time(KS)\n",
    "\n",
    "X=KS\n",
    "#--------\n",
    "\n",
    "# 분위수로 조정한 5중 분류  ---------------\n",
    "df = pd.DataFrame(index = KS.index, columns = ['Y'])\n",
    "\n",
    "initial = -1\n",
    "num = 0\n",
    "for i in np.linspace(50,100,2):\n",
    "    df.loc[KS [KS['Change'] >= initial] [KS['Change'] <= round(np.percentile(KS['Change'], i),4)].index] = num\n",
    "    initial = round(np.percentile(KS['Change'], i),4)\n",
    "    num += 1\n",
    "y=df\n",
    "y=y.astype('int')\n",
    "#-----------------------------------------\n",
    "\n",
    "\n",
    "#미래 예측을 위한 시간조정 ------------------- \n",
    "y=pd.DataFrame(np.array(y),index=KS.index).shift(-1).dropna()\n",
    "X=X.loc[y.index]\n",
    "#----------------------------\n",
    "\n",
    "setlen=2000\n",
    "X_train,X_test,y_train,y_test=X[:setlen],X[setlen:],y[:setlen],y[setlen:]\n",
    "\n",
    "reg=neighbors.KNeighborsClassifier(n_neighbors=4).fit(X_train,y_train)\n",
    "print(\"훈련 세트 정확도:{:.3f}\".format(reg.score(X_train,y_train)))\n",
    "print(\"테스트 세트 정확도:{:.3f}\".format(reg.score(X_test,y_test)))\n",
    "\n",
    "confusion=confusion_matrix(y_test,reg.predict(X_test))\n",
    "confusion"
   ]
  },
  {
   "cell_type": "code",
   "execution_count": 4,
   "metadata": {},
   "outputs": [
    {
     "name": "stderr",
     "output_type": "stream",
     "text": [
      "C:\\Users\\이승희\\AppData\\Roaming\\Python\\Python36\\site-packages\\sklearn\\linear_model\\logistic.py:432: FutureWarning: Default solver will be changed to 'lbfgs' in 0.22. Specify a solver to silence this warning.\n",
      "  FutureWarning)\n",
      "C:\\Users\\이승희\\AppData\\Roaming\\Python\\Python36\\site-packages\\sklearn\\utils\\validation.py:724: DataConversionWarning: A column-vector y was passed when a 1d array was expected. Please change the shape of y to (n_samples, ), for example using ravel().\n",
      "  y = column_or_1d(y, warn=True)\n",
      "C:\\Users\\이승희\\AppData\\Roaming\\Python\\Python36\\site-packages\\sklearn\\linear_model\\logistic.py:469: FutureWarning: Default multi_class will be changed to 'auto' in 0.22. Specify the multi_class option to silence this warning.\n",
      "  \"this warning.\", FutureWarning)\n"
     ]
    },
    {
     "name": "stdout",
     "output_type": "stream",
     "text": [
      "훈련 세트 정확도:0.215\n",
      "테스트 세트 정확도:0.160\n"
     ]
    },
    {
     "data": {
      "text/plain": [
       "array([[  0,   0,   0,   0, 100],\n",
       "       [  0,   0,   0,   0, 123],\n",
       "       [  0,   0,   0,   0, 122],\n",
       "       [  0,   0,   0,   0, 132],\n",
       "       [  0,   0,   0,   0,  91]], dtype=int64)"
      ]
     },
     "execution_count": 4,
     "metadata": {},
     "output_type": "execute_result"
    }
   ],
   "source": [
    "\n",
    "reg=LogisticRegression().fit(X_train,y_train)\n",
    "print(\"훈련 세트 정확도:{:.3f}\".format(reg.score(X_train,y_train)))\n",
    "print(\"테스트 세트 정확도:{:.3f}\".format(reg.score(X_test,y_test)))\n",
    "\n",
    "confusion=confusion_matrix(y_test,reg.predict(X_test))\n",
    "confusion"
   ]
  },
  {
   "cell_type": "code",
   "execution_count": 5,
   "metadata": {},
   "outputs": [
    {
     "name": "stderr",
     "output_type": "stream",
     "text": [
      "C:\\Users\\이승희\\AppData\\Roaming\\Python\\Python36\\site-packages\\sklearn\\ensemble\\gradient_boosting.py:1450: DataConversionWarning: A column-vector y was passed when a 1d array was expected. Please change the shape of y to (n_samples, ), for example using ravel().\n",
      "  y = column_or_1d(y, warn=True)\n"
     ]
    },
    {
     "name": "stdout",
     "output_type": "stream",
     "text": [
      "훈련 세트 정확도:0.706\n",
      "테스트 세트 정확도:0.220\n"
     ]
    },
    {
     "data": {
      "text/plain": [
       "array([[ 5, 59,  6, 14, 16],\n",
       "       [12, 82,  6,  9, 14],\n",
       "       [12, 76,  8, 22,  4],\n",
       "       [13, 78,  7, 21, 13],\n",
       "       [ 9, 47, 15, 11,  9]], dtype=int64)"
      ]
     },
     "execution_count": 5,
     "metadata": {},
     "output_type": "execute_result"
    }
   ],
   "source": [
    "\n",
    "reg=GradientBoostingClassifier().fit(X_train,y_train)\n",
    "print(\"훈련 세트 정확도:{:.3f}\".format(reg.score(X_train,y_train)))\n",
    "print(\"테스트 세트 정확도:{:.3f}\".format(reg.score(X_test,y_test)))\n",
    "\n",
    "confusion=confusion_matrix(y_test,reg.predict(X_test))\n",
    "confusion"
   ]
  },
  {
   "cell_type": "code",
   "execution_count": 6,
   "metadata": {},
   "outputs": [
    {
     "name": "stdout",
     "output_type": "stream",
     "text": [
      "훈련 세트 정확도:0.985\n",
      "테스트 세트 정확도:0.171\n"
     ]
    },
    {
     "name": "stderr",
     "output_type": "stream",
     "text": [
      "C:\\Users\\이승희\\AppData\\Roaming\\Python\\Python36\\site-packages\\sklearn\\ensemble\\forest.py:245: FutureWarning: The default value of n_estimators will change from 10 in version 0.20 to 100 in 0.22.\n",
      "  \"10 in version 0.20 to 100 in 0.22.\", FutureWarning)\n",
      "C:\\Program Files (x86)\\Microsoft Visual Studio\\Shared\\Anaconda3_64\\lib\\site-packages\\ipykernel_launcher.py:2: DataConversionWarning: A column-vector y was passed when a 1d array was expected. Please change the shape of y to (n_samples,), for example using ravel().\n",
      "  \n"
     ]
    },
    {
     "data": {
      "text/plain": [
       "array([[ 74,  13,   7,   5,   1],\n",
       "       [ 99,   5,   8,   6,   5],\n",
       "       [ 94,  14,   9,   5,   0],\n",
       "       [103,   8,  10,   5,   6],\n",
       "       [ 62,   8,  12,   5,   4]], dtype=int64)"
      ]
     },
     "execution_count": 6,
     "metadata": {},
     "output_type": "execute_result"
    }
   ],
   "source": [
    "\n",
    "reg=RandomForestClassifier().fit(X_train,y_train)\n",
    "print(\"훈련 세트 정확도:{:.3f}\".format(reg.score(X_train,y_train)))\n",
    "print(\"테스트 세트 정확도:{:.3f}\".format(reg.score(X_test,y_test)))\n",
    "\n",
    "confusion=confusion_matrix(y_test,reg.predict(X_test))\n",
    "confusion"
   ]
  },
  {
   "cell_type": "code",
   "execution_count": null,
   "metadata": {},
   "outputs": [],
   "source": []
  },
  {
   "cell_type": "code",
   "execution_count": null,
   "metadata": {},
   "outputs": [],
   "source": [
    "print(\"이중 분류\")\n",
    "print(classification_report(y_test,reg4,target_names=[\"하락(0)\",\"상승(1)\"]))"
   ]
  },
  {
   "cell_type": "code",
   "execution_count": 10,
   "metadata": {},
   "outputs": [
    {
     "name": "stderr",
     "output_type": "stream",
     "text": [
      "C:\\Program Files (x86)\\Microsoft Visual Studio\\Shared\\Anaconda3_64\\lib\\site-packages\\ipykernel_launcher.py:2: DataConversionWarning: A column-vector y was passed when a 1d array was expected. Please change the shape of y to (n_samples, ), for example using ravel().\n",
      "  \n",
      "C:\\Users\\이승희\\AppData\\Roaming\\Python\\Python36\\site-packages\\sklearn\\utils\\validation.py:724: DataConversionWarning: A column-vector y was passed when a 1d array was expected. Please change the shape of y to (n_samples, ), for example using ravel().\n",
      "  y = column_or_1d(y, warn=True)\n",
      "C:\\Program Files (x86)\\Microsoft Visual Studio\\Shared\\Anaconda3_64\\lib\\site-packages\\ipykernel_launcher.py:4: DataConversionWarning: A column-vector y was passed when a 1d array was expected. Please change the shape of y to (n_samples,), for example using ravel().\n",
      "  after removing the cwd from sys.path.\n",
      "C:\\Users\\이승희\\AppData\\Roaming\\Python\\Python36\\site-packages\\sklearn\\ensemble\\gradient_boosting.py:1450: DataConversionWarning: A column-vector y was passed when a 1d array was expected. Please change the shape of y to (n_samples, ), for example using ravel().\n",
      "  y = column_or_1d(y, warn=True)\n"
     ]
    }
   ],
   "source": [
    "\n",
    "reg1=neighbors.KNeighborsClassifier(n_neighbors=2).fit(X_train,y_train)\n",
    "reg2=svm.SVC(C=1000,gamma=0.01).fit(X_train,y_train)\n",
    "reg3=RandomForestClassifier(n_estimators=50).fit(X_train,y_train)\n",
    "reg4=GradientBoostingClassifier(random_state=0).fit(X_train,y_train)\n",
    "\n",
    "precision,recall,thresholds=precision_recall_curve(y_test,reg4.decision_function(X_test))"
   ]
  },
  {
   "cell_type": "code",
   "execution_count": 11,
   "metadata": {},
   "outputs": [
    {
     "name": "stderr",
     "output_type": "stream",
     "text": [
      "C:\\Program Files (x86)\\Microsoft Visual Studio\\Shared\\Anaconda3_64\\lib\\site-packages\\ipykernel_launcher.py:2: DataConversionWarning: A column-vector y was passed when a 1d array was expected. Please change the shape of y to (n_samples, ), for example using ravel().\n",
      "  \n",
      "C:\\Users\\이승희\\AppData\\Roaming\\Python\\Python36\\site-packages\\sklearn\\utils\\validation.py:724: DataConversionWarning: A column-vector y was passed when a 1d array was expected. Please change the shape of y to (n_samples, ), for example using ravel().\n",
      "  y = column_or_1d(y, warn=True)\n",
      "C:\\Program Files (x86)\\Microsoft Visual Studio\\Shared\\Anaconda3_64\\lib\\site-packages\\ipykernel_launcher.py:4: DataConversionWarning: A column-vector y was passed when a 1d array was expected. Please change the shape of y to (n_samples,), for example using ravel().\n",
      "  after removing the cwd from sys.path.\n",
      "C:\\Users\\이승희\\AppData\\Roaming\\Python\\Python36\\site-packages\\sklearn\\ensemble\\gradient_boosting.py:1450: DataConversionWarning: A column-vector y was passed when a 1d array was expected. Please change the shape of y to (n_samples, ), for example using ravel().\n",
      "  y = column_or_1d(y, warn=True)\n"
     ]
    },
    {
     "data": {
      "text/plain": [
       "<matplotlib.legend.Legend at 0x164e58f2550>"
      ]
     },
     "execution_count": 11,
     "metadata": {},
     "output_type": "execute_result"
    },
    {
     "data": {
      "image/png": "[encoded data removed]",
      "text/plain": [
       "<Figure size 432x288 with 1 Axes>"
      ]
     },
     "metadata": {},
     "output_type": "display_data"
    }
   ],
   "source": [
    "\n",
    "reg1=neighbors.KNeighborsClassifier(n_neighbors=2).fit(X_train,y_train)\n",
    "reg2=svm.SVC(C=1000,gamma=0.01).fit(X_train,y_train)\n",
    "reg3=RandomForestClassifier(n_estimators=50).fit(X_train,y_train)\n",
    "reg4=GradientBoostingClassifier(random_state=0).fit(X_train,y_train)\n",
    "\n",
    "precision,recall,thresholds=precision_recall_curve(y_test,reg4.decision_function(X_test))\n",
    "\n",
    "close_zero=np.argmin(np.abs(thresholds))\n",
    "plt.plot(precision[close_zero],recall[close_zero],'o',markersize=10,label='0',fillstyle=\"none\",c='k',mew=2)\n",
    "plt.plot(precision,recall,label=\"curve\")\n",
    "plt.xlabel(\"precision\")\n",
    "plt.ylabel('recall')\n",
    "plt.legend(loc=\"best\")\n"
   ]
  },
  {
   "cell_type": "code",
   "execution_count": 14,
   "metadata": {},
   "outputs": [
    {
     "data": {
      "text/plain": [
       "[<matplotlib.lines.Line2D at 0x164e5c10e10>]"
      ]
     },
     "execution_count": 14,
     "metadata": {},
     "output_type": "execute_result"
    },
    {
     "data": {
      "image/png": "[encoded data removed]",
      "text/plain": [
       "<Figure size 288x288 with 1 Axes>"
      ]
     },
     "metadata": {},
     "output_type": "display_data"
    }
   ],
   "source": [
    "from sklearn.metrics import roc_curve\n",
    "\n",
    "plt.figure(figsize=(4, 4))\n",
    "fpr_rf,tpr_rf,thresholds_rf=roc_curve(y_test,reg3.predict_proba(X_test)[:,1])\n",
    "\n",
    "plt.plot(fpr_rf,tpr_rf,'k')\n",
    "plt.xlabel(\"FPR\")\n",
    "plt.ylabel(\"TPR(recall)\")\n",
    "plt.plot(fpr_rf[close_default_rf],tpr_rf[close_default_rf],'^',markersize=10,label=\"RF recall : 0.5\",fillstyle=\"none\",mew=2)\n"
   ]
  },
  {
   "cell_type": "code",
   "execution_count": null,
   "metadata": {},
   "outputs": [],
   "source": []
  }
 ],
 "metadata": {
  "kernelspec": {
   "display_name": "Python 3",
   "language": "python",
   "name": "python3"
  },
  "language_info": {
   "codemirror_mode": {
    "name": "ipython",
    "version": 3
   },
   "file_extension": ".py",
   "mimetype": "text/x-python",
   "name": "python",
   "nbconvert_exporter": "python",
   "pygments_lexer": "ipython3",
   "version": "3.6.5"
  }
 },
 "nbformat": 4,
 "nbformat_minor": 2
}
