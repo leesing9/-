{
 "cells": [
  {
   "cell_type": "code",
   "execution_count": 1,
   "metadata": {
    "scrolled": true
   },
   "outputs": [
    {
     "name": "stderr",
     "output_type": "stream",
     "text": [
      "C:\\Users\\이승희\\AppData\\Roaming\\Python\\Python36\\site-packages\\sklearn\\externals\\six.py:31: DeprecationWarning: The module is deprecated in version 0.21 and will be removed in version 0.23 since we've dropped support for Python 2.7. Please rely on the official version of six (https://pypi.org/project/six/).\n",
      "  \"(https://pypi.org/project/six/).\", DeprecationWarning)\n",
      "C:\\Users\\이승희\\AppData\\Roaming\\Python\\Python36\\site-packages\\sklearn\\externals\\joblib\\__init__.py:15: DeprecationWarning: sklearn.externals.joblib is deprecated in 0.21 and will be removed in 0.23. Please import this functionality directly from joblib, which can be installed with: pip install joblib. If this warning is raised when loading pickled models, you may need to re-serialize those models with scikit-learn 0.21+.\n",
      "  warnings.warn(msg, category=DeprecationWarning)\n"
     ]
    }
   ],
   "source": [
    "import pandas as pd\n",
    "import matplotlib.pyplot as plt\n",
    "import numpy as np\n",
    "import pandas_datareader.data as web\n",
    "import FinanceDataReader as fdr\n",
    "from sklearn import neighbors,svm\n",
    "from sklearn.ensemble import RandomForestClassifier\n",
    "from sklearn.linear_model import LogisticRegression\n",
    "import FinanceDataReader as fdr\n",
    "import mglearn\n",
    "from sklearn.preprocessing import MinMaxScaler\n",
    "import sklearn\n",
    "\n",
    "#성과 평가\n",
    "from sklearn.metrics import confusion_matrix #오차행렬\n",
    "from sklearn.metrics import accuracy_score #정확도\n",
    "from sklearn.metrics import f1_score\n",
    "from sklearn.metrics import classification_report\n",
    "from sklearn.metrics import precision_recall_curve\n",
    "\n",
    "setlen=2000\n"
   ]
  },
  {
   "cell_type": "code",
   "execution_count": 2,
   "metadata": {
    "scrolled": true
   },
   "outputs": [
    {
     "ename": "NameError",
     "evalue": "name 'get_MA' is not defined",
     "output_type": "error",
     "traceback": [
      "\u001b[1;31m---------------------------------------------------------------------------\u001b[0m",
      "\u001b[1;31mNameError\u001b[0m                                 Traceback (most recent call last)",
      "\u001b[1;32m<ipython-input-2-2939fe9297cd>\u001b[0m in \u001b[0;36m<module>\u001b[1;34m()\u001b[0m\n\u001b[0;32m      5\u001b[0m \u001b[1;33m\u001b[0m\u001b[0m\n\u001b[0;32m      6\u001b[0m \u001b[1;31m#특성 추가---\u001b[0m\u001b[1;33m\u001b[0m\u001b[1;33m\u001b[0m\u001b[0m\n\u001b[1;32m----> 7\u001b[1;33m \u001b[0mKS\u001b[0m\u001b[1;33m=\u001b[0m\u001b[0mget_MA\u001b[0m\u001b[1;33m(\u001b[0m\u001b[0mKS\u001b[0m\u001b[1;33m)\u001b[0m\u001b[1;33m\u001b[0m\u001b[0m\n\u001b[0m\u001b[0;32m      8\u001b[0m \u001b[0mKS\u001b[0m\u001b[1;33m=\u001b[0m\u001b[0mget_stochastic\u001b[0m\u001b[1;33m(\u001b[0m\u001b[0mKS\u001b[0m\u001b[1;33m)\u001b[0m\u001b[1;33m\u001b[0m\u001b[0m\n\u001b[0;32m      9\u001b[0m \u001b[0mKS\u001b[0m\u001b[1;33m=\u001b[0m\u001b[0mget_time\u001b[0m\u001b[1;33m(\u001b[0m\u001b[0mKS\u001b[0m\u001b[1;33m)\u001b[0m\u001b[1;33m\u001b[0m\u001b[0m\n",
      "\u001b[1;31mNameError\u001b[0m: name 'get_MA' is not defined"
     ]
    }
   ],
   "source": [
    "    # 3중 분류\n",
    "\n",
    "\n",
    "KS=fdr.DataReader(\"SSEC\",\"2009-01-01\",\"2019-08-14\")\n",
    "\n",
    "#특성 추가---\n",
    "KS=get_MA(KS)\n",
    "KS=get_stochastic(KS)\n",
    "KS=get_time(KS)\n",
    "\n",
    "X=KS\n",
    "#--------\n",
    "\n",
    "# 3중 분류를 위한 종가 스케일 조정 ---------------\n",
    "X_Change=X[\"Change\"].values.reshape(-1,1)\n",
    "list=[]\n",
    "    for x in X_Change:\n",
    "        if x <-0.01:\n",
    "            list.append(0)\n",
    "        elif -0.01<=x<=0.01:\n",
    "            list.append(1)\n",
    "        elif 0.01<x:\n",
    "            list.append(2)\n",
    "y=list\n",
    "#-----------------------------------------\n",
    "\n",
    "\n",
    "#미래 예측을 위한 시간조정 ------------------- \n",
    "y=pd.DataFrame(np.array(y),index=KS.index).shift(-1).dropna()\n",
    "X=X.loc[y.index]\n",
    "#----------------------------\n",
    "setlen=2000\n",
    "X_train,X_test,y_train,y_test=X[:setlen],X[setlen:],y[:setlen],y[setlen:]\n",
    "\n",
    "reg=neighbors.KNeighborsClassifier(n_neighbors=4).fit(X_train,y_train)\n",
    "print(\"훈련 세트 정확도:{:.3f}\".format(reg.score(X_train,y_train)))\n",
    "print(\"테스트 세트 정확도:{:.3f}\".format(reg.score(X_test,y_test)))\n",
    "\n",
    "confusion=confusion_matrix(y_test,reg.predict(X_test))\n",
    "confusion"
   ]
  },
  {
   "cell_type": "code",
   "execution_count": null,
   "metadata": {},
   "outputs": [],
   "source": []
  },
  {
   "cell_type": "code",
   "execution_count": null,
   "metadata": {},
   "outputs": [],
   "source": [
    "\n",
    "\n",
    "#--- 스케일 조정\n",
    "from sklearn.preprocessing import StandardScaler\n",
    "from sklearn.decomposition import PCA\n",
    "\n",
    "StandardScaler = MinMaxScaler().fit(X) \n",
    "X_scaler= StandardScaler.transform(X)\n",
    "X=pd.DataFrame(X_scaler,index=y.index,columns=X.columns)\n",
    "#- 차원 축소\n",
    "\n",
    "#pca=PCA(n_components=2)\n",
    "#pca.fit(X_scaler)\n",
    "\n",
    "#X=pd.DataFrame(X_scaler,index=X.index,columns=KS.columns)\n",
    "#X_pca=pca.transform(X_scaler)\n",
    "#X_train,X_test,y_train,y_test=X_pca[:setlen],X_pca[setlen:],y[:setlen],y[setlen:]\n",
    "#-----------------------\n",
    "X_train,X_test,y_train,y_test=X[:setlen],X[setlen:],y[:setlen],y[setlen:]"
   ]
  },
  {
   "cell_type": "code",
   "execution_count": null,
   "metadata": {},
   "outputs": [],
   "source": [
    "#특성 추가 ------------------------------------------\n",
    "    #이동평균선\n",
    "def get_MA(df):\n",
    "    MA_10=df[\"Close\"].rolling(10).mean()\n",
    "    MA_60=df[\"Close\"].rolling(60).mean()\n",
    "    df=df.assign(MA_10=MA_10,MA_60=MA_60).dropna()\n",
    "    \n",
    "    return df\n",
    "\n",
    "    \n",
    "    #스토캐스틱\n",
    "def get_stochastic(df, n=15, m=5, t=3):\n",
    "    # n일중 최고가\n",
    "    ndays_high = df.High.rolling(window=n, min_periods=1).max()\n",
    "    # n일중 최저가\n",
    "    ndays_low = df.Low.rolling(window=n, min_periods=1).min()\n",
    " \n",
    "    # Fast%K 계산\n",
    "    kdj_k = ((df.Close - ndays_low) / (ndays_high - ndays_low))*100\n",
    "    # Fast%D (=Slow%K) 계산\n",
    "    kdj_d = kdj_k.ewm(span=m).mean()\n",
    "    # Slow%D 계산\n",
    "    kdj_j = kdj_d.ewm(span=t).mean()\n",
    " \n",
    "    # dataframe에 컬럼 추가\n",
    "    df = df.assign(kdj_k=kdj_k, kdj_d=kdj_d, kdj_j=kdj_j).dropna()\n",
    "    \n",
    "    return df\n",
    "   \n",
    "    #시간\n",
    "def get_time(df):\n",
    "    time=np.linspace(0,10,len(df),endpoint=False).reshape(-1,1)\n",
    "    df=df.assign(time=time)\n",
    "    \n",
    "    return df"
   ]
  },
  {
   "cell_type": "code",
   "execution_count": null,
   "metadata": {},
   "outputs": [],
   "source": [
    "#이중 분류\n",
    "KS=fdr.DataReader(\"SSEC\",\"2009-01-01\",\"2019-08-14\")\n",
    "time=np.linspace(0,10,len(KS),endpoint=False).reshape(-1,1)\n",
    "\n",
    "#특성 추가---\n",
    "KS=get_MA(KS)\n",
    "KS=get_stochastic(KS)\n",
    "KS=get_time(KS)\n",
    "X=KS\n",
    "#--------\n",
    "\n",
    "\n",
    "# 이중 분류, 미래 예측을 위한 시간조정 ------------------- \n",
    "\n",
    "hist_data = plt.hist(KS['Change'],bins = 5)\n",
    "df = pd.DataFrame(index = KS.index, columns = ['Y'])\n",
    "\n",
    "initial = hist_data[1][0]\n",
    "num = 0\n",
    "for i in hist_data[1][1:]:\n",
    "    df.loc[KS[KS['Change'] > initial][KS['Change'] < i].index] = num\n",
    "    initial = i\n",
    "    num += 1\n",
    "y=df  \n",
    "\n",
    "#미래 예측을 위한 시간조정 ------------------- \n",
    "y=pd.DataFrame(np.array(y),index=KS.index).shift(-1).dropna()\n",
    "X=X.loc[y.index]\n",
    "\n",
    "#----------------------------\n",
    "\n",
    "\n",
    "X_train,X_test,y_train,y_test=X[:setlen],X[setlen:],y[:setlen],y[setlen:]"
   ]
  },
  {
   "cell_type": "code",
   "execution_count": null,
   "metadata": {},
   "outputs": [],
   "source": []
  },
  {
   "cell_type": "code",
   "execution_count": null,
   "metadata": {},
   "outputs": [],
   "source": [
    "reg=neighbors.KNeighborsClassifier(n_neighbors=2).fit(X_train,y_train)\n",
    "print(\"훈련 세트 정확도:{:.3f}\".format(reg.score(X_train,y_train)))\n",
    "print(\"테스트 세트 정확도:{:.3f}\".format(reg.score(X_test,y_test)))\n",
    "\n",
    "confusion=confusion_matrix(y_test,reg.predict(X_test))\n",
    "print(confusion)"
   ]
  },
  {
   "cell_type": "code",
   "execution_count": null,
   "metadata": {},
   "outputs": [],
   "source": [
    "reg=RandomForestClassifier(n_estimators=4).fit(X_train,y_train)\n",
    "print(\"훈련 세트 정확도:{:.3f}\".format(reg.score(X_train,y_train)))\n",
    "print(\"테스트 세트 정확도:{:.3f}\".format(reg.score(X_test,y_test)))\n",
    "\n",
    "confusion=confusion_matrix(y_test,reg.predict(X_test))\n",
    "print(confusion)"
   ]
  },
  {
   "cell_type": "code",
   "execution_count": null,
   "metadata": {},
   "outputs": [],
   "source": [
    "reg=svm.SVC(C=10,gamma=0.1).fit(X_train,y_train)\n",
    "print(\"훈련 세트 정확도:{:.3f}\".format(reg.score(X_train,y_train)))\n",
    "print(\"테스트 세트 정확도:{:.3f}\".format(reg.score(X_test,y_test)))\n",
    "\n",
    "confusion=confusion_matrix(y_test,reg.predict(X_test))\n",
    "print(confusion)"
   ]
  },
  {
   "cell_type": "code",
   "execution_count": null,
   "metadata": {},
   "outputs": [],
   "source": [
    "reg=GradientBoostingClassifier(random_state=0).fit(X_train,y_train)\n",
    "print(\"훈련 세트 정확도:{:.3f}\".format(reg.score(X_train,y_train)))\n",
    "print(\"테스트 세트 정확도:{:.3f}\".format(reg.score(X_test,y_test)))\n",
    "\n",
    "confusion=confusion_matrix(y_test,reg.predict(X_test))\n",
    "print(confusion)"
   ]
  },
  {
   "cell_type": "code",
   "execution_count": null,
   "metadata": {},
   "outputs": [],
   "source": [
    "# 다중 분류(개수가 많으면 안되는 것 같음)\n",
    "#외삽 풀리는 KS11(코스피) KQ11(코스닥) SSEC(상해) HSCE(홍콩) RTSI(러시아)\n",
    "\n",
    "\n",
    "#다중 3개\n",
    "\n",
    "KS=fdr.DataReader(\"SSEC\",\"2009-01-01\",\"2019-08-14\")\n",
    "time=np.linspace(0,10,len(KS),endpoint=False).reshape(-1,1)\n",
    "\n",
    "#특성 추가---\n",
    "KS=get_MA(KS)\n",
    "KS=get_stochastic(KS)\n",
    "KS=get_time(KS)\n",
    "\n",
    "X=KS\n",
    "#--------\n",
    "\n",
    "# 3중 분류를 위한 종가 스케일 조정 ---------------\n",
    "X_Close=X[\"Close\"].values.reshape(-1,1)\n",
    "minMaxScaler = MinMaxScaler().fit(X_Close)\n",
    "X_trans= minMaxScaler.transform(X_Close)\n",
    "if X_trans\n",
    "            \n",
    "y=list\n",
    "#-----------------------------------------\n",
    "\n",
    "\n",
    "#미래 예측을 위한 시간조정 ------------------- \n",
    "y=pd.DataFrame(np.array(y)*20,index=KS.index).shift(-1).dropna()\n",
    "X=X.loc[y.index]\n",
    "#----------------------------\n",
    "\n",
    "\n",
    "\n",
    "#--- 스케일 조정\n",
    "from sklearn.preprocessing import StandardScaler\n",
    "from sklearn.decomposition import PCA\n",
    "\n",
    "StandardScaler = MinMaxScaler().fit(X) \n",
    "X_scaler= StandardScaler.transform(X)\n",
    "X=pd.DataFrame(X_scaler,index=y.index,columns=X.columns)\n",
    "#- 차원 축소\n",
    "\n",
    "#pca=PCA(n_components=2)\n",
    "#pca.fit(X_scaler)\n",
    "\n",
    "#X=pd.DataFrame(X_scaler,index=X.index,columns=KS.columns)\n",
    "#X_pca=pca.transform(X_scaler)\n",
    "#X_train,X_test,y_train,y_test=X_pca[:setlen],X_pca[setlen:],y[:setlen],y[setlen:]\n",
    "#-----------------------\n",
    "X_train,X_test,y_train,y_test=X[:setlen],X[setlen:],y[:setlen],y[setlen:]"
   ]
  },
  {
   "cell_type": "code",
   "execution_count": null,
   "metadata": {},
   "outputs": [],
   "source": []
  },
  {
   "cell_type": "code",
   "execution_count": null,
   "metadata": {},
   "outputs": [],
   "source": []
  },
  {
   "cell_type": "code",
   "execution_count": null,
   "metadata": {},
   "outputs": [],
   "source": []
  },
  {
   "cell_type": "code",
   "execution_count": null,
   "metadata": {},
   "outputs": [],
   "source": [
    "​\n",
    "\n",
    "#X=pd.DataFrame(X_scaler,index=X.index,columns=KS.columns)\n",
    "#X_pca=pca.transform(X_scaler)\n",
    "#X_train,X_test,y_train,y_test=X_pca[:setlen],X_pca[setlen:],y[:setlen],y[setlen:]\n",
    "#-----------------------\n",
    "X_train,X_test,y_train,y_test=X[:setlen],X[setlen:],y[:setlen],y[setlen:]\n",
    "\n"
   ]
  },
  {
   "cell_type": "code",
   "execution_count": null,
   "metadata": {},
   "outputs": [],
   "source": []
  },
  {
   "cell_type": "code",
   "execution_count": null,
   "metadata": {},
   "outputs": [],
   "source": [
    "reg=neighbors.KNeighborsClassifier(n_neighbors=2).fit(X_train,y_train)\n",
    "plt.plot(X.index,y,'go')\n",
    "plt.plot(X[:setlen].index,reg.predict(X_train),'b.')\n",
    "plt.plot(X[setlen:].index,reg.predict(X_test),'y.')\n",
    "print(\"훈련 세트 정확도:{:.3f}\".format(reg.score(X_train,y_train)))\n",
    "print(\"테스트 세트 정확도:{:.3f}\".format(reg.score(X_test,y_test)))\n",
    "print(\"이웃-2\")\n",
    "\n",
    "confusion=confusion_matrix(y_test,reg.predict(X_test))\n",
    "print(confusion)"
   ]
  },
  {
   "cell_type": "code",
   "execution_count": null,
   "metadata": {
    "scrolled": true
   },
   "outputs": [],
   "source": [
    "reg=RandomForestClassifier(n_estimators=50).fit(X_train,y_train)\n",
    "plt.plot(X.index,y,'go')\n",
    "plt.plot(X[:setlen].index,reg.predict(X_train),'b.')\n",
    "plt.plot(X[setlen:].index,reg.predict(X_test),'y.')\n",
    "print(\"훈련 세트 정확도:{:.3f}\".format(reg.score(X_train,y_train)))\n",
    "print(\"테스트 세트 정확도:{:.3f}\".format(reg.score(X_test,y_test)))\n",
    "print(\"랜덤 포레스트\")\n",
    "\n",
    "confusion=confusion_matrix(y_test,reg.predict(X_test))\n",
    "print(confusion)"
   ]
  },
  {
   "cell_type": "code",
   "execution_count": null,
   "metadata": {},
   "outputs": [],
   "source": [
    "reg=svm.SVC(C=1000,gamma=0.001).fit(X_train,y_train)\n",
    "plt.plot(X.index,y,'go')\n",
    "plt.plot(X[:setlen].index,reg.predict(X_train),'b')\n",
    "plt.plot(X[setlen:].index,reg.predict(X_test),'y')\n",
    "print(\"훈련 세트 정확도:{:.3f}\".format(reg.score(X_train,y_train)))\n",
    "print(\"테스트 세트 정확도:{:.3f}\".format(reg.score(X_test,y_test)))\n",
    "print(\"SVM\")\n",
    "\n",
    "confusion=confusion_matrix(y_test,reg.predict(X_test))\n",
    "print(confusion)"
   ]
  },
  {
   "cell_type": "code",
   "execution_count": null,
   "metadata": {},
   "outputs": [],
   "source": [
    "from sklearn.ensemble import GradientBoostingClassifier\n",
    "reg=GradientBoostingClassifier(random_state=0).fit(X_train,y_train)\n",
    "plt.plot(X.index,y,'go')\n",
    "plt.plot(X[:setlen].index,reg.predict(X_train),'b')\n",
    "plt.plot(X[setlen:].index,reg.predict(X_test),'y')\n",
    "print(\"훈련 세트 정확도:{:.3f}\".format(reg.score(X_train,y_train)))\n",
    "print(\"테스트 세트 정확도:{:.3f}\".format(reg.score(X_test,y_test)))\n",
    "print(\"그레이디언트 부스팅\")\n",
    "\n",
    "confusion=confusion_matrix(y_test,reg.predict(X_test))\n",
    "print(confusion)"
   ]
  },
  {
   "cell_type": "code",
   "execution_count": null,
   "metadata": {},
   "outputs": [],
   "source": [
    "reg=LogisticRegression().fit(X_train,y_train)\n",
    "plt.plot(X.index,y,'go')\n",
    "plt.plot(X[:setlen].index,reg.predict(X_train),'b')\n",
    "plt.plot(X[setlen:].index,reg.predict(X_test),'y')\n",
    "print(\"훈련 세트 정확도:{:.3f}\".format(reg.score(X_train,y_train)))\n",
    "print(\"테스트 세트 정확도:{:.3f}\".format(reg.score(X_test,y_test)))\n",
    "print(\"SVM\")\n",
    "\n",
    "confusion=confusion_matrix(y_test,reg.predict(X_test))\n",
    "print(confusion)"
   ]
  },
  {
   "cell_type": "code",
   "execution_count": null,
   "metadata": {},
   "outputs": [],
   "source": [
    "#그리드서치 간단모듈\n",
    "from sklearn.model_selection import GridSearchCV\n",
    "\n",
    "param_grid={'random_state':[2,4,8,16,32,64]}\n",
    "grid_search=GridSearchCV(GradientBoostingClassifier(),param_grid,cv=5,return_train_score=True)\n",
    "grid_search.fit(X_train,y_train)\n",
    "grid_search.best_estimator_\n"
   ]
  },
  {
   "cell_type": "code",
   "execution_count": null,
   "metadata": {},
   "outputs": [],
   "source": [
    "#히트맵\n",
    "results=pd.DataFrame(grid_search.cv_results_)\n",
    "scores=np.array(results.mean_test_score).reshape(6,1)\n",
    "mglearn.tools.heatmap(scores,xlabel='length',xticklabels='',ylabel='random_state',yticklabels=param_grid['random_state'])"
   ]
  },
  {
   "cell_type": "code",
   "execution_count": null,
   "metadata": {},
   "outputs": [],
   "source": [
    "#그리드서치 간단모듈\n",
    "from sklearn.model_selection import GridSearchCV\n",
    "\n",
    "param_grid={'n_estimators':[10,50,100,120,300]}\n",
    "grid_search=GridSearchCV(RandomForestClassifier(),param_grid,cv=5,return_train_score=True)\n",
    "grid_search.fit(X_train,y_train)\n",
    "grid_search.best_estimator_\n",
    "#히트맵\n",
    "results=pd.DataFrame(grid_search.cv_results_)\n",
    "scores=np.array(results.mean_test_score).reshape(5,1)\n",
    "mglearn.tools.heatmap(scores,xlabel='length',xticklabels='',ylabel='n_estimators',yticklabels=param_grid['n_estimators'])\n"
   ]
  },
  {
   "cell_type": "code",
   "execution_count": null,
   "metadata": {},
   "outputs": [],
   "source": [
    "\n",
    "reg1=neighbors.KNeighborsClassifier(n_neighbors=2).fit(X_train,y_train).predict(X_test)\n",
    "reg2=svm.SVC(C=1000,gamma=0.01).fit(X_train,y_train).predict(X_test)\n",
    "reg3=RandomForestClassifier(n_estimators=50).fit(X_train,y_train).predict(X_test)\n",
    "reg4=GradientBoostingClassifier(random_state=0).fit(X_train,y_train).predict(X_test)\n",
    "\n",
    "print(\"최근접 이웃 모델의 f1 score : {:.2f}\".format(f1_score(y_test,reg1)))\n",
    "print(\"SVM 모델의 f1 score : {:.2f}\".format(f1_score(y_test,reg2)))\n",
    "print(\"랜덤 포레스트 모델의 f1 score : {:.2f}\".format(f1_score(y_test,reg3)))\n",
    "print(\"그레이디언트 부스팅 모델의 f1 score : {:.2f}\".format(f1_score(y_test,reg4)))"
   ]
  },
  {
   "cell_type": "code",
   "execution_count": null,
   "metadata": {},
   "outputs": [],
   "source": [
    "print(\"이중 분류\")\n",
    "print(classification_report(y_test,reg4,target_names=[\"하락(0)\",\"상승(1)\"]))"
   ]
  },
  {
   "cell_type": "code",
   "execution_count": null,
   "metadata": {},
   "outputs": [],
   "source": [
    "print(\"10중 분류\")\n",
    "print(classification_report(y_test,reg1))"
   ]
  },
  {
   "cell_type": "code",
   "execution_count": null,
   "metadata": {},
   "outputs": [],
   "source": [
    "X_trainval,X_test,y_trainval,y_test=X[:setlen],X[setlen:],y[:setlen],y[setlen:]\n",
    "X_train,X_val,y_train,y_val=X[:1500],X[1500:],y[:1500],y[1500:]\n",
    "\n",
    "reg=GradientBoostingClassifier(random_state=0).fit(X_train,y_train)\n",
    "y_pred_lower_threshold=reg.decision_function(X_test)>-.8\n",
    "print(classification_report(y_test,y_pred_lower_threshold,target_names=[\"하락(0)\",\"상승(1)\"]))\n"
   ]
  },
  {
   "cell_type": "code",
   "execution_count": null,
   "metadata": {},
   "outputs": [],
   "source": [
    "\n",
    "reg1=neighbors.KNeighborsClassifier(n_neighbors=2).fit(X_train,y_train)\n",
    "reg2=svm.SVC(C=1000,gamma=0.01).fit(X_train,y_train)\n",
    "reg3=RandomForestClassifier(n_estimators=50).fit(X_train,y_train)\n",
    "reg4=GradientBoostingClassifier(random_state=0).fit(X_train,y_train)\n",
    "\n",
    "precision,recall,thresholds=precision_recall_curve(y_test,reg4.decision_function(X_test))"
   ]
  },
  {
   "cell_type": "code",
   "execution_count": null,
   "metadata": {},
   "outputs": [],
   "source": [
    "\n",
    "reg1=neighbors.KNeighborsClassifier(n_neighbors=2).fit(X_train,y_train)\n",
    "reg2=svm.SVC(C=1000,gamma=0.01).fit(X_train,y_train)\n",
    "reg3=RandomForestClassifier(n_estimators=50).fit(X_train,y_train)\n",
    "reg4=GradientBoostingClassifier(random_state=0).fit(X_train,y_train)\n",
    "\n",
    "precision,recall,thresholds=precision_recall_curve(y_test,reg3.decision_function(X_test))\n",
    "\n",
    "close_zero=np.argmin(np.abs(thresholds))\n",
    "plt.plot(precision[close_zero],recall[close_zero],'o',markersize=10,label='0',fillstyle=\"none\",c='k',mew=2)\n",
    "plt.plot(precision,recall,label=\"curve\")\n",
    "plt.xlabel(\"precision\")\n",
    "plt.ylabel('recall')\n",
    "plt.legend(loc=\"best\")\n"
   ]
  },
  {
   "cell_type": "code",
   "execution_count": null,
   "metadata": {},
   "outputs": [],
   "source": [
    "\n",
    "# predict_proba\n",
    "plt.figure(figsize=(12, 12))\n",
    "\n",
    "precision_rf,recall_rf,thresholds_rf=precision_recall_curve(y_test,reg3.predict_proba(X_test)[:,1])\n",
    "plt.plot(precision_rf,recall_rf,label=\"rf\")\n",
    "close_default_rf=np.argmin(np.abs(thresholds_rf-0.5))\n",
    "plt.plot(precision_rf[close_default_rf],recall_rf[close_default_rf],'^',c='k',markersize=10,label=\"rf : threshold 0.5\",fillstyle=\"none\",mew=2)\n",
    "plt.xlabel(\"precision\")\n",
    "plt.ylabel(\"recall\")\n",
    "plt.legend(loc=\"best\")\n",
    "\n",
    "precision_svm,recall_svm,thresholds_svm=precision_recall_curve(y_test,reg2.decision_function(X_test))\n",
    "plt.plot(precision_svm[close_zero],recall_svm[close_zero],'o',markersize=10,label=' svc :threshold 0',fillstyle=\"none\",mew=2)\n",
    "plt.plot(precision_svm,recall_svm,label=\"GB\")\n",
    "plt.legend(loc=\"best\")\n",
    "\n",
    "precision,recall,thresholds=precision_recall_curve(y_test,reg.decision_function(X_test))\n",
    "plt.plot(precision[close_zero],recall[close_zero],'o',markersize=10,label=' GB :threshold 0',fillstyle=\"none\",c='k',mew=2)\n",
    "plt.plot(precision,recall,label=\"GB\")\n",
    "plt.legend(loc=\"best\")\n"
   ]
  },
  {
   "cell_type": "code",
   "execution_count": null,
   "metadata": {},
   "outputs": [],
   "source": [
    "from sklearn.metrics import average_precision_score\n",
    "ap_rf=average_precision_score(y_test,reg3.predict_proba(X_test)[:,1])\n",
    "ap_svc=average_precision_score(y_test,reg2.decision_function(X_test))\n",
    "ap_GB=average_precision_score(y_test,reg4.decision_function(X_test))\n",
    "print(\"랜덤 포레스트의 평균 정밀도 : {:.3f}\".format(ap_rf))\n",
    "print(\"SVM의 평균 정밀도 : {:.3f}\".format(ap_svc))\n",
    "print(\"그레이디언트 부스팅의 평균 정밀도 : {:.3f}\".format(ap_GB))"
   ]
  },
  {
   "cell_type": "code",
   "execution_count": null,
   "metadata": {},
   "outputs": [],
   "source": [
    "from sklearn.metrics import roc_curve\n",
    "\n",
    "plt.figure(figsize=(12, 12))\n",
    "fpr_rf,tpr_rf,thresholds_rf=roc_curve(y_test,reg3.predict_proba(X_test)[:,1])\n",
    "fpr_svc,tpr_svc,thresholds_svc=roc_curve(y_test,reg2.decision_function(X_test))\n",
    "fpr_GB,tpr_GB,thresholds_GB=roc_curve(y_test,reg4.decision_function(X_test))\n",
    "close_default_rf=np.argmin(np.abs(thresholds_rf - 0.5))\n",
    "\n",
    "plt.plot(fpr_rf,tpr_rf,'k')\n",
    "plt.plot(fpr_svc,tpr_svc,'b')\n",
    "plt.plot(fpr_GB,tpr_GB,'yellow')\n",
    "plt.xlabel(\"FPR\")\n",
    "plt.ylabel(\"TPR(recall)\")\n",
    "\n",
    "plt.plot(fpr_svc[close_zero],tpr_svc[close_zero],'o',markersize=10,label=\"SVC recall : 0 \",fillstyle=\"none\",mew=2)\n",
    "plt.plot(fpr_rf[close_default_rf],tpr_rf[close_default_rf],'^',markersize=10,label=\"RF recall : 0.5\",fillstyle=\"none\",mew=2)\n",
    "plt.plot(fpr_GB[close_zero],tpr_GB[close_zero],'^',markersize=10,label=\"GB\",fillstyle=\"none\",mew=2)"
   ]
  },
  {
   "cell_type": "code",
   "execution_count": null,
   "metadata": {},
   "outputs": [],
   "source": []
  },
  {
   "cell_type": "code",
   "execution_count": null,
   "metadata": {},
   "outputs": [],
   "source": [
    "from sklearn.metrics import roc_auc_score\n",
    "rf_auc=roc_auc_score(y_test,reg3.predict_proba(X_test)[:,1])\n",
    "svc_auc=roc_auc_score(y_test,reg2.decision_function(X_test))\n",
    "GB_auc=roc_auc_score(y_test,reg4.decision_function(X_test))\n",
    "print(\"랜덤 포레스트의 평균 정밀도 : {:.3f}\".format(rf_auc))\n",
    "print(\"SVM의 평균 정밀도 : {:.3f}\".format(svc_auc))\n",
    "print(\"그레이디언트 부스팅의 평균 정밀도 : {:.3f}\".format(GB_auc))"
   ]
  },
  {
   "cell_type": "code",
   "execution_count": null,
   "metadata": {},
   "outputs": [],
   "source": [
    "y"
   ]
  },
  {
   "cell_type": "code",
   "execution_count": null,
   "metadata": {},
   "outputs": [],
   "source": []
  }
 ],
 "metadata": {
  "kernelspec": {
   "display_name": "Python 3",
   "language": "python",
   "name": "python3"
  },
  "language_info": {
   "codemirror_mode": {
    "name": "ipython",
    "version": 3
   },
   "file_extension": ".py",
   "mimetype": "text/x-python",
   "name": "python",
   "nbconvert_exporter": "python",
   "pygments_lexer": "ipython3",
   "version": "3.7.4"
  }
 },
 "nbformat": 4,
 "nbformat_minor": 2
}
