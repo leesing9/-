{
 "cells": [
  {
   "cell_type": "code",
   "execution_count": 1,
   "metadata": {},
   "outputs": [
    {
     "name": "stderr",
     "output_type": "stream",
     "text": [
      "C:\\Users\\이승희\\AppData\\Roaming\\Python\\Python36\\site-packages\\sklearn\\externals\\six.py:31: DeprecationWarning: The module is deprecated in version 0.21 and will be removed in version 0.23 since we've dropped support for Python 2.7. Please rely on the official version of six (https://pypi.org/project/six/).\n",
      "  \"(https://pypi.org/project/six/).\", DeprecationWarning)\n",
      "C:\\Users\\이승희\\AppData\\Roaming\\Python\\Python36\\site-packages\\sklearn\\externals\\joblib\\__init__.py:15: DeprecationWarning: sklearn.externals.joblib is deprecated in 0.21 and will be removed in 0.23. Please import this functionality directly from joblib, which can be installed with: pip install joblib. If this warning is raised when loading pickled models, you may need to re-serialize those models with scikit-learn 0.21+.\n",
      "  warnings.warn(msg, category=DeprecationWarning)\n"
     ]
    }
   ],
   "source": [
    "#기본\n",
    "import pandas as pd\n",
    "import matplotlib.pyplot as plt\n",
    "import numpy as np\n",
    "import pandas_datareader.data as web\n",
    "import FinanceDataReader as fdr\n",
    "import mglearn\n",
    "import sklearn\n",
    "\n",
    "#분류 모델\n",
    "from sklearn.svm import LinearSVC\n",
    "from sklearn import neighbors,svm\n",
    "from sklearn.neighbors import KNeighborsClassifier\n",
    "from sklearn.tree import DecisionTreeClassifier\n",
    "from sklearn.linear_model import LogisticRegression\n",
    "from sklearn.ensemble import RandomForestClassifier\n",
    "from sklearn.ensemble import GradientBoostingClassifier\n",
    "from sklearn.svm import SVC\n",
    "#스케일러\n",
    "from sklearn.preprocessing import MinMaxScaler\n",
    "\n",
    "#성과 평가\n",
    "from sklearn.metrics import confusion_matrix #오차행렬\n",
    "from sklearn.metrics import accuracy_score #정확도\n",
    "from sklearn.metrics import f1_score\n",
    "from sklearn.metrics import classification_report\n",
    "from sklearn.metrics import precision_recall_curve\n",
    "from sklearn.model_selection import cross_val_score\n",
    "from sklearn.model_selection import KFold\n"
   ]
  },
  {
   "cell_type": "code",
   "execution_count": 31,
   "metadata": {},
   "outputs": [],
   "source": [
    "#특성 추가 ------------------------------------------\n",
    "    #이동평균선\n",
    "def get_MA(df):\n",
    "    MA_3=df[\"Close\"].rolling(3).mean()\n",
    "    MA_5=df[\"Close\"].rolling(5).mean()\n",
    "    df=df.assign(MA_10=MA_10,MA_60=MA_60).dropna()\n",
    "    \n",
    "    return df\n",
    "\n",
    "    \n",
    "    #스토캐스틱\n",
    "def get_stochastic(df, n=15, m=5, t=3):\n",
    "    # n일중 최고가\n",
    "    ndays_high = df.High.rolling(window=n, min_periods=1).max()\n",
    "    # n일중 최저가\n",
    "    ndays_low = df.Low.rolling(window=n, min_periods=1).min()\n",
    " \n",
    "    # Fast%K 계산\n",
    "    kdj_k = ((df.Close - ndays_low) / (ndays_high - ndays_low))*100\n",
    "    # Fast%D (=Slow%K) 계산\n",
    "    kdj_d = kdj_k.ewm(span=m).mean()\n",
    "    # Slow%D 계산\n",
    "    kdj_j = kdj_d.ewm(span=t).mean()\n",
    " \n",
    "    # dataframe에 컬럼 추가\n",
    "    df = df.assign(kdj_k=kdj_k, kdj_d=kdj_d, kdj_j=kdj_j).dropna()\n",
    "    \n",
    "    return df\n",
    "   \n",
    "    #시간\n",
    "def get_time(df):\n",
    "    time=np.linspace(0,10,len(df),endpoint=False).reshape(-1,1)\n",
    "    df=df.assign(time=time)\n",
    "    \n",
    "    return df"
   ]
  },
  {
   "cell_type": "code",
   "execution_count": 3,
   "metadata": {},
   "outputs": [],
   "source": [
    "# Methods\n",
    "\n",
    "#train_test_split, score 도출----------------------\n",
    "\n",
    "def print_score(X,y,model):\n",
    "    \n",
    "    setlen=int(round(len(X)*0.7,0))\n",
    "    y=y.astype('int')\n",
    "    X_train,X_test,y_train,y_test=X[:setlen],X[setlen:],y[:setlen],y[setlen:]\n",
    "\n",
    "    reg=model.fit(X_train,y_train)\n",
    "    print(\"훈련 세트 정확도:{:.3f}\".format(reg.score(X_train,y_train)))\n",
    "    print(\"테스트 세트 정확도:{:.3f}\".format(reg.score(X_test,y_test)))\n",
    "\n",
    "    confusion=confusion_matrix(y_test,reg.predict(X_test))\n",
    "    print(confusion)\n",
    "    \n",
    "    \n",
    "\n",
    "\n",
    "#미래 예측을 위한 시간조정-------------------   \n",
    "\n",
    "def adjust_time(X,y):\n",
    "    y=pd.DataFrame(np.array(y),index=X.index).shift(-1).dropna()\n",
    "    X=X.loc[y.index].dropna()\n",
    "    \n",
    "    return X,y\n"
   ]
  },
  {
   "cell_type": "code",
   "execution_count": 4,
   "metadata": {
    "scrolled": true
   },
   "outputs": [
    {
     "data": {
      "text/plain": [
       "RandomForestClassifier(bootstrap=True, class_weight=None, criterion='gini',\n",
       "                       max_depth=None, max_features='auto', max_leaf_nodes=None,\n",
       "                       min_impurity_decrease=0.0, min_impurity_split=None,\n",
       "                       min_samples_leaf=1, min_samples_split=2,\n",
       "                       min_weight_fraction_leaf=0.0, n_estimators='warn',\n",
       "                       n_jobs=None, oob_score=False, random_state=None,\n",
       "                       verbose=0, warm_start=False)"
      ]
     },
     "execution_count": 4,
     "metadata": {},
     "output_type": "execute_result"
    }
   ],
   "source": [
    "\n",
    "RandomForestClassifier()"
   ]
  },
  {
   "cell_type": "code",
   "execution_count": 26,
   "metadata": {},
   "outputs": [],
   "source": [
    "\n",
    "\n",
    "KS=fdr.DataReader(\"HSI\",\"1990-01-01\",\"2019-08-14\")\n",
    "\n",
    "#특성 추가---\n",
    "KS=get_stochastic(KS)\n",
    "KS=get_time(KS)\n",
    "\n",
    "X=KS\n",
    "#--------\n",
    "MA_3=KS[\"Close\"].rolling(3).mean()\n",
    "MA_5=KS[\"Close\"].rolling(5).mean()\n",
    "MA_10=KS[\"Close\"].rolling(10).mean()\n",
    "MA_20=KS[\"Close\"].rolling(20).mean()\n",
    "MA_30=KS[\"Close\"].rolling(30).mean()\n",
    "malist=[MA_60,MA_90,MA_120,MA_180,MA_360]\n",
    "KS_MA=KS.assign(MA_60=MA_60,MA_90=MA_90,MA_120=MA_120,MA_180=MA_180,MA_360=MA_360).dropna()\n"
   ]
  },
  {
   "cell_type": "code",
   "execution_count": 6,
   "metadata": {},
   "outputs": [
    {
     "name": "stdout",
     "output_type": "stream",
     "text": [
      "HSI\n"
     ]
    },
    {
     "data": {
      "image/png": "[encoded data removed]",
      "text/plain": [
       "<Figure size 432x288 with 1 Axes>"
      ]
     },
     "metadata": {},
     "output_type": "display_data"
    }
   ],
   "source": [
    "\n",
    "\n",
    "plt.plot(KS_MA.index,KS_MA[\"Close\"])\n",
    "plt.plot(KS_MA.index,KS_MA[\"MA_60\"])\n",
    "plt.plot(KS_MA.index,KS_MA[\"MA_360\"])\n",
    "print(\"HSI\")"
   ]
  },
  {
   "cell_type": "code",
   "execution_count": 7,
   "metadata": {},
   "outputs": [
    {
     "name": "stdout",
     "output_type": "stream",
     "text": [
      "MA_60\n"
     ]
    },
    {
     "data": {
      "image/png": "[encoded data removed]",
      "text/plain": [
       "<Figure size 432x288 with 1 Axes>"
      ]
     },
     "metadata": {},
     "output_type": "display_data"
    }
   ],
   "source": [
    "plt.plot(KS_MA.index,KS_MA[\"MA_60\"])\n",
    "print(\"MA_60\")"
   ]
  },
  {
   "cell_type": "code",
   "execution_count": 8,
   "metadata": {},
   "outputs": [
    {
     "name": "stdout",
     "output_type": "stream",
     "text": [
      "MA_360\n"
     ]
    },
    {
     "data": {
      "image/png": "[encoded data removed]",
      "text/plain": [
       "<Figure size 432x288 with 1 Axes>"
      ]
     },
     "metadata": {},
     "output_type": "display_data"
    }
   ],
   "source": [
    "plt.plot(KS_MA.index,KS_MA[\"MA_360\"])\n",
    "print(\"MA_360\")"
   ]
  },
  {
   "cell_type": "code",
   "execution_count": null,
   "metadata": {},
   "outputs": [],
   "source": []
  },
  {
   "cell_type": "code",
   "execution_count": null,
   "metadata": {},
   "outputs": [],
   "source": []
  },
  {
   "cell_type": "code",
   "execution_count": 129,
   "metadata": {},
   "outputs": [],
   "source": [
    "def cross_score(X,y,SC):\n",
    "    print(\"\\n교차검증 테스트------\")\n",
    "    len1=int(round(len(X)*1/5,0))\n",
    "    len2=int(round(len1*4/5,0))\n",
    "    X_cross,y_cross=X[:len1],y[:len1]\n",
    "    X_train,y_train,X_test,y_test=X_cross[:len2],y_cross[:len2],X_cross[len2:],y_cross[len2:]\n",
    "    train_score1=RandomForestClassifier(random_state=2).fit(X_train,y_train).score(X_train,y_train)\n",
    "    test_score1=RandomForestClassifier(random_state=2).fit(X_train,y_train).score(X_test,y_test)\n",
    "\n",
    "    len1=int(round(len(X)*2/5,0))\n",
    "    len2=int(round(len1*9/10,0))\n",
    "    X_cross,y_cross=X[:len1],y[:len1]\n",
    "    X_train,y_train,X_test,y_test=X_cross[:len2],y_cross[:len2],X_cross[len2:],y_cross[len2:]\n",
    "    train_score2=RandomForestClassifier(random_state=2).fit(X_train,y_train).score(X_train,y_train)\n",
    "    test_score2=RandomForestClassifier(random_state=2).fit(X_train,y_train).score(X_test,y_test)\n",
    "\n",
    "    len1=int(round(len(X)*3/5,0))\n",
    "    len2=int(round(len1*14/15,0))\n",
    "    X_cross,y_cross=X[:len1],y[:len1]\n",
    "    X_train,y_train,X_test,y_test=X_cross[:len2],y_cross[:len2],X_cross[len2:],y_cross[len2:]\n",
    "    train_score3=RandomForestClassifier(random_state=2).fit(X_train,y_train).score(X_train,y_train)\n",
    "    test_score3=RandomForestClassifier(random_state=2).fit(X_train,y_train).score(X_test,y_test)\n",
    "\n",
    "    len1=int(round(len(X)*4/5,0))\n",
    "    len2=int(round(len1*19/20,0))\n",
    "    X_cross,y_cross=X[:len1],y[:len1]\n",
    "    X_train,y_train,X_test,y_test=X_cross[:len2],y_cross[:len2],X_cross[len2:],y_cross[len2:]\n",
    "    train_score4=RandomForestClassifier(random_state=2).fit(X_train,y_train).score(X_train,y_train)\n",
    "    test_score4=RandomForestClassifier(random_state=2).fit(X_train,y_train).score(X_test,y_test)\n",
    "\n",
    "    len1=int(round(len(X)*5/5,0))\n",
    "    len2=int(round(len1*24/25,0))\n",
    "    X_cross,y_cross=X[:len1],y[:len1]\n",
    "    X_train,y_train,X_test,y_test=X_cross[:len2],y_cross[:len2],X_cross[len2:],y_cross[len2:]\n",
    "    train_score5=RandomForestClassifier(random_state=2).fit(X_train,y_train).score(X_train,y_train)\n",
    "    test_score5=RandomForestClassifier(random_state=2).fit(X_train,y_train).score(X_test,y_test)\n",
    "\n",
    "    X_train_score=(train_score1+train_score2+train_score3+train_score4+train_score5)/5\n",
    "    X_test_score=(test_score1+test_score2+test_score3+test_score4+test_score5)/5\n",
    "    print(\"  score 1 :\",test_score1,\",\"\"\\n\",\"score 2 :\",test_score2,\",\"\"\\n\",\"score 3 :\",test_score3,\",\"\"\\n\",\"score 4 :\",test_score4,\",\"\"\\n\",\"score 5 :\",test_score5,\",\"\"\\n\")\n",
    "    print(\"교차검증 훈련 점수 : \",X_train_score,\"\\n교차검증 테스트 점수 : \",X_test_score)\n",
    "    SC.append(\"훈련 교차 :%s, 테스트 교차 : %s\" %(X_train_score,X_test_score))\n"
   ]
  },
  {
   "cell_type": "code",
   "execution_count": 24,
   "metadata": {},
   "outputs": [
    {
     "data": {
      "text/plain": [
       "[<matplotlib.lines.Line2D at 0x2ac5c2b17f0>]"
      ]
     },
     "execution_count": 24,
     "metadata": {},
     "output_type": "execute_result"
    },
    {
     "data": {
      "image/png": "[encoded data removed]",
      "text/plain": [
       "<Figure size 432x288 with 1 Axes>"
      ]
     },
     "metadata": {},
     "output_type": "display_data"
    }
   ],
   "source": [
    "euro=fdr.DataReader(\"US500\",\"1990-01-01\")\n",
    "MA_120=euro[\"Close\"].rolling(120).mean()\n",
    "plt.plot(euro.index,MA_120)\n",
    "plt.plot(euro.index,euro[\"Close\"])"
   ]
  },
  {
   "cell_type": "code",
   "execution_count": 130,
   "metadata": {
    "scrolled": false
   },
   "outputs": [
    {
     "name": "stdout",
     "output_type": "stream",
     "text": [
      "\n",
      " US500 -------------\n",
      "MA_3\n",
      "훈련 세트 정확도:0.978\n",
      "테스트 세트 정확도:0.525\n",
      "[[357  90]\n",
      " [403 187]]\n",
      "\n",
      "교차검증 테스트------\n",
      "  score 1 : 0.5579710144927537 ,\n",
      " score 2 : 0.4927536231884058 ,\n",
      " score 3 : 0.4420289855072464 ,\n",
      " score 4 : 0.5 ,\n",
      " score 5 : 0.6159420289855072 ,\n",
      "\n",
      "교차검증 훈련 점수 :  0.9806166382819235 \n",
      "교차검증 테스트 점수 :  0.5217391304347826\n",
      "MA_5\n",
      "훈련 세트 정확도:0.987\n",
      "테스트 세트 정확도:0.458\n",
      "[[387  40]\n",
      " [522  87]]\n",
      "\n",
      "교차검증 테스트------\n",
      "  score 1 : 0.644927536231884 ,\n",
      " score 2 : 0.7028985507246377 ,\n",
      " score 3 : 0.6739130434782609 ,\n",
      " score 4 : 0.5942028985507246 ,\n",
      " score 5 : 0.7318840579710145 ,\n",
      "\n",
      "교차검증 훈련 점수 :  0.9844181886912967 \n",
      "교차검증 테스트 점수 :  0.6695652173913044\n",
      "MA_10\n",
      "훈련 세트 정확도:0.984\n",
      "테스트 세트 정확도:0.635\n",
      "[[310  61]\n",
      " [316 347]]\n",
      "\n",
      "교차검증 테스트------\n",
      "  score 1 : 0.6884057971014492 ,\n",
      " score 2 : 0.7971014492753623 ,\n",
      " score 3 : 0.7246376811594203 ,\n",
      " score 4 : 0.5942028985507246 ,\n",
      " score 5 : 0.7608695652173914 ,\n",
      "\n",
      "교차검증 훈련 점수 :  0.9802096810137918 \n",
      "교차검증 테스트 점수 :  0.7130434782608696\n",
      "MA_20\n",
      "훈련 세트 정확도:0.988\n",
      "테스트 세트 정확도:0.790\n",
      "[[292  42]\n",
      " [174 523]]\n",
      "\n",
      "교차검증 테스트------\n",
      "  score 1 : 0.5507246376811594 ,\n",
      " score 2 : 0.8613138686131386 ,\n",
      " score 3 : 0.855072463768116 ,\n",
      " score 4 : 0.6884057971014492 ,\n",
      " score 5 : 0.9202898550724637 ,\n",
      "\n",
      "교차검증 훈련 점수 :  0.9899691905749247 \n",
      "교차검증 테스트 점수 :  0.7751613244472655\n",
      "MA_30\n",
      "훈련 세트 정확도:0.990\n",
      "테스트 세트 정확도:0.409\n",
      "[[307  32]\n",
      " [576 113]]\n",
      "\n",
      "교차검증 테스트------\n",
      "  score 1 : 0.8394160583941606 ,\n",
      " score 2 : 0.8175182481751825 ,\n",
      " score 3 : 0.8905109489051095 ,\n",
      " score 4 : 0.2846715328467153 ,\n",
      " score 5 : 0.927007299270073 ,\n",
      "\n",
      "교차검증 훈련 점수 :  0.9919466836106265 \n",
      "교차검증 테스트 점수 :  0.751824817518248\n",
      "\n",
      " RSTI -------------\n",
      "MA_3\n",
      "훈련 세트 정확도:0.978\n",
      "테스트 세트 정확도:0.565\n",
      "[[312  92]\n",
      " [262 147]]\n",
      "\n",
      "교차검증 테스트------\n",
      "  score 1 : 0.5 ,\n",
      " score 2 : 0.5925925925925926 ,\n",
      " score 3 : 0.5740740740740741 ,\n",
      " score 4 : 0.6296296296296297 ,\n",
      " score 5 : 0.5555555555555556 ,\n",
      "\n",
      "교차검증 훈련 점수 :  0.9819782135897336 \n",
      "교차검증 테스트 점수 :  0.5703703703703704\n",
      "MA_5\n",
      "훈련 세트 정확도:0.987\n",
      "테스트 세트 정확도:0.622\n",
      "[[308  87]\n",
      " [220 197]]\n",
      "\n",
      "교차검증 테스트------\n",
      "  score 1 : 0.5277777777777778 ,\n",
      " score 2 : 0.6481481481481481 ,\n",
      " score 3 : 0.5648148148148148 ,\n",
      " score 4 : 0.6111111111111112 ,\n",
      " score 5 : 0.6851851851851852 ,\n",
      "\n",
      "교차검증 훈련 점수 :  0.9858885770425776 \n",
      "교차검증 테스트 점수 :  0.6074074074074074\n",
      "MA_10\n",
      "훈련 세트 정확도:0.985\n",
      "테스트 세트 정확도:0.619\n",
      "[[332  56]\n",
      " [253 170]]\n",
      "\n",
      "교차검증 테스트------\n",
      "  score 1 : 0.5555555555555556 ,\n",
      " score 2 : 0.7685185185185185 ,\n",
      " score 3 : 0.7222222222222222 ,\n",
      " score 4 : 0.7777777777777778 ,\n",
      " score 5 : 0.7129629629629629 ,\n",
      "\n",
      "교차검증 훈련 점수 :  0.9850407474715981 \n",
      "교차검증 테스트 점수 :  0.7074074074074074\n",
      "MA_20\n",
      "훈련 세트 정확도:0.992\n",
      "테스트 세트 정확도:0.885\n",
      "[[328  47]\n",
      " [ 46 387]]\n",
      "\n",
      "교차검증 테스트------\n",
      "  score 1 : 0.7870370370370371 ,\n",
      " score 2 : 0.7592592592592593 ,\n",
      " score 3 : 0.8055555555555556 ,\n",
      " score 4 : 0.8796296296296297 ,\n",
      " score 5 : 0.9259259259259259 ,\n",
      "\n",
      "교차검증 훈련 점수 :  0.9917691748463222 \n",
      "교차검증 테스트 점수 :  0.8314814814814815\n",
      "MA_30\n",
      "훈련 세트 정확도:0.991\n",
      "테스트 세트 정확도:0.883\n",
      "[[354  32]\n",
      " [ 62 357]]\n",
      "\n",
      "교차검증 테스트------\n",
      "  score 1 : 0.7476635514018691 ,\n",
      " score 2 : 0.9345794392523364 ,\n",
      " score 3 : 0.7663551401869159 ,\n",
      " score 4 : 0.822429906542056 ,\n",
      " score 5 : 0.8785046728971962 ,\n",
      "\n",
      "교차검증 훈련 점수 :  0.9926320693944595 \n",
      "교차검증 테스트 점수 :  0.8299065420560747\n",
      "\n",
      " EURO -------------\n",
      "MA_3\n",
      "훈련 세트 정확도:0.977\n",
      "테스트 세트 정확도:0.545\n",
      "[[112 127]\n",
      " [ 64 117]]\n",
      "\n",
      "교차검증 테스트------\n",
      "  score 1 : 0.5 ,\n",
      " score 2 : 0.5892857142857143 ,\n",
      " score 3 : 0.5892857142857143 ,\n",
      " score 4 : 0.5178571428571429 ,\n",
      " score 5 : 0.5178571428571429 ,\n",
      "\n",
      "교차검증 훈련 점수 :  0.9764199546709481 \n",
      "교차검증 테스트 점수 :  0.5428571428571429\n",
      "MA_5\n",
      "훈련 세트 정확도:0.974\n",
      "테스트 세트 정확도:0.593\n",
      "[[167  73]\n",
      " [ 98  82]]\n",
      "\n",
      "교차검증 테스트------\n",
      "  score 1 : 0.5357142857142857 ,\n",
      " score 2 : 0.625 ,\n",
      " score 3 : 0.6071428571428571 ,\n",
      " score 4 : 0.6071428571428571 ,\n",
      " score 5 : 0.6071428571428571 ,\n",
      "\n",
      "교차검증 훈련 점수 :  0.9784288270865362 \n",
      "교차검증 테스트 점수 :  0.5964285714285714\n",
      "MA_10\n",
      "훈련 세트 정확도:0.974\n",
      "테스트 세트 정확도:0.677\n",
      "[[194  72]\n",
      " [ 63  89]]\n",
      "\n",
      "교차검증 테스트------\n",
      "  score 1 : 0.625 ,\n",
      " score 2 : 0.625 ,\n",
      " score 3 : 0.625 ,\n",
      " score 4 : 0.6964285714285714 ,\n",
      " score 5 : 0.6964285714285714 ,\n",
      "\n",
      "교차검증 훈련 점수 :  0.9793366528498456 \n",
      "교차검증 테스트 점수 :  0.6535714285714285\n",
      "MA_20\n",
      "훈련 세트 정확도:0.985\n",
      "테스트 세트 정확도:0.764\n",
      "[[234  51]\n",
      " [ 47  83]]\n",
      "\n",
      "교차검증 테스트------\n",
      "  score 1 : 0.8181818181818182 ,\n",
      " score 2 : 0.6727272727272727 ,\n",
      " score 3 : 0.7636363636363637 ,\n",
      " score 4 : 0.5454545454545454 ,\n",
      " score 5 : 0.8909090909090909 ,\n",
      "\n",
      "교차검증 훈련 점수 :  0.9852449150292557 \n",
      "교차검증 테스트 점수 :  0.7381818181818183\n",
      "MA_30\n",
      "훈련 세트 정확도:0.985\n",
      "테스트 세트 정확도:0.794\n",
      "[[238  51]\n",
      " [ 34  89]]\n",
      "\n",
      "교차검증 테스트------\n",
      "  score 1 : 0.5454545454545454 ,\n",
      " score 2 : 0.6909090909090909 ,\n",
      " score 3 : 0.7818181818181819 ,\n",
      " score 4 : 0.5636363636363636 ,\n",
      " score 5 : 0.8909090909090909 ,\n",
      "\n",
      "교차검증 훈련 점수 :  0.990139306527098 \n",
      "교차검증 테스트 점수 :  0.6945454545454546\n",
      "\n",
      " HSI -------------\n",
      "MA_3\n",
      "훈련 세트 정확도:0.977\n",
      "테스트 세트 정확도:0.568\n",
      "[[482 173]\n",
      " [432 312]]\n",
      "\n",
      "교차검증 테스트------\n",
      "  score 1 : 0.6612903225806451 ,\n",
      " score 2 : 0.5935828877005348 ,\n",
      " score 3 : 0.5967741935483871 ,\n",
      " score 4 : 0.5860215053763441 ,\n",
      " score 5 : 0.5483870967741935 ,\n",
      "\n",
      "교차검증 훈련 점수 :  0.9804334369894793 \n",
      "교차검증 테스트 점수 :  0.5972112011960209\n",
      "MA_5\n",
      "훈련 세트 정확도:0.981\n",
      "테스트 세트 정확도:0.676\n",
      "[[507 137]\n",
      " [316 438]]\n",
      "\n",
      "교차검증 테스트------\n",
      "  score 1 : 0.7258064516129032 ,\n",
      " score 2 : 0.6344086021505376 ,\n",
      " score 3 : 0.6129032258064516 ,\n",
      " score 4 : 0.7096774193548387 ,\n",
      " score 5 : 0.6881720430107527 ,\n",
      "\n",
      "교차검증 훈련 점수 :  0.9824551348134752 \n",
      "교차검증 테스트 점수 :  0.6741935483870968\n",
      "MA_10\n",
      "훈련 세트 정확도:0.988\n",
      "테스트 세트 정확도:0.748\n",
      "[[507 121]\n",
      " [231 538]]\n",
      "\n",
      "교차검증 테스트------\n",
      "  score 1 : 0.8225806451612904 ,\n",
      " score 2 : 0.6935483870967742 ,\n",
      " score 3 : 0.8118279569892473 ,\n",
      " score 4 : 0.7580645161290323 ,\n",
      " score 5 : 0.7903225806451613 ,\n",
      "\n",
      "교차검증 훈련 점수 :  0.9844004817474223 \n",
      "교차검증 테스트 점수 :  0.775268817204301\n",
      "MA_20\n",
      "훈련 세트 정확도:0.991\n",
      "테스트 세트 정확도:0.816\n",
      "[[535  72]\n",
      " [185 601]]\n",
      "\n",
      "교차검증 테스트------\n",
      "  score 1 : 0.8709677419354839 ,\n",
      " score 2 : 0.8655913978494624 ,\n",
      " score 3 : 0.8602150537634409 ,\n",
      " score 4 : 0.8387096774193549 ,\n",
      " score 5 : 0.8387096774193549 ,\n",
      "\n",
      "교차검증 훈련 점수 :  0.992208466126022 \n",
      "교차검증 테스트 점수 :  0.8548387096774194\n",
      "MA_30\n",
      "훈련 세트 정확도:0.994\n",
      "테스트 세트 정확도:0.785\n",
      "[[532  54]\n",
      " [245 560]]\n",
      "\n",
      "교차검증 테스트------\n",
      "  score 1 : 0.8594594594594595 ,\n",
      " score 2 : 0.9081081081081082 ,\n",
      " score 3 : 0.8054054054054054 ,\n",
      " score 4 : 0.8108108108108109 ,\n",
      " score 5 : 0.8864864864864865 ,\n",
      "\n",
      "교차검증 훈련 점수 :  0.9942645893584767 \n",
      "교차검증 테스트 점수 :  0.8540540540540542\n"
     ]
    }
   ],
   "source": [
    "import warnings\n",
    "warnings.filterwarnings(action='ignore') \n",
    "\n",
    "\n",
    "SC=[]\n",
    "for y in [\"US500\",\"RSTI\",\"EURO\",\"HSI\"]:\n",
    "    SC.append(y)\n",
    "    print(\"\\n\",y,\"-------------\")\n",
    "    \n",
    "    KS=fdr.DataReader(y,\"1990-01-01\",\"2019-10-01\")\n",
    "    KS=get_stochastic(KS)\n",
    "    KS=get_time(KS)\n",
    "    \n",
    "    \n",
    "    MA_3=KS[\"Close\"].rolling(3).mean().dropna()\n",
    "    MA_5=KS[\"Close\"].rolling(5).mean().dropna()\n",
    "    MA_10=KS[\"Close\"].rolling(10).mean().dropna()\n",
    "    MA_20=KS[\"Close\"].rolling(20).mean().dropna()\n",
    "    MA_30=KS[\"Close\"].rolling(30).mean().dropna()\n",
    "    malist=[MA_3,MA_5,MA_10,MA_20,MA_30]\n",
    "    malist2=[\"MA_3\",\"MA_5\",\"MA_10\",\"MA_20\",\"MA_30\",]\n",
    "    n=0\n",
    "    score_list=[]\n",
    "        \n",
    "    for x in malist:\n",
    "        KS[malist2[n]]=x\n",
    "        KS=KS.dropna()\n",
    "        \n",
    "        y=np.where(KS[\"Close\"]>KS[malist2[n]],1,0)\n",
    "        X,y=adjust_time(KS,y)\n",
    "\n",
    "        setlen=int(round(len(X)*0.7,0))\n",
    "        y=y.astype('int')\n",
    "        X_train,X_test,y_train,y_test=X[:setlen],X[setlen:],y[:setlen],y[setlen:]\n",
    "        print(malist2[n])\n",
    "        \n",
    "        print_score(X,y,RandomForestClassifier(random_state=2))\n",
    "        SC.append(malist2[n])\n",
    "        cross_score(X,y,SC)\n",
    "        n=n+1"
   ]
  },
  {
   "cell_type": "code",
   "execution_count": 131,
   "metadata": {
    "scrolled": false
   },
   "outputs": [
    {
     "data": {
      "text/plain": [
       "['US500',\n",
       " 'MA_3',\n",
       " '훈련 교차 :0.9806166382819235, 테스트 교차 : 0.5217391304347826',\n",
       " 'MA_5',\n",
       " '훈련 교차 :0.9844181886912967, 테스트 교차 : 0.6695652173913044',\n",
       " 'MA_10',\n",
       " '훈련 교차 :0.9802096810137918, 테스트 교차 : 0.7130434782608696',\n",
       " 'MA_20',\n",
       " '훈련 교차 :0.9899691905749247, 테스트 교차 : 0.7751613244472655',\n",
       " 'MA_30',\n",
       " '훈련 교차 :0.9919466836106265, 테스트 교차 : 0.751824817518248',\n",
       " 'RSTI',\n",
       " 'MA_3',\n",
       " '훈련 교차 :0.9819782135897336, 테스트 교차 : 0.5703703703703704',\n",
       " 'MA_5',\n",
       " '훈련 교차 :0.9858885770425776, 테스트 교차 : 0.6074074074074074',\n",
       " 'MA_10',\n",
       " '훈련 교차 :0.9850407474715981, 테스트 교차 : 0.7074074074074074',\n",
       " 'MA_20',\n",
       " '훈련 교차 :0.9917691748463222, 테스트 교차 : 0.8314814814814815',\n",
       " 'MA_30',\n",
       " '훈련 교차 :0.9926320693944595, 테스트 교차 : 0.8299065420560747',\n",
       " 'EURO',\n",
       " 'MA_3',\n",
       " '훈련 교차 :0.9764199546709481, 테스트 교차 : 0.5428571428571429',\n",
       " 'MA_5',\n",
       " '훈련 교차 :0.9784288270865362, 테스트 교차 : 0.5964285714285714',\n",
       " 'MA_10',\n",
       " '훈련 교차 :0.9793366528498456, 테스트 교차 : 0.6535714285714285',\n",
       " 'MA_20',\n",
       " '훈련 교차 :0.9852449150292557, 테스트 교차 : 0.7381818181818183',\n",
       " 'MA_30',\n",
       " '훈련 교차 :0.990139306527098, 테스트 교차 : 0.6945454545454546',\n",
       " 'HSI',\n",
       " 'MA_3',\n",
       " '훈련 교차 :0.9804334369894793, 테스트 교차 : 0.5972112011960209',\n",
       " 'MA_5',\n",
       " '훈련 교차 :0.9824551348134752, 테스트 교차 : 0.6741935483870968',\n",
       " 'MA_10',\n",
       " '훈련 교차 :0.9844004817474223, 테스트 교차 : 0.775268817204301',\n",
       " 'MA_20',\n",
       " '훈련 교차 :0.992208466126022, 테스트 교차 : 0.8548387096774194',\n",
       " 'MA_30',\n",
       " '훈련 교차 :0.9942645893584767, 테스트 교차 : 0.8540540540540542']"
      ]
     },
     "execution_count": 131,
     "metadata": {},
     "output_type": "execute_result"
    }
   ],
   "source": [
    "SC"
   ]
  },
  {
   "cell_type": "code",
   "execution_count": 133,
   "metadata": {},
   "outputs": [
    {
     "data": {
      "text/plain": [
       "Text(0.5,1,'HSI')"
      ]
     },
     "execution_count": 133,
     "metadata": {},
     "output_type": "execute_result"
    },
    {
     "data": {
      "image/png": "[encoded data removed]",
      "text/plain": [
       "<Figure size 720x720 with 4 Axes>"
      ]
     },
     "metadata": {},
     "output_type": "display_data"
    }
   ],
   "source": [
    "x=np.linspace(0,30,5)\n",
    "us=[0.512,0.576,0.556,0.685,0.788]\n",
    "rsti=[0.506,0.582,0.666,0.821,0.8]\n",
    "euro=[0.536,0.567,0.649,0.782,0.639]\n",
    "hsi=[0.582,0.66,0.722,0.844,0.821]\n",
    "us_=[0.521,0.669,0.713,0.775,0.751]\n",
    "rsti_=[0.57,0.60,0.707,0.831,0.829]\n",
    "euro_=[0.542,0.596,0.653,0.738,0.694]\n",
    "hsi_=[0.597,0.674,0.775,0.854,0.854]\n",
    "import matplotlib.pyplot as plt\n",
    "fig, axes = plt.subplots(2, 2,figsize=(10,10))\n",
    "axes[0,0].plot(x,us)\n",
    "axes[0,0].plot(x,us_)\n",
    "axes[0,0].set_title(\"S&P500\")\n",
    "axes[0,1].plot(x,rsti)\n",
    "axes[0,1].plot(x,rsti_)\n",
    "axes[0,1].set_title(\"RSTI\")\n",
    "axes[1,0].plot(x,euro)\n",
    "axes[1,0].plot(x,euro_)\n",
    "axes[1,0].set_title(\"EURO\")\n",
    "axes[1,1].plot(x,hsi)\n",
    "axes[1,1].plot(x,hsi_)\n",
    "axes[1,1].set_title(\"HSI\")"
   ]
  },
  {
   "cell_type": "code",
   "execution_count": null,
   "metadata": {},
   "outputs": [],
   "source": []
  },
  {
   "cell_type": "code",
   "execution_count": null,
   "metadata": {},
   "outputs": [],
   "source": []
  },
  {
   "cell_type": "code",
   "execution_count": null,
   "metadata": {},
   "outputs": [],
   "source": []
  },
  {
   "cell_type": "code",
   "execution_count": null,
   "metadata": {},
   "outputs": [],
   "source": []
  },
  {
   "cell_type": "code",
   "execution_count": 14,
   "metadata": {},
   "outputs": [
    {
     "name": "stderr",
     "output_type": "stream",
     "text": [
      "C:\\Program Files (x86)\\Microsoft Visual Studio\\Shared\\Anaconda3_64\\lib\\site-packages\\ipykernel_launcher.py:2: DataConversionWarning: A column-vector y was passed when a 1d array was expected. Please change the shape of y to (n_samples, ), for example using ravel().\n",
      "  \n",
      "C:\\Users\\이승희\\AppData\\Roaming\\Python\\Python36\\site-packages\\sklearn\\utils\\validation.py:724: DataConversionWarning: A column-vector y was passed when a 1d array was expected. Please change the shape of y to (n_samples, ), for example using ravel().\n",
      "  y = column_or_1d(y, warn=True)\n",
      "C:\\Program Files (x86)\\Microsoft Visual Studio\\Shared\\Anaconda3_64\\lib\\site-packages\\ipykernel_launcher.py:4: DataConversionWarning: A column-vector y was passed when a 1d array was expected. Please change the shape of y to (n_samples,), for example using ravel().\n",
      "  after removing the cwd from sys.path.\n",
      "C:\\Users\\이승희\\AppData\\Roaming\\Python\\Python36\\site-packages\\sklearn\\ensemble\\gradient_boosting.py:1450: DataConversionWarning: A column-vector y was passed when a 1d array was expected. Please change the shape of y to (n_samples, ), for example using ravel().\n",
      "  y = column_or_1d(y, warn=True)\n"
     ]
    }
   ],
   "source": [
    "\n",
    "reg1=neighbors.KNeighborsClassifier(n_neighbors=2).fit(X_train,y_train)\n",
    "reg2=svm.SVC(C=1000,gamma=0.01).fit(X_train,y_train)\n",
    "reg3=RandomForestClassifier(n_estimators=50).fit(X_train,y_train)\n",
    "reg4=GradientBoostingClassifier(random_state=0).fit(X_train,y_train)\n",
    "\n",
    "precision,recall,thresholds=precision_recall_curve(y_test,reg4.decision_function(X_test))"
   ]
  },
  {
   "cell_type": "code",
   "execution_count": 15,
   "metadata": {},
   "outputs": [
    {
     "name": "stderr",
     "output_type": "stream",
     "text": [
      "C:\\Program Files (x86)\\Microsoft Visual Studio\\Shared\\Anaconda3_64\\lib\\site-packages\\ipykernel_launcher.py:2: DataConversionWarning: A column-vector y was passed when a 1d array was expected. Please change the shape of y to (n_samples, ), for example using ravel().\n",
      "  \n",
      "C:\\Users\\이승희\\AppData\\Roaming\\Python\\Python36\\site-packages\\sklearn\\utils\\validation.py:724: DataConversionWarning: A column-vector y was passed when a 1d array was expected. Please change the shape of y to (n_samples, ), for example using ravel().\n",
      "  y = column_or_1d(y, warn=True)\n",
      "C:\\Program Files (x86)\\Microsoft Visual Studio\\Shared\\Anaconda3_64\\lib\\site-packages\\ipykernel_launcher.py:4: DataConversionWarning: A column-vector y was passed when a 1d array was expected. Please change the shape of y to (n_samples,), for example using ravel().\n",
      "  after removing the cwd from sys.path.\n",
      "C:\\Users\\이승희\\AppData\\Roaming\\Python\\Python36\\site-packages\\sklearn\\ensemble\\gradient_boosting.py:1450: DataConversionWarning: A column-vector y was passed when a 1d array was expected. Please change the shape of y to (n_samples, ), for example using ravel().\n",
      "  y = column_or_1d(y, warn=True)\n"
     ]
    },
    {
     "data": {
      "text/plain": [
       "<matplotlib.legend.Legend at 0x2ac5cb5c588>"
      ]
     },
     "execution_count": 15,
     "metadata": {},
     "output_type": "execute_result"
    },
    {
     "data": {
      "image/png": "[encoded data removed]",
      "text/plain": [
       "<Figure size 432x288 with 1 Axes>"
      ]
     },
     "metadata": {},
     "output_type": "display_data"
    }
   ],
   "source": [
    "\n",
    "reg1=neighbors.KNeighborsClassifier(n_neighbors=2).fit(X_train,y_train)\n",
    "reg2=svm.SVC(C=1000,gamma=0.01).fit(X_train,y_train)\n",
    "reg3=RandomForestClassifier(n_estimators=50).fit(X_train,y_train)\n",
    "reg4=GradientBoostingClassifier(random_state=0).fit(X_train,y_train)\n",
    "\n",
    "precision,recall,thresholds=precision_recall_curve(y_test,reg4.decision_function(X_test))\n",
    "\n",
    "close_zero=np.argmin(np.abs(thresholds))\n",
    "plt.plot(precision[close_zero],recall[close_zero],'o',markersize=10,label='0',fillstyle=\"none\",c='k',mew=2)\n",
    "plt.plot(precision,recall,label=\"curve\")\n",
    "plt.xlabel(\"precision\")\n",
    "plt.ylabel('recall')\n",
    "plt.legend(loc=\"best\")\n"
   ]
  },
  {
   "cell_type": "code",
   "execution_count": 16,
   "metadata": {},
   "outputs": [
    {
     "ename": "NameError",
     "evalue": "name 'close_default_rf' is not defined",
     "output_type": "error",
     "traceback": [
      "\u001b[1;31m---------------------------------------------------------------------------\u001b[0m",
      "\u001b[1;31mNameError\u001b[0m                                 Traceback (most recent call last)",
      "\u001b[1;32m<ipython-input-16-abb25c225f07>\u001b[0m in \u001b[0;36m<module>\u001b[1;34m()\u001b[0m\n\u001b[0;32m      7\u001b[0m \u001b[0mplt\u001b[0m\u001b[1;33m.\u001b[0m\u001b[0mxlabel\u001b[0m\u001b[1;33m(\u001b[0m\u001b[1;34m\"FPR\"\u001b[0m\u001b[1;33m)\u001b[0m\u001b[1;33m\u001b[0m\u001b[0m\n\u001b[0;32m      8\u001b[0m \u001b[0mplt\u001b[0m\u001b[1;33m.\u001b[0m\u001b[0mylabel\u001b[0m\u001b[1;33m(\u001b[0m\u001b[1;34m\"TPR(recall)\"\u001b[0m\u001b[1;33m)\u001b[0m\u001b[1;33m\u001b[0m\u001b[0m\n\u001b[1;32m----> 9\u001b[1;33m \u001b[0mplt\u001b[0m\u001b[1;33m.\u001b[0m\u001b[0mplot\u001b[0m\u001b[1;33m(\u001b[0m\u001b[0mfpr_rf\u001b[0m\u001b[1;33m[\u001b[0m\u001b[0mclose_default_rf\u001b[0m\u001b[1;33m]\u001b[0m\u001b[1;33m,\u001b[0m\u001b[0mtpr_rf\u001b[0m\u001b[1;33m[\u001b[0m\u001b[0mclose_default_rf\u001b[0m\u001b[1;33m]\u001b[0m\u001b[1;33m,\u001b[0m\u001b[1;34m'^'\u001b[0m\u001b[1;33m,\u001b[0m\u001b[0mmarkersize\u001b[0m\u001b[1;33m=\u001b[0m\u001b[1;36m10\u001b[0m\u001b[1;33m,\u001b[0m\u001b[0mlabel\u001b[0m\u001b[1;33m=\u001b[0m\u001b[1;34m\"RF recall : 0.5\"\u001b[0m\u001b[1;33m,\u001b[0m\u001b[0mfillstyle\u001b[0m\u001b[1;33m=\u001b[0m\u001b[1;34m\"none\"\u001b[0m\u001b[1;33m,\u001b[0m\u001b[0mmew\u001b[0m\u001b[1;33m=\u001b[0m\u001b[1;36m2\u001b[0m\u001b[1;33m)\u001b[0m\u001b[1;33m\u001b[0m\u001b[0m\n\u001b[0m",
      "\u001b[1;31mNameError\u001b[0m: name 'close_default_rf' is not defined"
     ]
    },
    {
     "data": {
      "image/png": "[encoded data removed]",
      "text/plain": [
       "<Figure size 288x288 with 1 Axes>"
      ]
     },
     "metadata": {},
     "output_type": "display_data"
    }
   ],
   "source": [
    "from sklearn.metrics import roc_curve\n",
    "\n",
    "plt.figure(figsize=(4, 4))\n",
    "fpr_rf,tpr_rf,thresholds_rf=roc_curve(y_test,reg3.predict_proba(X_test)[:,1])\n",
    "\n",
    "plt.plot(fpr_rf,tpr_rf,'k')\n",
    "plt.xlabel(\"FPR\")\n",
    "plt.ylabel(\"TPR(recall)\")\n",
    "plt.plot(fpr_rf[close_default_rf],tpr_rf[close_default_rf],'^',markersize=10,label=\"RF recall : 0.5\",fillstyle=\"none\",mew=2)\n"
   ]
  },
  {
   "cell_type": "code",
   "execution_count": null,
   "metadata": {},
   "outputs": [],
   "source": [
    "X"
   ]
  },
  {
   "cell_type": "code",
   "execution_count": null,
   "metadata": {
    "scrolled": true
   },
   "outputs": [],
   "source": [
    "plt.plot(X.index,X[\"Close\"])\n",
    "plt.plot(X.index,X[\"MA_60\"],'k')"
   ]
  },
  {
   "cell_type": "code",
   "execution_count": null,
   "metadata": {},
   "outputs": [],
   "source": []
  },
  {
   "cell_type": "code",
   "execution_count": null,
   "metadata": {},
   "outputs": [],
   "source": [
    "y"
   ]
  },
  {
   "cell_type": "code",
   "execution_count": null,
   "metadata": {},
   "outputs": [],
   "source": [
    "plt.plot(X.index,X[\"Close\"])"
   ]
  },
  {
   "cell_type": "code",
   "execution_count": null,
   "metadata": {},
   "outputs": [],
   "source": [
    "plt.plot(X.index[:int(round(len(X.index)*0.8,0))],X[\"Close\"][:int(round(len(X.index)*0.8,0))])\n",
    "plt.plot(X.index[int(round(len(X.index)*0.8,0)):],X[\"Close\"][int(round(len(X.index)*0.8,0)):])\n",
    "\n",
    "plt.title(\"IXIC\")"
   ]
  },
  {
   "cell_type": "code",
   "execution_count": null,
   "metadata": {},
   "outputs": [],
   "source": [
    "X"
   ]
  },
  {
   "cell_type": "code",
   "execution_count": null,
   "metadata": {},
   "outputs": [],
   "source": [
    "len(X)-setlen"
   ]
  },
  {
   "cell_type": "code",
   "execution_count": null,
   "metadata": {},
   "outputs": [],
   "source": [
    "len(X_test)"
   ]
  },
  {
   "cell_type": "code",
   "execution_count": null,
   "metadata": {},
   "outputs": [],
   "source": [
    "setlen=int(round(len(X)*0.7,0))"
   ]
  },
  {
   "cell_type": "code",
   "execution_count": null,
   "metadata": {},
   "outputs": [],
   "source": [
    "len(X)-setlen"
   ]
  },
  {
   "cell_type": "code",
   "execution_count": null,
   "metadata": {},
   "outputs": [],
   "source": [
    "time=np.linspace(0,10,len(df),endpoint=False).reshape(-1,1)\n",
    "    df=df.assign(time=time)"
   ]
  },
  {
   "cell_type": "code",
   "execution_count": null,
   "metadata": {},
   "outputs": [],
   "source": [
    "\n",
    "# 양수와 음수로 조정한 2중 분류 ---------------\n",
    "\n",
    "\n",
    "y=np.where(KS[\"Close\"]>KS[\"MA_60\"],1,0)\n",
    "\n",
    "X,y=adjust_time(KS,y)\n",
    "\n",
    "setlen=int(round(len(X)*0.8,0))\n",
    "y=y.astype('int')\n",
    "X_train,X_test,y_train,y_test=X[:setlen],X[setlen:],y[:setlen],y[setlen:]\n",
    "\n",
    "print_score(X,y,RandomForestClassifier())\n"
   ]
  },
  {
   "cell_type": "code",
   "execution_count": null,
   "metadata": {},
   "outputs": [],
   "source": [
    "lenset=np.linspace(0,100,5)\n",
    "for x in lenset:\n",
    "    len=int(len(X)*x)\n",
    "    X_train,X_test,y_train,y_test="
   ]
  },
  {
   "cell_type": "code",
   "execution_count": null,
   "metadata": {},
   "outputs": [],
   "source": [
    "np.linspace(50,100,2)"
   ]
  },
  {
   "cell_type": "code",
   "execution_count": null,
   "metadata": {},
   "outputs": [],
   "source": [
    "for i in np.linspace(50,100,2):\n",
    "    df.loc[      KS [KS['Change'] >= initial]           [KS['Change'] <= round(np.percentile(KS['Change'], i),4)].index      ] = num\n",
    "    initial = round(np.percentile(KS['Change'], i),4)\n",
    "    num += 1"
   ]
  },
  {
   "cell_type": "code",
   "execution_count": null,
   "metadata": {},
   "outputs": [],
   "source": [
    "np.percentile([0,1,2,3,4],)\n"
   ]
  },
  {
   "cell_type": "code",
   "execution_count": null,
   "metadata": {},
   "outputs": [],
   "source": [
    "y=[60,90,120,180,360]\n",
    "HIS=[0.7413,0.6994,0.6483,0.7452,0.65]\n",
    "RSTI=[0.715,0.731,0.8297,0.7115,0.8702]\n",
    "EURO=[0.7925,0.7509,0.7843,0.7346,0.8714]\n",
    "SP=[0.8338,0.8859,0.8730,0.9572,0.8967]"
   ]
  },
  {
   "cell_type": "code",
   "execution_count": null,
   "metadata": {},
   "outputs": [],
   "source": [
    "U=[0.7779411764705882,\n",
    "0.68,\n",
    "0.6692739310963978,\n",
    "0.7709923664122138,\n",
    "0.8435483870967742]\n",
    "\n",
    "R=[0.660377358490566,\n",
    "0.6266666666666667,\n",
    "0.6788461538461539,\n",
    "0.7683168316831683,\n",
    "0.827659574468085]\n",
    "\n",
    "E=[0.7444444444444445,\n",
    "0.7660377358490567,\n",
    "0.7411764705882352,\n",
    "0.5428571428571429,\n",
    "0.9428571428571428]\n",
    "\n",
    "H=[0.6293478260869565,\n",
    "0.6404371584699453,\n",
    "0.543956043956044,\n",
    "0.7027932960893855,\n",
    "0.7662790697674418]"
   ]
  },
  {
   "cell_type": "code",
   "execution_count": null,
   "metadata": {},
   "outputs": [],
   "source": [
    "plt.ylabel(\"accuracy\")\n",
    "plt.xlabel(\"MA\")\n",
    "plt.plot(y,U,label='US500')\n",
    "plt.plot(y,R,label=\"RSTI\")\n",
    "plt.plot(y,E,label=\"EURO\")\n",
    "plt.plot(y,H,label=\"HSI\")\n",
    "plt.legend(loc=4)\n",
    "plt.show()"
   ]
  },
  {
   "cell_type": "code",
   "execution_count": null,
   "metadata": {},
   "outputs": [],
   "source": [
    "US500',\n",
    " 'MA_60',\n",
    " '0.9946178808039561랑0.7779411764705882',\n",
    " 'MA_90',\n",
    " '0.9954979693375515랑0.68',\n",
    " 'MA_120',\n",
    " '0.9951081073342584랑0.6692739310963978',\n",
    " 'MA_180',\n",
    " '0.9985671221637429랑0.7709923664122138',\n",
    " 'MA_360',\n",
    " '0.9985205364519854랑0.8435483870967742',\n",
    " 'RSTI',\n",
    " 'MA_60',\n",
    " '0.9954822381817754랑0.660377358490566',\n",
    " 'MA_90',\n",
    " '0.9965671430914064랑0.6266666666666667',\n",
    " 'MA_120',\n",
    " '0.9979407023559823랑0.6788461538461539',\n",
    " 'MA_180',\n",
    " '0.9972150610085759랑0.7683168316831683',\n",
    " 'MA_360',\n",
    " '0.9983677397877042랑0.827659574468085',\n",
    " 'EURO',\n",
    " 'MA_60',\n",
    " '0.989258496068303랑0.7444444444444445',\n",
    " 'MA_90',\n",
    " '0.9932027183301922랑0.7660377358490567',\n",
    " 'MA_120',\n",
    " '0.9941954912887276랑0.7411764705882352',\n",
    " 'MA_180',\n",
    " '0.9980217978301775랑0.5428571428571429',\n",
    " 'MA_360',\n",
    " '0.9950377127333099랑0.9428571428571428',\n",
    " 'HSI',\n",
    " 'MA_60',\n",
    " '0.9961781187386279랑0.6293478260869565',\n",
    " 'MA_90',\n",
    " '0.9968203751637746랑0.6404371584699453',\n",
    " 'MA_120',\n",
    " '0.996045692447743랑0.543956043956044',\n",
    " 'MA_180',\n",
    " '0.9981130899959823랑0.7027932960893855',\n",
    " 'MA_360',\n",
    " '0.9993397619218852랑0.7662790697674418']"
   ]
  }
 ],
 "metadata": {
  "kernelspec": {
   "display_name": "Python 3",
   "language": "python",
   "name": "python3"
  },
  "language_info": {
   "codemirror_mode": {
    "name": "ipython",
    "version": 3
   },
   "file_extension": ".py",
   "mimetype": "text/x-python",
   "name": "python",
   "nbconvert_exporter": "python",
   "pygments_lexer": "ipython3",
   "version": "3.6.5"
  }
 },
 "nbformat": 4,
 "nbformat_minor": 2
}
