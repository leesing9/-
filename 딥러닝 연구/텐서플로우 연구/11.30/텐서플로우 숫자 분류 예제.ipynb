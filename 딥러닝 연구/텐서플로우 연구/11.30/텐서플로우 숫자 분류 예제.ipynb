{
 "cells": [
  {
   "cell_type": "code",
   "execution_count": 8,
   "metadata": {
    "scrolled": true
   },
   "outputs": [
    {
     "name": "stdout",
     "output_type": "stream",
     "text": [
      "Extracting /tmp/tensorflow/mnist/input_data\\train-images-idx3-ubyte.gz\n",
      "Extracting /tmp/tensorflow/mnist/input_data\\train-labels-idx1-ubyte.gz\n",
      "Extracting /tmp/tensorflow/mnist/input_data\\t10k-images-idx3-ubyte.gz\n",
      "Extracting /tmp/tensorflow/mnist/input_data\\t10k-labels-idx1-ubyte.gz\n",
      "Training\n",
      "b is  [-0.3815548   0.36858532  0.08419519 -0.25622338  0.0235133   1.289862\n",
      " -0.08539795  0.64561456 -1.4326872  -0.25590906]\n",
      "W is [[0. 0. 0. ... 0. 0. 0.]\n",
      " [0. 0. 0. ... 0. 0. 0.]\n",
      " [0. 0. 0. ... 0. 0. 0.]\n",
      " ...\n",
      " [0. 0. 0. ... 0. 0. 0.]\n",
      " [0. 0. 0. ... 0. 0. 0.]\n",
      " [0. 0. 0. ... 0. 0. 0.]]\n",
      "Testing model\n",
      "accuracy  0.9172\n",
      "done\n"
     ]
    }
   ],
   "source": [
    "#숫자 분류 코드\n",
    "#출처 :https://bcho.tistory.com/1154\n",
    "\n",
    "#데이타 로딩\n",
    "from tensorflow.examples.tutorials.mnist import input_data\n",
    "import tensorflow as tf\n",
    "mnist = input_data.read_data_sets('/tmp/tensorflow/mnist/input_data', one_hot=True)\n",
    "\n",
    "\n",
    "\n",
    "#모델 생성\n",
    "x = tf.placeholder(tf.float32, [None, 784])\n",
    "W = tf.Variable(tf.zeros([784, 10]))\n",
    "b = tf.Variable(tf.zeros([10]))\n",
    "k = tf.matmul(x, W) + b\n",
    "y = tf.nn.softmax(k)\n",
    "\n",
    "\n",
    "\n",
    "#코스트함수와 옵티마이저 정의\n",
    "y_ = tf.placeholder(tf.float32, [None, 10])                                                                               \n",
    "learning_rate = 0.5\n",
    "cost = tf.reduce_mean(tf.nn.softmax_cross_entropy_with_logits(logits = k,labels = y_))\n",
    "train_step = tf.train.GradientDescentOptimizer(learning_rate).minimize(cost)\n",
    "\n",
    "\n",
    "#세션 초기화\n",
    "print (\"Training\")\n",
    "sess = tf.Session()\n",
    "init = tf.global_variables_initializer() #.run()\n",
    "sess.run(init)\n",
    "\n",
    "# 트레이닝 시작\n",
    "for _ in range(1000):\n",
    "    # 1000번씩, 전체 데이타에서 100개씩 뽑아서 트레이닝을 함.  \n",
    "    batch_xs, batch_ys = mnist.train.next_batch(100)\n",
    "    sess.run(train_step, feed_dict={x: batch_xs, y_: batch_ys})\n",
    "print ('b is ',sess.run(b))\n",
    "print('W is',sess.run(W))\n",
    "\n",
    "#검증 코드\n",
    "print (\"Testing model\")\n",
    "# Test trained model\n",
    "correct_prediction = tf.equal(tf.argmax(y, 1), tf.argmax(y_, 1))\n",
    "accuracy = tf.reduce_mean(tf.cast(correct_prediction, tf.float32))\n",
    "print('accuracy ',sess.run(accuracy, feed_dict={x: mnist.test.images,y_: mnist.test.labels}))\n",
    "print (\"done\")\n",
    "\n",
    "\n"
   ]
  },
  {
   "cell_type": "code",
   "execution_count": null,
   "metadata": {},
   "outputs": [],
   "source": []
  }
 ],
 "metadata": {
  "kernelspec": {
   "display_name": "Python 3",
   "language": "python",
   "name": "python3"
  },
  "language_info": {
   "codemirror_mode": {
    "name": "ipython",
    "version": 3
   },
   "file_extension": ".py",
   "mimetype": "text/x-python",
   "name": "python",
   "nbconvert_exporter": "python",
   "pygments_lexer": "ipython3",
   "version": "3.7.4"
  }
 },
 "nbformat": 4,
 "nbformat_minor": 2
}
