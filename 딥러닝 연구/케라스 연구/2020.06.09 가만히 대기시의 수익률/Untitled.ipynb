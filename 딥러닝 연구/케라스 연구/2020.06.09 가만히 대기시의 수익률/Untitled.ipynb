{
 "cells": [
  {
   "cell_type": "code",
   "execution_count": 4,
   "metadata": {},
   "outputs": [],
   "source": [
    "%matplotlib inline\n",
    "import os\n",
    "import pandas as pd\n",
    "import numpy as np\n",
    "from keras.models import Sequential\n",
    "from keras.layers import Dense\n",
    "from keras.layers import LSTM\n",
    "from keras.layers import SimpleRNN\n",
    "\n",
    "from sklearn.preprocessing import MinMaxScaler\n",
    "import matplotlib.pyplot as plt\n",
    "import math\n",
    "from sklearn.metrics import mean_squared_error\n",
    "import FinanceDataReader as fdr\n",
    "from sklearn.metrics import accuracy_score\n",
    "\n",
    "KS11 = fdr.DataReader(\"KS11\",\"2009-01-01\",\"2019-01-01\")\n",
    "KQ11= fdr.DataReader(\"KQ11\",\"2009-01-01\",\"2019-01-01\")\n",
    "US500 = fdr.DataReader(\"US500\",\"2009-01-01\",\"2019-01-01\")\n",
    "HSI = fdr.DataReader(\"HSI\",\"2009-01-01\",\"2019-01-01\")\n",
    "IXIC = fdr.DataReader(\"IXIC\",\"2009-01-01\",\"2019-01-01\")"
   ]
  },
  {
   "cell_type": "code",
   "execution_count": 5,
   "metadata": {},
   "outputs": [
    {
     "name": "stdout",
     "output_type": "stream",
     "text": [
      "KS11  :  10302.091167429675\n",
      "수익률 :  3.0209116742967566 %\n",
      "\n",
      "KQ11  :  10104.688551559111\n",
      "수익률 :  1.0468855155911165 %\n",
      "\n",
      "IXIC  :  13149.766247252735\n",
      "수익률 :  31.49766247252735 %\n",
      "\n",
      "HSI  :  11811.316529682868\n",
      "수익률 :  18.11316529682869 %\n",
      "\n",
      "US500  :  12143.88482238445\n",
      "수익률 :  21.438848223844513 %\n",
      "\n",
      "분산 투자시\n",
      "2060.418233485935\n",
      "2020.9377103118222\n",
      "2629.953249450547\n",
      "2362.263305936574\n",
      "2428.7769644768905\n",
      "\n",
      "총 수익 :  11502.349463661769\n"
     ]
    }
   ],
   "source": [
    "# 면역전략의 수익\n",
    "list=[]\n",
    "for 인덱스,인덱스명 in zip([KS11,KQ11,IXIC,HSI,US500],[\"KS11\",\"KQ11\",\"IXIC\",\"HSI\",\"US500\"]):\n",
    "    돈 = 10000\n",
    "    df=인덱스\n",
    "    \n",
    "    df=df[25:]\n",
    "    df=df[len(df)%20:]\n",
    "    setlen=int(len(df)/20*0.7)*20\n",
    "    df=df[setlen:]\n",
    "    \n",
    "    print(인덱스명,\" : \" , 돈 + ( 돈 * (df[\"Close\"][-1] - df[\"Close\"][0])/ df[\"Close\"][0] ))\n",
    "    print(\"수익률 : \",((df[\"Close\"][-1] - df[\"Close\"][0])/ df[\"Close\"][0] ) *100 , \"%\\n\")\n",
    "    list.append((df[\"Close\"][-1] - df[\"Close\"][0])/ df[\"Close\"][0] )\n",
    "    \n",
    "print(\"분산 투자시\")\n",
    "list2=[]\n",
    "for x in list:\n",
    "    print(2000+(2000*x))\n",
    "    list2.append(2000+(2000*x))\n",
    "print(\"\\n총 수익 : \",sum(list2))"
   ]
  },
  {
   "cell_type": "code",
   "execution_count": 10,
   "metadata": {},
   "outputs": [
    {
     "data": {
      "text/plain": [
       "2428.77696447689"
      ]
     },
     "execution_count": 10,
     "metadata": {},
     "output_type": "execute_result"
    }
   ],
   "source": [
    "12143.884822384450/5"
   ]
  },
  {
   "cell_type": "code",
   "execution_count": 13,
   "metadata": {},
   "outputs": [
    {
     "data": {
      "text/plain": [
       "11502.349463661229"
      ]
     },
     "execution_count": 13,
     "metadata": {},
     "output_type": "execute_result"
    }
   ],
   "source": [
    "2060.418233485395+2020.9377103118222+2629.953249450547+2362.2633059365735+2428.77696447689\n"
   ]
  },
  {
   "cell_type": "code",
   "execution_count": 16,
   "metadata": {},
   "outputs": [
    {
     "data": {
      "text/plain": [
       "15.023494636612277"
      ]
     },
     "execution_count": 16,
     "metadata": {},
     "output_type": "execute_result"
    }
   ],
   "source": [
    "(11502.349463661229/10000-1)*100"
   ]
  },
  {
   "cell_type": "code",
   "execution_count": null,
   "metadata": {},
   "outputs": [],
   "source": []
  }
 ],
 "metadata": {
  "kernelspec": {
   "display_name": "Python 3",
   "language": "python",
   "name": "python3"
  },
  "language_info": {
   "codemirror_mode": {
    "name": "ipython",
    "version": 3
   },
   "file_extension": ".py",
   "mimetype": "text/x-python",
   "name": "python",
   "nbconvert_exporter": "python",
   "pygments_lexer": "ipython3",
   "version": "3.7.4"
  }
 },
 "nbformat": 4,
 "nbformat_minor": 2
}
