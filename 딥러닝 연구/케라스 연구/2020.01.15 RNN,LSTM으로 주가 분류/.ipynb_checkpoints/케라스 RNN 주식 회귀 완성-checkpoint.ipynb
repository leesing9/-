{
 "cells": [
  {
   "cell_type": "code",
   "execution_count": null,
   "metadata": {},
   "outputs": [
    {
     "name": "stderr",
     "output_type": "stream",
     "text": [
      "Using TensorFlow backend.\n"
     ]
    },
    {
     "name": "stdout",
     "output_type": "stream",
     "text": [
      "[[369.17]\n",
      " [362.53]\n",
      " [359.  ]\n",
      " ...\n",
      " [120.6 ]\n",
      " [123.5 ]\n",
      " [123.6 ]]\n",
      "3499 1500\n",
      "WARNING:tensorflow:From C:\\Program Files\\anaconda3\\lib\\site-packages\\tensorflow_core\\python\\ops\\resource_variable_ops.py:1630: calling BaseResourceVariable.__init__ (from tensorflow.python.ops.resource_variable_ops) with constraint is deprecated and will be removed in a future version.\n",
      "Instructions for updating:\n",
      "If using Keras pass *_constraint arguments to layers.\n",
      "WARNING:tensorflow:From C:\\Program Files\\anaconda3\\lib\\site-packages\\keras\\backend\\tensorflow_backend.py:422: The name tf.global_variables is deprecated. Please use tf.compat.v1.global_variables instead.\n",
      "\n",
      "Epoch 1/10\n",
      " - 9s - loss: 0.0210\n",
      "Epoch 2/10\n",
      " - 9s - loss: 1.0655e-04\n",
      "Epoch 3/10\n",
      " - 8s - loss: 1.0891e-04\n",
      "Epoch 4/10\n",
      " - 8s - loss: 1.1113e-04\n",
      "Epoch 5/10\n",
      " - 9s - loss: 1.0973e-04\n",
      "Epoch 6/10\n",
      " - 8s - loss: 1.0634e-04\n",
      "Epoch 7/10\n",
      " - 8s - loss: 1.0689e-04\n",
      "Epoch 8/10\n"
     ]
    }
   ],
   "source": [
    "import os\n",
    "import pandas as pd\n",
    "import numpy as np\n",
    "from keras.models import Sequential\n",
    "from keras.layers import Dense\n",
    "from keras.layers import LSTM\n",
    "from sklearn.preprocessing import MinMaxScaler\n",
    "import matplotlib.pyplot as plt\n",
    "import math\n",
    "from sklearn.metrics import mean_squared_error\n",
    "import FinanceDataReader as fdr\n",
    "\n",
    "look_back = 1\n",
    "def create_dataset(dataset, look_back=1):\n",
    "    dataX, dataY = [], []\n",
    "    for i in range(len(dataset)-look_back-1):\n",
    "        a = dataset[i:(i + look_back)]\n",
    "        dataX.append(a)\n",
    "        dataY.append(dataset[i + look_back])\n",
    "    return np.array(dataX), np.array(dataY)\n",
    " \n",
    "# file loader\n",
    "#sydtpath = \"D:sydt\"\n",
    "#naturalEndoTekCode = \"A168330\"\n",
    "#fullpath = sydtpath + os.path.sep + naturalEndoTekCode + '.csv'\n",
    "#pandf = pd.read_csv(fullpath, index_col=\"Date\")\n",
    "pandf = fdr.DataReader(\"KS11\",2018)\n",
    "\n",
    "# convert nparray\n",
    "nparr = pandf['Close'].values[::-1].reshape(-1,1)\n",
    "nparr.astype('float32')\n",
    "print(nparr)\n",
    " \n",
    "# normalization\n",
    "scaler = MinMaxScaler(feature_range=(0, 1))\n",
    "nptf = scaler.fit_transform(nparr)\n",
    " \n",
    "# split train, test\n",
    "train_size = int(len(nptf) * 0.7)\n",
    "test_size = len(nptf) - train_size\n",
    "train, test = nptf[0:train_size], nptf[train_size:len(nptf)]\n",
    "print(len(train), len(test))\n",
    " \n",
    "# create dataset for learning\n",
    "trainX, trainY = create_dataset(train, look_back)\n",
    "testX, testY = create_dataset(test, look_back)\n",
    " \n",
    "# reshape input to be [samples, time steps, features]\n",
    "trainX = np.reshape(trainX, (trainX.shape[0], 1, trainX.shape[1]))\n",
    "testX = np.reshape(testX, (testX.shape[0], 1, testX.shape[1]))\n",
    " \n",
    "# simple lstm network learning\n",
    "model = Sequential()\n",
    "model.add(LSTM(4, input_shape=(1, look_back)))\n",
    "model.add(Dense(1))\n",
    "model.compile(loss='mean_squared_error', optimizer='adam')\n",
    "model.fit(trainX, trainY, epochs=10, batch_size=1, verbose=2)\n",
    " \n",
    "# make prediction\n",
    "testPredict = model.predict(testX)\n",
    "testPredict = scaler.inverse_transform(testPredict)\n",
    "testY = scaler.inverse_transform(testY)\n",
    "testScore = math.sqrt(mean_squared_error(testY, testPredict))\n",
    "print('Train Score: %.2f RMSE' % testScore)\n",
    " \n",
    "# predict last value (or tomorrow?)\n",
    "lastX = nptf[-1]\n",
    "lastX = np.reshape(lastX, (1, 1, 1))\n",
    "lastY = model.predict(lastX)\n",
    "lastY = scaler.inverse_transform(lastY)\n",
    "print('Predict the Close value of final day: %d' % lastY)  # 데이터 입력 마지막 다음날 종가 예측\n",
    " \n",
    "# plot\n",
    "plt.plot(testPredict)\n",
    "plt.plot(testY)\n",
    "plt.show()"
   ]
  },
  {
   "cell_type": "code",
   "execution_count": 10,
   "metadata": {},
   "outputs": [
    {
     "data": {
      "text/plain": [
       "array([369.17, 362.53, 359.  , ..., 120.6 , 123.5 , 123.6 ])"
      ]
     },
     "execution_count": 10,
     "metadata": {},
     "output_type": "execute_result"
    }
   ],
   "source": [
    "nparr"
   ]
  },
  {
   "cell_type": "code",
   "execution_count": 7,
   "metadata": {},
   "outputs": [
    {
     "data": {
      "text/html": [
       "<div>\n",
       "<style scoped>\n",
       "    .dataframe tbody tr th:only-of-type {\n",
       "        vertical-align: middle;\n",
       "    }\n",
       "\n",
       "    .dataframe tbody tr th {\n",
       "        vertical-align: top;\n",
       "    }\n",
       "\n",
       "    .dataframe thead th {\n",
       "        text-align: right;\n",
       "    }\n",
       "</style>\n",
       "<table border=\"1\" class=\"dataframe\">\n",
       "  <thead>\n",
       "    <tr style=\"text-align: right;\">\n",
       "      <th></th>\n",
       "      <th>Close</th>\n",
       "      <th>Open</th>\n",
       "      <th>Volume</th>\n",
       "    </tr>\n",
       "  </thead>\n",
       "  <tbody>\n",
       "    <tr>\n",
       "      <td>0</td>\n",
       "      <td>1000</td>\n",
       "      <td>800</td>\n",
       "      <td>10</td>\n",
       "    </tr>\n",
       "    <tr>\n",
       "      <td>1</td>\n",
       "      <td>2000</td>\n",
       "      <td>1200</td>\n",
       "      <td>20</td>\n",
       "    </tr>\n",
       "    <tr>\n",
       "      <td>2</td>\n",
       "      <td>3000</td>\n",
       "      <td>1600</td>\n",
       "      <td>30</td>\n",
       "    </tr>\n",
       "  </tbody>\n",
       "</table>\n",
       "</div>"
      ],
      "text/plain": [
       "   Close  Open  Volume\n",
       "0   1000   800      10\n",
       "1   2000  1200      20\n",
       "2   3000  1600      30"
      ]
     },
     "execution_count": 7,
     "metadata": {},
     "output_type": "execute_result"
    }
   ],
   "source": [
    "a"
   ]
  },
  {
   "cell_type": "code",
   "execution_count": null,
   "metadata": {},
   "outputs": [],
   "source": []
  }
 ],
 "metadata": {
  "kernelspec": {
   "display_name": "Python 3",
   "language": "python",
   "name": "python3"
  },
  "language_info": {
   "codemirror_mode": {
    "name": "ipython",
    "version": 3
   },
   "file_extension": ".py",
   "mimetype": "text/x-python",
   "name": "python",
   "nbconvert_exporter": "python",
   "pygments_lexer": "ipython3",
   "version": "3.7.4"
  }
 },
 "nbformat": 4,
 "nbformat_minor": 2
}
