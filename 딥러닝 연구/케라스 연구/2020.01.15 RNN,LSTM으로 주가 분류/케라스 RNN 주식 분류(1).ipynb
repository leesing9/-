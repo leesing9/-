{
 "cells": [
  {
   "cell_type": "code",
   "execution_count": 1,
   "metadata": {},
   "outputs": [
    {
     "name": "stderr",
     "output_type": "stream",
     "text": [
      "Using TensorFlow backend.\n"
     ]
    }
   ],
   "source": [
    "\n",
    "%matplotlib inline\n",
    "import os\n",
    "import pandas as pd\n",
    "import numpy as np\n",
    "from keras.models import Sequential\n",
    "from keras.layers import Dense\n",
    "from keras.layers import LSTM\n",
    "from keras.layers import SimpleRNN\n",
    "\n",
    "from sklearn.preprocessing import MinMaxScaler\n",
    "import matplotlib.pyplot as plt\n",
    "import math\n",
    "from sklearn.metrics import mean_squared_error\n",
    "import FinanceDataReader as fdr"
   ]
  },
  {
   "cell_type": "code",
   "execution_count": 2,
   "metadata": {},
   "outputs": [],
   "source": [
    "pandf = fdr.DataReader(\"KS11\",\"2009.01.01\",\"2019-01-01\")"
   ]
  },
  {
   "cell_type": "code",
   "execution_count": 15,
   "metadata": {},
   "outputs": [],
   "source": [
    "data = pandf\n",
    "seq_len = 50\n",
    "sequence_length = seq_len+1\n",
    "\n",
    "mid_prices = data[\"Close\"]\n",
    "result = []\n",
    "for index in range(len(mid_prices)-sequence_length):\n",
    "    result.append(mid_prices[index:index+sequence_length])\n",
    "result = np.array(result)"
   ]
  },
  {
   "cell_type": "code",
   "execution_count": 16,
   "metadata": {},
   "outputs": [],
   "source": [
    "row = int(round(result.shape[0] * 0.9))\n",
    "train = result[:row,:]\n",
    "np.random.shuffle(train)\n",
    "x_train=train[:,:-1]\n",
    "x_train=np.reshape(x_train,(x_train.shape[0],x_train.shape[1],1))\n",
    "y_train=train[:,:-1]"
   ]
  },
  {
   "cell_type": "code",
   "execution_count": 18,
   "metadata": {},
   "outputs": [
    {
     "data": {
      "text/plain": [
       "array([[2036.78, 2054.04, 2056.39, ..., 2141.34, 2114.2 , 2113.47],\n",
       "       [2033.85, 2048.81, 2061.97, ..., 1972.91, 1965.25, 1940.92],\n",
       "       [1945.79, 1976.07, 1979.61, ..., 1906.75, 1926.31, 1918.63],\n",
       "       ...,\n",
       "       [1923.84, 1900.06, 1906.75, ..., 1783.45, 1834.7 , 1863.32],\n",
       "       [1939.87, 1958.23, 1963.  , ..., 1888.13, 1902.62, 1918.31],\n",
       "       [2033.73, 2015.44, 2022.66, ..., 2042.24, 2038.39, 2041.94]])"
      ]
     },
     "execution_count": 18,
     "metadata": {},
     "output_type": "execute_result"
    }
   ],
   "source": [
    "y_train"
   ]
  },
  {
   "cell_type": "code",
   "execution_count": null,
   "metadata": {},
   "outputs": [],
   "source": []
  }
 ],
 "metadata": {
  "kernelspec": {
   "display_name": "Python 3",
   "language": "python",
   "name": "python3"
  },
  "language_info": {
   "codemirror_mode": {
    "name": "ipython",
    "version": 3
   },
   "file_extension": ".py",
   "mimetype": "text/x-python",
   "name": "python",
   "nbconvert_exporter": "python",
   "pygments_lexer": "ipython3",
   "version": "3.7.4"
  }
 },
 "nbformat": 4,
 "nbformat_minor": 2
}
