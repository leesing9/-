{
 "cells": [
  {
   "cell_type": "code",
   "execution_count": 1,
   "metadata": {},
   "outputs": [
    {
     "name": "stderr",
     "output_type": "stream",
     "text": [
      "Using TensorFlow backend.\n"
     ]
    }
   ],
   "source": [
    "%matplotlib inline\n",
    "import os\n",
    "import pandas as pd\n",
    "import numpy as np\n",
    "from keras.models import Sequential\n",
    "from keras.layers import Dense\n",
    "from keras.layers import LSTM\n",
    "from keras.layers import SimpleRNN\n",
    "\n",
    "from sklearn.preprocessing import MinMaxScaler\n",
    "import matplotlib.pyplot as plt\n",
    "import math\n",
    "from sklearn.metrics import mean_squared_error\n",
    "import FinanceDataReader as fdr\n",
    "from sklearn.metrics import accuracy_score\n",
    "\n",
    "KS11 = fdr.DataReader(\"KS11\",\"2016-01-07\",\"2018-12-13\")\n",
    "KQ11= fdr.DataReader(\"KQ11\",\"2016-01-07\",\"2018-12-13\")\n",
    "US500 = fdr.DataReader(\"US500\",\"2016-01-07\",\"2018-01-13\")\n",
    "HSI = fdr.DataReader(\"HSI\",\"2016-01-07\",\"2018-12-13\")\n",
    "IXIC = fdr.DataReader(\"IXIC\",\"2016-01-07\",\"2018-12-13\")\n"
   ]
  },
  {
   "cell_type": "code",
   "execution_count": 2,
   "metadata": {},
   "outputs": [
    {
     "name": "stdout",
     "output_type": "stream",
     "text": [
      "KS11  :  8375.131389107593\n",
      "수익률 :  -16.248686108924066 %\n",
      "\n",
      "KQ11  :  7808.816960450812\n",
      "수익률 :  -21.91183039549188 %\n",
      "\n",
      "IXIC  :  9539.700572625172\n",
      "수익률 :  -4.602994273748289 %\n",
      "\n",
      "HSI  :  8047.756145647778\n",
      "수익률 :  -19.52243854352222 %\n",
      "\n",
      "US500  :  11533.309600880859\n",
      "수익률 :  15.333096008808585 %\n",
      "\n",
      "분산 투자시\n",
      "1675.0262778215188\n",
      "1561.7633920901624\n",
      "1907.9401145250342\n",
      "1609.5512291295556\n",
      "2306.661920176172\n",
      "\n",
      "총 수익 :  9060.942933742443\n"
     ]
    }
   ],
   "source": [
    "# 면역전략의 수익\n",
    "list=[]\n",
    "for 인덱스,인덱스명 in zip([KS11,KQ11,IXIC,HSI,US500],[\"KS11\",\"KQ11\",\"IXIC\",\"HSI\",\"US500\"]):\n",
    "    돈 = 10000\n",
    "    df=인덱스\n",
    "    \n",
    "    df=df[25:]\n",
    "    df=df[len(df)%20:]\n",
    "    setlen=int(len(df)/20*0.7)*20\n",
    "    df=df[setlen:]\n",
    "    \n",
    "    print(인덱스명,\" : \" , 돈 + ( 돈 * (df[\"Close\"][-1] - df[\"Close\"][0])/ df[\"Close\"][0] ))\n",
    "    print(\"수익률 : \",((df[\"Close\"][-1] - df[\"Close\"][0])/ df[\"Close\"][0] ) *100 , \"%\\n\")\n",
    "    list.append((df[\"Close\"][-1] - df[\"Close\"][0])/ df[\"Close\"][0] )\n",
    "    \n",
    "print(\"분산 투자시\")\n",
    "list2=[]\n",
    "for x in list:\n",
    "    print(2000+(2000*x))\n",
    "    list2.append(2000+(2000*x))\n",
    "print(\"\\n총 수익 : \",sum(list2))"
   ]
  },
  {
   "cell_type": "code",
   "execution_count": 10,
   "metadata": {},
   "outputs": [
    {
     "data": {
      "text/plain": [
       "2428.77696447689"
      ]
     },
     "execution_count": 10,
     "metadata": {},
     "output_type": "execute_result"
    }
   ],
   "source": [
    "12143.884822384450/5"
   ]
  },
  {
   "cell_type": "code",
   "execution_count": 13,
   "metadata": {},
   "outputs": [
    {
     "data": {
      "text/plain": [
       "11502.349463661229"
      ]
     },
     "execution_count": 13,
     "metadata": {},
     "output_type": "execute_result"
    }
   ],
   "source": [
    "2060.418233485395+2020.9377103118222+2629.953249450547+2362.2633059365735+2428.77696447689\n"
   ]
  },
  {
   "cell_type": "code",
   "execution_count": 16,
   "metadata": {},
   "outputs": [
    {
     "data": {
      "text/plain": [
       "15.023494636612277"
      ]
     },
     "execution_count": 16,
     "metadata": {},
     "output_type": "execute_result"
    }
   ],
   "source": [
    "(11502.349463661229/10000-1)*100"
   ]
  },
  {
   "cell_type": "code",
   "execution_count": 3,
   "metadata": {},
   "outputs": [
    {
     "data": {
      "text/plain": [
       "-9.39057066257557"
      ]
     },
     "execution_count": 3,
     "metadata": {},
     "output_type": "execute_result"
    }
   ],
   "source": [
    "(9060.942933742443/10000-1)*100"
   ]
  },
  {
   "cell_type": "code",
   "execution_count": null,
   "metadata": {},
   "outputs": [],
   "source": []
  }
 ],
 "metadata": {
  "kernelspec": {
   "display_name": "Python 3",
   "language": "python",
   "name": "python3"
  },
  "language_info": {
   "codemirror_mode": {
    "name": "ipython",
    "version": 3
   },
   "file_extension": ".py",
   "mimetype": "text/x-python",
   "name": "python",
   "nbconvert_exporter": "python",
   "pygments_lexer": "ipython3",
   "version": "3.7.4"
  }
 },
 "nbformat": 4,
 "nbformat_minor": 2
}
