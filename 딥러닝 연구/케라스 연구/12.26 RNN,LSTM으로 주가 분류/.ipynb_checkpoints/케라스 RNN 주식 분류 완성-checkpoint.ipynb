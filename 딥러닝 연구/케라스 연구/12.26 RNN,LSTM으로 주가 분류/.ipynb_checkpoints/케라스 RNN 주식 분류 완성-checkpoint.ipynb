{
 "cells": [
  {
   "cell_type": "code",
   "execution_count": 2,
   "metadata": {},
   "outputs": [
    {
     "name": "stderr",
     "output_type": "stream",
     "text": [
      "Using TensorFlow backend.\n"
     ]
    }
   ],
   "source": [
    "\n",
    "%matplotlib inline\n",
    "import os\n",
    "import pandas as pd\n",
    "import numpy as np\n",
    "from keras.models import Sequential\n",
    "from keras.layers import Dense\n",
    "from keras.layers import LSTM\n",
    "from keras.layers import SimpleRNN\n",
    "\n",
    "from sklearn.preprocessing import MinMaxScaler\n",
    "import matplotlib.pyplot as plt\n",
    "import math\n",
    "from sklearn.metrics import mean_squared_error\n",
    "import FinanceDataReader as fdr"
   ]
  },
  {
   "cell_type": "code",
   "execution_count": 3,
   "metadata": {},
   "outputs": [],
   "source": [
    "pandf = fdr.DataReader(\"KS11\",\"2009.01.01\",\"2019-01-01\")"
   ]
  },
  {
   "cell_type": "code",
   "execution_count": 60,
   "metadata": {},
   "outputs": [
    {
     "name": "stdout",
     "output_type": "stream",
     "text": [
      "[[ 1.15740e+03  1.13287e+03  1.15740e+03  1.11884e+03  3.40780e+08\n",
      "   2.93000e-02]\n",
      " [ 1.17357e+03  1.18098e+03  1.18522e+03  1.16666e+03  4.14760e+08\n",
      "   1.40000e-02]\n",
      " [ 1.19428e+03  1.18352e+03  1.20359e+03  1.17994e+03  4.44200e+08\n",
      "   1.76000e-02]\n",
      " ...\n",
      " [ 2.02801e+03  2.02881e+03  2.03783e+03  2.01428e+03  3.21500e+08\n",
      "  -1.31000e-02]\n",
      " [ 2.02844e+03  2.03209e+03  2.03557e+03  2.02139e+03  3.98020e+08\n",
      "   2.00000e-04]\n",
      " [ 2.04104e+03  2.03670e+03  2.04697e+03  2.03541e+03  3.52680e+08\n",
      "   6.20000e-03]]\n",
      "Epoch 1/10\n",
      "1731/1731 [==============================] - 2s 1ms/step - loss: 0.5991\n",
      "Epoch 2/10\n",
      "1731/1731 [==============================] - 2s 916us/step - loss: 0.3901\n",
      "Epoch 3/10\n",
      "1731/1731 [==============================] - 2s 999us/step - loss: 0.2464\n",
      "Epoch 4/10\n",
      "1731/1731 [==============================] - 2s 1ms/step - loss: 0.1880\n",
      "Epoch 5/10\n",
      "1731/1731 [==============================] - 2s 949us/step - loss: 0.1531\n",
      "Epoch 6/10\n",
      "1731/1731 [==============================] - 2s 1ms/step - loss: 0.1514\n",
      "Epoch 7/10\n",
      "1731/1731 [==============================] - 2s 988us/step - loss: 0.1388\n",
      "Epoch 8/10\n",
      "1731/1731 [==============================] - 2s 1ms/step - loss: 0.1187\n",
      "Epoch 9/10\n",
      "1731/1731 [==============================] - 2s 979us/step - loss: 0.1236\n",
      "Epoch 10/10\n",
      "1731/1731 [==============================] - 2s 999us/step - loss: 0.1176\n",
      "743/743 [==============================] - 1s 905us/step\n"
     ]
    },
    {
     "data": {
      "text/plain": [
       "0.2325065417984854"
      ]
     },
     "execution_count": 60,
     "metadata": {},
     "output_type": "execute_result"
    }
   ],
   "source": [
    "\n",
    "# convert nparray\n",
    "nparr = pandf.values\n",
    "nparr.astype('float32')\n",
    "print(nparr)\n",
    " \n",
    "# normalization ------------- 없애는게 더 향상됨!!!\n",
    "scaler = MinMaxScaler()\n",
    "nptf = scaler.fit_transform(nparr)\n",
    "\n",
    "# split train, test\n",
    "y=np.where(pandf[\"Change\"]>0,1,0)\n",
    "train_size = int(len(nparr) * 0.7)\n",
    "y_train=y[:train_size]\n",
    "y_test=y[train_size:]\n",
    "X_train_1 = nptf[:train_size]\n",
    "X_test_1 = nptf[train_size:]\n",
    "\n",
    "# reshape input to be [samples, time steps, features]\n",
    "X_train = X_train_1.reshape(X_train_1.shape[0], 1, X_train_1.shape[1])\n",
    "X_test = X_test_1.reshape(X_test_1.shape[0], 1, X_test_1.shape[1])\n",
    "\n",
    "# simple lstm network learning\n",
    "model = Sequential()\n",
    "model.add(SimpleRNN(48, input_shape=(1, 6)))\n",
    "model.add(Dense(24,activation='tanh'))\n",
    "model.add(Dense(1,activation='sigmoid'))\n",
    "model.compile(loss='binary_crossentropy', optimizer='adam')\n",
    "model.fit(X_train, y_train, epochs=10, batch_size=2, verbose=1)\n",
    "\n",
    "model.evaluate(X_test,y_test)\n",
    "#model.predict(X_test,batch_size=1)"
   ]
  },
  {
   "cell_type": "code",
   "execution_count": 48,
   "metadata": {},
   "outputs": [
    {
     "name": "stdout",
     "output_type": "stream",
     "text": [
      "Model: \"sequential_16\"\n",
      "_________________________________________________________________\n",
      "Layer (type)                 Output Shape              Param #   \n",
      "=================================================================\n",
      "simple_rnn_16 (SimpleRNN)    (None, 48)                2640      \n",
      "_________________________________________________________________\n",
      "dense_31 (Dense)             (None, 24)                1176      \n",
      "_________________________________________________________________\n",
      "dense_32 (Dense)             (None, 1)                 25        \n",
      "=================================================================\n",
      "Total params: 3,841\n",
      "Trainable params: 3,841\n",
      "Non-trainable params: 0\n",
      "_________________________________________________________________\n",
      "None\n"
     ]
    }
   ],
   "source": [
    "print(model.summary())"
   ]
  },
  {
   "cell_type": "code",
   "execution_count": null,
   "metadata": {},
   "outputs": [],
   "source": [
    "\n",
    "# reshape input to be [samples, time steps, features]\n",
    "X_train = np.reshape(X_train, (X_train.shape[0], 1, X_train.shape[1]))\n",
    "X_test = np.reshape(X_test, (X_test.shape[0], 1, X_test.shape[1]))\n"
   ]
  },
  {
   "cell_type": "code",
   "execution_count": 9,
   "metadata": {},
   "outputs": [],
   "source": [
    "# convert nparray\n",
    "nparr = pandf.values\n",
    "nparr.astype('float32')\n",
    " \n",
    "# normalization\n",
    "scaler = MinMaxScaler(feature_range=(0, 1))\n",
    "nptf = scaler.fit_transform(nparr)\n",
    " \n",
    "# split train, test\n",
    "y=np.where(pandf[\"Change\"]>0,1,0)\n",
    "train_size = int(len(nptf) * 0.7)\n",
    "y_train=y[:train_size]\n",
    "y_test=y[train_size:]\n",
    "X_train = nptf[:train_size]\n",
    "X_test = nptf[train_size:]\n"
   ]
  },
  {
   "cell_type": "code",
   "execution_count": 34,
   "metadata": {},
   "outputs": [
    {
     "data": {
      "text/plain": [
       "(1731, 6)"
      ]
     },
     "execution_count": 34,
     "metadata": {},
     "output_type": "execute_result"
    }
   ],
   "source": [
    "X_train_1.shape"
   ]
  },
  {
   "cell_type": "code",
   "execution_count": 35,
   "metadata": {},
   "outputs": [
    {
     "data": {
      "text/plain": [
       "(1731, 1, 6)"
      ]
     },
     "execution_count": 35,
     "metadata": {},
     "output_type": "execute_result"
    }
   ],
   "source": [
    "X_train_1.shape[0], 1, X_train_1.shape[1]"
   ]
  },
  {
   "cell_type": "code",
   "execution_count": 44,
   "metadata": {},
   "outputs": [
    {
     "data": {
      "text/plain": [
       "array([[[0.08774962, 0.08707471, 0.08125887, 0.07909785, 0.2815341 ,\n",
       "         0.75432811]],\n",
       "\n",
       "       [[0.09798782, 0.11720825, 0.09888968, 0.10908167, 0.3426833 ,\n",
       "         0.62819456]],\n",
       "\n",
       "       [[0.11110056, 0.11879917, 0.11053159, 0.11740842, 0.36701734,\n",
       "         0.65787304]],\n",
       "\n",
       "       ...,\n",
       "\n",
       "       [[0.58871836, 0.60064764, 0.59053691, 0.59627804, 0.3145388 ,\n",
       "         0.49793899]],\n",
       "\n",
       "       [[0.57554863, 0.58407451, 0.57114429, 0.58094754, 0.36333086,\n",
       "         0.42456719]],\n",
       "\n",
       "       [[0.57880941, 0.58999975, 0.57598611, 0.58504195, 0.35919805,\n",
       "         0.5350371 ]]])"
      ]
     },
     "execution_count": 44,
     "metadata": {},
     "output_type": "execute_result"
    }
   ],
   "source": [
    "X_train"
   ]
  },
  {
   "cell_type": "code",
   "execution_count": 49,
   "metadata": {},
   "outputs": [
    {
     "data": {
      "text/plain": [
       "(2474, 6)"
      ]
     },
     "execution_count": 49,
     "metadata": {},
     "output_type": "execute_result"
    }
   ],
   "source": [
    "pandf.shape"
   ]
  },
  {
   "cell_type": "code",
   "execution_count": null,
   "metadata": {},
   "outputs": [],
   "source": []
  }
 ],
 "metadata": {
  "kernelspec": {
   "display_name": "Python 3",
   "language": "python",
   "name": "python3"
  },
  "language_info": {
   "codemirror_mode": {
    "name": "ipython",
    "version": 3
   },
   "file_extension": ".py",
   "mimetype": "text/x-python",
   "name": "python",
   "nbconvert_exporter": "python",
   "pygments_lexer": "ipython3",
   "version": "3.7.4"
  }
 },
 "nbformat": 4,
 "nbformat_minor": 2
}
