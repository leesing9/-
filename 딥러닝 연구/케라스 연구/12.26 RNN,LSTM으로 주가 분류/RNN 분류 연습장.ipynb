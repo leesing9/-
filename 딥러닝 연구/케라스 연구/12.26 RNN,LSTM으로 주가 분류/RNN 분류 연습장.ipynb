{
 "cells": [
  {
   "cell_type": "code",
   "execution_count": 75,
   "metadata": {},
   "outputs": [
    {
     "name": "stdout",
     "output_type": "stream",
     "text": [
      "[[2479.65]\n",
      " [2486.35]\n",
      " [2466.46]\n",
      " [2497.52]\n",
      " [2513.28]\n",
      " [2510.23]\n",
      " [2499.75]\n",
      " [2487.91]\n",
      " [2496.42]\n",
      " [2503.73]\n",
      " [2521.74]\n",
      " [2515.43]\n",
      " [2515.81]\n",
      " [2520.26]\n",
      " [2502.11]\n",
      " [2536.6 ]\n",
      " [2538.  ]\n",
      " [2562.23]\n",
      " [2574.76]\n",
      " [2598.19]\n",
      " [2567.74]\n",
      " [2566.46]\n",
      " [2568.54]\n",
      " [2525.39]\n",
      " [2491.75]\n",
      " [2453.31]\n",
      " [2396.56]\n",
      " [2407.62]\n",
      " [2363.77]\n",
      " [2385.38]\n",
      " [2395.19]\n",
      " [2421.83]\n",
      " [2442.82]\n",
      " [2415.12]\n",
      " [2429.65]\n",
      " [2414.28]\n",
      " [2451.52]\n",
      " [2457.65]\n",
      " [2456.14]\n",
      " [2427.36]\n",
      " [2402.16]\n",
      " [2375.06]\n",
      " [2411.41]\n",
      " [2401.82]\n",
      " [2433.08]\n",
      " [2459.45]\n",
      " [2484.12]\n",
      " [2494.49]\n",
      " [2486.08]\n",
      " [2492.38]\n",
      " [2493.97]\n",
      " [2475.03]\n",
      " [2485.52]\n",
      " [2484.97]\n",
      " [2496.02]\n",
      " [2416.76]\n",
      " [2437.08]\n",
      " [2452.06]\n",
      " [2419.29]\n",
      " [2436.37]\n",
      " [2445.85]\n",
      " [2444.16]\n",
      " [2442.43]\n",
      " [2408.06]\n",
      " [2437.52]\n",
      " [2429.58]\n",
      " [2444.08]\n",
      " [2450.74]\n",
      " [2444.22]\n",
      " [2442.71]\n",
      " [2455.07]\n",
      " [2457.49]\n",
      " [2453.77]\n",
      " [2479.98]\n",
      " [2486.1 ]\n",
      " [2476.33]\n",
      " [2474.11]\n",
      " [2464.14]\n",
      " [2448.81]\n",
      " [2475.64]\n",
      " [2492.4 ]\n",
      " [2515.38]\n",
      " [2505.61]\n",
      " [2487.25]\n",
      " [2461.38]\n",
      " [2449.81]\n",
      " [2443.98]\n",
      " [2464.16]\n",
      " [2477.71]\n",
      " [2476.11]\n",
      " [2458.54]\n",
      " [2459.82]\n",
      " [2448.45]\n",
      " [2460.65]\n",
      " [2465.57]\n",
      " [2471.91]\n",
      " [2466.01]\n",
      " [2460.8 ]\n",
      " [2478.96]\n",
      " [2457.25]\n",
      " [2409.03]\n",
      " [2423.01]\n",
      " [2438.96]\n",
      " [2447.76]\n",
      " [2453.76]\n",
      " [2470.58]\n",
      " [2451.58]\n",
      " [2470.15]\n",
      " [2468.83]\n",
      " [2423.48]\n",
      " [2404.04]\n",
      " [2376.24]\n",
      " [2340.11]\n",
      " [2363.91]\n",
      " [2337.83]\n",
      " [2357.22]\n",
      " [2357.88]\n",
      " [2350.92]\n",
      " [2342.03]\n",
      " [2314.24]\n",
      " [2326.13]\n",
      " [2271.54]\n",
      " [2272.76]\n",
      " [2265.46]\n",
      " [2257.55]\n",
      " [2272.87]\n",
      " [2285.8 ]\n",
      " [2294.16]\n",
      " [2280.62]\n",
      " [2285.06]\n",
      " [2310.9 ]\n",
      " [2301.99]\n",
      " [2297.92]\n",
      " [2290.11]\n",
      " [2282.29]\n",
      " [2289.19]\n",
      " [2269.31]\n",
      " [2280.2 ]\n",
      " [2273.03]\n",
      " [2289.06]\n",
      " [2294.99]\n",
      " [2293.51]\n",
      " [2295.26]\n",
      " [2307.07]\n",
      " [2270.2 ]\n",
      " [2287.68]\n",
      " [2286.5 ]\n",
      " [2300.16]\n",
      " [2301.45]\n",
      " [2303.71]\n",
      " [2282.79]\n",
      " [2248.45]\n",
      " [2258.91]\n",
      " [2240.8 ]\n",
      " [2247.05]\n",
      " [2247.88]\n",
      " [2270.06]\n",
      " [2273.33]\n",
      " [2282.6 ]\n",
      " [2293.21]\n",
      " [2299.3 ]\n",
      " [2303.12]\n",
      " [2309.03]\n",
      " [2307.35]\n",
      " [2322.88]\n",
      " [2307.03]\n",
      " [2315.72]\n",
      " [2291.77]\n",
      " [2287.61]\n",
      " [2281.58]\n",
      " [2288.66]\n",
      " [2283.2 ]\n",
      " [2282.92]\n",
      " [2286.23]\n",
      " [2318.25]\n",
      " [2303.01]\n",
      " [2308.98]\n",
      " [2308.46]\n",
      " [2323.45]\n",
      " [2339.17]\n",
      " [2355.43]\n",
      " [2343.07]\n",
      " [2338.88]\n",
      " [2309.57]\n",
      " [2274.49]\n",
      " [2267.52]\n",
      " [2253.83]\n",
      " [2228.61]\n",
      " [2129.67]\n",
      " [2161.85]\n",
      " [2145.12]\n",
      " [2145.12]\n",
      " [2167.51]\n",
      " [2148.31]\n",
      " [2156.26]\n",
      " [2161.71]\n",
      " [2106.1 ]\n",
      " [2097.58]\n",
      " [2063.3 ]\n",
      " [2027.15]\n",
      " [1996.05]\n",
      " [2014.69]\n",
      " [2029.69]\n",
      " [2024.46]\n",
      " [2096.  ]\n",
      " [2076.92]\n",
      " [2089.62]\n",
      " [2078.69]\n",
      " [2092.63]\n",
      " [2086.09]\n",
      " [2080.44]\n",
      " [2071.23]\n",
      " [2068.05]\n",
      " [2088.06]\n",
      " [2092.4 ]\n",
      " [2100.56]\n",
      " [2082.58]\n",
      " [2076.55]\n",
      " [2069.95]\n",
      " [2057.48]\n",
      " [2083.02]\n",
      " [2099.42]\n",
      " [2108.22]\n",
      " [2114.1 ]\n",
      " [2096.86]\n",
      " [2131.93]\n",
      " [2114.35]\n",
      " [2101.31]\n",
      " [2068.69]\n",
      " [2075.76]\n",
      " [2053.79]\n",
      " [2052.97]\n",
      " [2082.57]\n",
      " [2095.55]\n",
      " [2069.38]\n",
      " [2071.09]\n",
      " [2062.11]\n",
      " [2078.84]\n",
      " [2060.12]\n",
      " [2061.49]\n",
      " [2055.01]\n",
      " [2028.01]\n",
      " [2028.44]\n",
      " [2041.04]]\n",
      "170 74\n",
      "Epoch 1/3\n",
      " - 1s - loss: 0.3021\n",
      "Epoch 2/3\n",
      " - 0s - loss: 0.0615\n",
      "Epoch 3/3\n",
      " - 0s - loss: 0.0115\n",
      "Train Score: 186.27 RMSE\n",
      "Predict the Close value of final day: 2275\n"
     ]
    },
    {
     "data": {
      "image/png": "[encoded data removed]",
      "text/plain": [
       "<Figure size 432x288 with 1 Axes>"
      ]
     },
     "metadata": {
      "needs_background": "light"
     },
     "output_type": "display_data"
    }
   ],
   "source": [
    "\n",
    "%matplotlib inline\n",
    "import os\n",
    "import pandas as pd\n",
    "import numpy as np\n",
    "from keras.models import Sequential\n",
    "from keras.layers import Dense\n",
    "from keras.layers import LSTM\n",
    "from keras.layers import SimpleRNN\n",
    "\n",
    "from sklearn.preprocessing import MinMaxScaler\n",
    "import matplotlib.pyplot as plt\n",
    "import math\n",
    "from sklearn.metrics import mean_squared_error\n",
    "import FinanceDataReader as fdr\n"
   ]
  },
  {
   "cell_type": "code",
   "execution_count": null,
   "metadata": {},
   "outputs": [],
   "source": [
    "\n",
    "look_back = 1\n",
    "def create_dataset(dataset, look_back=1):\n",
    "    dataX, dataY = [], []\n",
    "    for i in range(len(dataset)-look_back-1):\n",
    "        a = dataset[i:(i + look_back)]\n",
    "        dataX.append(a)\n",
    "        dataY.append(dataset[i + look_back])\n",
    "    return np.array(dataX), np.array(dataY)\n",
    " \n",
    "# file loader\n",
    "#sydtpath = \"D:sydt\"\n",
    "#naturalEndoTekCode = \"A168330\"\n",
    "#fullpath = sydtpath + os.path.sep + naturalEndoTekCode + '.csv'\n",
    "#pandf = pd.read_csv(fullpath, index_col=\"Date\")\n",
    "pandf = fdr.DataReader(\"KS11\",\"2018.01.01\",\"2019-01-01\")\n",
    "\n",
    "# convert nparray\n",
    "nparr = pandf['Close'].values.reshape(-1,1)\n",
    "nparr.astype('float32')\n",
    "print(nparr)\n",
    " \n",
    "# normalization\n",
    "scaler = MinMaxScaler(feature_range=(0, 1))\n",
    "nptf = scaler.fit_transform(nparr)\n",
    " \n",
    "# split train, test\n",
    "train_size = int(len(nptf) * 0.7)\n",
    "test_size = len(nptf) - train_size\n",
    "train, test = nptf[0:train_size], nptf[train_size:len(nptf)]\n",
    "print(len(train), len(test))\n",
    " \n",
    "# create dataset for learning\n",
    "trainX, trainY = create_dataset(train, look_back)\n",
    "testX, testY = create_dataset(test, look_back)\n",
    "\n",
    "# reshape input to be [samples, time steps, features]\n",
    "trainX = np.reshape(trainX, (trainX.shape[0], 1, trainX.shape[1]))\n",
    "testX = np.reshape(testX, (testX.shape[0], 1, testX.shape[1]))\n",
    " \n",
    "# simple lstm network learning\n",
    "model = Sequential()\n",
    "model.add(LSTM(4, input_shape=(1, 1)))\n",
    "model.add(Dense(1))\n",
    "model.compile(loss='mean_squared_error', optimizer='adam')\n",
    "model.fit(trainX, trainY, epochs=3, batch_size=1, verbose=2)\n",
    " \n",
    "# make prediction\n",
    "testPredict = model.predict(testX)\n",
    "testPredict = scaler.inverse_transform(testPredict)\n",
    "testY = scaler.inverse_transform(testY)\n",
    "testScore = math.sqrt(mean_squared_error(testY, testPredict))\n",
    "print('Train Score: %.2f RMSE' % testScore)\n",
    " \n",
    "# predict last value (or tomorrow?)\n",
    "lastX = nptf[-1]\n",
    "lastX = np.reshape(lastX, (1, 1, 1))\n",
    "lastY = model.predict(lastX)\n",
    "lastY = scaler.inverse_transform(lastY)\n",
    "print('Predict the Close value of final day: %d' % lastY)  # 데이터 입력 마지막 다음날 종가 예측\n",
    " \n",
    "# plot\n",
    "plt.plot(testPredict)\n",
    "plt.plot(testY)\n",
    "plt.show()"
   ]
  },
  {
   "cell_type": "code",
   "execution_count": null,
   "metadata": {},
   "outputs": [],
   "source": []
  },
  {
   "cell_type": "code",
   "execution_count": null,
   "metadata": {},
   "outputs": [],
   "source": []
  },
  {
   "cell_type": "code",
   "execution_count": 21,
   "metadata": {},
   "outputs": [],
   "source": []
  },
  {
   "cell_type": "code",
   "execution_count": null,
   "metadata": {},
   "outputs": [],
   "source": []
  },
  {
   "cell_type": "code",
   "execution_count": null,
   "metadata": {},
   "outputs": [],
   "source": []
  },
  {
   "cell_type": "code",
   "execution_count": null,
   "metadata": {},
   "outputs": [],
   "source": []
  },
  {
   "cell_type": "code",
   "execution_count": null,
   "metadata": {},
   "outputs": [],
   "source": []
  },
  {
   "cell_type": "code",
   "execution_count": null,
   "metadata": {},
   "outputs": [],
   "source": []
  },
  {
   "cell_type": "code",
   "execution_count": null,
   "metadata": {},
   "outputs": [],
   "source": []
  },
  {
   "cell_type": "code",
   "execution_count": 148,
   "metadata": {},
   "outputs": [],
   "source": [
    "pandf = fdr.DataReader(\"KS11\",\"2009.01.01\",\"2019-01-01\")\n"
   ]
  },
  {
   "cell_type": "code",
   "execution_count": 163,
   "metadata": {},
   "outputs": [
    {
     "name": "stdout",
     "output_type": "stream",
     "text": [
      "[[ 1.15740e+03  1.13287e+03  1.15740e+03  1.11884e+03  3.40780e+08\n",
      "   2.93000e-02]\n",
      " [ 1.17357e+03  1.18098e+03  1.18522e+03  1.16666e+03  4.14760e+08\n",
      "   1.40000e-02]\n",
      " [ 1.19428e+03  1.18352e+03  1.20359e+03  1.17994e+03  4.44200e+08\n",
      "   1.76000e-02]\n",
      " ...\n",
      " [ 2.02801e+03  2.02881e+03  2.03783e+03  2.01428e+03  3.21500e+08\n",
      "  -1.31000e-02]\n",
      " [ 2.02844e+03  2.03209e+03  2.03557e+03  2.02139e+03  3.98020e+08\n",
      "   2.00000e-04]\n",
      " [ 2.04104e+03  2.03670e+03  2.04697e+03  2.03541e+03  3.52680e+08\n",
      "   6.20000e-03]]\n",
      "Epoch 1/3\n",
      " - 6s - loss: 0.5934\n",
      "Epoch 2/3\n",
      " - 5s - loss: 0.3039\n",
      "Epoch 3/3\n",
      " - 5s - loss: 0.2026\n",
      "743/743 [==============================] - 2s 2ms/step\n"
     ]
    },
    {
     "data": {
      "text/plain": [
       "0.15433334710620453"
      ]
     },
     "execution_count": 163,
     "metadata": {},
     "output_type": "execute_result"
    }
   ],
   "source": [
    "\n",
    "# convert nparray\n",
    "nparr = pandf.values\n",
    "nparr.astype('float32')\n",
    "print(nparr)\n",
    " \n",
    "# normalization\n",
    "scaler = MinMaxScaler(feature_range=(0, 1))\n",
    "nptf = scaler.fit_transform(nparr)\n",
    " \n",
    "# split train, test\n",
    "y=np.where(pandf[\"Change\"]>0,1,0)\n",
    "train_size = int(len(nptf) * 0.7)\n",
    "y_train=y[:train_size]\n",
    "y_test=y[train_size:]\n",
    "X_train = nptf[:train_size]\n",
    "X_test = nptf[train_size:]\n",
    "\n",
    "\n",
    "# reshape input to be [samples, time steps, features]\n",
    "X_train = np.reshape(X_train, (X_train.shape[0], 1, X_train.shape[1]))\n",
    "X_test = np.reshape(X_test, (X_test.shape[0], 1, X_test.shape[1]))\n",
    "\n",
    "# simple lstm network learning\n",
    "model = Sequential()\n",
    "model.add(LSTM(48, input_shape=(1, 6)))\n",
    "model.add(Dense(24))\n",
    "model.add(Dense(1,activation='sigmoid'))\n",
    "model.compile(loss='binary_crossentropy', optimizer='adam')\n",
    "model.fit(X_train, y_train, epochs=3, batch_size=1, verbose=2)\n",
    "\n",
    "model.evaluate(X_test,y_test)"
   ]
  },
  {
   "cell_type": "code",
   "execution_count": null,
   "metadata": {},
   "outputs": [],
   "source": []
  },
  {
   "cell_type": "code",
   "execution_count": 91,
   "metadata": {},
   "outputs": [],
   "source": [
    "y=np.where(pandf[\"Change\"]>0,1,0)"
   ]
  },
  {
   "cell_type": "code",
   "execution_count": 66,
   "metadata": {},
   "outputs": [
    {
     "data": {
      "text/plain": [
       "(14790, 1)"
      ]
     },
     "execution_count": 66,
     "metadata": {},
     "output_type": "execute_result"
    }
   ],
   "source": [
    "pandf.values.reshape(-1,1).shape"
   ]
  },
  {
   "cell_type": "code",
   "execution_count": 73,
   "metadata": {},
   "outputs": [
    {
     "data": {
      "text/plain": [
       "array([[0.81426246, 0.82500083, 0.80337564, 0.8244016 , 0.20411841,\n",
       "        0.59096612],\n",
       "       [0.78123028, 0.8545644 , 0.81911251, 0.79870346, 0.20860705,\n",
       "        0.45671267],\n",
       "       [0.83281297, 0.81212983, 0.81050047, 0.8137633 , 0.16753764,\n",
       "        0.71518193],\n",
       "       ...,\n",
       "       [0.53088983, 0.53437779, 0.49960226, 0.52563165, 0.11550874,\n",
       "        0.60476788],\n",
       "       [0.49111502, 0.53758727, 0.49560751, 0.50209441, 0.24849696,\n",
       "        0.42785445],\n",
       "       [0.48420633, 0.50102571, 0.46627814, 0.49625997, 0.29652868,\n",
       "        0.53450439]])"
      ]
     },
     "execution_count": 73,
     "metadata": {},
     "output_type": "execute_result"
    }
   ],
   "source": [
    "trainY"
   ]
  },
  {
   "cell_type": "code",
   "execution_count": 77,
   "metadata": {},
   "outputs": [],
   "source": [
    "a = pd.read_csv(\"1.csv\", index_col=\"Date\")"
   ]
  },
  {
   "cell_type": "code",
   "execution_count": 82,
   "metadata": {},
   "outputs": [
    {
     "data": {
      "text/plain": [
       "array([3000, 2000, 1000], dtype=int64)"
      ]
     },
     "execution_count": 82,
     "metadata": {},
     "output_type": "execute_result"
    }
   ],
   "source": [
    "a[\"Close\"].values[::-1]"
   ]
  },
  {
   "cell_type": "code",
   "execution_count": 142,
   "metadata": {},
   "outputs": [
    {
     "data": {
      "text/plain": [
       "244"
      ]
     },
     "execution_count": 142,
     "metadata": {},
     "output_type": "execute_result"
    }
   ],
   "source": [
    "len(y_train)"
   ]
  },
  {
   "cell_type": "code",
   "execution_count": 141,
   "metadata": {},
   "outputs": [
    {
     "data": {
      "text/plain": [
       "340"
      ]
     },
     "execution_count": 141,
     "metadata": {},
     "output_type": "execute_result"
    }
   ],
   "source": [
    "len(X_train)"
   ]
  },
  {
   "cell_type": "code",
   "execution_count": 139,
   "metadata": {},
   "outputs": [
    {
     "data": {
      "text/plain": [
       "array([], shape=(0, 1, 6), dtype=float64)"
      ]
     },
     "execution_count": 139,
     "metadata": {},
     "output_type": "execute_result"
    }
   ],
   "source": [
    "X_test"
   ]
  },
  {
   "cell_type": "code",
   "execution_count": 140,
   "metadata": {},
   "outputs": [
    {
     "data": {
      "text/plain": [
       "0"
      ]
     },
     "execution_count": 140,
     "metadata": {},
     "output_type": "execute_result"
    }
   ],
   "source": [
    "len(y_test)"
   ]
  },
  {
   "cell_type": "code",
   "execution_count": null,
   "metadata": {},
   "outputs": [],
   "source": []
  }
 ],
 "metadata": {
  "kernelspec": {
   "display_name": "Python 3",
   "language": "python",
   "name": "python3"
  },
  "language_info": {
   "codemirror_mode": {
    "name": "ipython",
    "version": 3
   },
   "file_extension": ".py",
   "mimetype": "text/x-python",
   "name": "python",
   "nbconvert_exporter": "python",
   "pygments_lexer": "ipython3",
   "version": "3.7.4"
  }
 },
 "nbformat": 4,
 "nbformat_minor": 2
}
