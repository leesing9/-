{
 "cells": [
  {
   "cell_type": "markdown",
   "metadata": {},
   "source": [
    "# python 에 필요한 module 불러오기"
   ]
  },
  {
   "cell_type": "code",
   "execution_count": 2,
   "metadata": {},
   "outputs": [
    {
     "name": "stderr",
     "output_type": "stream",
     "text": [
      "Using TensorFlow backend.\n"
     ]
    }
   ],
   "source": [
    "%matplotlib inline\n",
    "import warnings\n",
    "warnings.filterwarnings('ignore')\n",
    "import matplotlib.pyplot as plt\n",
    "import pandas as pd\n",
    "import numpy as np\n",
    "from keras.models import Sequential\n",
    "from keras.layers import Dense\n",
    "from keras.layers import LSTM\n",
    "from keras.layers import Dropout\n",
    "from math import exp\n",
    "\n",
    "from sklearn.preprocessing import MinMaxScaler\n",
    "from sklearn.metrics import mean_squared_error\n",
    "import FinanceDataReader as fdr\n",
    "from sklearn.metrics import accuracy_score"
   ]
  },
  {
   "cell_type": "markdown",
   "metadata": {},
   "source": [
    "# 특성(MA,Stochastic,rsi) 추가"
   ]
  },
  {
   "cell_type": "code",
   "execution_count": 3,
   "metadata": {},
   "outputs": [],
   "source": [
    "\n",
    "\n",
    "#특성 추가 ------------------------------------------\n",
    "    #이동평균선\n",
    "def get_MA(df):\n",
    "    MA_26=df[\"Close\"].rolling(26).mean()\n",
    "    MA_52=df[\"Close\"].rolling(52).mean()\n",
    "    df=df.assign(MA_26=MA_26,MA_52=MA_52).dropna()\n",
    "    \n",
    "    return df\n",
    "\n",
    "    \n",
    "    #스토캐스틱\n",
    "def get_stochastic(df, n=15, m=5, t=3):\n",
    "    # n일중 최고가\n",
    "    ndays_high = df.High.rolling(window=n, min_periods=1).max()\n",
    "    # n일중 최저가\n",
    "    ndays_low = df.Low.rolling(window=n, min_periods=1).min()\n",
    " \n",
    "    # Fast%K 계산\n",
    "    kdj_k = ((df.Close - ndays_low) / (ndays_high - ndays_low))*100\n",
    "    # Fast%D (=Slow%K) 계산\n",
    "    kdj_d = kdj_k.ewm(span=m).mean()\n",
    "    # Slow%D 계산\n",
    "    kdj_j = kdj_d.ewm(span=t).mean()\n",
    " \n",
    "    # dataframe에 컬럼 추가\n",
    "    df = df.assign(kdj_k=kdj_k, kdj_d=kdj_d, kdj_j=kdj_j).dropna()\n",
    "    \n",
    "    return df\n",
    "\n",
    "\n",
    "def rsi(values):\n",
    "    up = values[values>0].mean()\n",
    "    down = -1*values[values<0].mean()\n",
    "    return 100 * up / (up + down)\n",
    "# Add Momentum_1D column for all 15 stocks.\n",
    "# Momentum_1D = P(t) - P(t-1)\n"
   ]
  },
  {
   "cell_type": "markdown",
   "metadata": {},
   "source": [
    "# 주식 데이터 불러오기"
   ]
  },
  {
   "cell_type": "code",
   "execution_count": 4,
   "metadata": {},
   "outputs": [],
   "source": [
    "KS11 = fdr.DataReader(\"KS11\",\"2009-01-01\",\"2019-01-01\") #코스피\n",
    "KQ11= fdr.DataReader(\"KQ11\",\"2009-01-01\",\"2019-01-01\") #코스닥\n",
    "US500 = fdr.DataReader(\"US500\",\"2009-01-01\",\"2019-01-01\") #SP500\n",
    "HSI = fdr.DataReader(\"HSI\",\"2009-01-01\",\"2019-01-01\") #항생지수\n",
    "IXIC = fdr.DataReader(\"IXIC\",\"2009-01-01\",\"2019-01-01\") #나스닥\n",
    "\n",
    "KS11 = KS11.drop(['Volume'], axis = 1 )\n",
    "KQ11 = KQ11.drop(['Volume'], axis = 1 )\n",
    "US500 = US500.drop(['Volume'], axis = 1 )\n",
    "HSI = HSI.drop(['Volume'], axis = 1 )\n",
    "IXIC = IXIC.drop(['Volume'], axis = 1 )"
   ]
  },
  {
   "cell_type": "markdown",
   "metadata": {},
   "source": [
    "# 사용될 변수 생성"
   ]
  },
  {
   "cell_type": "code",
   "execution_count": 5,
   "metadata": {},
   "outputs": [],
   "source": [
    "예측dic={}\n",
    "수익률dic={}\n",
    "EndSwitch = 1 # 0이 되면 반복 종료\n",
    "초기돈 = 10000\n",
    "d,dd= 1, 20\n",
    "BATCH = 20 # 리밸런싱 주기\n",
    "count = 0 # 리밸런싱된 횟수 count\n",
    "pred_dic={}\n",
    "투자결과=[]\n",
    "\n",
    "all_df=pd.DataFrame(columns=[\"영업일\",\"인덱스\",\"상승예측확률\",\"실제수익률\"]) # 총 table\n",
    "set_df=pd.DataFrame(columns=[\"영업일\",\"인덱스\",\"상승예측확률\",\"실제수익률\"]) # 20일 주기 table"
   ]
  },
  {
   "cell_type": "markdown",
   "metadata": {},
   "source": [
    "# Main 모델"
   ]
  },
  {
   "cell_type": "code",
   "execution_count": null,
   "metadata": {},
   "outputs": [],
   "source": []
  },
  {
   "cell_type": "code",
   "execution_count": 6,
   "metadata": {
    "scrolled": true
   },
   "outputs": [
    {
     "name": "stdout",
     "output_type": "stream",
     "text": [
      "WARNING:tensorflow:From C:\\Program Files\\anaconda3\\lib\\site-packages\\tensorflow_core\\python\\ops\\resource_variable_ops.py:1630: calling BaseResourceVariable.__init__ (from tensorflow.python.ops.resource_variable_ops) with constraint is deprecated and will be removed in a future version.\n",
      "Instructions for updating:\n",
      "If using Keras pass *_constraint arguments to layers.\n",
      "WARNING:tensorflow:From C:\\Program Files\\anaconda3\\lib\\site-packages\\tensorflow_core\\python\\ops\\nn_impl.py:183: where (from tensorflow.python.ops.array_ops) is deprecated and will be removed in a future version.\n",
      "Instructions for updating:\n",
      "Use tf.where in 2.0, which has the same broadcast rule as np.where\n",
      "WARNING:tensorflow:From C:\\Program Files\\anaconda3\\lib\\site-packages\\keras\\backend\\tensorflow_backend.py:422: The name tf.global_variables is deprecated. Please use tf.compat.v1.global_variables instead.\n",
      "\n"
     ]
    },
    {
     "data": {
      "image/png": "[encoded data removed]",
      "text/plain": [
       "<Figure size 432x288 with 1 Axes>"
      ]
     },
     "metadata": {
      "needs_background": "light"
     },
     "output_type": "display_data"
    },
    {
     "ename": "ValueError",
     "evalue": "Found input variables with inconsistent numbers of samples: [740, 720]",
     "output_type": "error",
     "traceback": [
      "\u001b[1;31m---------------------------------------------------------------------------\u001b[0m",
      "\u001b[1;31mValueError\u001b[0m                                Traceback (most recent call last)",
      "\u001b[1;32m<ipython-input-6-544a13f6b20e>\u001b[0m in \u001b[0;36m<module>\u001b[1;34m\u001b[0m\n\u001b[0;32m    113\u001b[0m     \u001b[0m수익률dic\u001b[0m\u001b[1;33m[\u001b[0m\u001b[0m인덱스명\u001b[0m\u001b[1;33m]\u001b[0m\u001b[1;33m=\u001b[0m\u001b[0mnparr2\u001b[0m\u001b[1;33m[\u001b[0m\u001b[1;34m\"Close\"\u001b[0m\u001b[1;33m]\u001b[0m\u001b[1;33m[\u001b[0m\u001b[0msetlen\u001b[0m\u001b[1;33m:\u001b[0m\u001b[1;33m]\u001b[0m \u001b[1;31m#투자 결과를 보기 위해 실제 수익률을 구함\u001b[0m\u001b[1;33m\u001b[0m\u001b[1;33m\u001b[0m\u001b[0m\n\u001b[0;32m    114\u001b[0m \u001b[1;33m\u001b[0m\u001b[0m\n\u001b[1;32m--> 115\u001b[1;33m     \u001b[0mprint\u001b[0m\u001b[1;33m(\u001b[0m\u001b[0m인덱스명\u001b[0m\u001b[1;33m,\u001b[0m \u001b[1;34m\"정확도 : \"\u001b[0m\u001b[1;33m,\u001b[0m \u001b[0maccuracy_score\u001b[0m\u001b[1;33m(\u001b[0m\u001b[0my_test\u001b[0m\u001b[1;33m,\u001b[0m\u001b[0mnp\u001b[0m\u001b[1;33m.\u001b[0m\u001b[0mwhere\u001b[0m\u001b[1;33m(\u001b[0m\u001b[0mmodel\u001b[0m\u001b[1;33m.\u001b[0m\u001b[0mpredict\u001b[0m\u001b[1;33m(\u001b[0m\u001b[0mX_test\u001b[0m\u001b[1;33m)\u001b[0m\u001b[1;33m>\u001b[0m\u001b[1;36m0.5\u001b[0m\u001b[1;33m,\u001b[0m\u001b[1;36m1\u001b[0m\u001b[1;33m,\u001b[0m\u001b[1;36m0\u001b[0m\u001b[1;33m)\u001b[0m\u001b[1;33m)\u001b[0m\u001b[1;33m)\u001b[0m\u001b[1;33m\u001b[0m\u001b[1;33m\u001b[0m\u001b[0m\n\u001b[0m\u001b[0;32m    116\u001b[0m \u001b[1;33m\u001b[0m\u001b[0m\n\u001b[0;32m    117\u001b[0m     \u001b[1;31m#모델 생성 완료 ------------------------------\u001b[0m\u001b[1;33m\u001b[0m\u001b[1;33m\u001b[0m\u001b[1;33m\u001b[0m\u001b[0m\n",
      "\u001b[1;32mC:\\Program Files\\anaconda3\\lib\\site-packages\\sklearn\\metrics\\classification.py\u001b[0m in \u001b[0;36maccuracy_score\u001b[1;34m(y_true, y_pred, normalize, sample_weight)\u001b[0m\n\u001b[0;32m    174\u001b[0m \u001b[1;33m\u001b[0m\u001b[0m\n\u001b[0;32m    175\u001b[0m     \u001b[1;31m# Compute accuracy for each possible representation\u001b[0m\u001b[1;33m\u001b[0m\u001b[1;33m\u001b[0m\u001b[1;33m\u001b[0m\u001b[0m\n\u001b[1;32m--> 176\u001b[1;33m     \u001b[0my_type\u001b[0m\u001b[1;33m,\u001b[0m \u001b[0my_true\u001b[0m\u001b[1;33m,\u001b[0m \u001b[0my_pred\u001b[0m \u001b[1;33m=\u001b[0m \u001b[0m_check_targets\u001b[0m\u001b[1;33m(\u001b[0m\u001b[0my_true\u001b[0m\u001b[1;33m,\u001b[0m \u001b[0my_pred\u001b[0m\u001b[1;33m)\u001b[0m\u001b[1;33m\u001b[0m\u001b[1;33m\u001b[0m\u001b[0m\n\u001b[0m\u001b[0;32m    177\u001b[0m     \u001b[0mcheck_consistent_length\u001b[0m\u001b[1;33m(\u001b[0m\u001b[0my_true\u001b[0m\u001b[1;33m,\u001b[0m \u001b[0my_pred\u001b[0m\u001b[1;33m,\u001b[0m \u001b[0msample_weight\u001b[0m\u001b[1;33m)\u001b[0m\u001b[1;33m\u001b[0m\u001b[1;33m\u001b[0m\u001b[0m\n\u001b[0;32m    178\u001b[0m     \u001b[1;32mif\u001b[0m \u001b[0my_type\u001b[0m\u001b[1;33m.\u001b[0m\u001b[0mstartswith\u001b[0m\u001b[1;33m(\u001b[0m\u001b[1;34m'multilabel'\u001b[0m\u001b[1;33m)\u001b[0m\u001b[1;33m:\u001b[0m\u001b[1;33m\u001b[0m\u001b[1;33m\u001b[0m\u001b[0m\n",
      "\u001b[1;32mC:\\Program Files\\anaconda3\\lib\\site-packages\\sklearn\\metrics\\classification.py\u001b[0m in \u001b[0;36m_check_targets\u001b[1;34m(y_true, y_pred)\u001b[0m\n\u001b[0;32m     69\u001b[0m     \u001b[0my_pred\u001b[0m \u001b[1;33m:\u001b[0m \u001b[0marray\u001b[0m \u001b[1;32mor\u001b[0m \u001b[0mindicator\u001b[0m \u001b[0mmatrix\u001b[0m\u001b[1;33m\u001b[0m\u001b[1;33m\u001b[0m\u001b[0m\n\u001b[0;32m     70\u001b[0m     \"\"\"\n\u001b[1;32m---> 71\u001b[1;33m     \u001b[0mcheck_consistent_length\u001b[0m\u001b[1;33m(\u001b[0m\u001b[0my_true\u001b[0m\u001b[1;33m,\u001b[0m \u001b[0my_pred\u001b[0m\u001b[1;33m)\u001b[0m\u001b[1;33m\u001b[0m\u001b[1;33m\u001b[0m\u001b[0m\n\u001b[0m\u001b[0;32m     72\u001b[0m     \u001b[0mtype_true\u001b[0m \u001b[1;33m=\u001b[0m \u001b[0mtype_of_target\u001b[0m\u001b[1;33m(\u001b[0m\u001b[0my_true\u001b[0m\u001b[1;33m)\u001b[0m\u001b[1;33m\u001b[0m\u001b[1;33m\u001b[0m\u001b[0m\n\u001b[0;32m     73\u001b[0m     \u001b[0mtype_pred\u001b[0m \u001b[1;33m=\u001b[0m \u001b[0mtype_of_target\u001b[0m\u001b[1;33m(\u001b[0m\u001b[0my_pred\u001b[0m\u001b[1;33m)\u001b[0m\u001b[1;33m\u001b[0m\u001b[1;33m\u001b[0m\u001b[0m\n",
      "\u001b[1;32mC:\\Program Files\\anaconda3\\lib\\site-packages\\sklearn\\utils\\validation.py\u001b[0m in \u001b[0;36mcheck_consistent_length\u001b[1;34m(*arrays)\u001b[0m\n\u001b[0;32m    203\u001b[0m     \u001b[1;32mif\u001b[0m \u001b[0mlen\u001b[0m\u001b[1;33m(\u001b[0m\u001b[0muniques\u001b[0m\u001b[1;33m)\u001b[0m \u001b[1;33m>\u001b[0m \u001b[1;36m1\u001b[0m\u001b[1;33m:\u001b[0m\u001b[1;33m\u001b[0m\u001b[1;33m\u001b[0m\u001b[0m\n\u001b[0;32m    204\u001b[0m         raise ValueError(\"Found input variables with inconsistent numbers of\"\n\u001b[1;32m--> 205\u001b[1;33m                          \" samples: %r\" % [int(l) for l in lengths])\n\u001b[0m\u001b[0;32m    206\u001b[0m \u001b[1;33m\u001b[0m\u001b[0m\n\u001b[0;32m    207\u001b[0m \u001b[1;33m\u001b[0m\u001b[0m\n",
      "\u001b[1;31mValueError\u001b[0m: Found input variables with inconsistent numbers of samples: [740, 720]"
     ]
    }
   ],
   "source": [
    "\n",
    "for 인덱스,인덱스명 in zip([KS11,KQ11,IXIC,HSI,US500],[\"코스피\",\"코스닥\",\"나스닥\",\"항생\",\"S&P500\"]):\n",
    "    df = 인덱스\n",
    "    \n",
    "    # 특성 추가--------------------------------------------------------\n",
    "    \n",
    "    \n",
    "        #스토캐스틱과 이동평균선\n",
    "    df=get_stochastic(df)\n",
    "    df=get_MA(df)\n",
    "    \n",
    "        #RSI\n",
    "    df['Momentum_1D'] = (df['Close']-df['Close'].shift(1))\n",
    "    df['RSI_14D'] = df['Momentum_1D'].rolling(center=False, window=14).apply(rsi)\n",
    "    df=df.dropna()\n",
    "    df=df[0:-(len(df)%BATCH)]\n",
    "    df = df.drop(labels = ['Momentum_1D'], axis=1)\n",
    "    \n",
    "        #이동평균선\n",
    "    MA_26=df[\"Close\"].rolling(21).mean()\n",
    "    df_MA=MA_26.dropna()\n",
    "    df_char=df[20:] # df_char : 특성 모두 추가한 data, rolling,shifting 고려해서 제거\n",
    "       #------------------------------------------------------------------\n",
    "    \n",
    "    \n",
    "    \n",
    "    \n",
    "        # y ( target ) 생성 df_char= 값, df_MA= 이동평균선---------------------\n",
    "    y=[]\n",
    "    #20개로 1개 예측\n",
    "    h=1\n",
    "    for x in range(1,len(df_char)+1):\n",
    "        if(df_char[\"Close\"][x-1] > df_MA[20*h-1]):\n",
    "            y.append(0)\n",
    "        else:\n",
    "            y.append(1)\n",
    "        if(x%20==0):\n",
    "            h=h+1\n",
    "\n",
    "    df = df_char[:-20] # 20개 1개 예측이면 :-20, 20개로 20개예측이면 -20 제거\n",
    "    nparr = df # 스케일링 할 데이터\n",
    "    nparr2 = df # 스케일링 안한 데이터 백업\n",
    "    \n",
    "    #normalizing\n",
    "    scaler = MinMaxScaler(feature_range=(0, 1))\n",
    "    df[\"Close\"]=scaler.fit_transform(nparr[\"Close\"].values.reshape(-1,1))\n",
    "    df[\"Open\"]=scaler.fit_transform(nparr[\"Open\"].values.reshape(-1,1))\n",
    "    df[\"High\"]=scaler.fit_transform(nparr[\"High\"].values.reshape(-1,1))\n",
    "    df[\"Low\"]=scaler.fit_transform(nparr[\"Low\"].values.reshape(-1,1))\n",
    "    df[\"Change\"]=scaler.fit_transform(nparr[\"Change\"].values.reshape(-1,1))\n",
    "    df[\"kdj_k\"]=scaler.fit_transform(nparr[\"kdj_k\"].values.reshape(-1,1))\n",
    "    df[\"kdj_d\"]=scaler.fit_transform(nparr[\"kdj_d\"].values.reshape(-1,1))\n",
    "    df[\"kdj_j\"]=scaler.fit_transform(nparr[\"kdj_j\"].values.reshape(-1,1))\n",
    "    df[\"MA_26\"]=scaler.fit_transform(nparr[\"MA_26\"].values.reshape(-1,1))\n",
    "    df[\"MA_52\"]=scaler.fit_transform(nparr[\"MA_52\"].values.reshape(-1,1))\n",
    "    df[\"RSI_14D\"]=scaler.fit_transform(nparr[\"RSI_14D\"].values.reshape(-1,1))\n",
    "    \n",
    "    #-----\n",
    "    #df[\"y\"]=y\n",
    "    #print(df.corr()) #상관관계 분석 ( 출력하고 싶다면 주석 제거)\n",
    "    #df = df.drop(['y'],axis = 1)\n",
    "    #-----\n",
    "    \n",
    "    df = df.drop(['Close','Open','High','Low','MA_26','MA_52'], axis = 1 ) # 상관관계 분석 후 관계 적은 특성(열) 제거\n",
    "    X=df.values\n",
    "    \n",
    "    # train test val 세팅\n",
    "    setlen=int(len(X)/20*0.7)*20 # 데이터를 7:3으로 나누고 20의 배수로 만듬\n",
    "    X_train=X[:setlen]\n",
    "    X_test=X[setlen:]\n",
    "    y_train=y[:setlen]\n",
    "    y_test=y[setlen:]\n",
    "    \n",
    "    setlen2=int(len(X_train)/20*0.3)*20 # 검증 데이터를 3:7으로 나누고 20의 배수로 만듬\n",
    "    X_val = X_train[ : setlen2]\n",
    "    y_val = y_train[ : setlen2]\n",
    "    X_train2 = X_train[setlen2 : ]\n",
    "    y_train2 = y_train[setlen2 : ]\n",
    "    \n",
    "    \n",
    "    # 딥러닝 모델에 맞는 사이즈로 전처리\n",
    "    X_train = np.reshape(X_train, (X_train.shape[0],1, X_train.shape[1]))\n",
    "    X_test = np.reshape(X_test, (X_test.shape[0],1, X_test.shape[1]))\n",
    "    \n",
    "    X_val = np.reshape(X_val, (X_val.shape[0],1, X_val.shape[1]))\n",
    "    X_train2 = np.reshape(X_train2, (X_train2.shape[0],1, X_train2.shape[1]))\n",
    "    \n",
    "    #LSTM모델 생성\n",
    "    model = Sequential()\n",
    "    model.add(LSTM(36, input_shape=(1, 5)))\n",
    "    for i in range(2):\n",
    "        model.add(Dense(18,activation='relu'))\n",
    "        model.add(Dropout(0.2))\n",
    "    model.add(Dense(1,activation='sigmoid'))\n",
    "    model.compile(loss='binary_crossentropy', optimizer='adam', metrics=['accuracy'])\n",
    "    \n",
    "    history = model.fit(X_train2, y_train2, epochs=6, batch_size=16,validation_data=(X_val,y_val),verbose=0)\n",
    "    \n",
    "    history_dict= history.history\n",
    "    loss_values = history_dict['loss']\n",
    "    val_loss_values = history_dict['val_loss']\n",
    "    acc = history_dict['accuracy']\n",
    "    epochs = range(1,len(acc)+1)\n",
    "\n",
    "    plt.plot(epochs,loss_values,'bo',label='Training loss')\n",
    "    plt.plot(epochs,val_loss_values,'b',label='Validation loss')\n",
    "    plt.title('Training and validation loss')\n",
    "    plt.xlabel('Epochs')\n",
    "    plt.ylabel('Loss')\n",
    "    plt.legend()\n",
    "    plt.show()\n",
    "    pred=np.where(model.predict(X_test)>0.5,1,0)\n",
    "    예측dic[인덱스명]=pred # 예측 데이터 table에 추가\n",
    "    수익률dic[인덱스명]=nparr2[\"Close\"][setlen:] #투자 결과를 보기 위해 실제 수익률을 구함\n",
    "\n",
    "    print(인덱스명, \"정확도 : \", accuracy_score(y_test,np.where(model.predict(X_test)>0.5,1,0)))\n",
    "       \n",
    "    #모델 생성 완료 ------------------------------\n",
    "\n",
    "\n",
    "End=1\n",
    "while End==1: # 종료조건 ( END =0 )까지 반복\n",
    "    \n",
    "    # 날짜 출력 ------   \n",
    "    day= str(d) +\"~\" + str(dd) + \"일 차\"\n",
    "    print(day,\"---------------------------------\")\n",
    "    # --------------- \n",
    "    set_df=pd.DataFrame(columns=[\"영업일\",\"인덱스\",\"상승예측확률\",\"실제수익률\"])\n",
    "\n",
    "    \n",
    "    \n",
    "    for key,val in zip(예측dic.keys(),예측dic.values()): \n",
    "    \n",
    "    \n",
    "        #----------------------- 지수함수로 중요 비중 조정\n",
    "        e_sum = 0\n",
    "        for xx in range(1,21):\n",
    "            e_sum=e_sum+exp(xx)\n",
    "\n",
    "        pred_list=[]\n",
    "        rank=1\n",
    "        pred=val[BATCH-20:BATCH] # BATCH는 0부터 매 리밸런싱마다 20씩 증가\n",
    "        \n",
    "        for yy in pred:\n",
    "            pred_list.append(yy*rank)\n",
    "            rank = rank + 1       # ex ) [1,1,1,0,1,0,..] -> [1,2,3,0,5,0..] 로 가중치를 줌\n",
    "\n",
    "\n",
    "        pred_sum=0\n",
    "        for zz in pred_list:\n",
    "            pred_sum=pred_sum+(exp(zz)/e_sum) # 가중치를 e에 대입\n",
    "        pred_sum=round(pred_sum,4) # 소수 4번째 반올림\n",
    "        #--------------------------------------------------\n",
    "        \n",
    "        \n",
    "        # 예측 결과를 표(dataframe)로 보기 쉽게 정리-----------------\n",
    "        if count==0:\n",
    "            pred_dic[key]=pred_sum #pred_dic == {}\n",
    "        else:\n",
    "            pred_dic[key]=np.append(pred_dic[key],pred_sum)\n",
    "        예측 = pred_sum\n",
    "        실제수익률 = ((수익률dic[key][BATCH+19])/(수익률dic[key][BATCH]))-1\n",
    "        turn_df=pd.DataFrame(data={\"영업일\":[day],\"인덱스\":[key],\"상승예측확률\":[예측],\"실제수익률\":[실제수익률] }, columns=[\"영업일\",\"인덱스\",\"상승예측확률\",\"실제수익률\"])\n",
    "        set_df=pd.concat([set_df,turn_df])    \n",
    "        #------------------------------------------------------------\n",
    "        \n",
    "    #--------데이터 20개 중 60% 이상 상승 예측 시 list에 추가\n",
    "    earn_list=[]\n",
    "    \n",
    "    for x,y in zip(set_df[\"상승예측확률\"],set_df[\"실제수익률\"]):\n",
    "        \n",
    "        if x>=0.6:\n",
    "            earn_list.append(y)\n",
    "    \n",
    "    #-------하나도 상승 예측이 아니었다면 규제 줄이기\n",
    "    if len(earn_list)==0:\n",
    "        for x,y in zip(set_df[\"상승예측확률\"],set_df[\"실제수익률\"]):\n",
    "        \n",
    "            if x>=0.4:\n",
    "                earn_list.append(y)\n",
    "    #---------------------------------------------------------------------\n",
    "    \n",
    "    \n",
    "    earn_list2=[]\n",
    "    if len(earn_list)!=0:\n",
    "        초기돈=초기돈/(len(earn_list))\n",
    "        for y in earn_list:\n",
    "            earn_list2.append(초기돈+(초기돈*y))\n",
    "        초기돈=sum(earn_list2)    \n",
    "    else:\n",
    "        earn_list2.append(초기돈)\n",
    "    \n",
    "\n",
    "    all_df=pd.concat([all_df,set_df])\n",
    "    BATCH=BATCH+20\n",
    "\n",
    "    print(\"분산 투자 : \",earn_list2)\n",
    "    print(\"투자 결과 : \",초기돈)\n",
    "    print(set_df.head(5))\n",
    "    count=count+1\n",
    "    d=d+20\n",
    "    dd=dd+20\n",
    "\n",
    "        #종료조건---------------\n",
    "\n",
    "    if(len(수익률dic[key])==BATCH+20):\n",
    "        End=0\n",
    "        print(\"------------종료------------  ◆리밸런싱 수◆ : \" , count)\n",
    "        break\n",
    "        #----------------------------------"
   ]
  },
  {
   "cell_type": "code",
   "execution_count": 155,
   "metadata": {},
   "outputs": [],
   "source": [
    " df = 인덱스\n",
    "    \n",
    "# 특성 추가--------------------------------------------------------\n",
    "\n",
    "\n",
    "    #스토캐스틱과 이동평균선\n",
    "df=get_stochastic(df)\n",
    "df=get_MA(df)\n",
    "\n",
    "    #RSI\n",
    "df['Momentum_1D'] = (df['Close']-df['Close'].shift(1))\n",
    "df['RSI_14D'] = df['Momentum_1D'].rolling(center=False, window=14).apply(rsi)\n",
    "df=df.dropna()\n",
    "df=df[0:-(len(df)%BATCH)]\n",
    "df = df.drop(labels = ['Momentum_1D'], axis=1)\n",
    "\n",
    "    #이동평균선\n",
    "MA_26=df[\"Close\"].rolling(21).mean()\n",
    "df_MA=MA_26.dropna()\n",
    "df_char=df[20:] # df_char : 특성 모두 추가한 data, rolling,shifting 고려해서 제거\n",
    "   #------------------------------------------------------------------\n"
   ]
  },
  {
   "cell_type": "code",
   "execution_count": 156,
   "metadata": {},
   "outputs": [],
   "source": []
  },
  {
   "cell_type": "code",
   "execution_count": null,
   "metadata": {},
   "outputs": [],
   "source": [
    "\n",
    "    "
   ]
  },
  {
   "cell_type": "code",
   "execution_count": null,
   "metadata": {},
   "outputs": [],
   "source": []
  },
  {
   "cell_type": "code",
   "execution_count": null,
   "metadata": {},
   "outputs": [],
   "source": []
  },
  {
   "cell_type": "code",
   "execution_count": 166,
   "metadata": {},
   "outputs": [],
   "source": [
    "df = 인덱스\n",
    "\n",
    "# 특성 추가--------------------------------------------------------\n",
    "\n",
    "\n",
    "    #스토캐스틱과 이동평균선\n",
    "df=get_stochastic(df)\n",
    "df=get_MA(df)\n",
    "\n",
    "    #RSI\n",
    "df['Momentum_1D'] = (df['Close']-df['Close'].shift(1))\n",
    "df['RSI_14D'] = df['Momentum_1D'].rolling(center=False, window=14).apply(rsi)\n",
    "df=df.dropna()\n",
    "df=df[0:-(len(df)%BATCH)]\n",
    "df = df.drop(labels = ['Momentum_1D'], axis=1)\n",
    "\n",
    "    #이동평균선\n",
    "MA_26=df[\"Close\"].rolling(21).mean()\n",
    "df_MA=MA_26.dropna()\n",
    "df_char=df[20:-20] # df_char : 특성 모두 추가한 data, rolling,shifting 고려해서 제거\n",
    "   #------------------------------------------------------------------\n",
    "\n",
    "\n"
   ]
  },
  {
   "cell_type": "code",
   "execution_count": 167,
   "metadata": {},
   "outputs": [],
   "source": [
    "# y ( target ) 생성 df_char= 값, df_MA= 이동평균선---------------------\n",
    "y=[]\n",
    "#20개로 1개 예측\n",
    "h=1\n",
    "for x in range(1,len(df_char)+1):\n",
    "    if(df_char[\"Close\"][x-1] > df_MA[20*h]):\n",
    "        y.append(0)\n",
    "    else:\n",
    "        y.append(1)\n",
    "    if(x%20==0):\n",
    "        h=h+1\n",
    "\n",
    "df = df_char[:-20] # 20개 1개 예측이면 :-20, 20개로 20개예측이면 -20 제거\n",
    "nparr = df # 스케일링 할 데이터\n",
    "nparr2 = df # 스케일링 안한 데이터 백업\n"
   ]
  },
  {
   "cell_type": "code",
   "execution_count": 165,
   "metadata": {},
   "outputs": [
    {
     "data": {
      "text/plain": [
       "(2140, 11)"
      ]
     },
     "execution_count": 165,
     "metadata": {},
     "output_type": "execute_result"
    }
   ],
   "source": [
    "df_char.shape"
   ]
  },
  {
   "cell_type": "code",
   "execution_count": null,
   "metadata": {},
   "outputs": [],
   "source": [
    "range(1,2121)"
   ]
  }
 ],
 "metadata": {
  "kernelspec": {
   "display_name": "Python 3",
   "language": "python",
   "name": "python3"
  },
  "language_info": {
   "codemirror_mode": {
    "name": "ipython",
    "version": 3
   },
   "file_extension": ".py",
   "mimetype": "text/x-python",
   "name": "python",
   "nbconvert_exporter": "python",
   "pygments_lexer": "ipython3",
   "version": "3.7.4"
  }
 },
 "nbformat": 4,
 "nbformat_minor": 2
}
