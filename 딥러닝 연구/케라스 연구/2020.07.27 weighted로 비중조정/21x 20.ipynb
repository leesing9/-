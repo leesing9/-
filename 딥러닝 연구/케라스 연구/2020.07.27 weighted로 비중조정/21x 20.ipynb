{
 "cells": [
  {
   "cell_type": "markdown",
   "metadata": {},
   "source": [
    "# python 에 필요한 module 불러오기"
   ]
  },
  {
   "cell_type": "code",
   "execution_count": 6,
   "metadata": {},
   "outputs": [],
   "source": [
    "%matplotlib inline\n",
    "import warnings\n",
    "warnings.filterwarnings('ignore')\n",
    "import matplotlib.pyplot as plt\n",
    "import pandas as pd\n",
    "import numpy as np\n",
    "from keras.models import Sequential\n",
    "from keras.layers import Dense\n",
    "from keras.layers import LSTM\n",
    "from keras.layers import Dropout\n",
    "from math import exp\n",
    "\n",
    "from sklearn.preprocessing import MinMaxScaler\n",
    "from sklearn.metrics import mean_squared_error\n",
    "import FinanceDataReader as fdr\n",
    "from sklearn.metrics import accuracy_score"
   ]
  },
  {
   "cell_type": "markdown",
   "metadata": {},
   "source": [
    "# 특성(MA,Stochastic,rsi) 추가"
   ]
  },
  {
   "cell_type": "code",
   "execution_count": 7,
   "metadata": {},
   "outputs": [],
   "source": [
    "\n",
    "\n",
    "#특성 추가 ------------------------------------------\n",
    "    #이동평균선\n",
    "def get_MA(df):\n",
    "    MA_26=df[\"Close\"].rolling(26).mean()\n",
    "    MA_52=df[\"Close\"].rolling(52).mean()\n",
    "    df=df.assign(MA_26=MA_26,MA_52=MA_52).dropna()\n",
    "    \n",
    "    return df\n",
    "\n",
    "    \n",
    "    #스토캐스틱\n",
    "def get_stochastic(df, n=15, m=5, t=3):\n",
    "    # n일중 최고가\n",
    "    ndays_high = df.High.rolling(window=n, min_periods=1).max()\n",
    "    # n일중 최저가\n",
    "    ndays_low = df.Low.rolling(window=n, min_periods=1).min()\n",
    " \n",
    "    # Fast%K 계산\n",
    "    kdj_k = ((df.Close - ndays_low) / (ndays_high - ndays_low))*100\n",
    "    # Fast%D (=Slow%K) 계산\n",
    "    kdj_d = kdj_k.ewm(span=m).mean()\n",
    "    # Slow%D 계산\n",
    "    kdj_j = kdj_d.ewm(span=t).mean()\n",
    " \n",
    "    # dataframe에 컬럼 추가\n",
    "    df = df.assign(kdj_k=kdj_k, kdj_d=kdj_d, kdj_j=kdj_j).dropna()\n",
    "    \n",
    "    return df\n",
    "\n",
    "\n",
    "def rsi(values):\n",
    "    up = values[values>0].mean()\n",
    "    down = -1*values[values<0].mean()\n",
    "    return 100 * up / (up + down)\n",
    "# Add Momentum_1D column for all 15 stocks.\n",
    "# Momentum_1D = P(t) - P(t-1)\n"
   ]
  },
  {
   "cell_type": "markdown",
   "metadata": {},
   "source": [
    "# 주식 데이터 불러오기"
   ]
  },
  {
   "cell_type": "code",
   "execution_count": 8,
   "metadata": {},
   "outputs": [],
   "source": []
  },
  {
   "cell_type": "code",
   "execution_count": null,
   "metadata": {},
   "outputs": [],
   "source": []
  },
  {
   "cell_type": "code",
   "execution_count": 9,
   "metadata": {},
   "outputs": [],
   "source": [
    "KS11 = fdr.DataReader(\"KS11\",\"2009-01-01\",\"2019-01-01\") #코스피\n",
    "KQ11= fdr.DataReader(\"KQ11\",\"2009-01-01\",\"2019-01-01\") #코스닥\n",
    "US500 = fdr.DataReader(\"US500\",\"2009-01-01\",\"2019-01-01\") #SP500\n",
    "HSI = fdr.DataReader(\"HSI\",\"2009-01-01\",\"2019-01-01\") #항생지수\n",
    "IXIC = fdr.DataReader(\"IXIC\",\"2009-01-01\",\"2019-01-01\") #나스닥\n",
    "\n",
    "KS11 = KS11.drop(['Volume'], axis = 1 )\n",
    "KQ11 = KQ11.drop(['Volume'], axis = 1 )\n",
    "US500 = US500.drop(['Volume'], axis = 1 )\n",
    "HSI = HSI.drop(['Volume'], axis = 1 )\n",
    "IXIC = IXIC.drop(['Volume'], axis = 1 )"
   ]
  },
  {
   "cell_type": "code",
   "execution_count": null,
   "metadata": {
    "scrolled": true
   },
   "outputs": [],
   "source": []
  },
  {
   "cell_type": "markdown",
   "metadata": {},
   "source": [
    "# 사용될 변수 생성"
   ]
  },
  {
   "cell_type": "code",
   "execution_count": 119,
   "metadata": {},
   "outputs": [],
   "source": [
    "예측dic={}\n",
    "수익률dic={}\n",
    "End = 1 # 0이 되면 반복 종료\n",
    "초기돈 = 10000\n",
    "d,dd= 1, 20\n",
    "BATCH = 20 # 리밸런싱 주기\n",
    "count = 0 # 리밸런싱된 횟수 count\n",
    "pred_dic={}\n",
    "투자결과=[]\n",
    "총df=pd.DataFrame()\n",
    "총df2=pd.DataFrame()\n",
    "그래프용={}\n",
    "그래프용2={}\n",
    "그래프용sum=0\n",
    "all_df=pd.DataFrame(columns=[\"영업일\",\"인덱스\",\"상승예측확률\",\"실제수익률\"]) # 총 table\n",
    "set_df=pd.DataFrame(columns=[\"영업일\",\"인덱스\",\"상승예측확률\",\"실제수익률\"]) # 20일 주기 table"
   ]
  },
  {
   "cell_type": "markdown",
   "metadata": {},
   "source": [
    "# Main 모델"
   ]
  },
  {
   "cell_type": "code",
   "execution_count": 102,
   "metadata": {},
   "outputs": [
    {
     "ename": "NameError",
     "evalue": "name 'true_positives' is not defined",
     "output_type": "error",
     "traceback": [
      "\u001b[1;31m---------------------------------------------------------------------------\u001b[0m",
      "\u001b[1;31mNameError\u001b[0m                                 Traceback (most recent call last)",
      "\u001b[1;32m<ipython-input-102-06f68feea12c>\u001b[0m in \u001b[0;36m<module>\u001b[1;34m\u001b[0m\n\u001b[1;32m----> 1\u001b[1;33m \u001b[0mprecision\u001b[0m \u001b[1;33m=\u001b[0m \u001b[0mtrue_positives\u001b[0m \u001b[1;33m/\u001b[0m \u001b[1;33m(\u001b[0m\u001b[0mpredicted_positives\u001b[0m \u001b[1;33m+\u001b[0m \u001b[0mK\u001b[0m\u001b[1;33m.\u001b[0m\u001b[0mepsilon\u001b[0m\u001b[1;33m(\u001b[0m\u001b[1;33m)\u001b[0m\u001b[1;33m)\u001b[0m\u001b[1;33m\u001b[0m\u001b[1;33m\u001b[0m\u001b[0m\n\u001b[0m",
      "\u001b[1;31mNameError\u001b[0m: name 'true_positives' is not defined"
     ]
    }
   ],
   "source": [
    " precision = true_positives / (predicted_positives + K.epsilon())"
   ]
  },
  {
   "cell_type": "code",
   "execution_count": 114,
   "metadata": {},
   "outputs": [
    {
     "name": "stdout",
     "output_type": "stream",
     "text": [
      "accuracy 0.7194444444444444\n",
      "precision 0.738255033557047\n",
      "recall 0.6395348837209303\n",
      "f1 0.6853582554517135\n"
     ]
    }
   ],
   "source": [
    "\n",
    "import sklearn.metrics as metrics\n",
    "\n",
    "print('accuracy', metrics.accuracy_score(y_test,y_pred) )\n",
    "\n",
    "print('precision', metrics.precision_score(y_test,y_pred) )\n",
    "\n",
    "print('recall', metrics.recall_score(y_test,y_pred) )\n",
    "\n",
    "print('f1', metrics.f1_score(y_test,y_pred) )\n",
    "\n"
   ]
  },
  {
   "cell_type": "code",
   "execution_count": 88,
   "metadata": {},
   "outputs": [],
   "source": [
    "from keras import backend as K\n",
    "\n",
    "def f1(y_true, y_pred):\n",
    "    def recall(y_true, y_pred):\n",
    "        \"\"\"Recall metric.\n",
    "\n",
    "        Only computes a batch-wise average of recall.\n",
    "\n",
    "        Computes the recall, a metric for multi-label classification of\n",
    "        how many relevant items are selected.\n",
    "        \"\"\"\n",
    "        true_positives = K.sum(K.round(K.clip(y_true * y_pred, 0, 1)))\n",
    "        possible_positives = K.sum(K.round(K.clip(y_true, 0, 1)))\n",
    "        recall = true_positives / (possible_positives + K.epsilon())\n",
    "        return recall\n",
    "\n",
    "    def precision(y_true, y_pred):\n",
    "        \"\"\"Precision metric.\n",
    "\n",
    "        Only computes a batch-wise average of precision.\n",
    "\n",
    "        Computes the precision, a metric for multi-label classification of\n",
    "        how many selected items are relevant.\n",
    "        \"\"\"\n",
    "        true_positives = K.sum(K.round(K.clip(y_true * y_pred, 0, 1)))\n",
    "        predicted_positives = K.sum(K.round(K.clip(y_pred, 0, 1)))\n",
    "        precision = true_positives / (predicted_positives + K.epsilon())\n",
    "        return precision\n",
    "    precision = precision(y_true, y_pred)\n",
    "    recall = recall(y_true, y_pred)\n",
    "    return 2*((precision*recall)/(precision+recall+K.epsilon()))"
   ]
  },
  {
   "cell_type": "code",
   "execution_count": null,
   "metadata": {},
   "outputs": [],
   "source": []
  },
  {
   "cell_type": "code",
   "execution_count": null,
   "metadata": {},
   "outputs": [],
   "source": []
  },
  {
   "cell_type": "code",
   "execution_count": null,
   "metadata": {},
   "outputs": [],
   "source": []
  },
  {
   "cell_type": "code",
   "execution_count": 120,
   "metadata": {
    "scrolled": true
   },
   "outputs": [
    {
     "data": {
      "image/png": "[encoded data removed]",
      "text/plain": [
       "<Figure size 432x288 with 1 Axes>"
      ]
     },
     "metadata": {
      "needs_background": "light"
     },
     "output_type": "display_data"
    },
    {
     "name": "stdout",
     "output_type": "stream",
     "text": [
      "accuracy 0.7305555555555555\n",
      "precision 0.7819548872180451\n",
      "recall 0.6046511627906976\n",
      "f1 0.6819672131147541\n",
      "KOSPI 정확도 :  0.7305555555555555\n"
     ]
    },
    {
     "data": {
      "image/png": "[encoded data removed]",
      "text/plain": [
       "<Figure size 432x288 with 1 Axes>"
      ]
     },
     "metadata": {
      "needs_background": "light"
     },
     "output_type": "display_data"
    },
    {
     "name": "stdout",
     "output_type": "stream",
     "text": [
      "accuracy 0.7083333333333334\n",
      "precision 0.7102803738317757\n",
      "recall 0.6608695652173913\n",
      "f1 0.6846846846846847\n",
      "KOSDAQ 정확도 :  0.7083333333333334\n"
     ]
    },
    {
     "data": {
      "image/png": "[encoded data removed]",
      "text/plain": [
       "<Figure size 432x288 with 1 Axes>"
      ]
     },
     "metadata": {
      "needs_background": "light"
     },
     "output_type": "display_data"
    },
    {
     "name": "stdout",
     "output_type": "stream",
     "text": [
      "accuracy 0.7041666666666667\n",
      "precision 0.77734375\n",
      "recall 0.5605633802816902\n",
      "f1 0.6513911620294598\n",
      "NASDAQ 정확도 :  0.7041666666666667\n"
     ]
    },
    {
     "data": {
      "image/png": "[encoded data removed]",
      "text/plain": [
       "<Figure size 432x288 with 1 Axes>"
      ]
     },
     "metadata": {
      "needs_background": "light"
     },
     "output_type": "display_data"
    },
    {
     "name": "stdout",
     "output_type": "stream",
     "text": [
      "accuracy 0.7236111111111111\n",
      "precision 0.8225806451612904\n",
      "recall 0.5682451253481894\n",
      "f1 0.6721581548599671\n",
      "HSI 정확도 :  0.7236111111111111\n"
     ]
    },
    {
     "data": {
      "image/png": "[encoded data removed]",
      "text/plain": [
       "<Figure size 432x288 with 1 Axes>"
      ]
     },
     "metadata": {
      "needs_background": "light"
     },
     "output_type": "display_data"
    },
    {
     "name": "stdout",
     "output_type": "stream",
     "text": [
      "accuracy 0.7\n",
      "precision 0.7741935483870968\n",
      "recall 0.5014925373134328\n",
      "f1 0.608695652173913\n",
      "S&P500 정확도 :  0.7\n",
      "1~20일 차 ---------------------------------\n",
      "분산 투자 :  [3325.1956631004527, 0, 3770.392189555198, 2926.983641645009, 0]\n",
      "투자 결과 :  10022.57149430066\n",
      "21~40일 차 ---------------------------------\n",
      "분산 투자 :  [10022.57149430066]\n",
      "투자 결과 :  10022.57149430066\n",
      "41~60일 차 ---------------------------------\n",
      "분산 투자 :  [10022.57149430066]\n",
      "투자 결과 :  10022.57149430066\n",
      "61~80일 차 ---------------------------------\n",
      "분산 투자 :  [4961.6100035411755, 0, 5310.181226543324, 0, 0]\n",
      "투자 결과 :  10271.791230084498\n",
      "81~100일 차 ---------------------------------\n",
      "분산 투자 :  [3584.292962031706, 3477.407236990901, 0, 3661.776004888971, 0]\n",
      "투자 결과 :  10723.476203911578\n",
      "101~120일 차 ---------------------------------\n",
      "분산 투자 :  [0, 0, 5982.36438642063, 0, 5792.831492198131]\n",
      "투자 결과 :  11775.19587861876\n",
      "121~140일 차 ---------------------------------\n",
      "분산 투자 :  [11775.19587861876]\n",
      "투자 결과 :  11775.19587861876\n",
      "141~160일 차 ---------------------------------\n",
      "분산 투자 :  [11775.19587861876]\n",
      "투자 결과 :  11775.19587861876\n",
      "161~180일 차 ---------------------------------\n",
      "분산 투자 :  [6081.521320511306, 6215.7864238150905, 0, 0, 0]\n",
      "투자 결과 :  12297.307744326397\n",
      "181~200일 차 ---------------------------------\n",
      "분산 투자 :  [0, 0, 6279.679452908978, 0, 6372.572584051682]\n",
      "투자 결과 :  12652.252036960661\n",
      "201~220일 차 ---------------------------------\n",
      "분산 투자 :  [4213.666408492963, 4003.016046569137, 0, 4395.255795005062, 0]\n",
      "투자 결과 :  12611.93825006716\n",
      "221~240일 차 ---------------------------------\n",
      "분산 투자 :  [0, 14117.447817117949, 0, 0, 0]\n",
      "투자 결과 :  14117.447817117949\n",
      "241~260일 차 ---------------------------------\n",
      "분산 투자 :  [14117.447817117949]\n",
      "투자 결과 :  14117.447817117949\n",
      "261~280일 차 ---------------------------------\n",
      "분산 투자 :  [0, 13977.131583868586, 0, 0, 0]\n",
      "투자 결과 :  13977.131583868586\n",
      "281~300일 차 ---------------------------------\n",
      "분산 투자 :  [0, 0, 0, 15124.937637847637, 0]\n",
      "투자 결과 :  15124.937637847637\n",
      "301~320일 차 ---------------------------------\n",
      "분산 투자 :  [0, 5398.264050786083, 5359.637778418518, 0, 5185.3273674878055]\n",
      "투자 결과 :  15943.229196692408\n",
      "321~340일 차 ---------------------------------\n",
      "분산 투자 :  [15943.229196692408]\n",
      "투자 결과 :  15943.229196692408\n",
      "341~360일 차 ---------------------------------\n",
      "분산 투자 :  [15943.229196692408]\n",
      "투자 결과 :  15943.229196692408\n",
      "361~380일 차 ---------------------------------\n",
      "분산 투자 :  [0, 0, 5440.756124783196, 6549.8278247864355, 5422.014875199214]\n",
      "투자 결과 :  17412.598824768844\n",
      "381~400일 차 ---------------------------------\n",
      "분산 투자 :  [0, 0, 17564.805947388697, 0, 0]\n",
      "투자 결과 :  17564.805947388697\n",
      "401~420일 차 ---------------------------------\n",
      "분산 투자 :  [9215.908936396834, 9936.462332682113, 0, 0, 0]\n",
      "투자 결과 :  19152.371269078947\n",
      "421~440일 차 ---------------------------------\n",
      "분산 투자 :  [0, 0, 0, 20896.36680707402, 0]\n",
      "투자 결과 :  20896.36680707402\n",
      "441~460일 차 ---------------------------------\n",
      "분산 투자 :  [20896.36680707402]\n",
      "투자 결과 :  20896.36680707402\n",
      "461~480일 차 ---------------------------------\n",
      "분산 투자 :  [20896.36680707402]\n",
      "투자 결과 :  20896.36680707402\n",
      "481~500일 차 ---------------------------------\n",
      "분산 투자 :  [11154.441477967384, 14642.050170437302, 0, 0, 0]\n",
      "투자 결과 :  25796.491648404684\n",
      "501~520일 차 ---------------------------------\n",
      "분산 투자 :  [25796.491648404684]\n",
      "투자 결과 :  25796.491648404684\n",
      "521~540일 차 ---------------------------------\n",
      "분산 투자 :  [13898.779744970554, 12937.44426159545, 0, 0, 0]\n",
      "투자 결과 :  26836.224006566004\n",
      "541~560일 차 ---------------------------------\n",
      "분산 투자 :  [0, 0, 9036.928924176149, 8463.611133504513, 9077.780989472294]\n",
      "투자 결과 :  26578.32104715296\n",
      "561~580일 차 ---------------------------------\n",
      "분산 투자 :  [0, 0, 28062.399626925744, 0, 0]\n",
      "투자 결과 :  28062.399626925744\n",
      "581~600일 차 ---------------------------------\n",
      "분산 투자 :  [24676.84257393871, 0, 0, 0, 0]\n",
      "투자 결과 :  24676.84257393871\n",
      "601~620일 차 ---------------------------------\n",
      "분산 투자 :  [5705.411878067184, 5673.878984573972, 0, 6456.951100707689, 6471.001631740935]\n",
      "투자 결과 :  24307.24359508978\n",
      "621~640일 차 ---------------------------------\n",
      "분산 투자 :  [24307.24359508978]\n",
      "투자 결과 :  24307.24359508978\n",
      "641~660일 차 ---------------------------------\n",
      "분산 투자 :  [13117.457943659385, 14351.010653759253, 0, 0, 0]\n",
      "투자 결과 :  27468.468597418636\n",
      "661~680일 차 ---------------------------------\n",
      "분산 투자 :  [0, 0, 13068.809406980763, 12113.977782211605, 0]\n",
      "투자 결과 :  25182.787189192368\n",
      "------------종료------------  ◆리밸런싱 수◆ :  34\n"
     ]
    }
   ],
   "source": [
    "\n",
    "\n",
    "for 인덱스,인덱스명 in zip([KS11,KQ11,IXIC,HSI,US500],[\"KOSPI\",\"KOSDAQ\",\"NASDAQ\",\"HSI\",\"S&P500\"]):\n",
    "    df = 인덱스\n",
    "    \n",
    "    # 특성 추가--------------------------------------------------------\n",
    "    \n",
    "    \n",
    "        #스토캐스틱과 이동평균선\n",
    "    df=get_stochastic(df)\n",
    "    df=get_MA(df)\n",
    "    \n",
    "        #RSI\n",
    "    df['Momentum_1D'] = (df['Close']-df['Close'].shift(1))\n",
    "    df['RSI_14D'] = df['Momentum_1D'].rolling(center=False, window=14).apply(rsi)\n",
    "    df=df.dropna()\n",
    "    df=df[0:-(len(df)%BATCH)]\n",
    "    df = df.drop(labels = ['Momentum_1D'], axis=1)\n",
    "    \n",
    "        #이동평균선\n",
    "    MA_26=df[\"Close\"].rolling(21).mean()\n",
    "    df_MA=MA_26.dropna()\n",
    "    df_char=df[20:] # df_char : 특성 모두 추가한 data, rolling,shifting 고려해서 제거\n",
    "       #------------------------------------------------------------------\n",
    "    \n",
    "    \n",
    "    \n",
    "    \n",
    "        # y ( target ) 생성 df_char= 값, df_MA= 이동평균선---------------------\n",
    "    y=[]\n",
    "    #20개로 1개 예측\n",
    "    h=1\n",
    "    for x in range(1,len(df_char)-20+1):\n",
    "        if(df_char[\"Close\"][x-1] > df_MA[20*h]):\n",
    "            y.append(0)\n",
    "        else:\n",
    "            y.append(1)\n",
    "        if(x%20==0):\n",
    "            h=h+1\n",
    "\n",
    "    df = df_char[:-20] \n",
    "    nparr = df # 스케일링 할 데이터\n",
    "    nparr2 = df # 스케일링 안한 데이터 백업\n",
    "\n",
    "    \n",
    "    #normalizing\n",
    "    scaler = MinMaxScaler(feature_range=(0, 1))\n",
    "    df[\"Close\"]=scaler.fit_transform(nparr[\"Close\"].values.reshape(-1,1))\n",
    "    df[\"Open\"]=scaler.fit_transform(nparr[\"Open\"].values.reshape(-1,1))\n",
    "    df[\"High\"]=scaler.fit_transform(nparr[\"High\"].values.reshape(-1,1))\n",
    "    df[\"Low\"]=scaler.fit_transform(nparr[\"Low\"].values.reshape(-1,1))\n",
    "    df[\"Change\"]=scaler.fit_transform(nparr[\"Change\"].values.reshape(-1,1))\n",
    "    df[\"kdj_k\"]=scaler.fit_transform(nparr[\"kdj_k\"].values.reshape(-1,1))\n",
    "    df[\"kdj_d\"]=scaler.fit_transform(nparr[\"kdj_d\"].values.reshape(-1,1))\n",
    "    df[\"kdj_j\"]=scaler.fit_transform(nparr[\"kdj_j\"].values.reshape(-1,1))\n",
    "    df[\"MA_26\"]=scaler.fit_transform(nparr[\"MA_26\"].values.reshape(-1,1))\n",
    "    df[\"MA_52\"]=scaler.fit_transform(nparr[\"MA_52\"].values.reshape(-1,1))\n",
    "    df[\"RSI_14D\"]=scaler.fit_transform(nparr[\"RSI_14D\"].values.reshape(-1,1))\n",
    "    \n",
    "    #-----\n",
    "#     df[\"y\"]=y\n",
    "#     print(df.corr()) #상관관계 분석 ( 출력하고 싶다면 주석 제거)\n",
    "#     df = df.drop(['y'],axis = 1)\n",
    "    #-----\n",
    "    \n",
    "    df = df.drop(['Close','Open','High','Low','MA_26','MA_52'], axis = 1 ) # 상관관계 분석 후 관계 적은 특성(열) 제거\n",
    "    X=df.values\n",
    "    \n",
    "    # train test val 세팅\n",
    "    setlen=int(len(X)/20*0.7)*20 # 데이터를 7:3으로 나누고 20의 배수로 만듬\n",
    "    X_train=X[:setlen]\n",
    "    X_test=X[setlen:]\n",
    "    y_train=y[:setlen]\n",
    "    y_test=y[setlen:]\n",
    "    \n",
    "    setlen2=int(len(X_train)/20*0.3)*20 # 검증 데이터를 3:7으로 나누고 20의 배수로 만듬\n",
    "    X_val = X_train[ : setlen2]\n",
    "    y_val = y_train[ : setlen2]\n",
    "    X_train2 = X_train[setlen2 : ]\n",
    "    y_train2 = y_train[setlen2 : ]\n",
    "    \n",
    "    \n",
    "    # 딥러닝 모델에 맞는 사이즈로 전처리\n",
    "    X_train = np.reshape(X_train, (X_train.shape[0],1, X_train.shape[1]))\n",
    "    X_test = np.reshape(X_test, (X_test.shape[0],1, X_test.shape[1]))\n",
    "    \n",
    "    X_val = np.reshape(X_val, (X_val.shape[0],1, X_val.shape[1]))\n",
    "    X_train2 = np.reshape(X_train2, (X_train2.shape[0],1, X_train2.shape[1]))\n",
    "    \n",
    "    #LSTM모델 생성\n",
    "    model = Sequential()\n",
    "    model.add(LSTM(36, input_shape=(1, 5)))\n",
    "    for i in range(2):\n",
    "        model.add(Dense(18,activation='relu'))\n",
    "        model.add(Dropout(0.2))\n",
    "    model.add(Dense(1,activation='sigmoid'))\n",
    "    model.compile(loss='binary_crossentropy', optimizer='adam', metrics=['accuracy'])\n",
    "    history = model.fit(X_train2, y_train2, epochs=6, batch_size=16,validation_data=(X_val,y_val),verbose=0)\n",
    "    \n",
    "    history_dict= history.history\n",
    "    loss_values = history_dict['loss']\n",
    "    val_loss_values = history_dict['val_loss']\n",
    "    acc = history_dict['accuracy']\n",
    "    epochs = range(1,len(acc)+1)\n",
    "\n",
    "    plt.plot(epochs,loss_values,'bo',label='Training loss')\n",
    "    plt.plot(epochs,val_loss_values,'b',label='Validation loss')\n",
    "    plt.title(\"{}'s loss\".format(인덱스명))\n",
    "    plt.xlabel('Epochs')\n",
    "    plt.ylabel('Loss')\n",
    "    plt.legend()\n",
    "    plt.show()\n",
    "    pred=np.where(model.predict(X_test)>0.5,1,0)\n",
    "    예측dic[인덱스명]=pred # 예측 데이터 table에 추가\n",
    "    수익률dic[인덱스명]=nparr2[\"Close\"][setlen:] #투자 결과를 보기 위해 실제 수익률을 구함\n",
    "    \n",
    "    \n",
    "    import sklearn.metrics as metrics\n",
    "\n",
    "    print('accuracy', metrics.accuracy_score(y_test,np.where(model.predict(X_test)>0.5,1,0)) )\n",
    "    print('precision', metrics.precision_score(y_test,np.where(model.predict(X_test)>0.5,1,0)) )\n",
    "    print('recall', metrics.recall_score(y_test,np.where(model.predict(X_test)>0.5,1,0)) )\n",
    "    print('f1', metrics.f1_score(y_test,np.where(model.predict(X_test)>0.5,1,0)) )\n",
    "    print(인덱스명, \"정확도 : \", accuracy_score(y_test,np.where(model.predict(X_test)>0.5,1,0)))\n",
    "       \n",
    "    #모델 생성 완료 ------------------------------\n",
    "\n",
    "key=\"KOSPI\" #오류방지 임시\n",
    " \n",
    "while End==1: # 종료조건 ( END =0 )까지 반복\n",
    "    \n",
    "\n",
    "        if(len(수익률dic[key])==BATCH+20):\n",
    "            End=0\n",
    "            print(\"------------종료------------  ◆리밸런싱 수◆ : \" , count)\n",
    "            break\n",
    "            #----------------------------------\n",
    "        else:\n",
    "\n",
    "\n",
    "            # 날짜 출력 ------   \n",
    "            day= str(d) +\"~\" + str(dd) + \"일 차\"\n",
    "            print(day,\"---------------------------------\")\n",
    "            # --------------- \n",
    "            set_df=pd.DataFrame(columns=[\"영업일\",\"인덱스\",\"상승예측확률\",\"실제수익률\"])\n",
    "\n",
    "\n",
    "\n",
    "            for key,val in zip(예측dic.keys(),예측dic.values()): \n",
    "\n",
    "\n",
    "                #----------------------- 지수함수로 중요 비중 조정\n",
    "                e_sum = 0\n",
    "                for xx in range(1,21):\n",
    "                    e_sum=e_sum+exp(xx)\n",
    "\n",
    "                pred_list=[]\n",
    "                pred=val[BATCH-20:BATCH] # BATCH는 0부터 매 리밸런싱마다 20씩 증가\n",
    "\n",
    "                          \n",
    "                weight = 0.5\n",
    "                de=20\n",
    "                \n",
    "                for yy in pred:\n",
    "                    pred_list.append(int(yy)*(weight**de))\n",
    "                    de=de-1\n",
    "\n",
    "                pred_sum=sum(pred_list) # 가중치를 e에 대입\n",
    "                pred_sum=round(pred_sum,4) # 소수 4번째 반올림\n",
    "                #--------------------------------------------------\n",
    "\n",
    "\n",
    "                # 예측 결과를 표(dataframe)로 보기 쉽게 정리-----------------\n",
    "                if count==0:\n",
    "                    pred_dic[key]=pred_sum #pred_dic == {}\n",
    "                else:\n",
    "                    pred_dic[key]=np.append(pred_dic[key],pred_sum)\n",
    "                예측 = pred_sum\n",
    "                실제수익률 = ((수익률dic[key][BATCH+19])/(수익률dic[key][BATCH]))-1\n",
    "                turn_df=pd.DataFrame(data={\"영업일\":[day],\"인덱스\":[key],\"상승예측확률\":[예측],\"실제수익률\":[실제수익률] }, columns=[\"영업일\",\"인덱스\",\"상승예측확률\",\"실제수익률\"])\n",
    "                set_df=pd.concat([set_df,turn_df])\n",
    "                \n",
    "                if 예측>0.6:\n",
    "                    if count==0:\n",
    "                            그래프용[key]=1\n",
    "                    else:\n",
    "                        그래프용[key]=np.append(그래프용[key],1)\n",
    "                else:\n",
    "                    if count==0:\n",
    "                        그래프용[key]=0\n",
    "                    else:\n",
    "                        그래프용[key]=np.append(그래프용[key],0)\n",
    "\n",
    "                #------------------------------------------------------------\n",
    "\n",
    "            #--------데이터 20개 중 60% 이상 상승 예측 시 list에 추가(투자)\n",
    "            earn_list=[]\n",
    "\n",
    "            for x,y in zip(set_df[\"상승예측확률\"],set_df[\"실제수익률\"]):\n",
    "\n",
    "                if x>=0.6:\n",
    "                    earn_list.append(y)\n",
    "                else:\n",
    "                    earn_list.append(0)\n",
    "    \n",
    "            #-------하나도 상승 예측이 아니었다면 규제 줄이기\n",
    "            if len(earn_list)==0:\n",
    "                for x,y in zip(set_df[\"상승예측확률\"],set_df[\"실제수익률\"]):\n",
    "\n",
    "                    if x>=0.4:\n",
    "                        earn_list.append(y)\n",
    "                    else:\n",
    "                        earn_list.append(0)\n",
    "            #---------------------------------------------------------------------\n",
    "\n",
    "\n",
    "            earn_list2=[]\n",
    "            if sum(earn_list)!=0:\n",
    "                초기돈=초기돈/sum([i!=0 for i in earn_list])\n",
    "                for y in earn_list:\n",
    "                    if y!=0:\n",
    "                        earn_list2.append(초기돈+(초기돈*y))\n",
    "                    else:\n",
    "                        earn_list2.append(0)\n",
    "                초기돈=sum(earn_list2)    \n",
    "            else:\n",
    "                earn_list2.append(초기돈)\n",
    "\n",
    "\n",
    "            all_df=pd.concat([all_df,set_df])\n",
    "            BATCH=BATCH+20\n",
    "\n",
    "            print(\"분산 투자 : \",earn_list2)\n",
    "            총df2 = pd.concat([총df2,pd.DataFrame(earn_list2).transpose()])\n",
    "            print(\"투자 결과 : \",초기돈)\n",
    "            #print(set_df)\n",
    "            총df=pd.concat([총df,set_df])\n",
    "            \n",
    "            count=count+1\n",
    "            d=d+20\n",
    "            dd=dd+20\n"
   ]
  },
  {
   "cell_type": "code",
   "execution_count": 37,
   "metadata": {},
   "outputs": [
    {
     "data": {
      "text/html": [
       "<div>\n",
       "<style scoped>\n",
       "    .dataframe tbody tr th:only-of-type {\n",
       "        vertical-align: middle;\n",
       "    }\n",
       "\n",
       "    .dataframe tbody tr th {\n",
       "        vertical-align: top;\n",
       "    }\n",
       "\n",
       "    .dataframe thead th {\n",
       "        text-align: right;\n",
       "    }\n",
       "</style>\n",
       "<table border=\"1\" class=\"dataframe\">\n",
       "  <thead>\n",
       "    <tr style=\"text-align: right;\">\n",
       "      <th></th>\n",
       "      <th>영업일</th>\n",
       "      <th>인덱스</th>\n",
       "      <th>상승예측확률</th>\n",
       "      <th>실제수익률</th>\n",
       "    </tr>\n",
       "  </thead>\n",
       "  <tbody>\n",
       "    <tr>\n",
       "      <th>0</th>\n",
       "      <td>601~620일 차</td>\n",
       "      <td>KOSPI</td>\n",
       "      <td>1.4352</td>\n",
       "      <td>-0.075180</td>\n",
       "    </tr>\n",
       "    <tr>\n",
       "      <th>0</th>\n",
       "      <td>601~620일 차</td>\n",
       "      <td>KOSDAQ</td>\n",
       "      <td>1.4300</td>\n",
       "      <td>-0.080291</td>\n",
       "    </tr>\n",
       "    <tr>\n",
       "      <th>0</th>\n",
       "      <td>601~620일 차</td>\n",
       "      <td>NASDAQ</td>\n",
       "      <td>0.6000</td>\n",
       "      <td>0.052807</td>\n",
       "    </tr>\n",
       "    <tr>\n",
       "      <th>0</th>\n",
       "      <td>601~620일 차</td>\n",
       "      <td>HSI</td>\n",
       "      <td>1.4752</td>\n",
       "      <td>0.046641</td>\n",
       "    </tr>\n",
       "    <tr>\n",
       "      <th>0</th>\n",
       "      <td>601~620일 차</td>\n",
       "      <td>S&amp;P500</td>\n",
       "      <td>0.9602</td>\n",
       "      <td>0.048919</td>\n",
       "    </tr>\n",
       "    <tr>\n",
       "      <th>0</th>\n",
       "      <td>621~640일 차</td>\n",
       "      <td>KOSPI</td>\n",
       "      <td>1.4999</td>\n",
       "      <td>-0.045378</td>\n",
       "    </tr>\n",
       "    <tr>\n",
       "      <th>0</th>\n",
       "      <td>621~640일 차</td>\n",
       "      <td>KOSDAQ</td>\n",
       "      <td>0.7166</td>\n",
       "      <td>-0.050542</td>\n",
       "    </tr>\n",
       "    <tr>\n",
       "      <th>0</th>\n",
       "      <td>621~640일 차</td>\n",
       "      <td>NASDAQ</td>\n",
       "      <td>0.0054</td>\n",
       "      <td>-0.003199</td>\n",
       "    </tr>\n",
       "    <tr>\n",
       "      <th>0</th>\n",
       "      <td>621~640일 차</td>\n",
       "      <td>HSI</td>\n",
       "      <td>0.5399</td>\n",
       "      <td>-0.068117</td>\n",
       "    </tr>\n",
       "    <tr>\n",
       "      <th>0</th>\n",
       "      <td>621~640일 차</td>\n",
       "      <td>S&amp;P500</td>\n",
       "      <td>0.0032</td>\n",
       "      <td>0.018879</td>\n",
       "    </tr>\n",
       "    <tr>\n",
       "      <th>0</th>\n",
       "      <td>641~660일 차</td>\n",
       "      <td>KOSPI</td>\n",
       "      <td>1.4063</td>\n",
       "      <td>0.079304</td>\n",
       "    </tr>\n",
       "    <tr>\n",
       "      <th>0</th>\n",
       "      <td>641~660일 차</td>\n",
       "      <td>KOSDAQ</td>\n",
       "      <td>1.3755</td>\n",
       "      <td>0.180801</td>\n",
       "    </tr>\n",
       "    <tr>\n",
       "      <th>0</th>\n",
       "      <td>641~660일 차</td>\n",
       "      <td>NASDAQ</td>\n",
       "      <td>0.3508</td>\n",
       "      <td>0.015648</td>\n",
       "    </tr>\n",
       "    <tr>\n",
       "      <th>0</th>\n",
       "      <td>641~660일 차</td>\n",
       "      <td>HSI</td>\n",
       "      <td>0.8832</td>\n",
       "      <td>-0.033196</td>\n",
       "    </tr>\n",
       "    <tr>\n",
       "      <th>0</th>\n",
       "      <td>641~660일 차</td>\n",
       "      <td>S&amp;P500</td>\n",
       "      <td>0.1773</td>\n",
       "      <td>0.020844</td>\n",
       "    </tr>\n",
       "    <tr>\n",
       "      <th>0</th>\n",
       "      <td>661~680일 차</td>\n",
       "      <td>KOSPI</td>\n",
       "      <td>0.7524</td>\n",
       "      <td>-0.155708</td>\n",
       "    </tr>\n",
       "    <tr>\n",
       "      <th>0</th>\n",
       "      <td>661~680일 차</td>\n",
       "      <td>KOSDAQ</td>\n",
       "      <td>0.0000</td>\n",
       "      <td>-0.210812</td>\n",
       "    </tr>\n",
       "    <tr>\n",
       "      <th>0</th>\n",
       "      <td>661~680일 차</td>\n",
       "      <td>NASDAQ</td>\n",
       "      <td>1.4849</td>\n",
       "      <td>-0.048450</td>\n",
       "    </tr>\n",
       "    <tr>\n",
       "      <th>0</th>\n",
       "      <td>661~680일 차</td>\n",
       "      <td>HSI</td>\n",
       "      <td>1.4946</td>\n",
       "      <td>-0.117972</td>\n",
       "    </tr>\n",
       "    <tr>\n",
       "      <th>0</th>\n",
       "      <td>661~680일 차</td>\n",
       "      <td>S&amp;P500</td>\n",
       "      <td>0.4048</td>\n",
       "      <td>-0.048319</td>\n",
       "    </tr>\n",
       "  </tbody>\n",
       "</table>\n",
       "</div>"
      ],
      "text/plain": [
       "          영업일     인덱스  상승예측확률     실제수익률\n",
       "0  601~620일 차   KOSPI  1.4352 -0.075180\n",
       "0  601~620일 차  KOSDAQ  1.4300 -0.080291\n",
       "0  601~620일 차  NASDAQ  0.6000  0.052807\n",
       "0  601~620일 차     HSI  1.4752  0.046641\n",
       "0  601~620일 차  S&P500  0.9602  0.048919\n",
       "0  621~640일 차   KOSPI  1.4999 -0.045378\n",
       "0  621~640일 차  KOSDAQ  0.7166 -0.050542\n",
       "0  621~640일 차  NASDAQ  0.0054 -0.003199\n",
       "0  621~640일 차     HSI  0.5399 -0.068117\n",
       "0  621~640일 차  S&P500  0.0032  0.018879\n",
       "0  641~660일 차   KOSPI  1.4063  0.079304\n",
       "0  641~660일 차  KOSDAQ  1.3755  0.180801\n",
       "0  641~660일 차  NASDAQ  0.3508  0.015648\n",
       "0  641~660일 차     HSI  0.8832 -0.033196\n",
       "0  641~660일 차  S&P500  0.1773  0.020844\n",
       "0  661~680일 차   KOSPI  0.7524 -0.155708\n",
       "0  661~680일 차  KOSDAQ  0.0000 -0.210812\n",
       "0  661~680일 차  NASDAQ  1.4849 -0.048450\n",
       "0  661~680일 차     HSI  1.4946 -0.117972\n",
       "0  661~680일 차  S&P500  0.4048 -0.048319"
      ]
     },
     "execution_count": 37,
     "metadata": {},
     "output_type": "execute_result"
    }
   ],
   "source": [
    "총df[-20:]"
   ]
  },
  {
   "cell_type": "code",
   "execution_count": 34,
   "metadata": {},
   "outputs": [
    {
     "data": {
      "text/plain": [
       "[0.0,\n",
       " 0.0,\n",
       " 0.0,\n",
       " 0.0,\n",
       " 0.0,\n",
       " 0.0,\n",
       " 0.0,\n",
       " 0.0,\n",
       " 0.0,\n",
       " 0.0,\n",
       " 0.0,\n",
       " 0.0,\n",
       " 0.0,\n",
       " 0.08235429999999996,\n",
       " 0.0,\n",
       " 0.0,\n",
       " 0.0,\n",
       " 0.0,\n",
       " 0.0,\n",
       " 0.0]"
      ]
     },
     "execution_count": 34,
     "metadata": {},
     "output_type": "execute_result"
    }
   ],
   "source": [
    "pred_list"
   ]
  },
  {
   "cell_type": "code",
   "execution_count": 132,
   "metadata": {},
   "outputs": [
    {
     "data": {
      "image/png": "[encoded data removed]",
      "text/plain": [
       "<Figure size 432x288 with 1 Axes>"
      ]
     },
     "metadata": {
      "needs_background": "light"
     },
     "output_type": "display_data"
    }
   ],
   "source": [
    " plt.plot(epochs,loss_values,'bo',label='Training loss')\n",
    "plt.plot(epochs,val_loss_values,'b',label='Validation loss')\n",
    "plt.title(\"{}'s loss\".format(인덱스명))\n",
    "plt.xlabel('Epochs')\n",
    "plt.ylabel('Loss')\n",
    "plt.legend()\n",
    "plt.show()"
   ]
  },
  {
   "cell_type": "code",
   "execution_count": 130,
   "metadata": {},
   "outputs": [
    {
     "data": {
      "text/html": [
       "<div>\n",
       "<style scoped>\n",
       "    .dataframe tbody tr th:only-of-type {\n",
       "        vertical-align: middle;\n",
       "    }\n",
       "\n",
       "    .dataframe tbody tr th {\n",
       "        vertical-align: top;\n",
       "    }\n",
       "\n",
       "    .dataframe thead th {\n",
       "        text-align: right;\n",
       "    }\n",
       "</style>\n",
       "<table border=\"1\" class=\"dataframe\">\n",
       "  <thead>\n",
       "    <tr style=\"text-align: right;\">\n",
       "      <th></th>\n",
       "      <th>영업일</th>\n",
       "      <th>인덱스</th>\n",
       "      <th>상승예측확률</th>\n",
       "      <th>실제수익률</th>\n",
       "    </tr>\n",
       "  </thead>\n",
       "  <tbody>\n",
       "    <tr>\n",
       "      <th>0</th>\n",
       "      <td>1~20일 차</td>\n",
       "      <td>KOSPI</td>\n",
       "      <td>0.9933</td>\n",
       "      <td>-0.002441</td>\n",
       "    </tr>\n",
       "    <tr>\n",
       "      <th>0</th>\n",
       "      <td>1~20일 차</td>\n",
       "      <td>KOSDAQ</td>\n",
       "      <td>0.0025</td>\n",
       "      <td>0.003883</td>\n",
       "    </tr>\n",
       "    <tr>\n",
       "      <th>0</th>\n",
       "      <td>1~20일 차</td>\n",
       "      <td>NASDAQ</td>\n",
       "      <td>0.9570</td>\n",
       "      <td>0.131118</td>\n",
       "    </tr>\n",
       "    <tr>\n",
       "      <th>0</th>\n",
       "      <td>1~20일 차</td>\n",
       "      <td>HSI</td>\n",
       "      <td>0.9999</td>\n",
       "      <td>-0.121905</td>\n",
       "    </tr>\n",
       "    <tr>\n",
       "      <th>0</th>\n",
       "      <td>1~20일 차</td>\n",
       "      <td>S&amp;P500</td>\n",
       "      <td>0.0067</td>\n",
       "      <td>0.119830</td>\n",
       "    </tr>\n",
       "    <tr>\n",
       "      <th>...</th>\n",
       "      <td>...</td>\n",
       "      <td>...</td>\n",
       "      <td>...</td>\n",
       "      <td>...</td>\n",
       "    </tr>\n",
       "    <tr>\n",
       "      <th>0</th>\n",
       "      <td>661~680일 차</td>\n",
       "      <td>KOSPI</td>\n",
       "      <td>0.3496</td>\n",
       "      <td>-0.155708</td>\n",
       "    </tr>\n",
       "    <tr>\n",
       "      <th>0</th>\n",
       "      <td>661~680일 차</td>\n",
       "      <td>KOSDAQ</td>\n",
       "      <td>0.0000</td>\n",
       "      <td>-0.210812</td>\n",
       "    </tr>\n",
       "    <tr>\n",
       "      <th>0</th>\n",
       "      <td>661~680일 차</td>\n",
       "      <td>NASDAQ</td>\n",
       "      <td>0.9999</td>\n",
       "      <td>-0.048450</td>\n",
       "    </tr>\n",
       "    <tr>\n",
       "      <th>0</th>\n",
       "      <td>661~680일 차</td>\n",
       "      <td>HSI</td>\n",
       "      <td>1.0000</td>\n",
       "      <td>-0.117972</td>\n",
       "    </tr>\n",
       "    <tr>\n",
       "      <th>0</th>\n",
       "      <td>661~680일 차</td>\n",
       "      <td>S&amp;P500</td>\n",
       "      <td>0.2347</td>\n",
       "      <td>-0.048319</td>\n",
       "    </tr>\n",
       "  </tbody>\n",
       "</table>\n",
       "<p>170 rows × 4 columns</p>\n",
       "</div>"
      ],
      "text/plain": [
       "           영업일     인덱스  상승예측확률     실제수익률\n",
       "0      1~20일 차   KOSPI  0.9933 -0.002441\n",
       "0      1~20일 차  KOSDAQ  0.0025  0.003883\n",
       "0      1~20일 차  NASDAQ  0.9570  0.131118\n",
       "0      1~20일 차     HSI  0.9999 -0.121905\n",
       "0      1~20일 차  S&P500  0.0067  0.119830\n",
       "..         ...     ...     ...       ...\n",
       "0   661~680일 차   KOSPI  0.3496 -0.155708\n",
       "0   661~680일 차  KOSDAQ  0.0000 -0.210812\n",
       "0   661~680일 차  NASDAQ  0.9999 -0.048450\n",
       "0   661~680일 차     HSI  1.0000 -0.117972\n",
       "0   661~680일 차  S&P500  0.2347 -0.048319\n",
       "\n",
       "[170 rows x 4 columns]"
      ]
     },
     "execution_count": 130,
     "metadata": {},
     "output_type": "execute_result"
    }
   ],
   "source": []
  },
  {
   "cell_type": "code",
   "execution_count": 116,
   "metadata": {},
   "outputs": [],
   "source": []
  },
  {
   "cell_type": "code",
   "execution_count": 124,
   "metadata": {},
   "outputs": [],
   "source": []
  },
  {
   "cell_type": "code",
   "execution_count": 127,
   "metadata": {},
   "outputs": [
    {
     "data": {
      "text/plain": [
       "[<matplotlib.lines.Line2D at 0x194697c5748>]"
      ]
     },
     "execution_count": 127,
     "metadata": {},
     "output_type": "execute_result"
    },
    {
     "data": {
      "image/png": "[encoded data removed]",
      "text/plain": [
       "<Figure size 432x288 with 1 Axes>"
      ]
     },
     "metadata": {
      "needs_background": "light"
     },
     "output_type": "display_data"
    }
   ],
   "source": [
    "plt.plot(그래프용[\"KOSPI\"],'.')\n",
    "plt.plot(그래프용[\"KOSDAQ\"],'.')\n",
    "plt.plot(그래프용[\"NASDAQ\"],'.')\n",
    "plt.plot(그래프용[\"HSI\"],'.')\n",
    "plt.plot(그래프용[\"S&P500\"],'.')"
   ]
  },
  {
   "cell_type": "code",
   "execution_count": 128,
   "metadata": {},
   "outputs": [
    {
     "data": {
      "image/png": "[encoded data removed]",
      "text/plain": [
       "<Figure size 432x288 with 1 Axes>"
      ]
     },
     "metadata": {
      "needs_background": "light"
     },
     "output_type": "display_data"
    }
   ],
   "source": [
    "plt.plot(그래프용2[\"KOSPI\"],'.')\n",
    "plt.plot(그래프용2[\"KOSDAQ\"],'.')\n",
    "plt.plot(그래프용2[\"NASDAQ\"],'.')\n",
    "plt.plot(그래프용2[\"HSI\"],'.')\n",
    "plt.plot(그래프용2[\"S&P500\"],'.')\n",
    "plt.xlabel(\"Rebalancing count\")\n",
    "\n",
    "fig = plt.gcf()\n",
    "fig.savefig('oo.png', dpi=fig.dpi)"
   ]
  },
  {
   "cell_type": "code",
   "execution_count": 68,
   "metadata": {},
   "outputs": [],
   "source": [
    "총df[-20:].to_csv(\"hi.csv\",encoding=\"UTF-8\")"
   ]
  },
  {
   "cell_type": "code",
   "execution_count": 60,
   "metadata": {},
   "outputs": [
    {
     "data": {
      "text/html": [
       "<div>\n",
       "<style scoped>\n",
       "    .dataframe tbody tr th:only-of-type {\n",
       "        vertical-align: middle;\n",
       "    }\n",
       "\n",
       "    .dataframe tbody tr th {\n",
       "        vertical-align: top;\n",
       "    }\n",
       "\n",
       "    .dataframe thead th {\n",
       "        text-align: right;\n",
       "    }\n",
       "</style>\n",
       "<table border=\"1\" class=\"dataframe\">\n",
       "  <thead>\n",
       "    <tr style=\"text-align: right;\">\n",
       "      <th></th>\n",
       "      <th>Close</th>\n",
       "      <th>Open</th>\n",
       "      <th>High</th>\n",
       "      <th>Low</th>\n",
       "      <th>Change</th>\n",
       "    </tr>\n",
       "    <tr>\n",
       "      <th>Date</th>\n",
       "      <th></th>\n",
       "      <th></th>\n",
       "      <th></th>\n",
       "      <th></th>\n",
       "      <th></th>\n",
       "    </tr>\n",
       "  </thead>\n",
       "  <tbody>\n",
       "    <tr>\n",
       "      <th>2009-01-02</th>\n",
       "      <td>1157.40</td>\n",
       "      <td>1132.87</td>\n",
       "      <td>1157.40</td>\n",
       "      <td>1118.84</td>\n",
       "      <td>0.0293</td>\n",
       "    </tr>\n",
       "    <tr>\n",
       "      <th>2009-01-05</th>\n",
       "      <td>1173.57</td>\n",
       "      <td>1180.98</td>\n",
       "      <td>1185.22</td>\n",
       "      <td>1166.66</td>\n",
       "      <td>0.0140</td>\n",
       "    </tr>\n",
       "    <tr>\n",
       "      <th>2009-01-06</th>\n",
       "      <td>1194.28</td>\n",
       "      <td>1183.52</td>\n",
       "      <td>1203.59</td>\n",
       "      <td>1179.94</td>\n",
       "      <td>0.0176</td>\n",
       "    </tr>\n",
       "    <tr>\n",
       "      <th>2009-01-07</th>\n",
       "      <td>1228.17</td>\n",
       "      <td>1198.85</td>\n",
       "      <td>1228.56</td>\n",
       "      <td>1195.20</td>\n",
       "      <td>0.0284</td>\n",
       "    </tr>\n",
       "    <tr>\n",
       "      <th>2009-01-08</th>\n",
       "      <td>1205.70</td>\n",
       "      <td>1212.70</td>\n",
       "      <td>1218.43</td>\n",
       "      <td>1195.15</td>\n",
       "      <td>-0.0183</td>\n",
       "    </tr>\n",
       "    <tr>\n",
       "      <th>...</th>\n",
       "      <td>...</td>\n",
       "      <td>...</td>\n",
       "      <td>...</td>\n",
       "      <td>...</td>\n",
       "      <td>...</td>\n",
       "    </tr>\n",
       "    <tr>\n",
       "      <th>2018-12-21</th>\n",
       "      <td>2061.49</td>\n",
       "      <td>2052.70</td>\n",
       "      <td>2061.51</td>\n",
       "      <td>2049.76</td>\n",
       "      <td>0.0007</td>\n",
       "    </tr>\n",
       "    <tr>\n",
       "      <th>2018-12-24</th>\n",
       "      <td>2055.01</td>\n",
       "      <td>2050.38</td>\n",
       "      <td>2059.94</td>\n",
       "      <td>2046.18</td>\n",
       "      <td>-0.0031</td>\n",
       "    </tr>\n",
       "    <tr>\n",
       "      <th>2018-12-26</th>\n",
       "      <td>2028.01</td>\n",
       "      <td>2028.81</td>\n",
       "      <td>2037.83</td>\n",
       "      <td>2014.28</td>\n",
       "      <td>-0.0131</td>\n",
       "    </tr>\n",
       "    <tr>\n",
       "      <th>2018-12-27</th>\n",
       "      <td>2028.44</td>\n",
       "      <td>2032.09</td>\n",
       "      <td>2035.57</td>\n",
       "      <td>2021.39</td>\n",
       "      <td>0.0002</td>\n",
       "    </tr>\n",
       "    <tr>\n",
       "      <th>2018-12-28</th>\n",
       "      <td>2041.04</td>\n",
       "      <td>2036.70</td>\n",
       "      <td>2046.97</td>\n",
       "      <td>2035.41</td>\n",
       "      <td>0.0062</td>\n",
       "    </tr>\n",
       "  </tbody>\n",
       "</table>\n",
       "<p>2474 rows × 5 columns</p>\n",
       "</div>"
      ],
      "text/plain": [
       "              Close     Open     High      Low  Change\n",
       "Date                                                  \n",
       "2009-01-02  1157.40  1132.87  1157.40  1118.84  0.0293\n",
       "2009-01-05  1173.57  1180.98  1185.22  1166.66  0.0140\n",
       "2009-01-06  1194.28  1183.52  1203.59  1179.94  0.0176\n",
       "2009-01-07  1228.17  1198.85  1228.56  1195.20  0.0284\n",
       "2009-01-08  1205.70  1212.70  1218.43  1195.15 -0.0183\n",
       "...             ...      ...      ...      ...     ...\n",
       "2018-12-21  2061.49  2052.70  2061.51  2049.76  0.0007\n",
       "2018-12-24  2055.01  2050.38  2059.94  2046.18 -0.0031\n",
       "2018-12-26  2028.01  2028.81  2037.83  2014.28 -0.0131\n",
       "2018-12-27  2028.44  2032.09  2035.57  2021.39  0.0002\n",
       "2018-12-28  2041.04  2036.70  2046.97  2035.41  0.0062\n",
       "\n",
       "[2474 rows x 5 columns]"
      ]
     },
     "execution_count": 60,
     "metadata": {},
     "output_type": "execute_result"
    }
   ],
   "source": [
    "KS11"
   ]
  },
  {
   "cell_type": "code",
   "execution_count": 102,
   "metadata": {},
   "outputs": [
    {
     "name": "stdout",
     "output_type": "stream",
     "text": [
      "gk0.5 (2400, 12)\n",
      "gk (2380, 11)\n"
     ]
    }
   ],
   "source": [
    "\n",
    "\n",
    "df = KS11\n",
    "\n",
    "# 특성 추가--------------------------------------------------------\n",
    "\n",
    "\n",
    "    #스토캐스틱과 이동평균선\n",
    "df=get_stochastic(df)\n",
    "df=get_MA(df)\n",
    "    #RSI\n",
    "df['Momentum_1D'] = (df['Close']-df['Close'].shift(1))\n",
    "df['RSI_14D'] = df['Momentum_1D'].rolling(center=False, window=14).apply(rsi)\n",
    "\n",
    "df=df.dropna()\n",
    "df=df[0:-(len(df)%BATCH)]\n",
    "print(\"gk0.5\",df.shape)\n",
    "df = df.drop(labels = ['Momentum_1D'], axis=1)\n",
    "    #이동평균선\n",
    "MA_26=df[\"Close\"].rolling(21).mean()\n",
    "df_MA=MA_26.dropna()\n",
    "df_char=df[20:] # df_char : 특성 모두 추가한 data, rolling,shifting 고려해서 제거\n",
    "   #------------------------------------------------------------------\n",
    "print(\"gk\",df_char.shape)\n",
    "\n",
    "\n",
    "\n",
    "    # y ( target ) 생성 df_char= 값, df_MA= 이동평균선---------------------\n",
    "y=[]\n",
    "#20개로 1개 예측\n",
    "h=1\n",
    "for x in range(1,len(df_char)+1):\n",
    "    if(df_char[\"Close\"][x-1] > df_MA[20*h-1]):\n",
    "        y.append(0)\n",
    "    else:\n",
    "        y.append(1)\n",
    "    if(x%20==0):\n",
    "        h=h+1\n",
    "\n",
    "df = df_char[:] \n",
    "nparr = df # 스케일링 할 데이터\n",
    "nparr2 = df # 스케일링 안한 데이터 백업\n",
    "\n",
    "\n",
    "#-----\n",
    "#     df[\"y\"]=y\n",
    "#     print(df.corr()) #상관관계 분석 ( 출력하고 싶다면 주석 제거)\n",
    "#     df = df.drop(['y'],axis = 1)\n",
    "#-----\n",
    "\n",
    "df = df.drop(['Open','High','Low','MA_26','MA_52'], axis = 1 ) # 상관관계 분석 후 관계 적은 특성(열) 제거\n",
    "X=df\n",
    "# train test val 세팅\n",
    "setlen=int(len(X)/20*0.7)*20 # 데이터를 7:3으로 나누고 20의 배수로 만듬\n",
    "X_train=X[:setlen]\n",
    "X_test=X[setlen:]\n",
    "y_train=y[:setlen]\n",
    "y_test=y[setlen:]\n",
    "\n",
    "setlen2=int(len(X_train)/20*0.3)*20 # 검증 데이터를 3:7으로 나누고 20의 배수로 만듬\n",
    "X_val = X_train[ : setlen2]\n",
    "y_val = y_train[ : setlen2]\n",
    "X_train2 = X_train[setlen2 : ]\n",
    "y_train2 = y_train[setlen2 : ]\n",
    "\n"
   ]
  },
  {
   "cell_type": "code",
   "execution_count": 65,
   "metadata": {},
   "outputs": [
    {
     "data": {
      "text/plain": [
       "660"
      ]
     },
     "execution_count": 65,
     "metadata": {},
     "output_type": "execute_result"
    }
   ],
   "source": [
    "len(y_test)"
   ]
  },
  {
   "cell_type": "code",
   "execution_count": 36,
   "metadata": {},
   "outputs": [
    {
     "data": {
      "text/plain": [
       "(2474, 5)"
      ]
     },
     "execution_count": 36,
     "metadata": {},
     "output_type": "execute_result"
    }
   ],
   "source": [
    "KS11.shape"
   ]
  },
  {
   "cell_type": "code",
   "execution_count": 103,
   "metadata": {},
   "outputs": [
    {
     "data": {
      "text/plain": [
       "(720, 6)"
      ]
     },
     "execution_count": 103,
     "metadata": {},
     "output_type": "execute_result"
    }
   ],
   "source": [
    "X_test.shape"
   ]
  },
  {
   "cell_type": "code",
   "execution_count": 95,
   "metadata": {},
   "outputs": [
    {
     "data": {
      "text/plain": [
       "35"
      ]
     },
     "execution_count": 95,
     "metadata": {},
     "output_type": "execute_result"
    }
   ],
   "source": [
    "len(그래프용[\"S&P500\"])"
   ]
  },
  {
   "cell_type": "code",
   "execution_count": 96,
   "metadata": {},
   "outputs": [],
   "source": [
    "a=그래프용"
   ]
  },
  {
   "cell_type": "code",
   "execution_count": 104,
   "metadata": {},
   "outputs": [
    {
     "data": {
      "text/plain": [
       "{'KOSPI': array([0, 0, 1, 1, 0, 0, 0, 1, 0, 1, 0, 0, 1, 0, 0, 0, 0, 0, 0, 1, 0, 0,\n",
       "        0, 1, 1, 1, 0, 0, 1, 1, 1, 1, 0, 1, 0]),\n",
       " 'KOSDAQ': array([0, 0, 0, 1, 0, 0, 1, 1, 0, 1, 1, 0, 1, 1, 1, 1, 0, 1, 0, 1, 0, 0,\n",
       "        0, 1, 0, 1, 0, 1, 0, 1, 1, 1, 0, 1, 0]),\n",
       " 'NASDAQ': array([0, 0, 0, 1, 0, 1, 0, 1, 0, 1, 0, 0, 0, 0, 0, 1, 0, 1, 1, 1, 0, 0,\n",
       "        0, 0, 1, 0, 0, 1, 0, 0, 1, 0, 0, 1, 1]),\n",
       " 'HSI': array([0, 0, 0, 1, 1, 0, 0, 0, 0, 1, 0, 0, 0, 1, 0, 0, 0, 1, 0, 0, 1, 0,\n",
       "        0, 0, 0, 0, 1, 1, 0, 1, 0, 0, 0, 1, 0]),\n",
       " 'S&P500': array([0, 0, 0, 1, 0, 1, 0, 1, 0, 1, 0, 0, 0, 0, 0, 1, 0, 0, 1, 1, 0, 0,\n",
       "        0, 0, 0, 0, 0, 1, 0, 0, 1, 0, 0, 0, 1])}"
      ]
     },
     "execution_count": 104,
     "metadata": {},
     "output_type": "execute_result"
    }
   ],
   "source": [
    "a"
   ]
  },
  {
   "cell_type": "code",
   "execution_count": 139,
   "metadata": {},
   "outputs": [],
   "source": [
    "df=X_test[\"Close\"]"
   ]
  },
  {
   "cell_type": "code",
   "execution_count": 158,
   "metadata": {},
   "outputs": [
    {
     "name": "stdout",
     "output_type": "stream",
     "text": [
      "8002.74939745866\n",
      "8613.840574689457\n",
      "9198.093917075152\n",
      "9426.371046133248\n",
      "9233.884251971085\n"
     ]
    }
   ],
   "source": [
    "for z in [\"KOSPI\",\"KOSDAQ\",\"NASDAQ\",\"HSI\",\"S&P500\"]:\n",
    "    don =10000\n",
    "    for x in range(1,36):\n",
    "        if a[z][x-1]==1:\n",
    "            don = don + don * (df[x*20]-df[(x-1)*20])/df[(x-1)*20]\n",
    "        else:\n",
    "            continue\n",
    "    print(don)"
   ]
  },
  {
   "cell_type": "code",
   "execution_count": 156,
   "metadata": {},
   "outputs": [
    {
     "data": {
      "text/plain": [
       "8613.840574689457"
      ]
     },
     "execution_count": 156,
     "metadata": {},
     "output_type": "execute_result"
    }
   ],
   "source": [
    "don"
   ]
  },
  {
   "cell_type": "code",
   "execution_count": null,
   "metadata": {},
   "outputs": [],
   "source": []
  },
  {
   "cell_type": "code",
   "execution_count": 129,
   "metadata": {},
   "outputs": [
    {
     "data": {
      "text/plain": [
       "2537.15"
      ]
     },
     "execution_count": 129,
     "metadata": {},
     "output_type": "execute_result"
    }
   ],
   "source": [
    "X_test[\"Close\"][20*x]"
   ]
  },
  {
   "cell_type": "code",
   "execution_count": 136,
   "metadata": {},
   "outputs": [
    {
     "data": {
      "text/plain": [
       "-14450.210696823591"
      ]
     },
     "execution_count": 136,
     "metadata": {},
     "output_type": "execute_result"
    }
   ],
   "source": []
  },
  {
   "cell_type": "code",
   "execution_count": 145,
   "metadata": {},
   "outputs": [
    {
     "data": {
      "text/plain": [
       "268.7468388092542"
      ]
     },
     "execution_count": 145,
     "metadata": {},
     "output_type": "execute_result"
    }
   ],
   "source": [
    "(df[40]-df[20])/df[20]*10000"
   ]
  },
  {
   "cell_type": "code",
   "execution_count": 154,
   "metadata": {},
   "outputs": [
    {
     "data": {
      "text/plain": [
       "9233.884251971085"
      ]
     },
     "execution_count": 154,
     "metadata": {},
     "output_type": "execute_result"
    }
   ],
   "source": [
    "don"
   ]
  },
  {
   "cell_type": "code",
   "execution_count": null,
   "metadata": {},
   "outputs": [],
   "source": []
  }
 ],
 "metadata": {
  "kernelspec": {
   "display_name": "Python 3",
   "language": "python",
   "name": "python3"
  },
  "language_info": {
   "codemirror_mode": {
    "name": "ipython",
    "version": 3
   },
   "file_extension": ".py",
   "mimetype": "text/x-python",
   "name": "python",
   "nbconvert_exporter": "python",
   "pygments_lexer": "ipython3",
   "version": "3.7.4"
  }
 },
 "nbformat": 4,
 "nbformat_minor": 2
}
