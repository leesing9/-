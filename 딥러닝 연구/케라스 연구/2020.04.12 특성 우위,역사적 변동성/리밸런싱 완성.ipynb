{
 "cells": [
  {
   "cell_type": "code",
   "execution_count": 1,
   "metadata": {},
   "outputs": [
    {
     "name": "stderr",
     "output_type": "stream",
     "text": [
      "Using TensorFlow backend.\n"
     ]
    }
   ],
   "source": [
    "\n",
    "%matplotlib inline\n",
    "import os\n",
    "import pandas as pd\n",
    "import numpy as np\n",
    "from keras.models import Sequential\n",
    "from keras.layers import Dense\n",
    "from keras.layers import LSTM\n",
    "from keras.layers import SimpleRNN\n",
    "\n",
    "from sklearn.preprocessing import MinMaxScaler\n",
    "import matplotlib.pyplot as plt\n",
    "import math\n",
    "from sklearn.metrics import mean_squared_error\n",
    "import FinanceDataReader as fdr"
   ]
  },
  {
   "cell_type": "code",
   "execution_count": 2,
   "metadata": {},
   "outputs": [],
   "source": [
    "#특성 추가 ------------------------------------------\n",
    "    #이동평균선\n",
    "def get_MA(df):\n",
    "    MA_26=df[\"Close\"].rolling(26).mean()\n",
    "    MA_52=df[\"Close\"].rolling(52).mean()\n",
    "    df=df.assign(MA_26=MA_26,MA_52=MA_52).dropna()\n",
    "    \n",
    "    return df\n",
    "\n",
    "    \n",
    "    #스토캐스틱\n",
    "def get_stochastic(df, n=15, m=5, t=3):\n",
    "    # n일중 최고가\n",
    "    ndays_high = df.High.rolling(window=n, min_periods=1).max()\n",
    "    # n일중 최저가\n",
    "    ndays_low = df.Low.rolling(window=n, min_periods=1).min()\n",
    " \n",
    "    # Fast%K 계산\n",
    "    kdj_k = ((df.Close - ndays_low) / (ndays_high - ndays_low))*100\n",
    "    # Fast%D (=Slow%K) 계산\n",
    "    kdj_d = kdj_k.ewm(span=m).mean()\n",
    "    # Slow%D 계산\n",
    "    kdj_j = kdj_d.ewm(span=t).mean()\n",
    " \n",
    "    # dataframe에 컬럼 추가\n",
    "    df = df.assign(kdj_k=kdj_k, kdj_d=kdj_d, kdj_j=kdj_j).dropna()\n",
    "    \n",
    "    return df\n",
    "   \n",
    "    #시간\n",
    "def get_time(df):\n",
    "    time=np.linspace(0,10,len(df),endpoint=False).reshape(-1,1)\n",
    "    df=df.assign(time=time)\n",
    "    \n",
    "    return df"
   ]
  },
  {
   "cell_type": "code",
   "execution_count": 3,
   "metadata": {},
   "outputs": [
    {
     "ename": "NameError",
     "evalue": "name 'pandf' is not defined",
     "output_type": "error",
     "traceback": [
      "\u001b[1;31m---------------------------------------------------------------------------\u001b[0m",
      "\u001b[1;31mNameError\u001b[0m                                 Traceback (most recent call last)",
      "\u001b[1;32m<ipython-input-3-442db416968c>\u001b[0m in \u001b[0;36m<module>\u001b[1;34m\u001b[0m\n\u001b[0;32m      2\u001b[0m \u001b[1;32mimport\u001b[0m \u001b[0mmath\u001b[0m\u001b[1;33m\u001b[0m\u001b[1;33m\u001b[0m\u001b[0m\n\u001b[0;32m      3\u001b[0m \u001b[0mlist\u001b[0m\u001b[1;33m=\u001b[0m\u001b[1;33m[\u001b[0m\u001b[1;33m]\u001b[0m \u001b[1;31m#로그수익률\u001b[0m\u001b[1;33m\u001b[0m\u001b[1;33m\u001b[0m\u001b[0m\n\u001b[1;32m----> 4\u001b[1;33m \u001b[1;32mfor\u001b[0m \u001b[0mx\u001b[0m \u001b[1;32min\u001b[0m \u001b[0mrange\u001b[0m\u001b[1;33m(\u001b[0m\u001b[0mpandf\u001b[0m\u001b[1;33m.\u001b[0m\u001b[0mshape\u001b[0m\u001b[1;33m[\u001b[0m\u001b[1;36m0\u001b[0m\u001b[1;33m]\u001b[0m\u001b[1;33m-\u001b[0m\u001b[1;36m1\u001b[0m\u001b[1;33m)\u001b[0m\u001b[1;33m:\u001b[0m\u001b[1;33m\u001b[0m\u001b[1;33m\u001b[0m\u001b[0m\n\u001b[0m\u001b[0;32m      5\u001b[0m     \u001b[0mlist\u001b[0m\u001b[1;33m.\u001b[0m\u001b[0mappend\u001b[0m\u001b[1;33m(\u001b[0m\u001b[0mmath\u001b[0m\u001b[1;33m.\u001b[0m\u001b[0mlog\u001b[0m\u001b[1;33m(\u001b[0m\u001b[0mpandf\u001b[0m\u001b[1;33m[\u001b[0m\u001b[1;34m\"Close\"\u001b[0m\u001b[1;33m]\u001b[0m\u001b[1;33m[\u001b[0m\u001b[0mx\u001b[0m\u001b[1;33m+\u001b[0m\u001b[1;36m1\u001b[0m\u001b[1;33m]\u001b[0m \u001b[1;33m/\u001b[0m \u001b[0mpandf\u001b[0m\u001b[1;33m[\u001b[0m\u001b[1;34m\"Close\"\u001b[0m\u001b[1;33m]\u001b[0m\u001b[1;33m[\u001b[0m\u001b[0mx\u001b[0m\u001b[1;33m]\u001b[0m\u001b[1;33m)\u001b[0m\u001b[1;33m)\u001b[0m\u001b[1;33m\u001b[0m\u001b[1;33m\u001b[0m\u001b[0m\n\u001b[0;32m      6\u001b[0m \u001b[0maverage\u001b[0m \u001b[1;33m=\u001b[0m \u001b[0msum\u001b[0m\u001b[1;33m(\u001b[0m\u001b[0mlist\u001b[0m\u001b[1;33m)\u001b[0m\u001b[1;33m/\u001b[0m\u001b[0mlen\u001b[0m\u001b[1;33m(\u001b[0m\u001b[0mlist\u001b[0m\u001b[1;33m)\u001b[0m \u001b[1;31m# 로그수익률의 평균\u001b[0m\u001b[1;33m\u001b[0m\u001b[1;33m\u001b[0m\u001b[0m\n",
      "\u001b[1;31mNameError\u001b[0m: name 'pandf' is not defined"
     ]
    }
   ],
   "source": []
  },
  {
   "cell_type": "code",
   "execution_count": 9,
   "metadata": {},
   "outputs": [],
   "source": [
    "KS11 = fdr.DataReader(\"KS11\",\"2015-01-01\",\"2019-01-01\")\n",
    "KQ11= fdr.DataReader(\"KQ11\",\"2015-01-01\",\"2019-01-01\")\n",
    "US500 = fdr.DataReader(\"US500\",\"2015-01-01\",\"2019-01-01\")\n",
    "HSI = fdr.DataReader(\"HSI\",\"2015-01-01\",\"2019-01-01\")\n",
    "IXIC = fdr.DataReader(\"IXIC\",\"2015-01-01\",\"2019-01-01\")"
   ]
  },
  {
   "cell_type": "code",
   "execution_count": 15,
   "metadata": {},
   "outputs": [
    {
     "ename": "NameError",
     "evalue": "name 'df' is not defined",
     "output_type": "error",
     "traceback": [
      "\u001b[1;31m---------------------------------------------------------------------------\u001b[0m",
      "\u001b[1;31mNameError\u001b[0m                                 Traceback (most recent call last)",
      "\u001b[1;32m<ipython-input-15-00cf07b74dcd>\u001b[0m in \u001b[0;36m<module>\u001b[1;34m\u001b[0m\n\u001b[1;32m----> 1\u001b[1;33m \u001b[0mdf\u001b[0m\u001b[1;33m\u001b[0m\u001b[1;33m\u001b[0m\u001b[0m\n\u001b[0m",
      "\u001b[1;31mNameError\u001b[0m: name 'df' is not defined"
     ]
    }
   ],
   "source": [
    "df"
   ]
  },
  {
   "cell_type": "code",
   "execution_count": 17,
   "metadata": {},
   "outputs": [
    {
     "name": "stdout",
     "output_type": "stream",
     "text": [
      "1~19일 차 ---------------------------------\n",
      "[[0.6133586]]\n",
      "상승 예측된 인덱스 :  KS11\n",
      "[[0.6126909]]\n",
      "상승 예측된 인덱스 :  KQ11\n",
      "[[0.67619604]]\n",
      "상승 예측된 인덱스 :  IXIC\n",
      "[[0.41300905]]\n",
      "[[0.651497]]\n",
      "상승 예측된 인덱스 :  US500\n",
      "분산 투자 :  [2531.898216399161, 2677.839380203348, 2451.5688170245894, 2423.221747157711]\n",
      "투자 결과 :  10084.528160784808\n",
      "\n",
      "★\n",
      "       영업일    인덱스 예측값     실제수익률\n",
      "0  1~19일 차   KS11   1  0.012759\n",
      "0  1~19일 차   KQ11   1  0.071136\n",
      "0  1~19일 차   IXIC   1 -0.019372\n",
      "0  1~19일 차    HSI   0  0.030935\n",
      "0  1~19일 차  US500   1 -0.030711\n",
      "★\n",
      "\n",
      "21~39일 차 ---------------------------------\n",
      "[[0.61333483]]\n",
      "상승 예측된 인덱스 :  KS11\n",
      "[[0.6807959]]\n",
      "상승 예측된 인덱스 :  KQ11\n",
      "[[0.7100765]]\n",
      "상승 예측된 인덱스 :  IXIC\n",
      "[[0.43008578]]\n",
      "[[0.6479705]]\n",
      "상승 예측된 인덱스 :  US500\n",
      "분산 투자 :  [2580.3024413815224, 2643.082536273267, 2699.690742113689, 2659.5232951508065]\n",
      "투자 결과 :  10582.599014919284\n",
      "\n",
      "★\n",
      "        영업일    인덱스 예측값     실제수익률\n",
      "0  21~39일 차   KS11   1  0.023470\n",
      "0  21~39일 차   KQ11   1  0.048371\n",
      "0  21~39일 차   IXIC   1  0.070825\n",
      "0  21~39일 차    HSI   0  0.009247\n",
      "0  21~39일 차  US500   1  0.054893\n",
      "★\n",
      "\n",
      "41~59일 차 ---------------------------------\n"
     ]
    },
    {
     "name": "stderr",
     "output_type": "stream",
     "text": [
      "C:\\Program Files\\anaconda3\\lib\\site-packages\\ipykernel_launcher.py:170: FutureWarning: Sorting because non-concatenation axis is not aligned. A future version\n",
      "of pandas will change to not sort by default.\n",
      "\n",
      "To accept the future behavior, pass 'sort=False'.\n",
      "\n",
      "To retain the current behavior and silence the warning, pass 'sort=True'.\n",
      "\n"
     ]
    },
    {
     "name": "stdout",
     "output_type": "stream",
     "text": [
      "[[0.59749347]]\n",
      "상승 예측된 인덱스 :  KS11\n",
      "[[0.6384713]]\n",
      "상승 예측된 인덱스 :  KQ11\n",
      "[[0.6983001]]\n",
      "상승 예측된 인덱스 :  IXIC\n",
      "[[0.4457728]]\n",
      "[[0.651283]]\n",
      "상승 예측된 인덱스 :  US500\n",
      "분산 투자 :  [2676.1100818723326, 2723.554333892239, 2592.257362461688, 2584.867066349048]\n",
      "투자 결과 :  10576.788844575307\n",
      "\n",
      "★\n",
      "        영업일    인덱스 예측값     실제수익률\n",
      "0  41~59일 차   KS11   1  0.011513\n",
      "0  41~59일 차   KQ11   1  0.029446\n",
      "0  41~59일 차   IXIC   1 -0.020181\n",
      "0  41~59일 차    HSI   0 -0.013141\n",
      "0  41~59일 차  US500   1 -0.022975\n",
      "★\n",
      "\n",
      "61~79일 차 ---------------------------------\n"
     ]
    },
    {
     "name": "stderr",
     "output_type": "stream",
     "text": [
      "C:\\Program Files\\anaconda3\\lib\\site-packages\\ipykernel_launcher.py:170: FutureWarning: Sorting because non-concatenation axis is not aligned. A future version\n",
      "of pandas will change to not sort by default.\n",
      "\n",
      "To accept the future behavior, pass 'sort=False'.\n",
      "\n",
      "To retain the current behavior and silence the warning, pass 'sort=True'.\n",
      "\n"
     ]
    },
    {
     "name": "stdout",
     "output_type": "stream",
     "text": [
      "[[0.6161331]]\n",
      "상승 예측된 인덱스 :  KS11\n",
      "[[0.61827415]]\n",
      "상승 예측된 인덱스 :  KQ11\n",
      "[[0.5406965]]\n",
      "상승 예측된 인덱스 :  IXIC\n",
      "[[0.45844078]]\n",
      "[[0.5453494]]\n",
      "상승 예측된 인덱스 :  US500\n",
      "분산 투자 :  [2845.293920522876, 2860.485041512337, 2748.9677406928254, 2717.215968359373]\n",
      "투자 결과 :  11171.96267108741\n",
      "\n",
      "★\n",
      "        영업일    인덱스 예측값     실제수익률\n",
      "0  61~79일 차   KS11   1  0.076052\n",
      "0  61~79일 차   KQ11   1  0.081797\n",
      "0  61~79일 차   IXIC   1  0.039623\n",
      "0  61~79일 차    HSI   0  0.160693\n",
      "0  61~79일 차  US500   1  0.027615\n",
      "★\n",
      "\n",
      "81~99일 차 ---------------------------------\n"
     ]
    },
    {
     "name": "stderr",
     "output_type": "stream",
     "text": [
      "C:\\Program Files\\anaconda3\\lib\\site-packages\\ipykernel_launcher.py:170: FutureWarning: Sorting because non-concatenation axis is not aligned. A future version\n",
      "of pandas will change to not sort by default.\n",
      "\n",
      "To accept the future behavior, pass 'sort=False'.\n",
      "\n",
      "To retain the current behavior and silence the warning, pass 'sort=True'.\n",
      "\n"
     ]
    },
    {
     "name": "stdout",
     "output_type": "stream",
     "text": [
      "[[0.42777762]]\n",
      "[[0.6534345]]\n",
      "상승 예측된 인덱스 :  KQ11\n",
      "[[0.6996011]]\n",
      "상승 예측된 인덱스 :  IXIC\n",
      "[[0.47731605]]\n",
      "[[0.69968915]]\n",
      "상승 예측된 인덱스 :  US500\n",
      "분산 투자 :  [3837.243070475061, 3735.536495311953, 3746.758741704832]\n",
      "투자 결과 :  11319.538307491846\n",
      "\n",
      "★\n",
      "        영업일    인덱스 예측값     실제수익률\n",
      "0  81~99일 차   KS11   0 -0.012566\n",
      "0  81~99일 차   KQ11   1  0.030412\n",
      "0  81~99일 차   IXIC   1  0.003101\n",
      "0  81~99일 차    HSI   0 -0.006462\n",
      "0  81~99일 차  US500   1  0.006115\n",
      "★\n",
      "\n",
      "101~119일 차 ---------------------------------\n"
     ]
    },
    {
     "name": "stderr",
     "output_type": "stream",
     "text": [
      "C:\\Program Files\\anaconda3\\lib\\site-packages\\ipykernel_launcher.py:170: FutureWarning: Sorting because non-concatenation axis is not aligned. A future version\n",
      "of pandas will change to not sort by default.\n",
      "\n",
      "To accept the future behavior, pass 'sort=False'.\n",
      "\n",
      "To retain the current behavior and silence the warning, pass 'sort=True'.\n",
      "\n"
     ]
    },
    {
     "name": "stdout",
     "output_type": "stream",
     "text": [
      "[[0.65119976]]\n",
      "상승 예측된 인덱스 :  KS11\n",
      "[[0.646865]]\n",
      "상승 예측된 인덱스 :  KQ11\n",
      "[[0.7253298]]\n",
      "상승 예측된 인덱스 :  IXIC\n",
      "[[0.5328758]]\n",
      "상승 예측된 인덱스 :  HSI\n",
      "[[0.7301257]]\n",
      "상승 예측된 인덱스 :  US500\n",
      "분산 투자 :  [2159.3254865946146, 2315.877848867463, 2260.8455158525203, 2170.224694737889, 2236.847476782292]\n",
      "투자 결과 :  11143.121022834779\n",
      "\n",
      "★\n",
      "          영업일    인덱스 예측값     실제수익률\n",
      "0  101~119일 차   KS11   1 -0.046195\n",
      "0  101~119일 차   KQ11   1  0.022956\n",
      "0  101~119일 차   IXIC   1 -0.001353\n",
      "0  101~119일 차    HSI   1 -0.041381\n",
      "0  101~119일 차  US500   1 -0.011953\n",
      "★\n",
      "\n",
      "121~139일 차 ---------------------------------\n"
     ]
    },
    {
     "name": "stderr",
     "output_type": "stream",
     "text": [
      "C:\\Program Files\\anaconda3\\lib\\site-packages\\ipykernel_launcher.py:170: FutureWarning: Sorting because non-concatenation axis is not aligned. A future version\n",
      "of pandas will change to not sort by default.\n",
      "\n",
      "To accept the future behavior, pass 'sort=False'.\n",
      "\n",
      "To retain the current behavior and silence the warning, pass 'sort=True'.\n",
      "\n"
     ]
    },
    {
     "name": "stdout",
     "output_type": "stream",
     "text": [
      "[[0.6506323]]\n",
      "상승 예측된 인덱스 :  KS11\n",
      "[[0.570263]]\n",
      "상승 예측된 인덱스 :  KQ11\n",
      "[[0.6518851]]\n",
      "상승 예측된 인덱스 :  IXIC\n",
      "[[0.54502153]]\n",
      "상승 예측된 인덱스 :  HSI\n",
      "[[0.62695515]]\n",
      "상승 예측된 인덱스 :  US500\n",
      "분산 투자 :  [2273.1866721740053, 2364.4325186549904, 2243.6111224026304, 2090.6941428509317, 2236.008954649694]\n",
      "투자 결과 :  11207.93341073225\n",
      "\n",
      "★\n",
      "          영업일    인덱스 예측값     실제수익률\n",
      "0  121~139일 차   KS11   1  0.019996\n",
      "0  121~139일 차   KQ11   1  0.060938\n",
      "0  121~139일 차   IXIC   1  0.006725\n",
      "0  121~139일 차    HSI   1 -0.061890\n",
      "0  121~139일 차  US500   1  0.003314\n",
      "★\n",
      "\n",
      "141~159일 차 ---------------------------------\n"
     ]
    },
    {
     "name": "stderr",
     "output_type": "stream",
     "text": [
      "C:\\Program Files\\anaconda3\\lib\\site-packages\\ipykernel_launcher.py:170: FutureWarning: Sorting because non-concatenation axis is not aligned. A future version\n",
      "of pandas will change to not sort by default.\n",
      "\n",
      "To accept the future behavior, pass 'sort=False'.\n",
      "\n",
      "To retain the current behavior and silence the warning, pass 'sort=True'.\n",
      "\n"
     ]
    },
    {
     "name": "stdout",
     "output_type": "stream",
     "text": [
      "[[0.5401448]]\n",
      "상승 예측된 인덱스 :  KS11\n",
      "[[0.6314809]]\n",
      "상승 예측된 인덱스 :  KQ11\n",
      "[[0.7383605]]\n",
      "상승 예측된 인덱스 :  IXIC\n",
      "[[0.46889693]]\n",
      "[[0.62898797]]\n",
      "상승 예측된 인덱스 :  US500\n",
      "분산 투자 :  [2651.1138296197646, 2595.0186732235184, 2767.830515942632, 2770.9639583497155]\n",
      "투자 결과 :  10784.92697713563\n",
      "\n",
      "★\n",
      "          영업일    인덱스 예측값     실제수익률\n",
      "0  141~159일 차   KS11   1 -0.053844\n",
      "0  141~159일 차   KQ11   1 -0.073864\n",
      "0  141~159일 차   IXIC   1 -0.012189\n",
      "0  141~159일 차    HSI   0 -0.055650\n",
      "0  141~159일 차  US500   1 -0.011071\n",
      "★\n",
      "\n",
      "161~179일 차 ---------------------------------\n"
     ]
    },
    {
     "name": "stderr",
     "output_type": "stream",
     "text": [
      "C:\\Program Files\\anaconda3\\lib\\site-packages\\ipykernel_launcher.py:170: FutureWarning: Sorting because non-concatenation axis is not aligned. A future version\n",
      "of pandas will change to not sort by default.\n",
      "\n",
      "To accept the future behavior, pass 'sort=False'.\n",
      "\n",
      "To retain the current behavior and silence the warning, pass 'sort=True'.\n",
      "\n"
     ]
    },
    {
     "name": "stdout",
     "output_type": "stream",
     "text": [
      "[[0.6259214]]\n",
      "상승 예측된 인덱스 :  KS11\n",
      "[[0.5319199]]\n",
      "상승 예측된 인덱스 :  KQ11\n",
      "[[0.7032886]]\n",
      "상승 예측된 인덱스 :  IXIC\n",
      "[[0.48416233]]\n",
      "[[0.72264814]]\n",
      "상승 예측된 인덱스 :  US500\n",
      "분산 투자 :  [2639.9041442258977, 2483.7136454211504, 2575.862487273058, 2547.8922298723987]\n",
      "투자 결과 :  10247.372506792504\n",
      "\n",
      "★\n",
      "          영업일    인덱스 예측값     실제수익률\n",
      "0  161~179일 차   KS11   1 -0.020891\n",
      "0  161~179일 차   KQ11   1 -0.078820\n",
      "0  161~179일 차   IXIC   1 -0.044644\n",
      "0  161~179일 차    HSI   0 -0.103650\n",
      "0  161~179일 차  US500   1 -0.055017\n",
      "★\n",
      "\n",
      "181~199일 차 ---------------------------------\n"
     ]
    },
    {
     "name": "stderr",
     "output_type": "stream",
     "text": [
      "C:\\Program Files\\anaconda3\\lib\\site-packages\\ipykernel_launcher.py:170: FutureWarning: Sorting because non-concatenation axis is not aligned. A future version\n",
      "of pandas will change to not sort by default.\n",
      "\n",
      "To accept the future behavior, pass 'sort=False'.\n",
      "\n",
      "To retain the current behavior and silence the warning, pass 'sort=True'.\n",
      "\n"
     ]
    },
    {
     "name": "stdout",
     "output_type": "stream",
     "text": [
      "[[0.6097317]]\n",
      "상승 예측된 인덱스 :  KS11\n",
      "[[0.61987686]]\n",
      "상승 예측된 인덱스 :  KQ11\n",
      "[[0.74049544]]\n",
      "상승 예측된 인덱스 :  IXIC\n",
      "[[0.49673957]]\n",
      "[[0.6900047]]\n",
      "상승 예측된 인덱스 :  US500\n",
      "분산 투자 :  [2674.8625011170852, 2617.293437309753, 2545.5145997461896, 2584.7895485985705]\n",
      "투자 결과 :  10422.460086771598\n",
      "\n",
      "★\n",
      "          영업일    인덱스 예측값     실제수익률\n",
      "0  181~199일 차   KS11   1  0.044116\n",
      "0  181~199일 차   KQ11   1  0.021645\n",
      "0  181~199일 차   IXIC   1 -0.006374\n",
      "0  181~199일 차    HSI   0  0.057038\n",
      "0  181~199일 차  US500   1  0.008957\n",
      "★\n",
      "\n",
      "201~219일 차 ---------------------------------\n"
     ]
    },
    {
     "name": "stderr",
     "output_type": "stream",
     "text": [
      "C:\\Program Files\\anaconda3\\lib\\site-packages\\ipykernel_launcher.py:170: FutureWarning: Sorting because non-concatenation axis is not aligned. A future version\n",
      "of pandas will change to not sort by default.\n",
      "\n",
      "To accept the future behavior, pass 'sort=False'.\n",
      "\n",
      "To retain the current behavior and silence the warning, pass 'sort=True'.\n",
      "\n"
     ]
    },
    {
     "name": "stdout",
     "output_type": "stream",
     "text": [
      "[[0.62218803]]\n",
      "상승 예측된 인덱스 :  KS11\n",
      "[[0.5900552]]\n",
      "상승 예측된 인덱스 :  KQ11\n",
      "[[0.7181917]]\n",
      "상승 예측된 인덱스 :  IXIC\n",
      "[[0.5256834]]\n",
      "상승 예측된 인덱스 :  HSI\n",
      "[[0.709287]]\n",
      "상승 예측된 인덱스 :  US500\n",
      "분산 투자 :  [2115.3331642937296, 2144.589821194068, 2203.2898300248035, 2084.1105333238734, 2181.3287643521194]\n",
      "투자 결과 :  10728.652113188595\n",
      "\n",
      "★\n",
      "          영업일    인덱스 예측값     실제수익률\n",
      "0  201~219일 차   KS11   1  0.014796\n",
      "0  201~219일 차   KQ11   1  0.028831\n",
      "0  201~219일 차   IXIC   1  0.056991\n",
      "0  201~219일 차    HSI   1 -0.000183\n",
      "0  201~219일 차  US500   1  0.046456\n",
      "★\n",
      "\n",
      "221~239일 차 ---------------------------------\n"
     ]
    },
    {
     "name": "stderr",
     "output_type": "stream",
     "text": [
      "C:\\Program Files\\anaconda3\\lib\\site-packages\\ipykernel_launcher.py:170: FutureWarning: Sorting because non-concatenation axis is not aligned. A future version\n",
      "of pandas will change to not sort by default.\n",
      "\n",
      "To accept the future behavior, pass 'sort=False'.\n",
      "\n",
      "To retain the current behavior and silence the warning, pass 'sort=True'.\n",
      "\n"
     ]
    },
    {
     "name": "stdout",
     "output_type": "stream",
     "text": [
      "[[0.6439422]]\n",
      "상승 예측된 인덱스 :  KS11\n",
      "[[0.54099697]]\n",
      "상승 예측된 인덱스 :  KQ11\n",
      "[[0.7061694]]\n",
      "상승 예측된 인덱스 :  IXIC\n",
      "[[0.48330617]]\n",
      "[[0.7138273]]\n",
      "상승 예측된 인덱스 :  US500\n",
      "분산 투자 :  [2629.6560235029488, 2666.288584442043, 2721.3147802827993, 2696.029435535046]\n",
      "투자 결과 :  10713.288823762836\n",
      "\n",
      "★\n",
      "          영업일    인덱스 예측값     실제수익률\n",
      "0  221~239일 차   KS11   1 -0.019576\n",
      "0  221~239일 차   KQ11   1 -0.005919\n",
      "0  221~239일 차   IXIC   1  0.014597\n",
      "0  221~239일 차    HSI   0 -0.021599\n",
      "0  221~239일 차  US500   1  0.005170\n",
      "★\n",
      "\n",
      "241~259일 차 ---------------------------------\n"
     ]
    },
    {
     "name": "stderr",
     "output_type": "stream",
     "text": [
      "C:\\Program Files\\anaconda3\\lib\\site-packages\\ipykernel_launcher.py:170: FutureWarning: Sorting because non-concatenation axis is not aligned. A future version\n",
      "of pandas will change to not sort by default.\n",
      "\n",
      "To accept the future behavior, pass 'sort=False'.\n",
      "\n",
      "To retain the current behavior and silence the warning, pass 'sort=True'.\n",
      "\n"
     ]
    },
    {
     "name": "stdout",
     "output_type": "stream",
     "text": [
      "[[0.5783892]]\n",
      "상승 예측된 인덱스 :  KS11\n",
      "[[0.673588]]\n",
      "상승 예측된 인덱스 :  KQ11\n",
      "[[0.71596]]\n",
      "상승 예측된 인덱스 :  IXIC\n",
      "[[0.4845609]]\n",
      "[[0.6043203]]\n",
      "상승 예측된 인덱스 :  US500\n",
      "분산 투자 :  [2614.366331258092, 2647.3999843893307, 2637.041469066841, 2641.0070681551406]\n",
      "투자 결과 :  10539.814852869404\n",
      "\n",
      "★\n",
      "          영업일    인덱스 예측값     실제수익률\n",
      "0  241~259일 차   KS11   1 -0.023879\n",
      "0  241~259일 차   KQ11   1 -0.011545\n",
      "0  241~259일 차   IXIC   1 -0.015413\n",
      "0  241~259일 차    HSI   0 -0.040870\n",
      "0  241~259일 차  US500   1 -0.013932\n",
      "★\n",
      "\n",
      "261~279일 차 ---------------------------------\n"
     ]
    },
    {
     "name": "stderr",
     "output_type": "stream",
     "text": [
      "C:\\Program Files\\anaconda3\\lib\\site-packages\\ipykernel_launcher.py:170: FutureWarning: Sorting because non-concatenation axis is not aligned. A future version\n",
      "of pandas will change to not sort by default.\n",
      "\n",
      "To accept the future behavior, pass 'sort=False'.\n",
      "\n",
      "To retain the current behavior and silence the warning, pass 'sort=True'.\n",
      "\n"
     ]
    },
    {
     "name": "stdout",
     "output_type": "stream",
     "text": [
      "[[0.6112968]]\n",
      "상승 예측된 인덱스 :  KS11\n",
      "[[0.649971]]\n",
      "상승 예측된 인덱스 :  KQ11\n",
      "[[0.7434141]]\n",
      "상승 예측된 인덱스 :  IXIC\n",
      "[[0.5001175]]\n",
      "상승 예측된 인덱스 :  HSI\n",
      "[[0.71057403]]\n",
      "상승 예측된 인덱스 :  US500\n",
      "분산 투자 :  [2049.5275642841552, 2104.688345016896, 1886.6650429947122, 1945.4697598987796, 1919.8613932162798]\n",
      "투자 결과 :  9906.212105410823\n",
      "\n",
      "★\n",
      "          영업일    인덱스 예측값     실제수익률\n",
      "0  261~279일 차   KS11   1 -0.027721\n",
      "0  261~279일 차   KQ11   1 -0.001553\n",
      "0  261~279일 차   IXIC   1 -0.104982\n",
      "0  261~279일 차    HSI   1 -0.077085\n",
      "0  261~279일 차  US500   1 -0.089234\n",
      "★\n",
      "\n",
      "281~299일 차 ---------------------------------\n"
     ]
    },
    {
     "name": "stderr",
     "output_type": "stream",
     "text": [
      "C:\\Program Files\\anaconda3\\lib\\site-packages\\ipykernel_launcher.py:170: FutureWarning: Sorting because non-concatenation axis is not aligned. A future version\n",
      "of pandas will change to not sort by default.\n",
      "\n",
      "To accept the future behavior, pass 'sort=False'.\n",
      "\n",
      "To retain the current behavior and silence the warning, pass 'sort=True'.\n",
      "\n"
     ]
    },
    {
     "ename": "IndexError",
     "evalue": "list index out of range",
     "output_type": "error",
     "traceback": [
      "\u001b[1;31m---------------------------------------------------------------------------\u001b[0m",
      "\u001b[1;31mIndexError\u001b[0m                                Traceback (most recent call last)",
      "\u001b[1;32m<ipython-input-17-668910bb2daf>\u001b[0m in \u001b[0;36m<module>\u001b[1;34m\u001b[0m\n\u001b[0;32m    110\u001b[0m \u001b[1;33m\u001b[0m\u001b[0m\n\u001b[0;32m    111\u001b[0m         \u001b[0my_train\u001b[0m\u001b[1;33m=\u001b[0m\u001b[0my\u001b[0m\u001b[1;33m[\u001b[0m \u001b[1;36m0\u001b[0m \u001b[1;33m:\u001b[0m \u001b[0mint\u001b[0m\u001b[1;33m(\u001b[0m\u001b[0mXtrain_size\u001b[0m\u001b[1;33m/\u001b[0m\u001b[0mBATCH\u001b[0m\u001b[1;33m)\u001b[0m \u001b[1;33m]\u001b[0m\u001b[1;33m\u001b[0m\u001b[1;33m\u001b[0m\u001b[0m\n\u001b[1;32m--> 112\u001b[1;33m         \u001b[0my_test\u001b[0m\u001b[1;33m=\u001b[0m\u001b[0my\u001b[0m\u001b[1;33m[\u001b[0m\u001b[0mint\u001b[0m\u001b[1;33m(\u001b[0m\u001b[0mXtrain_size\u001b[0m\u001b[1;33m/\u001b[0m\u001b[0mBATCH\u001b[0m\u001b[1;33m)\u001b[0m\u001b[1;33m]\u001b[0m\u001b[1;33m\u001b[0m\u001b[1;33m\u001b[0m\u001b[0m\n\u001b[0m\u001b[0;32m    113\u001b[0m \u001b[1;33m\u001b[0m\u001b[0m\n\u001b[0;32m    114\u001b[0m         \u001b[1;31m# many to one 전처리 필요\u001b[0m\u001b[1;33m\u001b[0m\u001b[1;33m\u001b[0m\u001b[1;33m\u001b[0m\u001b[0m\n",
      "\u001b[1;31mIndexError\u001b[0m: list index out of range"
     ]
    }
   ],
   "source": [
    "import time\n",
    "start = time.time()\n",
    "Xtrain_size=0\n",
    "\n",
    "END=0\n",
    "초기돈=10000\n",
    "d=1\n",
    "dd=19\n",
    "BATCH = 20\n",
    "투자결과=[]\n",
    "총df=pd.DataFrame(columns=[\"영업일\",\"인덱스\",\"예측값\",\"실제수익률\"])\n",
    "세트df=pd.DataFrame(columns=[\"영업일\",\"인덱스\",\"예측값\",\"실제수익률\"])\n",
    "\n",
    "for x in range(int(min(len(KS11),len(KQ11),len(US500),len(HSI),len(IXIC))/20)): #예측머신돌리기\n",
    "     \n",
    "    if END==1:\n",
    "        break\n",
    "        \n",
    "        \n",
    "    if (x==0): #day만들기\n",
    "        day= str(d) + \"~\" + str(dd) + \"일 차\" \n",
    "    else:\n",
    "        day= str(d+(20*x)) +\"~\" + str(dd+(20*x)) + \"일 차\"\n",
    "    print(day,\"---------------------------------\")\n",
    "    \n",
    "    세트df=pd.DataFrame(columns=[\"영업일\",\"인덱스\",\"예측값\",\"실제수익률\"])\n",
    "    \n",
    "    for 인덱스,인덱스명 in zip([KS11,KQ11,IXIC,HSI,US500],[\"KS11\",\"KQ11\",\"IXIC\",\"HSI\",\"US500\"]):\n",
    "\n",
    "        #종료 조건\n",
    "        if Xtrain_size==len(인덱스)-BATCH:\n",
    "            print(\" 종료 --------------\")\n",
    "            print(총df)\n",
    "            print(\"time : \",time.time() - start)\n",
    "            END=1\n",
    "            break\n",
    "    \n",
    "            \n",
    "        \n",
    "        \n",
    "        \n",
    "        #역사적변동성 추가 ---------------------------------\n",
    "        \n",
    "        import math\n",
    "        list=[] #로그수익률\n",
    "        for xx in range(인덱스.shape[0]-1):\n",
    "            list.append(math.log(인덱스[\"Close\"][xx+1] / 인덱스[\"Close\"][xx]))\n",
    "        average = sum(list)/len(list) # 로그수익률의 평균\n",
    "\n",
    "        list2=[] # 로그수익률의 편차의 제곱\n",
    "        for xx in range(인덱스.shape[0]-1):\n",
    "            list2.append((average - (math.log(인덱스[\"Close\"][xx+1] / 인덱스[\"Close\"][xx]))) **2)\n",
    "        average2 = sum(list2)/len(list2) #편차의 제곱의 평균\n",
    "\n",
    "        V=math.sqrt(average2 * 252) # 역사적변동성\n",
    "\n",
    "        list3=[] # 그냥 표준편차\n",
    "        for xx in 인덱스[\"Change\"]:\n",
    "            xx=abs(xx)\n",
    "            list3.append(math.sqrt(xx)/V) # 표준편차/역사적변동성\n",
    "    \n",
    "        인덱스 = 인덱스.assign(V=list3)\n",
    "    \n",
    "    \n",
    "    \n",
    "    \n",
    "        # feature 추가\n",
    "        \n",
    "        \n",
    "        df = 인덱스\n",
    "        df=get_MA(df)\n",
    "        df=get_stochastic(df)\n",
    "        df=get_time(df)\n",
    "        df=df[0:-(len(df)%BATCH)]\n",
    "        #-----------------------------------------------\n",
    "    \n",
    "    \n",
    "    \n",
    "    \n",
    "    \n",
    "    \n",
    "    \n",
    "        \n",
    "        #예측머신--------------------------------------------------------\n",
    "\n",
    "    \n",
    "        \n",
    "        \n",
    "        MA_26=df[\"Close\"].rolling(21).mean()\n",
    "        y_before=MA_26.dropna()\n",
    "        df=df[20:]\n",
    "        \n",
    "        y=[]\n",
    "        for a in range(1,10001):\n",
    "            try:\n",
    "                y.append(np.where(df[\"Close\"][-1+(BATCH*a)]>y_before[-1+(BATCH*a)],1,0)) # 이평선비교\n",
    "                #y.append(np.where(df[\"Close\"][-1+(BATCH*a)] > df[\"Close\"][-1+(BATCH*(a-1))],1,0)) #값비교\n",
    "            except:\n",
    "                break\n",
    "\n",
    "        df = df.values\n",
    "        df.astype('float32')\n",
    "        scaler = MinMaxScaler(feature_range=(0, 1))\n",
    "        df = scaler.fit_transform(df)\n",
    "\n",
    "        Xtrain_size=int(df.shape[0]/BATCH*0.7)*BATCH + (x*BATCH)\n",
    "\n",
    "        X_train=df[0:Xtrain_size]\n",
    "        X_test=df[Xtrain_size:Xtrain_size+BATCH]\n",
    "\n",
    "        y_train=y[ 0 : int(Xtrain_size/BATCH) ]\n",
    "        y_test=y[int(Xtrain_size/BATCH)]\n",
    "\n",
    "        # many to one 전처리 필요\n",
    "        y_train = np.reshape(y_train, (len(y_train), 1))\n",
    "        y_test = np.reshape(y_test, (1, 1))\n",
    "        X_train = np.reshape(X_train, (int(X_train.shape[0]/BATCH),BATCH, X_train.shape[1]))\n",
    "        X_test = np.reshape(X_test, (int(X_test.shape[0]/BATCH),BATCH, X_test.shape[1]))\n",
    "        \n",
    "    \n",
    "        X_train[:,BATCH-1,:]=0 #!!!!!!!!!!!!!!!!!!!!!!!!!!!!!!!!!!!!!!\n",
    "        X_test[:,BATCH-1,:]=0 #!!!!!!!!!!!!!!!!!!!!!!!!!!!!!!!!!!!!!!!!!\n",
    "\n",
    "        \n",
    "        # simple lstm network learning\n",
    "        model = Sequential()\n",
    "        model.add(LSTM(36, input_shape=(BATCH, 13)))\n",
    "        for i in range(3):\n",
    "            model.add(Dense(36,activation='sigmoid'))\n",
    "        model.add(Dense(1,activation='sigmoid'))\n",
    "        model.compile(loss='binary_crossentropy', optimizer='adam', metrics=['acc'])\n",
    "        model.fit(X_train, y_train, epochs=10, batch_size=16,validation_split=0.1,verbose=0)\n",
    "\n",
    "    \n",
    "        #예측머신 끝 --------predict -> 0 or 1 나옴 ---------------------\n",
    "\n",
    "        예측 = model.predict(X_test)\n",
    "        print(예측)\n",
    "        if 예측>=0.5:\n",
    "            예측=1\n",
    "        else:\n",
    "            예측=0\n",
    "        \n",
    "        y_1=인덱스.loc[::19,:][\"Close\"][:-1] # 1일차,20,40, ...\n",
    "        실제수익률 = (y_1[x+1]-y_1[x])/ y_1[x]                                         \n",
    "        턴df=pd.DataFrame(data={\"영업일\":[day],\"인덱스\":[인덱스명],\"예측값\":[예측],\"실제수익률\":[실제수익률] }\n",
    "                         , columns=[\"영업일\",\"인덱스\",\"예측값\",\"실제수익률\"])\n",
    "        \n",
    "        세트df=pd.concat([세트df,턴df])\n",
    "        \n",
    "        if int(턴df[\"예측값\"])==1:\n",
    "            print(\"상승 예측된 인덱스 : \",인덱스명)\n",
    "        \n",
    "    earn_list=[]\n",
    "    for x,y in zip(세트df[\"예측값\"],세트df[\"실제수익률\"]):\n",
    "        if x==1:\n",
    "            earn_list.append(y)\n",
    "        \n",
    "    earn_list2=[]\n",
    "    \n",
    "    if len(earn_list)!=0:\n",
    "        초기돈=초기돈/(len(earn_list))\n",
    "        for y in earn_list:\n",
    "            earn_list2.append(초기돈+(초기돈*y))\n",
    "        초기돈=sum(earn_list2)    \n",
    "    \n",
    "    else:\n",
    "        earn_list2.append(초기돈)\n",
    "        \n",
    "    총df=pd.concat([총df,세트df])\n",
    "    총df = 총df.set_index(\"영업일\")\n",
    "\n",
    "    print(\"분산 투자 : \",earn_list2)\n",
    "    print(\"투자 결과 : \",초기돈)\n",
    "    \n",
    "    print(\"\\n★\")\n",
    "    print(세트df)\n",
    "    print(\"★\\n\")\n",
    "    \n",
    "    \n",
    "\n",
    "        #MONEY = 투잣돈 * A의 20일후 change + 투잣돈 * B의 20일후 change #\"20일차MONEY\"출력\n"
   ]
  },
  {
   "cell_type": "code",
   "execution_count": 14,
   "metadata": {},
   "outputs": [
    {
     "name": "stdout",
     "output_type": "stream",
     "text": [
      "KS11  :  12033.440635796573\n",
      "수익률 :  20.334406357965726 %\n",
      "\n",
      "KQ11  :  12794.220682080704\n",
      "수익률 :  27.942206820807048 %\n",
      "\n",
      "IXIC  :  28743.816116651215\n",
      "수익률 :  187.43816116651212 %\n",
      "\n",
      "HSI  :  11843.178477295805\n",
      "수익률 :  18.431784772958064 %\n",
      "\n",
      "US500  :  22125.967572529324\n",
      "수익률 :  121.25967572529323 %\n",
      "\n",
      "분산 투자시\n",
      "2406.6881271593147\n",
      "2558.844136416141\n",
      "5748.763223330243\n",
      "2368.635695459161\n",
      "4425.193514505865\n",
      "총 수익률 :  17508.124696870727\n"
     ]
    }
   ],
   "source": [
    "# 면역전략의 수익\n",
    "list=[]\n",
    "for 인덱스,인덱스명 in zip([KS11,KQ11,IXIC,HSI,US500],[\"KS11\",\"KQ11\",\"IXIC\",\"HSI\",\"US500\"]):\n",
    "    돈 = 10000\n",
    "    df=인덱스\n",
    "    print(인덱스명,\" : \" , 돈 + ( 돈 * (df[\"Close\"][-1] - df[\"Close\"][0])/ df[\"Close\"][0] ))\n",
    "    print(\"수익률 : \",((df[\"Close\"][-1] - df[\"Close\"][0])/ df[\"Close\"][0] ) *100 , \"%\\n\")\n",
    "    list.append((df[\"Close\"][-1] - df[\"Close\"][0])/ df[\"Close\"][0] )\n",
    "\n",
    "print(\"분산 투자시\")\n",
    "list2=[]\n",
    "for x in list:\n",
    "    print(2000+(2000*x))\n",
    "    list2.append(2000+(2000*x))\n",
    "print(\"\\n총 수익 : \",sum(list2))"
   ]
  },
  {
   "cell_type": "code",
   "execution_count": 45,
   "metadata": {},
   "outputs": [
    {
     "ename": "ValueError",
     "evalue": "cannot reshape array of size 20880 into shape (4,20,20)",
     "output_type": "error",
     "traceback": [
      "\u001b[1;31m---------------------------------------------------------------------------\u001b[0m",
      "\u001b[1;31mValueError\u001b[0m                                Traceback (most recent call last)",
      "\u001b[1;32m<ipython-input-45-34b2041f9980>\u001b[0m in \u001b[0;36m<module>\u001b[1;34m\u001b[0m\n\u001b[1;32m----> 1\u001b[1;33m \u001b[0mX_train\u001b[0m \u001b[1;33m=\u001b[0m \u001b[0mnp\u001b[0m\u001b[1;33m.\u001b[0m\u001b[0mreshape\u001b[0m\u001b[1;33m(\u001b[0m\u001b[0mX_train\u001b[0m\u001b[1;33m,\u001b[0m \u001b[1;33m(\u001b[0m\u001b[0mint\u001b[0m\u001b[1;33m(\u001b[0m\u001b[0mX_train\u001b[0m\u001b[1;33m.\u001b[0m\u001b[0mshape\u001b[0m\u001b[1;33m[\u001b[0m\u001b[1;36m0\u001b[0m\u001b[1;33m]\u001b[0m\u001b[1;33m/\u001b[0m\u001b[0mBATCH\u001b[0m\u001b[1;33m)\u001b[0m\u001b[1;33m,\u001b[0m\u001b[0mBATCH\u001b[0m\u001b[1;33m,\u001b[0m \u001b[0mX_train\u001b[0m\u001b[1;33m.\u001b[0m\u001b[0mshape\u001b[0m\u001b[1;33m[\u001b[0m\u001b[1;36m1\u001b[0m\u001b[1;33m]\u001b[0m\u001b[1;33m)\u001b[0m\u001b[1;33m)\u001b[0m\u001b[1;33m\u001b[0m\u001b[1;33m\u001b[0m\u001b[0m\n\u001b[0m",
      "\u001b[1;32mC:\\Program Files\\anaconda3\\lib\\site-packages\\numpy\\core\\fromnumeric.py\u001b[0m in \u001b[0;36mreshape\u001b[1;34m(a, newshape, order)\u001b[0m\n\u001b[0;32m    290\u001b[0m            [5, 6]])\n\u001b[0;32m    291\u001b[0m     \"\"\"\n\u001b[1;32m--> 292\u001b[1;33m     \u001b[1;32mreturn\u001b[0m \u001b[0m_wrapfunc\u001b[0m\u001b[1;33m(\u001b[0m\u001b[0ma\u001b[0m\u001b[1;33m,\u001b[0m \u001b[1;34m'reshape'\u001b[0m\u001b[1;33m,\u001b[0m \u001b[0mnewshape\u001b[0m\u001b[1;33m,\u001b[0m \u001b[0morder\u001b[0m\u001b[1;33m=\u001b[0m\u001b[0morder\u001b[0m\u001b[1;33m)\u001b[0m\u001b[1;33m\u001b[0m\u001b[1;33m\u001b[0m\u001b[0m\n\u001b[0m\u001b[0;32m    293\u001b[0m \u001b[1;33m\u001b[0m\u001b[0m\n\u001b[0;32m    294\u001b[0m \u001b[1;33m\u001b[0m\u001b[0m\n",
      "\u001b[1;32mC:\\Program Files\\anaconda3\\lib\\site-packages\\numpy\\core\\fromnumeric.py\u001b[0m in \u001b[0;36m_wrapfunc\u001b[1;34m(obj, method, *args, **kwds)\u001b[0m\n\u001b[0;32m     54\u001b[0m \u001b[1;32mdef\u001b[0m \u001b[0m_wrapfunc\u001b[0m\u001b[1;33m(\u001b[0m\u001b[0mobj\u001b[0m\u001b[1;33m,\u001b[0m \u001b[0mmethod\u001b[0m\u001b[1;33m,\u001b[0m \u001b[1;33m*\u001b[0m\u001b[0margs\u001b[0m\u001b[1;33m,\u001b[0m \u001b[1;33m**\u001b[0m\u001b[0mkwds\u001b[0m\u001b[1;33m)\u001b[0m\u001b[1;33m:\u001b[0m\u001b[1;33m\u001b[0m\u001b[1;33m\u001b[0m\u001b[0m\n\u001b[0;32m     55\u001b[0m     \u001b[1;32mtry\u001b[0m\u001b[1;33m:\u001b[0m\u001b[1;33m\u001b[0m\u001b[1;33m\u001b[0m\u001b[0m\n\u001b[1;32m---> 56\u001b[1;33m         \u001b[1;32mreturn\u001b[0m \u001b[0mgetattr\u001b[0m\u001b[1;33m(\u001b[0m\u001b[0mobj\u001b[0m\u001b[1;33m,\u001b[0m \u001b[0mmethod\u001b[0m\u001b[1;33m)\u001b[0m\u001b[1;33m(\u001b[0m\u001b[1;33m*\u001b[0m\u001b[0margs\u001b[0m\u001b[1;33m,\u001b[0m \u001b[1;33m**\u001b[0m\u001b[0mkwds\u001b[0m\u001b[1;33m)\u001b[0m\u001b[1;33m\u001b[0m\u001b[1;33m\u001b[0m\u001b[0m\n\u001b[0m\u001b[0;32m     57\u001b[0m \u001b[1;33m\u001b[0m\u001b[0m\n\u001b[0;32m     58\u001b[0m     \u001b[1;31m# An AttributeError occurs if the object does not have\u001b[0m\u001b[1;33m\u001b[0m\u001b[1;33m\u001b[0m\u001b[1;33m\u001b[0m\u001b[0m\n",
      "\u001b[1;31mValueError\u001b[0m: cannot reshape array of size 20880 into shape (4,20,20)"
     ]
    }
   ],
   "source": [
    "X_train = np.reshape(X_train, (int(X_train.shape[0]/BATCH),BATCH, X_train.shape[1]))[:,:19,:]"
   ]
  },
  {
   "cell_type": "code",
   "execution_count": 19,
   "metadata": {},
   "outputs": [
    {
     "data": {
      "text/plain": [
       "(84, 1)"
      ]
     },
     "execution_count": 19,
     "metadata": {},
     "output_type": "execute_result"
    }
   ],
   "source": [
    "y_train.shape"
   ]
  },
  {
   "cell_type": "code",
   "execution_count": null,
   "metadata": {},
   "outputs": [],
   "source": []
  },
  {
   "cell_type": "code",
   "execution_count": null,
   "metadata": {},
   "outputs": [],
   "source": []
  },
  {
   "cell_type": "code",
   "execution_count": null,
   "metadata": {},
   "outputs": [],
   "source": []
  },
  {
   "cell_type": "code",
   "execution_count": null,
   "metadata": {},
   "outputs": [],
   "source": []
  },
  {
   "cell_type": "code",
   "execution_count": null,
   "metadata": {},
   "outputs": [],
   "source": [
    "\n",
    "\n",
    "\n",
    "\n"
   ]
  },
  {
   "cell_type": "code",
   "execution_count": null,
   "metadata": {},
   "outputs": [],
   "source": []
  },
  {
   "cell_type": "code",
   "execution_count": null,
   "metadata": {},
   "outputs": [],
   "source": []
  },
  {
   "cell_type": "code",
   "execution_count": null,
   "metadata": {},
   "outputs": [],
   "source": []
  },
  {
   "cell_type": "code",
   "execution_count": null,
   "metadata": {},
   "outputs": [],
   "source": []
  }
 ],
 "metadata": {
  "kernelspec": {
   "display_name": "Python 3",
   "language": "python",
   "name": "python3"
  },
  "language_info": {
   "codemirror_mode": {
    "name": "ipython",
    "version": 3
   },
   "file_extension": ".py",
   "mimetype": "text/x-python",
   "name": "python",
   "nbconvert_exporter": "python",
   "pygments_lexer": "ipython3",
   "version": "3.7.4"
  }
 },
 "nbformat": 4,
 "nbformat_minor": 2
}
