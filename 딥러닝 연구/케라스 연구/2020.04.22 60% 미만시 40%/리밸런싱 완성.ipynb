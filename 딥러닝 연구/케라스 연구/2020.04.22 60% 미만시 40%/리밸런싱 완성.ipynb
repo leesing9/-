{
 "cells": [
  {
   "cell_type": "code",
   "execution_count": 1,
   "metadata": {},
   "outputs": [
    {
     "name": "stderr",
     "output_type": "stream",
     "text": [
      "Using TensorFlow backend.\n"
     ]
    }
   ],
   "source": [
    "%matplotlib inline\n",
    "import os\n",
    "import pandas as pd\n",
    "import numpy as np\n",
    "from keras.models import Sequential\n",
    "from keras.layers import Dense\n",
    "from keras.layers import LSTM\n",
    "from keras.layers import SimpleRNN\n",
    "\n",
    "\n",
    "from sklearn.preprocessing import MinMaxScaler\n",
    "import matplotlib.pyplot as plt\n",
    "import math\n",
    "from sklearn.metrics import mean_squared_error\n",
    "import FinanceDataReader as fdr\n",
    "from sklearn.metrics import accuracy_score"
   ]
  },
  {
   "cell_type": "code",
   "execution_count": 2,
   "metadata": {},
   "outputs": [],
   "source": [
    "#특성 추가 ------------------------------------------\n",
    "    #이동평균선\n",
    "def get_MA(df):\n",
    "    MA_26=df[\"Close\"].rolling(26).mean()\n",
    "    MA_52=df[\"Close\"].rolling(52).mean()\n",
    "    df=df.assign(MA_26=MA_26,MA_52=MA_52).dropna()\n",
    "    \n",
    "    return df\n",
    "\n",
    "    \n",
    "    #스토캐스틱\n",
    "def get_stochastic(df, n=15, m=5, t=3):\n",
    "    # n일중 최고가\n",
    "    ndays_high = df.High.rolling(window=n, min_periods=1).max()\n",
    "    # n일중 최저가\n",
    "    ndays_low = df.Low.rolling(window=n, min_periods=1).min()\n",
    " \n",
    "    # Fast%K 계산\n",
    "    kdj_k = ((df.Close - ndays_low) / (ndays_high - ndays_low))*100\n",
    "    # Fast%D (=Slow%K) 계산\n",
    "    kdj_d = kdj_k.ewm(span=m).mean()\n",
    "    # Slow%D 계산\n",
    "    kdj_j = kdj_d.ewm(span=t).mean()\n",
    " \n",
    "    # dataframe에 컬럼 추가\n",
    "    df = df.assign(kdj_k=kdj_k, kdj_d=kdj_d, kdj_j=kdj_j).dropna()\n",
    "    \n",
    "    return df\n",
    "   \n",
    "    #시간\n",
    "def get_time(df):\n",
    "    time=np.linspace(0,10,len(df),endpoint=False).reshape(-1,1)\n",
    "    df=df.assign(time=time)\n",
    "    \n",
    "    return df"
   ]
  },
  {
   "cell_type": "code",
   "execution_count": 3,
   "metadata": {},
   "outputs": [],
   "source": [
    "a=fdr.DataReader(\"KS11\",\"2010-01-01\")"
   ]
  },
  {
   "cell_type": "code",
   "execution_count": 3,
   "metadata": {},
   "outputs": [],
   "source": [
    "KS11 = fdr.DataReader(\"KS11\",\"2010-01-01\",\"2019-01-01\")\n",
    "KQ11= fdr.DataReader(\"KQ11\",\"2010-01-01\",\"2019-01-01\")\n",
    "US500 = fdr.DataReader(\"US500\",\"2010-01-01\",\"2019-01-01\")\n",
    "HSI = fdr.DataReader(\"HSI\",\"2010-01-01\",\"2019-01-01\")\n",
    "IXIC = fdr.DataReader(\"IXIC\",\"2010-01-01\",\"2019-01-01\")"
   ]
  },
  {
   "cell_type": "code",
   "execution_count": 55,
   "metadata": {},
   "outputs": [
    {
     "data": {
      "text/plain": [
       "Date\n",
       "2010-08-03    479.59\n",
       "2010-08-04    476.47\n",
       "2010-08-05    478.47\n",
       "2010-08-06    483.87\n",
       "2010-08-09    482.16\n",
       "Name: Close, dtype: float64"
      ]
     },
     "execution_count": 55,
     "metadata": {},
     "output_type": "execute_result"
    }
   ],
   "source": [
    "BATCH=20\n",
    "df = KQ11\n",
    "df=get_MA(df)\n",
    "df=get_stochastic(df)\n",
    "df=df[0:-(len(df)%BATCH)]\n",
    "df_before=df[0:-1] #값과 값 -> [0:-1] 이평선 -> [25:]  <- [25: 0 XXXX]\n",
    "a=df_before[\"Close\"][:100]\n",
    "b=df_before[\"Close\"].shift(-1).dropna()[:100]\n",
    "b.tail()"
   ]
  },
  {
   "cell_type": "code",
   "execution_count": 5,
   "metadata": {},
   "outputs": [
    {
     "name": "stderr",
     "output_type": "stream",
     "text": [
      "C:\\Program Files\\anaconda3\\lib\\site-packages\\pandas\\plotting\\_matplotlib\\converter.py:103: FutureWarning: Using an implicitly registered datetime converter for a matplotlib plotting method. The converter was registered by pandas on import. Future versions of pandas will require you to explicitly register matplotlib converters.\n",
      "\n",
      "To register the converters:\n",
      "\t>>> from pandas.plotting import register_matplotlib_converters\n",
      "\t>>> register_matplotlib_converters()\n",
      "  warnings.warn(msg, FutureWarning)\n"
     ]
    },
    {
     "data": {
      "text/plain": [
       "[<matplotlib.lines.Line2D at 0x170852d6508>]"
      ]
     },
     "execution_count": 5,
     "metadata": {},
     "output_type": "execute_result"
    },
    {
     "data": {
      "image/png": "[encoded data removed]",
      "text/plain": [
       "<Figure size 432x288 with 1 Axes>"
      ]
     },
     "metadata": {
      "needs_background": "light"
     },
     "output_type": "display_data"
    }
   ],
   "source": [
    "plt.plot(IXIC[\"Close\"])"
   ]
  },
  {
   "cell_type": "code",
   "execution_count": 9,
   "metadata": {
    "scrolled": true
   },
   "outputs": [
    {
     "name": "stdout",
     "output_type": "stream",
     "text": [
      "KS11 정확도 :  0.4984375\n",
      "KQ11 정확도 :  0.509375\n",
      "IXIC 정확도 :  0.6878787878787879\n",
      "HSI 정확도 :  0.4578125\n"
     ]
    },
    {
     "ename": "KeyboardInterrupt",
     "evalue": "",
     "output_type": "error",
     "traceback": [
      "\u001b[1;31m---------------------------------------------------------------------------\u001b[0m",
      "\u001b[1;31mKeyboardInterrupt\u001b[0m                         Traceback (most recent call last)",
      "\u001b[1;32m<ipython-input-9-e552ac0cfdd9>\u001b[0m in \u001b[0;36m<module>\u001b[1;34m\u001b[0m\n\u001b[0;32m     60\u001b[0m     \u001b[0mmodel\u001b[0m\u001b[1;33m.\u001b[0m\u001b[0madd\u001b[0m\u001b[1;33m(\u001b[0m\u001b[0mDense\u001b[0m\u001b[1;33m(\u001b[0m\u001b[1;36m1\u001b[0m\u001b[1;33m,\u001b[0m\u001b[0mactivation\u001b[0m\u001b[1;33m=\u001b[0m\u001b[1;34m'sigmoid'\u001b[0m\u001b[1;33m)\u001b[0m\u001b[1;33m)\u001b[0m\u001b[1;33m\u001b[0m\u001b[1;33m\u001b[0m\u001b[0m\n\u001b[0;32m     61\u001b[0m     \u001b[0mmodel\u001b[0m\u001b[1;33m.\u001b[0m\u001b[0mcompile\u001b[0m\u001b[1;33m(\u001b[0m\u001b[0mloss\u001b[0m\u001b[1;33m=\u001b[0m\u001b[1;34m'binary_crossentropy'\u001b[0m\u001b[1;33m,\u001b[0m \u001b[0moptimizer\u001b[0m\u001b[1;33m=\u001b[0m\u001b[1;34m'adam'\u001b[0m\u001b[1;33m,\u001b[0m \u001b[0mmetrics\u001b[0m\u001b[1;33m=\u001b[0m\u001b[1;33m[\u001b[0m\u001b[1;34m'acc'\u001b[0m\u001b[1;33m]\u001b[0m\u001b[1;33m)\u001b[0m\u001b[1;33m\u001b[0m\u001b[1;33m\u001b[0m\u001b[0m\n\u001b[1;32m---> 62\u001b[1;33m     \u001b[0mmodel\u001b[0m\u001b[1;33m.\u001b[0m\u001b[0mfit\u001b[0m\u001b[1;33m(\u001b[0m\u001b[0mX_train\u001b[0m\u001b[1;33m,\u001b[0m \u001b[0my_train\u001b[0m\u001b[1;33m,\u001b[0m \u001b[0mepochs\u001b[0m\u001b[1;33m=\u001b[0m\u001b[1;36m100\u001b[0m\u001b[1;33m,\u001b[0m \u001b[0mbatch_size\u001b[0m\u001b[1;33m=\u001b[0m\u001b[1;36m16\u001b[0m\u001b[1;33m,\u001b[0m\u001b[0mvalidation_split\u001b[0m\u001b[1;33m=\u001b[0m\u001b[1;36m0.1\u001b[0m\u001b[1;33m,\u001b[0m\u001b[0mverbose\u001b[0m\u001b[1;33m=\u001b[0m\u001b[1;36m0\u001b[0m\u001b[1;33m)\u001b[0m\u001b[1;33m\u001b[0m\u001b[1;33m\u001b[0m\u001b[0m\n\u001b[0m\u001b[0;32m     63\u001b[0m     \u001b[0mpred\u001b[0m\u001b[1;33m=\u001b[0m\u001b[0mnp\u001b[0m\u001b[1;33m.\u001b[0m\u001b[0mwhere\u001b[0m\u001b[1;33m(\u001b[0m\u001b[0mmodel\u001b[0m\u001b[1;33m.\u001b[0m\u001b[0mpredict\u001b[0m\u001b[1;33m(\u001b[0m\u001b[0mX_test\u001b[0m\u001b[1;33m)\u001b[0m\u001b[1;33m>\u001b[0m\u001b[1;36m0.5\u001b[0m\u001b[1;33m,\u001b[0m\u001b[1;36m1\u001b[0m\u001b[1;33m,\u001b[0m\u001b[1;36m0\u001b[0m\u001b[1;33m)\u001b[0m\u001b[1;33m\u001b[0m\u001b[1;33m\u001b[0m\u001b[0m\n\u001b[0;32m     64\u001b[0m \u001b[1;33m\u001b[0m\u001b[0m\n",
      "\u001b[1;32mC:\\Program Files\\anaconda3\\lib\\site-packages\\keras\\engine\\training.py\u001b[0m in \u001b[0;36mfit\u001b[1;34m(self, x, y, batch_size, epochs, verbose, callbacks, validation_split, validation_data, shuffle, class_weight, sample_weight, initial_epoch, steps_per_epoch, validation_steps, validation_freq, max_queue_size, workers, use_multiprocessing, **kwargs)\u001b[0m\n\u001b[0;32m   1237\u001b[0m                                         \u001b[0msteps_per_epoch\u001b[0m\u001b[1;33m=\u001b[0m\u001b[0msteps_per_epoch\u001b[0m\u001b[1;33m,\u001b[0m\u001b[1;33m\u001b[0m\u001b[1;33m\u001b[0m\u001b[0m\n\u001b[0;32m   1238\u001b[0m                                         \u001b[0mvalidation_steps\u001b[0m\u001b[1;33m=\u001b[0m\u001b[0mvalidation_steps\u001b[0m\u001b[1;33m,\u001b[0m\u001b[1;33m\u001b[0m\u001b[1;33m\u001b[0m\u001b[0m\n\u001b[1;32m-> 1239\u001b[1;33m                                         validation_freq=validation_freq)\n\u001b[0m\u001b[0;32m   1240\u001b[0m \u001b[1;33m\u001b[0m\u001b[0m\n\u001b[0;32m   1241\u001b[0m     def evaluate(self,\n",
      "\u001b[1;32mC:\\Program Files\\anaconda3\\lib\\site-packages\\keras\\engine\\training_arrays.py\u001b[0m in \u001b[0;36mfit_loop\u001b[1;34m(model, fit_function, fit_inputs, out_labels, batch_size, epochs, verbose, callbacks, val_function, val_inputs, shuffle, initial_epoch, steps_per_epoch, validation_steps, validation_freq)\u001b[0m\n\u001b[0;32m    194\u001b[0m                     \u001b[0mins_batch\u001b[0m\u001b[1;33m[\u001b[0m\u001b[0mi\u001b[0m\u001b[1;33m]\u001b[0m \u001b[1;33m=\u001b[0m \u001b[0mins_batch\u001b[0m\u001b[1;33m[\u001b[0m\u001b[0mi\u001b[0m\u001b[1;33m]\u001b[0m\u001b[1;33m.\u001b[0m\u001b[0mtoarray\u001b[0m\u001b[1;33m(\u001b[0m\u001b[1;33m)\u001b[0m\u001b[1;33m\u001b[0m\u001b[1;33m\u001b[0m\u001b[0m\n\u001b[0;32m    195\u001b[0m \u001b[1;33m\u001b[0m\u001b[0m\n\u001b[1;32m--> 196\u001b[1;33m                 \u001b[0mouts\u001b[0m \u001b[1;33m=\u001b[0m \u001b[0mfit_function\u001b[0m\u001b[1;33m(\u001b[0m\u001b[0mins_batch\u001b[0m\u001b[1;33m)\u001b[0m\u001b[1;33m\u001b[0m\u001b[1;33m\u001b[0m\u001b[0m\n\u001b[0m\u001b[0;32m    197\u001b[0m                 \u001b[0mouts\u001b[0m \u001b[1;33m=\u001b[0m \u001b[0mto_list\u001b[0m\u001b[1;33m(\u001b[0m\u001b[0mouts\u001b[0m\u001b[1;33m)\u001b[0m\u001b[1;33m\u001b[0m\u001b[1;33m\u001b[0m\u001b[0m\n\u001b[0;32m    198\u001b[0m                 \u001b[1;32mfor\u001b[0m \u001b[0ml\u001b[0m\u001b[1;33m,\u001b[0m \u001b[0mo\u001b[0m \u001b[1;32min\u001b[0m \u001b[0mzip\u001b[0m\u001b[1;33m(\u001b[0m\u001b[0mout_labels\u001b[0m\u001b[1;33m,\u001b[0m \u001b[0mouts\u001b[0m\u001b[1;33m)\u001b[0m\u001b[1;33m:\u001b[0m\u001b[1;33m\u001b[0m\u001b[1;33m\u001b[0m\u001b[0m\n",
      "\u001b[1;32mC:\\Program Files\\anaconda3\\lib\\site-packages\\tensorflow_core\\python\\keras\\backend.py\u001b[0m in \u001b[0;36m__call__\u001b[1;34m(self, inputs)\u001b[0m\n\u001b[0;32m   3471\u001b[0m         \u001b[0mfeed_symbols\u001b[0m \u001b[1;33m!=\u001b[0m \u001b[0mself\u001b[0m\u001b[1;33m.\u001b[0m\u001b[0m_feed_symbols\u001b[0m \u001b[1;32mor\u001b[0m \u001b[0mself\u001b[0m\u001b[1;33m.\u001b[0m\u001b[0mfetches\u001b[0m \u001b[1;33m!=\u001b[0m \u001b[0mself\u001b[0m\u001b[1;33m.\u001b[0m\u001b[0m_fetches\u001b[0m \u001b[1;32mor\u001b[0m\u001b[1;33m\u001b[0m\u001b[1;33m\u001b[0m\u001b[0m\n\u001b[0;32m   3472\u001b[0m         session != self._session):\n\u001b[1;32m-> 3473\u001b[1;33m       \u001b[0mself\u001b[0m\u001b[1;33m.\u001b[0m\u001b[0m_make_callable\u001b[0m\u001b[1;33m(\u001b[0m\u001b[0mfeed_arrays\u001b[0m\u001b[1;33m,\u001b[0m \u001b[0mfeed_symbols\u001b[0m\u001b[1;33m,\u001b[0m \u001b[0msymbol_vals\u001b[0m\u001b[1;33m,\u001b[0m \u001b[0msession\u001b[0m\u001b[1;33m)\u001b[0m\u001b[1;33m\u001b[0m\u001b[1;33m\u001b[0m\u001b[0m\n\u001b[0m\u001b[0;32m   3474\u001b[0m \u001b[1;33m\u001b[0m\u001b[0m\n\u001b[0;32m   3475\u001b[0m     fetched = self._callable_fn(*array_vals,\n",
      "\u001b[1;32mC:\\Program Files\\anaconda3\\lib\\site-packages\\tensorflow_core\\python\\keras\\backend.py\u001b[0m in \u001b[0;36m_make_callable\u001b[1;34m(self, feed_arrays, feed_symbols, symbol_vals, session)\u001b[0m\n\u001b[0;32m   3408\u001b[0m       \u001b[0mcallable_opts\u001b[0m\u001b[1;33m.\u001b[0m\u001b[0mrun_options\u001b[0m\u001b[1;33m.\u001b[0m\u001b[0mCopyFrom\u001b[0m\u001b[1;33m(\u001b[0m\u001b[0mself\u001b[0m\u001b[1;33m.\u001b[0m\u001b[0mrun_options\u001b[0m\u001b[1;33m)\u001b[0m\u001b[1;33m\u001b[0m\u001b[1;33m\u001b[0m\u001b[0m\n\u001b[0;32m   3409\u001b[0m     \u001b[1;31m# Create callable.\u001b[0m\u001b[1;33m\u001b[0m\u001b[1;33m\u001b[0m\u001b[1;33m\u001b[0m\u001b[0m\n\u001b[1;32m-> 3410\u001b[1;33m     \u001b[0mcallable_fn\u001b[0m \u001b[1;33m=\u001b[0m \u001b[0msession\u001b[0m\u001b[1;33m.\u001b[0m\u001b[0m_make_callable_from_options\u001b[0m\u001b[1;33m(\u001b[0m\u001b[0mcallable_opts\u001b[0m\u001b[1;33m)\u001b[0m\u001b[1;33m\u001b[0m\u001b[1;33m\u001b[0m\u001b[0m\n\u001b[0m\u001b[0;32m   3411\u001b[0m     \u001b[1;31m# Cache parameters corresponding to the generated callable, so that\u001b[0m\u001b[1;33m\u001b[0m\u001b[1;33m\u001b[0m\u001b[1;33m\u001b[0m\u001b[0m\n\u001b[0;32m   3412\u001b[0m     \u001b[1;31m# we can detect future mismatches and refresh the callable.\u001b[0m\u001b[1;33m\u001b[0m\u001b[1;33m\u001b[0m\u001b[1;33m\u001b[0m\u001b[0m\n",
      "\u001b[1;32mC:\\Program Files\\anaconda3\\lib\\site-packages\\tensorflow_core\\python\\client\\session.py\u001b[0m in \u001b[0;36m_make_callable_from_options\u001b[1;34m(self, callable_options)\u001b[0m\n\u001b[0;32m   1503\u001b[0m     \"\"\"\n\u001b[0;32m   1504\u001b[0m     \u001b[0mself\u001b[0m\u001b[1;33m.\u001b[0m\u001b[0m_extend_graph\u001b[0m\u001b[1;33m(\u001b[0m\u001b[1;33m)\u001b[0m\u001b[1;33m\u001b[0m\u001b[1;33m\u001b[0m\u001b[0m\n\u001b[1;32m-> 1505\u001b[1;33m     \u001b[1;32mreturn\u001b[0m \u001b[0mBaseSession\u001b[0m\u001b[1;33m.\u001b[0m\u001b[0m_Callable\u001b[0m\u001b[1;33m(\u001b[0m\u001b[0mself\u001b[0m\u001b[1;33m,\u001b[0m \u001b[0mcallable_options\u001b[0m\u001b[1;33m)\u001b[0m\u001b[1;33m\u001b[0m\u001b[1;33m\u001b[0m\u001b[0m\n\u001b[0m\u001b[0;32m   1506\u001b[0m \u001b[1;33m\u001b[0m\u001b[0m\n\u001b[0;32m   1507\u001b[0m \u001b[1;33m\u001b[0m\u001b[0m\n",
      "\u001b[1;32mC:\\Program Files\\anaconda3\\lib\\site-packages\\tensorflow_core\\python\\client\\session.py\u001b[0m in \u001b[0;36m__init__\u001b[1;34m(self, session, callable_options)\u001b[0m\n\u001b[0;32m   1458\u001b[0m       \u001b[1;32mtry\u001b[0m\u001b[1;33m:\u001b[0m\u001b[1;33m\u001b[0m\u001b[1;33m\u001b[0m\u001b[0m\n\u001b[0;32m   1459\u001b[0m         self._handle = tf_session.TF_SessionMakeCallable(\n\u001b[1;32m-> 1460\u001b[1;33m             session._session, options_ptr)\n\u001b[0m\u001b[0;32m   1461\u001b[0m       \u001b[1;32mfinally\u001b[0m\u001b[1;33m:\u001b[0m\u001b[1;33m\u001b[0m\u001b[1;33m\u001b[0m\u001b[0m\n\u001b[0;32m   1462\u001b[0m         \u001b[0mtf_session\u001b[0m\u001b[1;33m.\u001b[0m\u001b[0mTF_DeleteBuffer\u001b[0m\u001b[1;33m(\u001b[0m\u001b[0moptions_ptr\u001b[0m\u001b[1;33m)\u001b[0m\u001b[1;33m\u001b[0m\u001b[1;33m\u001b[0m\u001b[0m\n",
      "\u001b[1;31mKeyboardInterrupt\u001b[0m: "
     ]
    }
   ],
   "source": [
    "import time\n",
    "start = time.time()\n",
    "Xtrain_size=0\n",
    "예측dic={}\n",
    "수익률dic={}\n",
    "END=0\n",
    "초기돈=10000\n",
    "d=1\n",
    "dd=20\n",
    "BATCH = 20\n",
    "count = 0\n",
    "pred_dic={}\n",
    "투자결과=[]\n",
    "\n",
    "총df=pd.DataFrame(columns=[\"영업일\",\"인덱스\",\"상승예측확률\",\"실제수익률\"])\n",
    "세트df=pd.DataFrame(columns=[\"영업일\",\"인덱스\",\"상승예측확률\",\"실제수익률\"])\n",
    "\n",
    "\n",
    "  \n",
    "for 인덱스,인덱스명 in zip([KS11,KQ11,IXIC,HSI,US500],[\"KS11\",\"KQ11\",\"IXIC\",\"HSI\",\"US500\"]):\n",
    "\n",
    "\n",
    "    \n",
    "    df = 인덱스\n",
    "    df=get_MA(df)\n",
    "    df=get_stochastic(df)\n",
    "    df=df[0:-(len(df)%BATCH)]\n",
    "    \n",
    "    # day 1, 20 / 값, 이동평균선\n",
    "    MA_26=df[\"Close\"].rolling(21).mean()\n",
    "    y_before=MA_26.dropna()\n",
    "    \n",
    "    dfA=df[20:] #값과 값 -> [:] 이평선 -> [20:]  <- [20: 0 XXXX]\n",
    "    \n",
    "    #y=np.where(np.array(dfA[\"Close\"].shift(-1).dropna())>np.array(y_before.shift(-1).dropna()),1,0) #값과 이평선 ( 1일 차 )\n",
    "    #y=np.where(dfA[\"Change\"].shift(-1).dropna()>0,1,0) #값과 값 ( 1일 차 )\n",
    "    y=np.where(np.array(dfA[\"Close\"].shift(-20).dropna())>np.array(y_before.shift(-20).dropna()),1,0) #값과 이평선( 20일 차 )\n",
    "    #y=np.where(dfA[\"Change\"].shift(-20).dropna()>0,1,0) #값과 값 ( 20일 차 )\n",
    "    \n",
    "    df = dfA[:-20].values # 1일차일시 [:-1] 20일차일시 [:-20]\n",
    "    df.astype('float32')\n",
    "    scaler = MinMaxScaler(feature_range=(0, 1))\n",
    "    df = scaler.fit_transform(df)\n",
    "    X=df\n",
    "\n",
    "    setlen=int(len(X)/20*0.7)*20\n",
    "\n",
    "    X_train=X[:setlen]\n",
    "    X_test=X[setlen:]\n",
    "    y_train=y[:setlen]\n",
    "    y_test=y[setlen:]\n",
    "\n",
    "    X_train = np.reshape(X_train, (X_train.shape[0],1, X_train.shape[1]))\n",
    "    X_test = np.reshape(X_test, (X_test.shape[0],1, X_test.shape[1]))\n",
    "\n",
    "    model = Sequential()\n",
    "    model.add(LSTM(36, input_shape=(1, 11)))\n",
    "    for i in range(2):\n",
    "        model.add(Dense(36,activation='sigmoid'))\n",
    "    model.add(Dense(1,activation='sigmoid'))\n",
    "    model.compile(loss='binary_crossentropy', optimizer='adam', metrics=['acc'])\n",
    "    model.fit(X_train, y_train, epochs=100, batch_size=16,validation_split=0.1,verbose=0)\n",
    "    pred=np.where(model.predict(X_test)>0.5,1,0)\n",
    "    \n",
    "    print(인덱스명, \"정확도 : \", accuracy_score(y_test,np.where(model.predict(X_test)>0.5,1,0)))\n",
    "    예측dic[인덱스명]=pred\n",
    "    수익률dic[인덱스명]=dfA[\"Close\"][setlen:]\n",
    "\n",
    "    #예측머신 끝 --------predict -> 12근방 나옴 ---------------------\n",
    "\n",
    "\n",
    "        \n",
    "        \n",
    "버튼=1\n",
    "date=0\n",
    "\n",
    "while 버튼==1:#예측머신돌리기\n",
    "    day= str(d+(20*date)) +\"~\" + str(dd+(20*date)) + \"일 차\"\n",
    "    date=date+1\n",
    "    print(day,\"---------------------------------\")\n",
    "\n",
    "    세트df=pd.DataFrame(columns=[\"영업일\",\"인덱스\",\"상승예측확률\",\"실제수익률\"])\n",
    "       \n",
    "    \n",
    "    for x,y in zip(예측dic.keys(),예측dic.values()):\n",
    "        \n",
    "           #종료 조건\n",
    "        if(len(수익률dic[x])==BATCH+20):\n",
    "            버튼=0\n",
    "            print(\"종료, 리밸런싱 수 : \" , count)\n",
    "            print(pred_dic)\n",
    "            break\n",
    "            \n",
    "        \n",
    "        pred=y[BATCH-20:BATCH]\n",
    "        pred_sum=sum(pred)\n",
    "        if count==0:\n",
    "            pred_dic[x]=0\n",
    "        pred_dic[x]=pred_dic[x]+pred_sum\n",
    "        예측 = (pred_sum)/20\n",
    "        실제수익률 = ((수익률dic[x][BATCH+20])/(수익률dic[x][BATCH]))-1\n",
    "        턴df=pd.DataFrame(data={\"영업일\":[day],\"인덱스\":[x],\"상승예측확률\":[예측],\"실제수익률\":[실제수익률] }, columns=[\"영업일\",\"인덱스\",\"상승예측확률\",\"실제수익률\"])\n",
    "        세트df=pd.concat([세트df,턴df])    \n",
    "\n",
    "           \n",
    "    if 버튼==0:\n",
    "        break\n",
    "        \n",
    "        \n",
    "        \n",
    "    earn_list=[]             \n",
    "    for x,y in zip(세트df[\"상승예측확률\"],세트df[\"실제수익률\"]):\n",
    "        \n",
    "        if x>=0.6:\n",
    "            earn_list.append(y)\n",
    "    \n",
    "    #하나도 상승 아닐때 규제 줄이기\n",
    "    if len(earn_list)==0:\n",
    "        for x,y in zip(세트df[\"상승예측확률\"],세트df[\"실제수익률\"]):\n",
    "        \n",
    "            if x>=0.4:\n",
    "                earn_list.append(y)\n",
    "        \n",
    "    earn_list2=[]\n",
    "    if len(earn_list)!=0:\n",
    "        초기돈=초기돈/(len(earn_list))\n",
    "        for y in earn_list:\n",
    "            earn_list2.append(초기돈+(초기돈*y))\n",
    "        초기돈=sum(earn_list2)    \n",
    "    else:\n",
    "        earn_list2.append(초기돈)\n",
    "    \n",
    "\n",
    "    총df=pd.concat([총df,세트df])\n",
    "    BATCH=BATCH+20\n",
    "\n",
    "    print(\"분산 투자 : \",earn_list2)\n",
    "    print(\"투자 결과 : \",초기돈)\n",
    "    count=count+1\n",
    "    print(\"\\n★\")\n",
    "    print(세트df)\n",
    "    print(\"★\\n\")\n",
    "    \n",
    "   \n",
    "            #MONEY = 투잣돈 * A의 20일후 change + 투잣돈 * B의 20일후 change #\"20일차MONEY\"출력\n"
   ]
  },
  {
   "cell_type": "code",
   "execution_count": 22,
   "metadata": {},
   "outputs": [
    {
     "name": "stdout",
     "output_type": "stream",
     "text": [
      "KS11  :  10230.161594290068\n",
      "수익률 :  2.3016159429006815 %\n",
      "\n",
      "KQ11  :  9800.693366599457\n",
      "수익률 :  -1.9930663340054264 %\n",
      "\n",
      "IXIC  :  14733.345471824638\n",
      "수익률 :  47.33345471824637 %\n",
      "\n",
      "HSI  :  12439.752222441484\n",
      "수익률 :  24.39752222441485 %\n",
      "\n",
      "US500  :  13047.879787848662\n",
      "수익률 :  30.478797878486624 %\n",
      "\n",
      "분산 투자시\n",
      "2046.0323188580137\n",
      "1960.1386733198915\n",
      "2946.6690943649273\n",
      "2487.950444488297\n",
      "2609.5759575697325\n",
      "\n",
      "총 수익 :  12050.366488600861\n"
     ]
    }
   ],
   "source": [
    "# 면역전략의 수익\n",
    "list=[]\n",
    "for 인덱스,인덱스명 in zip([KS11,KQ11,IXIC,HSI,US500],[\"KS11\",\"KQ11\",\"IXIC\",\"HSI\",\"US500\"]):\n",
    "    돈 = 10000\n",
    "    df=인덱스\n",
    "    \n",
    "    df=df[25:]\n",
    "    df=df[len(df)%20:]\n",
    "    setlen=int(len(X)/20*0.7)*20\n",
    "    df=df[setlen:]\n",
    "    \n",
    "    print(인덱스명,\" : \" , 돈 + ( 돈 * (df[\"Close\"][-1] - df[\"Close\"][0])/ df[\"Close\"][0] ))\n",
    "    print(\"수익률 : \",((df[\"Close\"][-1] - df[\"Close\"][0])/ df[\"Close\"][0] ) *100 , \"%\\n\")\n",
    "    list.append((df[\"Close\"][-1] - df[\"Close\"][0])/ df[\"Close\"][0] )\n",
    "    \n",
    "print(\"분산 투자시\")\n",
    "list2=[]\n",
    "for x in list:\n",
    "    print(2000+(2000*x))\n",
    "    list2.append(2000+(2000*x))\n",
    "print(\"\\n총 수익 : \",sum(list2))"
   ]
  },
  {
   "cell_type": "code",
   "execution_count": null,
   "metadata": {},
   "outputs": [],
   "source": []
  },
  {
   "cell_type": "code",
   "execution_count": null,
   "metadata": {},
   "outputs": [],
   "source": []
  },
  {
   "cell_type": "code",
   "execution_count": null,
   "metadata": {},
   "outputs": [],
   "source": []
  },
  {
   "cell_type": "code",
   "execution_count": null,
   "metadata": {},
   "outputs": [],
   "source": [
    "\n"
   ]
  },
  {
   "cell_type": "code",
   "execution_count": null,
   "metadata": {},
   "outputs": [],
   "source": []
  },
  {
   "cell_type": "code",
   "execution_count": null,
   "metadata": {},
   "outputs": [],
   "source": []
  },
  {
   "cell_type": "code",
   "execution_count": null,
   "metadata": {},
   "outputs": [],
   "source": [
    "\n",
    "\n",
    "\n",
    "\n"
   ]
  },
  {
   "cell_type": "code",
   "execution_count": null,
   "metadata": {},
   "outputs": [],
   "source": []
  },
  {
   "cell_type": "code",
   "execution_count": null,
   "metadata": {},
   "outputs": [],
   "source": []
  },
  {
   "cell_type": "code",
   "execution_count": null,
   "metadata": {},
   "outputs": [],
   "source": []
  },
  {
   "cell_type": "code",
   "execution_count": null,
   "metadata": {},
   "outputs": [],
   "source": []
  }
 ],
 "metadata": {
  "kernelspec": {
   "display_name": "Python 3",
   "language": "python",
   "name": "python3"
  },
  "language_info": {
   "codemirror_mode": {
    "name": "ipython",
    "version": 3
   },
   "file_extension": ".py",
   "mimetype": "text/x-python",
   "name": "python",
   "nbconvert_exporter": "python",
   "pygments_lexer": "ipython3",
   "version": "3.7.4"
  }
 },
 "nbformat": 4,
 "nbformat_minor": 2
}
