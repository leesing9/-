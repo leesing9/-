{
 "cells": [
  {
   "cell_type": "code",
   "execution_count": 1,
   "metadata": {},
   "outputs": [
    {
     "name": "stderr",
     "output_type": "stream",
     "text": [
      "Using TensorFlow backend.\n"
     ]
    }
   ],
   "source": [
    "\n",
    "%matplotlib inline\n",
    "import os\n",
    "import pandas as pd\n",
    "import numpy as np\n",
    "from keras.models import Sequential\n",
    "from keras.layers import Dense\n",
    "from keras.layers import LSTM\n",
    "from keras.layers import SimpleRNN\n",
    "\n",
    "from sklearn.preprocessing import MinMaxScaler\n",
    "import matplotlib.pyplot as plt\n",
    "import math\n",
    "from sklearn.metrics import mean_squared_error\n",
    "import FinanceDataReader as fdr"
   ]
  },
  {
   "cell_type": "code",
   "execution_count": 137,
   "metadata": {},
   "outputs": [
    {
     "name": "stderr",
     "output_type": "stream",
     "text": [
      "C:\\Program Files\\anaconda3\\lib\\site-packages\\ipykernel_launcher.py:53: FutureWarning: Currently, 'apply' passes the values as ndarrays to the applied function. In the future, this will change to passing it as Series objects. You need to specify 'raw=True' to keep the current behaviour, and you can pass 'raw=False' to silence this warning\n"
     ]
    }
   ],
   "source": [
    "pandf = fdr.DataReader(\"KS11\",\"2009.01.01\",\"2019.01.01\")\n",
    "df=pandf\n",
    "\n",
    "\n",
    "#특성 추가 ------------------------------------------\n",
    "    #이동평균선\n",
    "def get_MA(df):\n",
    "    MA_26=df[\"Close\"].rolling(26).mean()\n",
    "    MA_52=df[\"Close\"].rolling(52).mean()\n",
    "    df=df.assign(MA_26=MA_26,MA_52=MA_52).dropna()\n",
    "    \n",
    "    return df\n",
    "\n",
    "    \n",
    "    #스토캐스틱\n",
    "def get_stochastic(df, n=15, m=5, t=3):\n",
    "    # n일중 최고가\n",
    "    ndays_high = df.High.rolling(window=n, min_periods=1).max()\n",
    "    # n일중 최저가\n",
    "    ndays_low = df.Low.rolling(window=n, min_periods=1).min()\n",
    " \n",
    "    # Fast%K 계산\n",
    "    kdj_k = ((df.Close - ndays_low) / (ndays_high - ndays_low))*100\n",
    "    # Fast%D (=Slow%K) 계산\n",
    "    kdj_d = kdj_k.ewm(span=m).mean()\n",
    "    # Slow%D 계산\n",
    "    kdj_j = kdj_d.ewm(span=t).mean()\n",
    " \n",
    "    # dataframe에 컬럼 추가\n",
    "    df = df.assign(kdj_k=kdj_k, kdj_d=kdj_d, kdj_j=kdj_j).dropna()\n",
    "    \n",
    "    return df\n",
    "   \n",
    "    #시간\n",
    "def get_time(df):\n",
    "    time=np.linspace(0,10,len(df),endpoint=False).reshape(-1,1)\n",
    "    df=df.assign(time=time)\n",
    "    \n",
    "    return df\n",
    "\n",
    "\n",
    "\n",
    "\n",
    "def rsi(values):\n",
    "    up = values[values>0].mean()\n",
    "    down = -1*values[values<0].mean()\n",
    "    return 100 * up / (up + down)\n",
    "# Add Momentum_1D column for all 15 stocks.\n",
    "# Momentum_1D = P(t) - P(t-1)\n",
    "df=get_stochastic(df)\n",
    "df=get_MA(df)\n",
    "df['Momentum_1D'] = (df['Close']-df['Close'].shift(1))\n",
    "df['RSI_14D'] = df['Momentum_1D'].rolling(center=False, window=14).apply(rsi)\n",
    "df=df.dropna()"
   ]
  },
  {
   "cell_type": "code",
   "execution_count": 138,
   "metadata": {},
   "outputs": [
    {
     "name": "stdout",
     "output_type": "stream",
     "text": [
      "Close\n",
      "Open\n",
      "High\n",
      "Low\n",
      "Volume\n",
      "Change\n",
      "kdj_k\n",
      "kdj_d\n",
      "kdj_j\n",
      "MA_26\n",
      "MA_52\n",
      "Momentum_1D\n",
      "RSI_14D\n"
     ]
    }
   ],
   "source": [
    "for x in df:\n",
    "    print(x)"
   ]
  },
  {
   "cell_type": "code",
   "execution_count": 139,
   "metadata": {},
   "outputs": [],
   "source": [
    "# convert nparray\n",
    "nparr = df\n",
    "\n",
    "# normalization\n",
    "scaler = MinMaxScaler(feature_range=(0, 1))\n",
    "\n",
    "y=np.where(df[\"Change\"].shift(-1).dropna()>0,1,0)"
   ]
  },
  {
   "cell_type": "code",
   "execution_count": 140,
   "metadata": {},
   "outputs": [],
   "source": [
    "\n",
    "df[\"Close\"]=scaler.fit_transform(nparr[\"Close\"].values.reshape(-1,1))\n",
    "df[\"Open\"]=scaler.fit_transform(nparr[\"Open\"].values.reshape(-1,1))\n",
    "df[\"High\"]=scaler.fit_transform(nparr[\"High\"].values.reshape(-1,1))\n",
    "df[\"Low\"]=scaler.fit_transform(nparr[\"Low\"].values.reshape(-1,1))\n",
    "df[\"Volume\"]=scaler.fit_transform(nparr[\"Volume\"].values.reshape(-1,1))\n",
    "df[\"Change\"]=scaler.fit_transform(nparr[\"Change\"].values.reshape(-1,1))\n",
    "df[\"kdj_k\"]=scaler.fit_transform(nparr[\"kdj_k\"].values.reshape(-1,1))\n",
    "df[\"kdj_d\"]=scaler.fit_transform(nparr[\"kdj_d\"].values.reshape(-1,1))\n",
    "df[\"kdj_j\"]=scaler.fit_transform(nparr[\"kdj_j\"].values.reshape(-1,1))\n",
    "df[\"MA_26\"]=scaler.fit_transform(nparr[\"MA_26\"].values.reshape(-1,1))\n",
    "df[\"MA_52\"]=scaler.fit_transform(nparr[\"MA_52\"].values.reshape(-1,1))\n",
    "df[\"Momentum_1D\"]=scaler.fit_transform(nparr[\"Momentum_1D\"].values.reshape(-1,1))\n",
    "df[\"RSI_14D\"]=scaler.fit_transform(nparr[\"RSI_14D\"].values.reshape(-1,1))\n",
    "\n",
    "df=df[:-1]\n",
    "X=df.values"
   ]
  },
  {
   "cell_type": "code",
   "execution_count": 74,
   "metadata": {},
   "outputs": [
    {
     "data": {
      "text/plain": [
       "array([[0.08774962, 0.08707471, 0.08125887, 0.07909785, 0.2815341 ,\n",
       "        0.75432811],\n",
       "       [0.09798782, 0.11720825, 0.09888968, 0.10908167, 0.3426833 ,\n",
       "        0.62819456],\n",
       "       [0.11110056, 0.11879917, 0.11053159, 0.11740842, 0.36701734,\n",
       "        0.65787304],\n",
       "       ...,\n",
       "       [0.65608023, 0.66175402, 0.65323971, 0.66055328, 0.2356598 ,\n",
       "        0.48722176],\n",
       "       [0.63898492, 0.64824372, 0.63922759, 0.64055152, 0.26559795,\n",
       "        0.40478153],\n",
       "       [0.63925718, 0.65029814, 0.63779533, 0.64500959, 0.32884662,\n",
       "        0.51442704]])"
      ]
     },
     "execution_count": 74,
     "metadata": {},
     "output_type": "execute_result"
    }
   ],
   "source": [
    "# df = df[:-1].values # 1일차일시 [:-1] 20일차일시 [:-20]\n",
    "\n",
    "# df.astype('float32')\n",
    "# scaler = MinMaxScaler(feature_range=(0, 1))\n",
    "# df = scaler.fit_transform(df)\n",
    "# X=df\n",
    "# df\n"
   ]
  },
  {
   "cell_type": "code",
   "execution_count": 141,
   "metadata": {},
   "outputs": [],
   "source": [
    "# split train, test\n",
    "\n",
    "train_size = int(len(df) * 0.7)\n",
    "y_train=y[:train_size]\n",
    "y_test=y[train_size:]\n",
    "X_train = X[:train_size]\n",
    "X_test = X[train_size:]\n",
    "\n"
   ]
  },
  {
   "cell_type": "code",
   "execution_count": null,
   "metadata": {},
   "outputs": [],
   "source": []
  },
  {
   "cell_type": "code",
   "execution_count": 142,
   "metadata": {},
   "outputs": [
    {
     "data": {
      "text/plain": [
       "array([[[0.02846301, 0.0169328 , 0.01264863, ..., 0.        ,\n",
       "         0.58316029, 0.3843248 ]],\n",
       "\n",
       "       [[0.        , 0.00831827, 0.        , ..., 0.00207824,\n",
       "         0.38401068, 0.23500048]],\n",
       "\n",
       "       [[0.04062509, 0.        , 0.02250836, ..., 0.0052553 ,\n",
       "         0.84040344, 0.30848932]],\n",
       "\n",
       "       ...,\n",
       "\n",
       "       [[0.47060893, 0.48130479, 0.47214496, ..., 0.61360707,\n",
       "         0.55235835, 0.18039752]],\n",
       "\n",
       "       [[0.48963416, 0.47881311, 0.48003426, ..., 0.61180827,\n",
       "         0.69771581, 0.28603172]],\n",
       "\n",
       "       [[0.47745711, 0.47034291, 0.46448303, ..., 0.60989662,\n",
       "         0.49159498, 0.2899942 ]]])"
      ]
     },
     "execution_count": 142,
     "metadata": {},
     "output_type": "execute_result"
    }
   ],
   "source": [
    "# reshape input to be [samples, time steps, features]\n",
    "X_train = np.reshape(X_train, (X_train.shape[0], 1, X_train.shape[1]))\n",
    "X_test = np.reshape(X_test, (X_test.shape[0], 1, X_test.shape[1]))\n",
    "\n",
    "\n",
    "X_train"
   ]
  },
  {
   "cell_type": "code",
   "execution_count": null,
   "metadata": {},
   "outputs": [],
   "source": []
  },
  {
   "cell_type": "code",
   "execution_count": 145,
   "metadata": {
    "scrolled": true
   },
   "outputs": [
    {
     "name": "stdout",
     "output_type": "stream",
     "text": [
      "Train on 1179 samples, validate on 506 samples\n",
      "Epoch 1/100\n",
      "1179/1179 [==============================] - 1s 989us/step - loss: 0.6938 - acc: 0.5165 - val_loss: 0.6936 - val_acc: 0.4980\n",
      "Epoch 2/100\n",
      "1179/1179 [==============================] - 0s 251us/step - loss: 0.6927 - acc: 0.5182 - val_loss: 0.6941 - val_acc: 0.4980\n",
      "Epoch 3/100\n",
      "1179/1179 [==============================] - 0s 210us/step - loss: 0.6921 - acc: 0.5182 - val_loss: 0.6931 - val_acc: 0.4862\n",
      "Epoch 4/100\n",
      "1179/1179 [==============================] - 0s 246us/step - loss: 0.6915 - acc: 0.5208 - val_loss: 0.6955 - val_acc: 0.4980\n",
      "Epoch 5/100\n",
      "1179/1179 [==============================] - 0s 274us/step - loss: 0.6908 - acc: 0.5335 - val_loss: 0.6931 - val_acc: 0.5020\n",
      "Epoch 6/100\n",
      "1179/1179 [==============================] - 0s 233us/step - loss: 0.6905 - acc: 0.5369 - val_loss: 0.6964 - val_acc: 0.4980\n",
      "Epoch 7/100\n",
      "1179/1179 [==============================] - 0s 251us/step - loss: 0.6922 - acc: 0.5216 - val_loss: 0.6935 - val_acc: 0.5059\n",
      "Epoch 8/100\n",
      "1179/1179 [==============================] - 0s 261us/step - loss: 0.6922 - acc: 0.5191 - val_loss: 0.6960 - val_acc: 0.4980\n",
      "Epoch 9/100\n",
      "1179/1179 [==============================] - 0s 266us/step - loss: 0.6913 - acc: 0.5360 - val_loss: 0.6929 - val_acc: 0.5099\n",
      "Epoch 10/100\n",
      "1179/1179 [==============================] - 0s 233us/step - loss: 0.6905 - acc: 0.5394 - val_loss: 0.6925 - val_acc: 0.5316\n",
      "Epoch 11/100\n",
      "1179/1179 [==============================] - 0s 244us/step - loss: 0.6922 - acc: 0.5242 - val_loss: 0.6928 - val_acc: 0.5099\n",
      "Epoch 12/100\n",
      "1179/1179 [==============================] - 0s 180us/step - loss: 0.6899 - acc: 0.5403 - val_loss: 0.6934 - val_acc: 0.5020\n",
      "Epoch 13/100\n",
      "1179/1179 [==============================] - 0s 217us/step - loss: 0.6910 - acc: 0.5267 - val_loss: 0.6923 - val_acc: 0.5059\n",
      "Epoch 14/100\n",
      "1179/1179 [==============================] - 0s 231us/step - loss: 0.6898 - acc: 0.5360 - val_loss: 0.6942 - val_acc: 0.4941\n",
      "Epoch 15/100\n",
      "1179/1179 [==============================] - 0s 248us/step - loss: 0.6894 - acc: 0.5386 - val_loss: 0.6923 - val_acc: 0.5079\n",
      "Epoch 16/100\n",
      "1179/1179 [==============================] - 0s 193us/step - loss: 0.6888 - acc: 0.5479 - val_loss: 0.6955 - val_acc: 0.5020\n",
      "Epoch 17/100\n",
      "1179/1179 [==============================] - 0s 198us/step - loss: 0.6888 - acc: 0.5360 - val_loss: 0.6920 - val_acc: 0.5296\n",
      "Epoch 18/100\n",
      "1179/1179 [==============================] - 0s 174us/step - loss: 0.6883 - acc: 0.5394 - val_loss: 0.6944 - val_acc: 0.5020\n",
      "Epoch 19/100\n",
      "1179/1179 [==============================] - 0s 184us/step - loss: 0.6896 - acc: 0.5293 - val_loss: 0.6922 - val_acc: 0.5217\n",
      "Epoch 20/100\n",
      "1179/1179 [==============================] - 0s 258us/step - loss: 0.6900 - acc: 0.5250 - val_loss: 0.6923 - val_acc: 0.5178\n",
      "Epoch 21/100\n",
      "1179/1179 [==============================] - 0s 253us/step - loss: 0.6895 - acc: 0.5327 - val_loss: 0.6984 - val_acc: 0.5020\n",
      "Epoch 22/100\n",
      "1179/1179 [==============================] - 0s 255us/step - loss: 0.6901 - acc: 0.5310 - val_loss: 0.6937 - val_acc: 0.5000\n",
      "Epoch 23/100\n",
      "1179/1179 [==============================] - 0s 261us/step - loss: 0.6890 - acc: 0.5411 - val_loss: 0.6923 - val_acc: 0.5119\n",
      "Epoch 24/100\n",
      "1179/1179 [==============================] - 0s 275us/step - loss: 0.6873 - acc: 0.5505 - val_loss: 0.6943 - val_acc: 0.5000\n",
      "Epoch 25/100\n",
      "1179/1179 [==============================] - 0s 266us/step - loss: 0.6880 - acc: 0.5327 - val_loss: 0.6919 - val_acc: 0.5395\n",
      "Epoch 26/100\n",
      "1179/1179 [==============================] - 0s 255us/step - loss: 0.6889 - acc: 0.5360 - val_loss: 0.6953 - val_acc: 0.5000\n",
      "Epoch 27/100\n",
      "1179/1179 [==============================] - 0s 256us/step - loss: 0.6878 - acc: 0.5479 - val_loss: 0.6973 - val_acc: 0.5020\n",
      "Epoch 28/100\n",
      "1179/1179 [==============================] - 0s 222us/step - loss: 0.6886 - acc: 0.5369 - val_loss: 0.6933 - val_acc: 0.4783\n",
      "Epoch 29/100\n",
      "1179/1179 [==============================] - 0s 243us/step - loss: 0.6876 - acc: 0.5581 - val_loss: 0.6936 - val_acc: 0.5178\n",
      "Epoch 30/100\n",
      "1179/1179 [==============================] - 0s 268us/step - loss: 0.6880 - acc: 0.5420 - val_loss: 0.6943 - val_acc: 0.5040\n",
      "Epoch 31/100\n",
      "1179/1179 [==============================] - 0s 178us/step - loss: 0.6875 - acc: 0.5445 - val_loss: 0.6933 - val_acc: 0.5059\n",
      "Epoch 32/100\n",
      "1179/1179 [==============================] - 0s 193us/step - loss: 0.6870 - acc: 0.5488 - val_loss: 0.6938 - val_acc: 0.5217\n",
      "Epoch 33/100\n",
      "1179/1179 [==============================] - 0s 216us/step - loss: 0.6862 - acc: 0.5394 - val_loss: 0.6952 - val_acc: 0.5198\n",
      "Epoch 34/100\n",
      "1179/1179 [==============================] - 0s 375us/step - loss: 0.6868 - acc: 0.5411 - val_loss: 0.6935 - val_acc: 0.5059\n",
      "Epoch 35/100\n",
      "1179/1179 [==============================] - 0s 280us/step - loss: 0.6866 - acc: 0.5513 - val_loss: 0.6949 - val_acc: 0.5059\n",
      "Epoch 36/100\n",
      "1179/1179 [==============================] - 0s 259us/step - loss: 0.6850 - acc: 0.5564 - val_loss: 0.6977 - val_acc: 0.5119\n",
      "Epoch 37/100\n",
      "1179/1179 [==============================] - 0s 232us/step - loss: 0.6858 - acc: 0.5369 - val_loss: 0.6954 - val_acc: 0.5059\n",
      "Epoch 38/100\n",
      "1179/1179 [==============================] - 0s 215us/step - loss: 0.6858 - acc: 0.5530 - val_loss: 0.6952 - val_acc: 0.5020\n",
      "Epoch 39/100\n",
      "1179/1179 [==============================] - 0s 239us/step - loss: 0.6861 - acc: 0.5454 - val_loss: 0.6955 - val_acc: 0.4941\n",
      "Epoch 40/100\n",
      "1179/1179 [==============================] - 0s 225us/step - loss: 0.6865 - acc: 0.5394 - val_loss: 0.6963 - val_acc: 0.4921\n",
      "Epoch 41/100\n",
      "1179/1179 [==============================] - 0s 160us/step - loss: 0.6855 - acc: 0.5513 - val_loss: 0.6994 - val_acc: 0.4881\n",
      "Epoch 42/100\n",
      "1179/1179 [==============================] - 0s 253us/step - loss: 0.6849 - acc: 0.5471 - val_loss: 0.6973 - val_acc: 0.4901\n",
      "Epoch 43/100\n",
      "1179/1179 [==============================] - 0s 157us/step - loss: 0.6839 - acc: 0.5471 - val_loss: 0.7004 - val_acc: 0.4960\n",
      "Epoch 44/100\n",
      "1179/1179 [==============================] - 0s 263us/step - loss: 0.6854 - acc: 0.5606 - val_loss: 0.7005 - val_acc: 0.4901\n",
      "Epoch 45/100\n",
      "1179/1179 [==============================] - 0s 226us/step - loss: 0.6839 - acc: 0.5445 - val_loss: 0.6975 - val_acc: 0.5040\n",
      "Epoch 46/100\n",
      "1179/1179 [==============================] - 0s 233us/step - loss: 0.6834 - acc: 0.5657 - val_loss: 0.7008 - val_acc: 0.4802\n",
      "Epoch 47/100\n",
      "1179/1179 [==============================] - 0s 267us/step - loss: 0.6834 - acc: 0.5606 - val_loss: 0.6964 - val_acc: 0.5138\n",
      "Epoch 48/100\n",
      "1179/1179 [==============================] - 0s 261us/step - loss: 0.6842 - acc: 0.5445 - val_loss: 0.6975 - val_acc: 0.5119\n",
      "Epoch 49/100\n",
      "1179/1179 [==============================] - 0s 264us/step - loss: 0.6871 - acc: 0.5428 - val_loss: 0.6980 - val_acc: 0.4941\n",
      "Epoch 50/100\n",
      "1179/1179 [==============================] - 0s 207us/step - loss: 0.6879 - acc: 0.5479 - val_loss: 0.6968 - val_acc: 0.5000\n",
      "Epoch 51/100\n",
      "1179/1179 [==============================] - 0s 230us/step - loss: 0.6840 - acc: 0.5581 - val_loss: 0.6966 - val_acc: 0.5040\n",
      "Epoch 52/100\n",
      "1179/1179 [==============================] - 0s 211us/step - loss: 0.6835 - acc: 0.5581 - val_loss: 0.6981 - val_acc: 0.4881\n",
      "Epoch 53/100\n",
      "1179/1179 [==============================] - 0s 220us/step - loss: 0.6843 - acc: 0.5556 - val_loss: 0.7031 - val_acc: 0.5020\n",
      "Epoch 54/100\n",
      "1179/1179 [==============================] - 0s 234us/step - loss: 0.6838 - acc: 0.5598 - val_loss: 0.6987 - val_acc: 0.4783\n",
      "Epoch 55/100\n",
      "1179/1179 [==============================] - 0s 190us/step - loss: 0.6831 - acc: 0.5589 - val_loss: 0.7010 - val_acc: 0.4842\n",
      "Epoch 56/100\n",
      "1179/1179 [==============================] - 0s 171us/step - loss: 0.6831 - acc: 0.5539 - val_loss: 0.6988 - val_acc: 0.4941\n",
      "Epoch 57/100\n",
      "1179/1179 [==============================] - 0s 297us/step - loss: 0.6818 - acc: 0.5581 - val_loss: 0.7022 - val_acc: 0.4842\n",
      "Epoch 58/100\n",
      "1179/1179 [==============================] - 0s 221us/step - loss: 0.6864 - acc: 0.5352 - val_loss: 0.6975 - val_acc: 0.5237\n",
      "Epoch 59/100\n",
      "1179/1179 [==============================] - 0s 291us/step - loss: 0.6831 - acc: 0.5564 - val_loss: 0.7057 - val_acc: 0.4980\n",
      "Epoch 60/100\n"
     ]
    },
    {
     "name": "stdout",
     "output_type": "stream",
     "text": [
      "1179/1179 [==============================] - 0s 257us/step - loss: 0.6830 - acc: 0.5606 - val_loss: 0.7015 - val_acc: 0.4842\n",
      "Epoch 61/100\n",
      "1179/1179 [==============================] - 0s 244us/step - loss: 0.6829 - acc: 0.5556 - val_loss: 0.7032 - val_acc: 0.4822\n",
      "Epoch 62/100\n",
      "1179/1179 [==============================] - 0s 151us/step - loss: 0.6818 - acc: 0.5615 - val_loss: 0.6994 - val_acc: 0.4881\n",
      "Epoch 63/100\n",
      "1179/1179 [==============================] - 0s 188us/step - loss: 0.6811 - acc: 0.5649 - val_loss: 0.6991 - val_acc: 0.5178\n",
      "Epoch 64/100\n",
      "1179/1179 [==============================] - 0s 177us/step - loss: 0.6840 - acc: 0.5606 - val_loss: 0.7012 - val_acc: 0.4842\n",
      "Epoch 65/100\n",
      "1179/1179 [==============================] - 0s 302us/step - loss: 0.6829 - acc: 0.5505 - val_loss: 0.7014 - val_acc: 0.4783\n",
      "Epoch 66/100\n",
      "1179/1179 [==============================] - 0s 194us/step - loss: 0.6813 - acc: 0.5606 - val_loss: 0.7090 - val_acc: 0.4881\n",
      "Epoch 67/100\n",
      "1179/1179 [==============================] - 0s 150us/step - loss: 0.6817 - acc: 0.5488 - val_loss: 0.7119 - val_acc: 0.4921\n",
      "Epoch 68/100\n",
      "1179/1179 [==============================] - 0s 176us/step - loss: 0.6819 - acc: 0.5539 - val_loss: 0.7091 - val_acc: 0.4862\n",
      "Epoch 69/100\n",
      "1179/1179 [==============================] - 0s 275us/step - loss: 0.6821 - acc: 0.5581 - val_loss: 0.7023 - val_acc: 0.4743\n",
      "Epoch 70/100\n",
      "1179/1179 [==============================] - 0s 208us/step - loss: 0.6814 - acc: 0.5573 - val_loss: 0.7088 - val_acc: 0.4822\n",
      "Epoch 71/100\n",
      "1179/1179 [==============================] - 0s 147us/step - loss: 0.6833 - acc: 0.5471 - val_loss: 0.7080 - val_acc: 0.4881\n",
      "Epoch 72/100\n",
      "1179/1179 [==============================] - 0s 162us/step - loss: 0.6810 - acc: 0.5598 - val_loss: 0.7006 - val_acc: 0.5099\n",
      "Epoch 73/100\n",
      "1179/1179 [==============================] - 0s 260us/step - loss: 0.6822 - acc: 0.5589 - val_loss: 0.7037 - val_acc: 0.4763\n",
      "Epoch 74/100\n",
      "1179/1179 [==============================] - 0s 260us/step - loss: 0.6813 - acc: 0.5623 - val_loss: 0.6993 - val_acc: 0.5079\n",
      "Epoch 75/100\n",
      "1179/1179 [==============================] - 0s 297us/step - loss: 0.6830 - acc: 0.5522 - val_loss: 0.7043 - val_acc: 0.4743\n",
      "Epoch 76/100\n",
      "1179/1179 [==============================] - 0s 140us/step - loss: 0.6832 - acc: 0.5539 - val_loss: 0.7017 - val_acc: 0.4901\n",
      "Epoch 77/100\n",
      "1179/1179 [==============================] - 0s 236us/step - loss: 0.6836 - acc: 0.5564 - val_loss: 0.7011 - val_acc: 0.4921\n",
      "Epoch 78/100\n",
      "1179/1179 [==============================] - 0s 233us/step - loss: 0.6807 - acc: 0.5683 - val_loss: 0.7025 - val_acc: 0.4802\n",
      "Epoch 79/100\n",
      "1179/1179 [==============================] - ETA: 0s - loss: 0.6817 - acc: 0.565 - 0s 166us/step - loss: 0.6803 - acc: 0.5632 - val_loss: 0.7055 - val_acc: 0.4802\n",
      "Epoch 80/100\n",
      "1179/1179 [==============================] - 0s 258us/step - loss: 0.6810 - acc: 0.5564 - val_loss: 0.7122 - val_acc: 0.4783\n",
      "Epoch 81/100\n",
      "1179/1179 [==============================] - 0s 267us/step - loss: 0.6814 - acc: 0.5666 - val_loss: 0.7110 - val_acc: 0.4743\n",
      "Epoch 82/100\n",
      "1179/1179 [==============================] - 0s 206us/step - loss: 0.6809 - acc: 0.5530 - val_loss: 0.7055 - val_acc: 0.4723\n",
      "Epoch 83/100\n",
      "1179/1179 [==============================] - 0s 201us/step - loss: 0.6798 - acc: 0.5666 - val_loss: 0.7119 - val_acc: 0.4743\n",
      "Epoch 84/100\n",
      "1179/1179 [==============================] - 0s 238us/step - loss: 0.6810 - acc: 0.5649 - val_loss: 0.7063 - val_acc: 0.4842\n",
      "Epoch 85/100\n",
      "1179/1179 [==============================] - 0s 197us/step - loss: 0.6803 - acc: 0.5632 - val_loss: 0.7054 - val_acc: 0.4723\n",
      "Epoch 86/100\n",
      "1179/1179 [==============================] - 0s 241us/step - loss: 0.6814 - acc: 0.5573 - val_loss: 0.7045 - val_acc: 0.5138\n",
      "Epoch 87/100\n",
      "1179/1179 [==============================] - 0s 261us/step - loss: 0.6805 - acc: 0.5606 - val_loss: 0.7045 - val_acc: 0.5000\n",
      "Epoch 88/100\n",
      "1179/1179 [==============================] - 0s 220us/step - loss: 0.6792 - acc: 0.5564 - val_loss: 0.7030 - val_acc: 0.5119\n",
      "Epoch 89/100\n",
      "1179/1179 [==============================] - 0s 222us/step - loss: 0.6796 - acc: 0.5530 - val_loss: 0.7103 - val_acc: 0.4644\n",
      "Epoch 90/100\n",
      "1179/1179 [==============================] - 0s 235us/step - loss: 0.6786 - acc: 0.5666 - val_loss: 0.7327 - val_acc: 0.4842\n",
      "Epoch 91/100\n",
      "1179/1179 [==============================] - 0s 290us/step - loss: 0.6800 - acc: 0.5573 - val_loss: 0.7054 - val_acc: 0.4941\n",
      "Epoch 92/100\n",
      "1179/1179 [==============================] - 0s 197us/step - loss: 0.6780 - acc: 0.5683 - val_loss: 0.7219 - val_acc: 0.4960\n",
      "Epoch 93/100\n",
      "1179/1179 [==============================] - 0s 216us/step - loss: 0.6791 - acc: 0.5632 - val_loss: 0.7041 - val_acc: 0.4743\n",
      "Epoch 94/100\n",
      "1179/1179 [==============================] - 0s 190us/step - loss: 0.6807 - acc: 0.5598 - val_loss: 0.7103 - val_acc: 0.4684\n",
      "Epoch 95/100\n",
      "1179/1179 [==============================] - 0s 266us/step - loss: 0.6785 - acc: 0.5725 - val_loss: 0.7126 - val_acc: 0.4862\n",
      "Epoch 96/100\n",
      "1179/1179 [==============================] - 0s 231us/step - loss: 0.6809 - acc: 0.5564 - val_loss: 0.7045 - val_acc: 0.4901\n",
      "Epoch 97/100\n",
      "1179/1179 [==============================] - 0s 268us/step - loss: 0.6789 - acc: 0.5759 - val_loss: 0.7008 - val_acc: 0.5198\n",
      "Epoch 98/100\n",
      "1179/1179 [==============================] - 0s 267us/step - loss: 0.6780 - acc: 0.5530 - val_loss: 0.7052 - val_acc: 0.5138\n",
      "Epoch 99/100\n",
      "1179/1179 [==============================] - 0s 205us/step - loss: 0.6797 - acc: 0.5530 - val_loss: 0.7142 - val_acc: 0.4941\n",
      "Epoch 100/100\n",
      "1179/1179 [==============================] - 0s 279us/step - loss: 0.6788 - acc: 0.5581 - val_loss: 0.7096 - val_acc: 0.4842\n"
     ]
    }
   ],
   "source": [
    "# simple lstm network learning\n",
    "model = Sequential()\n",
    "model.add(LSTM(36, input_shape=(1, 13)))\n",
    "for i in range(2):\n",
    "    model.add(Dense(36,activation='relu'))\n",
    "model.add(Dense(1,activation='sigmoid'))\n",
    "model.compile(loss='binary_crossentropy', optimizer='adam', metrics=['acc'])\n",
    "result=model.fit(X_train, y_train, epochs=100, batch_size=16,validation_split=0.3)"
   ]
  },
  {
   "cell_type": "code",
   "execution_count": 146,
   "metadata": {},
   "outputs": [
    {
     "data": {
      "text/plain": [
       "0.4633471645919779"
      ]
     },
     "execution_count": 146,
     "metadata": {},
     "output_type": "execute_result"
    }
   ],
   "source": [
    "from sklearn.metrics import accuracy_score\n",
    "accuracy_score(y_test,np.where(model.predict(X_test)>0.5,1,0))"
   ]
  },
  {
   "cell_type": "code",
   "execution_count": 11,
   "metadata": {},
   "outputs": [
    {
     "data": {
      "image/png": "[encoded data removed]",
      "text/plain": [
       "<Figure size 864x576 with 1 Axes>"
      ]
     },
     "metadata": {
      "needs_background": "light"
     },
     "output_type": "display_data"
    }
   ],
   "source": [
    "#-------------성과 측정 -------------\n",
    "import matplotlib.pyplot as plt\n",
    "%matplotlib inline\n",
    "\n",
    "plt.figure(figsize=(12,8))\n",
    "plt.plot(result.history['loss'])\n",
    "plt.plot(result.history['val_loss'])\n",
    "plt.plot(result.history['acc'])\n",
    "plt.plot(result.history['val_acc'])\n",
    "plt.legend(['loss','val_loss', 'acc','val_acc'])\n",
    "plt.grid()\n",
    "plt.show()"
   ]
  },
  {
   "cell_type": "code",
   "execution_count": 12,
   "metadata": {},
   "outputs": [
    {
     "ename": "NameError",
     "evalue": "name 'y_pred' is not defined",
     "output_type": "error",
     "traceback": [
      "\u001b[1;31m---------------------------------------------------------------------------\u001b[0m",
      "\u001b[1;31mNameError\u001b[0m                                 Traceback (most recent call last)",
      "\u001b[1;32m<ipython-input-12-a950412d13d5>\u001b[0m in \u001b[0;36m<module>\u001b[1;34m\u001b[0m\n\u001b[1;32m----> 1\u001b[1;33m \u001b[0my_pred\u001b[0m\u001b[1;33m.\u001b[0m\u001b[0mshape\u001b[0m\u001b[1;33m\u001b[0m\u001b[1;33m\u001b[0m\u001b[0m\n\u001b[0m",
      "\u001b[1;31mNameError\u001b[0m: name 'y_pred' is not defined"
     ]
    }
   ],
   "source": [
    "y_pred.shape"
   ]
  },
  {
   "cell_type": "code",
   "execution_count": 17,
   "metadata": {},
   "outputs": [],
   "source": [
    "y_pred=model.predict(X_test)\n",
    "y_test_class=np.argmax(y_test)"
   ]
  },
  {
   "cell_type": "code",
   "execution_count": 18,
   "metadata": {},
   "outputs": [],
   "source": [
    "y_pred2=np.where(y_pred>0.5,1,0)"
   ]
  },
  {
   "cell_type": "code",
   "execution_count": 19,
   "metadata": {},
   "outputs": [
    {
     "data": {
      "text/plain": [
       "array([[285,  57],\n",
       "       [338,  62]], dtype=int64)"
      ]
     },
     "execution_count": 19,
     "metadata": {},
     "output_type": "execute_result"
    }
   ],
   "source": [
    "from sklearn.metrics import confusion_matrix\n",
    "\n",
    "confusion_matrix(y_test, y_pred2)"
   ]
  },
  {
   "cell_type": "code",
   "execution_count": 20,
   "metadata": {},
   "outputs": [
    {
     "data": {
      "text/plain": [
       "(742,)"
      ]
     },
     "execution_count": 20,
     "metadata": {},
     "output_type": "execute_result"
    }
   ],
   "source": [
    "y_test.shape"
   ]
  },
  {
   "cell_type": "code",
   "execution_count": 23,
   "metadata": {},
   "outputs": [
    {
     "name": "stdout",
     "output_type": "stream",
     "text": [
      "0.23892100192678226\n"
     ]
    }
   ],
   "source": [
    "from sklearn.metrics import f1_score\n",
    "print(f1_score(y_test, y_pred2))"
   ]
  },
  {
   "cell_type": "code",
   "execution_count": null,
   "metadata": {},
   "outputs": [],
   "source": [
    "y_test.shape"
   ]
  },
  {
   "cell_type": "code",
   "execution_count": 39,
   "metadata": {},
   "outputs": [
    {
     "data": {
      "text/plain": [
       "<matplotlib.legend.Legend at 0x2ba8f894d88>"
      ]
     },
     "execution_count": 39,
     "metadata": {},
     "output_type": "execute_result"
    },
    {
     "data": {
      "image/png": "[encoded data removed]",
      "text/plain": [
       "<Figure size 432x288 with 1 Axes>"
      ]
     },
     "metadata": {
      "needs_background": "light"
     },
     "output_type": "display_data"
    }
   ],
   "source": [
    "from sklearn.metrics import roc_auc_score\n",
    "roc_auc_score(y_test, y_pred2)\n",
    "\n",
    "from sklearn.metrics import roc_curve\n",
    "y_prob=model.predict_proba(X_test)\n",
    "fpr,tpr,thresholds=roc_curve(y_test,y_prob)\n",
    "plt.plot(fpr,tpr,label=\"ROC curve\")\n",
    "plt.xlabel(\"FPR\")\n",
    "plt.ylabel(\"TPR\")\n",
    "close_zero=np.argmin(np.abs(thresholds))\n",
    "plt.legend(loc=4)"
   ]
  },
  {
   "cell_type": "code",
   "execution_count": 36,
   "metadata": {},
   "outputs": [],
   "source": [
    "y_prob=model.predict_proba(X_test)"
   ]
  },
  {
   "cell_type": "code",
   "execution_count": null,
   "metadata": {},
   "outputs": [],
   "source": []
  }
 ],
 "metadata": {
  "kernelspec": {
   "display_name": "Python 3",
   "language": "python",
   "name": "python3"
  },
  "language_info": {
   "codemirror_mode": {
    "name": "ipython",
    "version": 3
   },
   "file_extension": ".py",
   "mimetype": "text/x-python",
   "name": "python",
   "nbconvert_exporter": "python",
   "pygments_lexer": "ipython3",
   "version": "3.7.4"
  }
 },
 "nbformat": 4,
 "nbformat_minor": 2
}
