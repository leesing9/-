{
 "cells": [
  {
   "cell_type": "code",
   "execution_count": 2,
   "metadata": {},
   "outputs": [],
   "source": [
    "import pandas as pd\n",
    "import numpy as np\n",
    "import sklearn.metrics as met\n",
    "import matplotlib.pyplot as plt\n",
    "%matplotlib inline\n",
    "from sklearn.preprocessing import MinMaxScaler\n",
    "import glob\n",
    "from sklearn.ensemble import RandomForestRegressor\n",
    "from sklearn.ensemble import RandomForestClassifier\n",
    "import warnings\n",
    "warnings.filterwarnings('ignore')\n",
    "import pickle\n",
    "import FinanceDataReader as fdr"
   ]
  },
  {
   "cell_type": "code",
   "execution_count": 3,
   "metadata": {},
   "outputs": [],
   "source": [
    "def get_data(df,window,y_window):\n",
    "    y_MA=df[['Close']].rolling(y_window).mean()\n",
    "    y_MA.iloc[0]=df['Close'].iloc[0]\n",
    "    y_MA=y_MA.interpolate(limit_direction='backward')\n",
    "    Y_df=y_MA.pct_change(window).shift(-window).dropna(axis=0)\n",
    "    Y_df.columns = ['y_val']\n",
    "    label_df = pd.DataFrame(np.where(y_MA.pct_change(window).shift(-window).dropna(axis=0)>0,1,0),\n",
    "                            index=df.iloc[:-window].index,columns=['label'])\n",
    "    Y_df.columns = ['label']\n",
    "    feature_df = pd.DataFrame()\n",
    " \n",
    "    for i in [5,10,20,40,60]:\n",
    "        feature_df['Change_{}'.format(i)] = df['Close'].pct_change(i)\n",
    "    for i in [5,10,20,40,60]:\n",
    "        feature_df['MA_{}'.format(i)] = df['Close'].rolling(i).mean()\n",
    "    for i in [60,120,252]:\n",
    "        feature_df['HV_{}'.format(i)] = df['Change'].rolling(i).std()*(252**0.5)\n",
    "    feature_df['Volume'] = df['Volume']\n",
    "    feature_df = feature_df.dropna(axis=0)\n",
    " \n",
    "    inter_index = feature_df.index & Y_df.index & label_df.index\n",
    "    feature_df = feature_df.loc[inter_index]\n",
    "    Y_df = Y_df.loc[inter_index]\n",
    "    label_df = label_df.loc[inter_index]\n",
    "\n",
    "    return feature_df,Y_df,label_df"
   ]
  },
  {
   "cell_type": "code",
   "execution_count": 4,
   "metadata": {},
   "outputs": [],
   "source": [
    "def modeling(x_data,y_data,window,start_day):\n",
    "\n",
    "    y_name = 'label'\n",
    "    train_day = x_data.iloc[:len(x_data.loc[:start_day])-window].index[-1]\n",
    "    pred_df = pd.DataFrame(index = x_data.index, columns = [y_name])\n",
    "\n",
    "    model = RandomForestClassifier(n_estimators=100,n_jobs=-1)\n",
    "    model.fit(x_data.loc[:start_day],y_data[y_name].loc[:start_day])\n",
    "    pred_df[y_name].loc[:start_day] = list(model.predict(x_data.loc[:start_day]))\n",
    "\n",
    "\n",
    "\n",
    "    for i in range(len(x_data.loc[:train_day]),len(x_data)-window):\n",
    "        pred_df[y_name].loc[x_data.iloc[i+window:i+window+1].index[0]] = model.predict(x_data.iloc[i+window:i+window+1])[0]\n",
    "        model.fit(x_data.iloc[:i+1],y_data[y_name].iloc[:i+1])\n",
    "\n",
    "    return pred_df[pred_df.columns[0]]"
   ]
  },
  {
   "cell_type": "code",
   "execution_count": 5,
   "metadata": {},
   "outputs": [],
   "source": [
    "def precision_condition2(true, pred, tol_1, tol_2, window, precision_window):\n",
    "    tol_1 = round(tol_1,2)\n",
    "    tol_2 = round(tol_2,2)\n",
    "    df = pd.Series(name = 'FI')\n",
    "\n",
    "\n",
    "    for i in range((precision_window+window),len(true)):\n",
    "        val_1 = met.precision_score(true.iloc[(i-precision_window-window):(i-window)],\n",
    "                                  pred.iloc[(i-precision_window-window):(i-window)],labels=[1,0])\n",
    "        val_2 = met.confusion_matrix(true.iloc[(i-precision_window-window):(i-window)],\n",
    "                          pred.iloc[(i-precision_window-window):(i-window)],labels=[1,0])\n",
    "        val_2 = 0.01 if val_2[1,1]==0 else val_2[1,1]/(val_2[0,1] + val_2[1,1])\n",
    "        if val_1 > tol_1 and val_2 < tol_2:\n",
    "        #if val_2 < tol_2:\n",
    "            df.loc[pred.iloc[i:i+1].index[0]] = 1\n",
    "        else:\n",
    "            df.loc[pred.iloc[i:i+1].index[0]] = pred.iloc[i]\n",
    "\n",
    "    df = df.astype(int)\n",
    "    \n",
    "    return df"
   ]
  },
  {
   "cell_type": "code",
   "execution_count": 6,
   "metadata": {},
   "outputs": [],
   "source": [
    "def make_return_value(result_data):\n",
    "    df=pd.Series(index=result_data.index)\n",
    "    for i in range(0,len(result_data),window):\n",
    "        if len(result_data.iloc[i:i+window]) < window:\n",
    "            pass\n",
    "        else:\n",
    "            temp=sum(result_data.iloc[i:i+window]*[i/sum(range(window)) for i in range(window)])\n",
    "            if temp>=0.5:\n",
    "                df.iloc[i+window-1]=1\n",
    "            else:\n",
    "                df.iloc[i+window-1]=0\n",
    "    return df.ffill().dropna(axis=0)"
   ]
  },
  {
   "cell_type": "code",
   "execution_count": 7,
   "metadata": {},
   "outputs": [],
   "source": [
    "def main(window,start_day,precision_window,y_window,tol1,tol2):\n",
    "    \n",
    "    accuracy_score=pd.DataFrame(columns=['non','FI'])\n",
    "    F1_score=pd.DataFrame(columns=['non','FI'])\n",
    "    return_score=pd.DataFrame(columns=['bench','non','FI'])\n",
    "    \n",
    "    #for ticker in ['HSI','IRTS','KQ11','KS11','NDX','SPY','SSEC','STOXX50']:\n",
    "    for ticker in ['KQ11']:\n",
    "        data=fdr.DataReader(ticker,'2011-01-01') #직접 바꿨음\n",
    "        feature_df,Y_df,label_df = get_data(data,window,y_window)\n",
    "        scaler = MinMaxScaler().fit(feature_df.loc[:start_day])\n",
    "        feature_df = pd.DataFrame(scaler.transform(feature_df),index=feature_df.index,columns=feature_df.columns)\n",
    "        pred_val = modeling(feature_df,Y_df,window,start_day)\n",
    "        pred_df = pd.DataFrame(np.where(pred_val>0,1,0),index=pred_val.index,columns=[pred_val.name])\n",
    "\n",
    "        FI_val = precision_condition2(label_df['label'],pred_df['label'],tol2,tol1,window,precision_window)\n",
    "        df = pd.DataFrame()\n",
    "        df['non'] = pred_df['label'].loc[start_day:]\n",
    "        df['FI'] = FI_val.loc[start_day:]\n",
    "\n",
    "        df['non']=make_return_value(df['non'])\n",
    "        df['FI']=make_return_value(df['FI'])\n",
    "        df=df.dropna(axis=0)\n",
    "\n",
    "        predicted_df=pd.DataFrame()\n",
    "        predicted_df['True']=label_df['label'].loc[df.index]\n",
    "        predicted_df['non']=df['non']\n",
    "        predicted_df['FI']=df['FI']\n",
    "        predicted_df=predicted_df.dropna(axis=0)\n",
    "\n",
    "        accuracy_score.loc[ticker]=[met.accuracy_score(predicted_df['True'],predicted_df['non']),\n",
    "         met.accuracy_score(predicted_df['True'],predicted_df['FI'])]\n",
    "\n",
    "        F1_score.loc[ticker]=[met.f1_score(predicted_df['True'],predicted_df['non'],labels=[1,0]),\n",
    "         met.f1_score(predicted_df['True'],predicted_df['FI'],labels=[1,0])]\n",
    "\n",
    "        reuturn_val=data['Close'].pct_change(1).dropna(axis=0)\n",
    "        pred_return=pd.DataFrame(predicted_df.iloc[::window],index=predicted_df.index).ffill()\n",
    "        pred_return=pred_return.replace(0,-1)\n",
    "        \n",
    "        \n",
    "        return_score.loc[ticker]=[((reuturn_val.loc[pred_return.index]+1).cumprod()-1).iloc[-1]]+\\\n",
    "        [((pred_return[col]*reuturn_val.loc[pred_return.index] + 1).cumprod()-1).iloc[-1] for col in pred_return.columns[1:]]\n",
    "        \n",
    "        return_df=pd.DataFrame()\n",
    "        \n",
    "        pred_return['bench']=np.ones(len(pred_return))\n",
    "        for col in pred_return.columns[1:]:\n",
    "            return_df[col]=((pred_return[col]*reuturn_val.loc[pred_return.index] + 1).cumprod()-1)\n",
    "        return_df.index.name=''\n",
    "\n",
    "        #return_df.plot(figsize=(20,5),linewidth=2.5)\n",
    "        #plt.title(ticker,fontsize=20)\n",
    "        #plt.xticks(fontsize=15)\n",
    "        #plt.yticks(fontsize=15)\n",
    "        #plt.legend(fontsize=15)\n",
    "        #plt.savefig('plot/{}_return.png'.format(ticker))\n",
    "    return accuracy_score,F1_score,return_score"
   ]
  },
  {
   "cell_type": "code",
   "execution_count": 11,
   "metadata": {},
   "outputs": [],
   "source": [
    "y_window=5\n",
    "window=20\n",
    "start_day='2017-01-01'\n",
    "precision_window=60"
   ]
  },
  {
   "cell_type": "code",
   "execution_count": 8,
   "metadata": {},
   "outputs": [],
   "source": [
    "accuracy_dict={}\n",
    "F1_dict={}\n",
    "return_dict={}"
   ]
  },
  {
   "cell_type": "code",
   "execution_count": 9,
   "metadata": {},
   "outputs": [],
   "source": [
    "for precision_window in np.arange(30,121,10):\n",
    "    accuracy_score,F1_score,return_score=main(window,start_day,precision_window,y_window,0.35,0.6)\n",
    "\n",
    "    accuracy_dict['{}'.format(precision_window)]=accuracy_score\n",
    "    F1_dict['{}'.format(precision_window)]=F1_score\n",
    "    return_dict['{}'.format(precision_window)]=return_score"
   ]
  },
  {
   "cell_type": "code",
   "execution_count": null,
   "metadata": {},
   "outputs": [],
   "source": []
  },
  {
   "cell_type": "code",
   "execution_count": 10,
   "metadata": {},
   "outputs": [],
   "source": [
    "with open('accuracy_dict.pickle', 'wb') as f:\n",
    "    pickle.dump(accuracy_dict, f)\n",
    "    \n",
    "with open('F1_dict.pickle', 'wb') as f:\n",
    "    pickle.dump(F1_dict, f)\n",
    "    \n",
    "with open('return_dict.pickle', 'wb') as f:\n",
    "    pickle.dump(return_dict, f)"
   ]
  },
  {
   "cell_type": "code",
   "execution_count": 11,
   "metadata": {},
   "outputs": [
    {
     "name": "stdout",
     "output_type": "stream",
     "text": [
      "{'30':            non        FI\n",
      "KQ11  0.542675  0.512102, '40':            non       FI\n",
      "KQ11  0.542675  0.53758, '50':            non        FI\n",
      "KQ11  0.568153  0.565605, '60':            non       FI\n",
      "KQ11  0.568153  0.56051, '70':            non        FI\n",
      "KQ11  0.568153  0.529936, '80':            non        FI\n",
      "KQ11  0.542675  0.519745, '90':            non        FI\n",
      "KQ11  0.542675  0.519745, '100':            non        FI\n",
      "KQ11  0.542675  0.522293, '110':            non        FI\n",
      "KQ11  0.542675  0.522293, '120':            non        FI\n",
      "KQ11  0.542675  0.547771}\n"
     ]
    }
   ],
   "source": [
    "with open(\"accuracy_dict.pickle\",\"rb\") as fr:\n",
    "    data = pickle.load(fr)\n",
    "\n",
    "print(data)\n"
   ]
  },
  {
   "cell_type": "code",
   "execution_count": 12,
   "metadata": {},
   "outputs": [
    {
     "name": "stdout",
     "output_type": "stream",
     "text": [
      "{'30':            non        FI\n",
      "KQ11  0.560588  0.591249, '40':            non        FI\n",
      "KQ11  0.560588  0.604144, '50':            non        FI\n",
      "KQ11  0.594982  0.643678, '60':            non        FI\n",
      "KQ11  0.594982  0.631804, '70':            non        FI\n",
      "KQ11  0.594982  0.622313, '80':            non       FI\n",
      "KQ11  0.560588  0.57971, '90':            non       FI\n",
      "KQ11  0.560588  0.57971, '100':            non        FI\n",
      "KQ11  0.560588  0.572406, '110':            non        FI\n",
      "KQ11  0.560588  0.572406, '120':            non        FI\n",
      "KQ11  0.560588  0.585764}\n"
     ]
    }
   ],
   "source": [
    "with open(\"F1_dict.pickle\",\"rb\") as fr:\n",
    "    data = pickle.load(fr)\n",
    "print(data)"
   ]
  },
  {
   "cell_type": "code",
   "execution_count": 13,
   "metadata": {},
   "outputs": [
    {
     "data": {
      "text/plain": [
       "{'30':          bench       non        FI\n",
       " KQ11 -0.032587 -0.028698  0.135533, '40':          bench       non        FI\n",
       " KQ11 -0.032587 -0.028698  0.361113, '50':          bench       non        FI\n",
       " KQ11 -0.032587  0.038452  0.329846, '60':          bench       non        FI\n",
       " KQ11 -0.032587  0.038452  0.177079, '70':          bench       non        FI\n",
       " KQ11 -0.032587  0.038452  0.015214, '80':          bench       non        FI\n",
       " KQ11 -0.032587 -0.028698 -0.282027, '90':          bench       non        FI\n",
       " KQ11 -0.032587 -0.028698 -0.282027, '100':          bench       non        FI\n",
       " KQ11 -0.032587 -0.028698 -0.247676, '110':          bench       non        FI\n",
       " KQ11 -0.032587 -0.028698 -0.247676, '120':          bench       non        FI\n",
       " KQ11 -0.032587 -0.028698 -0.098223}"
      ]
     },
     "execution_count": 13,
     "metadata": {},
     "output_type": "execute_result"
    }
   ],
   "source": [
    "with open(\"return_dict.pickle\",\"rb\") as fr:\n",
    "    data = pickle.load(fr)\n",
    "data"
   ]
  },
  {
   "cell_type": "code",
   "execution_count": null,
   "metadata": {},
   "outputs": [],
   "source": []
  },
  {
   "cell_type": "code",
   "execution_count": null,
   "metadata": {},
   "outputs": [],
   "source": []
  },
  {
   "cell_type": "code",
   "execution_count": null,
   "metadata": {},
   "outputs": [],
   "source": []
  },
  {
   "cell_type": "code",
   "execution_count": 23,
   "metadata": {},
   "outputs": [],
   "source": [
    "data=fdr.DataReader(\"KS11\",'2011-01-01') #직접 바꿨음\n",
    "feature_df,Y_df,label_df = get_data(data,window,y_window)"
   ]
  },
  {
   "cell_type": "code",
   "execution_count": 97,
   "metadata": {},
   "outputs": [
    {
     "data": {
      "text/plain": [
       "(2037, 14)"
      ]
     },
     "execution_count": 97,
     "metadata": {},
     "output_type": "execute_result"
    }
   ],
   "source": [
    "feature_df.shape"
   ]
  },
  {
   "cell_type": "code",
   "execution_count": 24,
   "metadata": {},
   "outputs": [
    {
     "ename": "ValueError",
     "evalue": "Unknown label type: 'continuous'",
     "output_type": "error",
     "traceback": [
      "\u001b[1;31m---------------------------------------------------------------------------\u001b[0m",
      "\u001b[1;31mValueError\u001b[0m                                Traceback (most recent call last)",
      "\u001b[1;32m<ipython-input-24-ebb2085756fb>\u001b[0m in \u001b[0;36m<module>\u001b[1;34m\u001b[0m\n\u001b[0;32m      1\u001b[0m \u001b[0mscaler\u001b[0m \u001b[1;33m=\u001b[0m \u001b[0mMinMaxScaler\u001b[0m\u001b[1;33m(\u001b[0m\u001b[1;33m)\u001b[0m\u001b[1;33m.\u001b[0m\u001b[0mfit\u001b[0m\u001b[1;33m(\u001b[0m\u001b[0mfeature_df\u001b[0m\u001b[1;33m.\u001b[0m\u001b[0mloc\u001b[0m\u001b[1;33m[\u001b[0m\u001b[1;33m:\u001b[0m\u001b[0mstart_day\u001b[0m\u001b[1;33m]\u001b[0m\u001b[1;33m)\u001b[0m\u001b[1;33m\u001b[0m\u001b[1;33m\u001b[0m\u001b[0m\n\u001b[0;32m      2\u001b[0m \u001b[0mfeature_df\u001b[0m \u001b[1;33m=\u001b[0m \u001b[0mpd\u001b[0m\u001b[1;33m.\u001b[0m\u001b[0mDataFrame\u001b[0m\u001b[1;33m(\u001b[0m\u001b[0mscaler\u001b[0m\u001b[1;33m.\u001b[0m\u001b[0mtransform\u001b[0m\u001b[1;33m(\u001b[0m\u001b[0mfeature_df\u001b[0m\u001b[1;33m)\u001b[0m\u001b[1;33m,\u001b[0m\u001b[0mindex\u001b[0m\u001b[1;33m=\u001b[0m\u001b[0mfeature_df\u001b[0m\u001b[1;33m.\u001b[0m\u001b[0mindex\u001b[0m\u001b[1;33m,\u001b[0m\u001b[0mcolumns\u001b[0m\u001b[1;33m=\u001b[0m\u001b[0mfeature_df\u001b[0m\u001b[1;33m.\u001b[0m\u001b[0mcolumns\u001b[0m\u001b[1;33m)\u001b[0m\u001b[1;33m\u001b[0m\u001b[1;33m\u001b[0m\u001b[0m\n\u001b[1;32m----> 3\u001b[1;33m \u001b[0mpred_val\u001b[0m \u001b[1;33m=\u001b[0m \u001b[0mmodeling\u001b[0m\u001b[1;33m(\u001b[0m\u001b[0mfeature_df\u001b[0m\u001b[1;33m,\u001b[0m\u001b[0mY_df\u001b[0m\u001b[1;33m,\u001b[0m\u001b[0mwindow\u001b[0m\u001b[1;33m,\u001b[0m\u001b[0mstart_day\u001b[0m\u001b[1;33m)\u001b[0m\u001b[1;33m\u001b[0m\u001b[1;33m\u001b[0m\u001b[0m\n\u001b[0m\u001b[0;32m      4\u001b[0m \u001b[0mpred_df\u001b[0m \u001b[1;33m=\u001b[0m \u001b[0mpd\u001b[0m\u001b[1;33m.\u001b[0m\u001b[0mDataFrame\u001b[0m\u001b[1;33m(\u001b[0m\u001b[0mnp\u001b[0m\u001b[1;33m.\u001b[0m\u001b[0mwhere\u001b[0m\u001b[1;33m(\u001b[0m\u001b[0mpred_val\u001b[0m\u001b[1;33m>\u001b[0m\u001b[1;36m0\u001b[0m\u001b[1;33m,\u001b[0m\u001b[1;36m1\u001b[0m\u001b[1;33m,\u001b[0m\u001b[1;36m0\u001b[0m\u001b[1;33m)\u001b[0m\u001b[1;33m,\u001b[0m\u001b[0mindex\u001b[0m\u001b[1;33m=\u001b[0m\u001b[0mpred_val\u001b[0m\u001b[1;33m.\u001b[0m\u001b[0mindex\u001b[0m\u001b[1;33m,\u001b[0m\u001b[0mcolumns\u001b[0m\u001b[1;33m=\u001b[0m\u001b[1;33m[\u001b[0m\u001b[0mpred_val\u001b[0m\u001b[1;33m.\u001b[0m\u001b[0mname\u001b[0m\u001b[1;33m]\u001b[0m\u001b[1;33m)\u001b[0m\u001b[1;33m\u001b[0m\u001b[1;33m\u001b[0m\u001b[0m\n",
      "\u001b[1;32m<ipython-input-4-e8f87e504d50>\u001b[0m in \u001b[0;36mmodeling\u001b[1;34m(x_data, y_data, window, start_day)\u001b[0m\n\u001b[0;32m      6\u001b[0m \u001b[1;33m\u001b[0m\u001b[0m\n\u001b[0;32m      7\u001b[0m     \u001b[0mmodel\u001b[0m \u001b[1;33m=\u001b[0m \u001b[0mRandomForestClassifier\u001b[0m\u001b[1;33m(\u001b[0m\u001b[0mn_estimators\u001b[0m\u001b[1;33m=\u001b[0m\u001b[1;36m100\u001b[0m\u001b[1;33m,\u001b[0m\u001b[0mn_jobs\u001b[0m\u001b[1;33m=\u001b[0m\u001b[1;33m-\u001b[0m\u001b[1;36m1\u001b[0m\u001b[1;33m)\u001b[0m\u001b[1;33m\u001b[0m\u001b[1;33m\u001b[0m\u001b[0m\n\u001b[1;32m----> 8\u001b[1;33m     \u001b[0mmodel\u001b[0m\u001b[1;33m.\u001b[0m\u001b[0mfit\u001b[0m\u001b[1;33m(\u001b[0m\u001b[0mx_data\u001b[0m\u001b[1;33m.\u001b[0m\u001b[0mloc\u001b[0m\u001b[1;33m[\u001b[0m\u001b[1;33m:\u001b[0m\u001b[0mstart_day\u001b[0m\u001b[1;33m]\u001b[0m\u001b[1;33m,\u001b[0m\u001b[0my_data\u001b[0m\u001b[1;33m[\u001b[0m\u001b[0my_name\u001b[0m\u001b[1;33m]\u001b[0m\u001b[1;33m.\u001b[0m\u001b[0mloc\u001b[0m\u001b[1;33m[\u001b[0m\u001b[1;33m:\u001b[0m\u001b[0mstart_day\u001b[0m\u001b[1;33m]\u001b[0m\u001b[1;33m)\u001b[0m\u001b[1;33m\u001b[0m\u001b[1;33m\u001b[0m\u001b[0m\n\u001b[0m\u001b[0;32m      9\u001b[0m     \u001b[0mpred_df\u001b[0m\u001b[1;33m[\u001b[0m\u001b[0my_name\u001b[0m\u001b[1;33m]\u001b[0m\u001b[1;33m.\u001b[0m\u001b[0mloc\u001b[0m\u001b[1;33m[\u001b[0m\u001b[1;33m:\u001b[0m\u001b[0mstart_day\u001b[0m\u001b[1;33m]\u001b[0m \u001b[1;33m=\u001b[0m \u001b[0mlist\u001b[0m\u001b[1;33m(\u001b[0m\u001b[0mmodel\u001b[0m\u001b[1;33m.\u001b[0m\u001b[0mpredict\u001b[0m\u001b[1;33m(\u001b[0m\u001b[0mx_data\u001b[0m\u001b[1;33m.\u001b[0m\u001b[0mloc\u001b[0m\u001b[1;33m[\u001b[0m\u001b[1;33m:\u001b[0m\u001b[0mstart_day\u001b[0m\u001b[1;33m]\u001b[0m\u001b[1;33m)\u001b[0m\u001b[1;33m)\u001b[0m\u001b[1;33m\u001b[0m\u001b[1;33m\u001b[0m\u001b[0m\n\u001b[0;32m     10\u001b[0m \u001b[1;33m\u001b[0m\u001b[0m\n",
      "\u001b[1;32mC:\\Program Files\\anaconda3\\lib\\site-packages\\sklearn\\ensemble\\forest.py\u001b[0m in \u001b[0;36mfit\u001b[1;34m(self, X, y, sample_weight)\u001b[0m\n\u001b[0;32m    273\u001b[0m         \u001b[0mself\u001b[0m\u001b[1;33m.\u001b[0m\u001b[0mn_outputs_\u001b[0m \u001b[1;33m=\u001b[0m \u001b[0my\u001b[0m\u001b[1;33m.\u001b[0m\u001b[0mshape\u001b[0m\u001b[1;33m[\u001b[0m\u001b[1;36m1\u001b[0m\u001b[1;33m]\u001b[0m\u001b[1;33m\u001b[0m\u001b[1;33m\u001b[0m\u001b[0m\n\u001b[0;32m    274\u001b[0m \u001b[1;33m\u001b[0m\u001b[0m\n\u001b[1;32m--> 275\u001b[1;33m         \u001b[0my\u001b[0m\u001b[1;33m,\u001b[0m \u001b[0mexpanded_class_weight\u001b[0m \u001b[1;33m=\u001b[0m \u001b[0mself\u001b[0m\u001b[1;33m.\u001b[0m\u001b[0m_validate_y_class_weight\u001b[0m\u001b[1;33m(\u001b[0m\u001b[0my\u001b[0m\u001b[1;33m)\u001b[0m\u001b[1;33m\u001b[0m\u001b[1;33m\u001b[0m\u001b[0m\n\u001b[0m\u001b[0;32m    276\u001b[0m \u001b[1;33m\u001b[0m\u001b[0m\n\u001b[0;32m    277\u001b[0m         \u001b[1;32mif\u001b[0m \u001b[0mgetattr\u001b[0m\u001b[1;33m(\u001b[0m\u001b[0my\u001b[0m\u001b[1;33m,\u001b[0m \u001b[1;34m\"dtype\"\u001b[0m\u001b[1;33m,\u001b[0m \u001b[1;32mNone\u001b[0m\u001b[1;33m)\u001b[0m \u001b[1;33m!=\u001b[0m \u001b[0mDOUBLE\u001b[0m \u001b[1;32mor\u001b[0m \u001b[1;32mnot\u001b[0m \u001b[0my\u001b[0m\u001b[1;33m.\u001b[0m\u001b[0mflags\u001b[0m\u001b[1;33m.\u001b[0m\u001b[0mcontiguous\u001b[0m\u001b[1;33m:\u001b[0m\u001b[1;33m\u001b[0m\u001b[1;33m\u001b[0m\u001b[0m\n",
      "\u001b[1;32mC:\\Program Files\\anaconda3\\lib\\site-packages\\sklearn\\ensemble\\forest.py\u001b[0m in \u001b[0;36m_validate_y_class_weight\u001b[1;34m(self, y)\u001b[0m\n\u001b[0;32m    476\u001b[0m \u001b[1;33m\u001b[0m\u001b[0m\n\u001b[0;32m    477\u001b[0m     \u001b[1;32mdef\u001b[0m \u001b[0m_validate_y_class_weight\u001b[0m\u001b[1;33m(\u001b[0m\u001b[0mself\u001b[0m\u001b[1;33m,\u001b[0m \u001b[0my\u001b[0m\u001b[1;33m)\u001b[0m\u001b[1;33m:\u001b[0m\u001b[1;33m\u001b[0m\u001b[1;33m\u001b[0m\u001b[0m\n\u001b[1;32m--> 478\u001b[1;33m         \u001b[0mcheck_classification_targets\u001b[0m\u001b[1;33m(\u001b[0m\u001b[0my\u001b[0m\u001b[1;33m)\u001b[0m\u001b[1;33m\u001b[0m\u001b[1;33m\u001b[0m\u001b[0m\n\u001b[0m\u001b[0;32m    479\u001b[0m \u001b[1;33m\u001b[0m\u001b[0m\n\u001b[0;32m    480\u001b[0m         \u001b[0my\u001b[0m \u001b[1;33m=\u001b[0m \u001b[0mnp\u001b[0m\u001b[1;33m.\u001b[0m\u001b[0mcopy\u001b[0m\u001b[1;33m(\u001b[0m\u001b[0my\u001b[0m\u001b[1;33m)\u001b[0m\u001b[1;33m\u001b[0m\u001b[1;33m\u001b[0m\u001b[0m\n",
      "\u001b[1;32mC:\\Program Files\\anaconda3\\lib\\site-packages\\sklearn\\utils\\multiclass.py\u001b[0m in \u001b[0;36mcheck_classification_targets\u001b[1;34m(y)\u001b[0m\n\u001b[0;32m    167\u001b[0m     if y_type not in ['binary', 'multiclass', 'multiclass-multioutput',\n\u001b[0;32m    168\u001b[0m                       'multilabel-indicator', 'multilabel-sequences']:\n\u001b[1;32m--> 169\u001b[1;33m         \u001b[1;32mraise\u001b[0m \u001b[0mValueError\u001b[0m\u001b[1;33m(\u001b[0m\u001b[1;34m\"Unknown label type: %r\"\u001b[0m \u001b[1;33m%\u001b[0m \u001b[0my_type\u001b[0m\u001b[1;33m)\u001b[0m\u001b[1;33m\u001b[0m\u001b[1;33m\u001b[0m\u001b[0m\n\u001b[0m\u001b[0;32m    170\u001b[0m \u001b[1;33m\u001b[0m\u001b[0m\n\u001b[0;32m    171\u001b[0m \u001b[1;33m\u001b[0m\u001b[0m\n",
      "\u001b[1;31mValueError\u001b[0m: Unknown label type: 'continuous'"
     ]
    }
   ],
   "source": [
    "scaler = MinMaxScaler().fit(feature_df.loc[:start_day])\n",
    "feature_df = pd.DataFrame(scaler.transform(feature_df),index=feature_df.index,columns=feature_df.columns)\n",
    "pred_val = modeling(feature_df,Y_df,window,start_day)\n",
    "pred_df = pd.DataFrame(np.where(pred_val>0,1,0),index=pred_val.index,columns=[pred_val.name])"
   ]
  },
  {
   "cell_type": "code",
   "execution_count": 55,
   "metadata": {},
   "outputs": [
    {
     "data": {
      "text/plain": [
       "2070.08"
      ]
     },
     "execution_count": 55,
     "metadata": {},
     "output_type": "execute_result"
    }
   ],
   "source": [
    "data[\"Close\"].iloc[0]"
   ]
  },
  {
   "cell_type": "code",
   "execution_count": 80,
   "metadata": {},
   "outputs": [],
   "source": [
    "y_MA=data[['Close']].rolling(60).mean()"
   ]
  },
  {
   "cell_type": "code",
   "execution_count": 62,
   "metadata": {},
   "outputs": [],
   "source": [
    "\n",
    "y_MA.iloc[0]=data['Close'].iloc[0]\n",
    "y_MA=y_MA.interpolate(limit_direction='backward')\n",
    "Y_df=y_MA.pct_change(window).shift(-window).dropna(axis=0)\n",
    "Y_df.columns = ['y_val']"
   ]
  },
  {
   "cell_type": "code",
   "execution_count": 72,
   "metadata": {},
   "outputs": [
    {
     "data": {
      "text/plain": [
       "[<matplotlib.lines.Line2D at 0x1d746b25608>]"
      ]
     },
     "execution_count": 72,
     "metadata": {},
     "output_type": "execute_result"
    },
    {
     "data": {
      "image/png": "[encoded data removed]",
      "text/plain": [
       "<Figure size 432x288 with 1 Axes>"
      ]
     },
     "metadata": {
      "needs_background": "light"
     },
     "output_type": "display_data"
    }
   ],
   "source": []
  },
  {
   "cell_type": "code",
   "execution_count": 93,
   "metadata": {},
   "outputs": [
    {
     "data": {
      "text/plain": [
       "[<matplotlib.lines.Line2D at 0x1d748a95788>]"
      ]
     },
     "execution_count": 93,
     "metadata": {},
     "output_type": "execute_result"
    },
    {
     "data": {
      "image/png": "[encoded data removed]",
      "text/plain": [
       "<Figure size 432x288 with 1 Axes>"
      ]
     },
     "metadata": {
      "needs_background": "light"
     },
     "output_type": "display_data"
    }
   ],
   "source": [
    "plt.plot(data[\"Close\"],'bo')\n",
    "plt.plot(y_MA,'y.')"
   ]
  },
  {
   "cell_type": "code",
   "execution_count": null,
   "metadata": {},
   "outputs": [],
   "source": []
  },
  {
   "cell_type": "code",
   "execution_count": 102,
   "metadata": {},
   "outputs": [
    {
     "name": "stdout",
     "output_type": "stream",
     "text": [
      "Change_5\n",
      "Change_10\n",
      "Change_20\n",
      "Change_40\n",
      "Change_60\n",
      "MA_5\n",
      "MA_10\n",
      "MA_20\n",
      "MA_40\n",
      "MA_60\n",
      "HV_60\n",
      "HV_120\n",
      "HV_252\n",
      "Volume\n"
     ]
    }
   ],
   "source": [
    "for x in feature_df:\n",
    "    print(x)"
   ]
  },
  {
   "cell_type": "code",
   "execution_count": null,
   "metadata": {},
   "outputs": [],
   "source": []
  }
 ],
 "metadata": {
  "kernelspec": {
   "display_name": "Python 3",
   "language": "python",
   "name": "python3"
  },
  "language_info": {
   "codemirror_mode": {
    "name": "ipython",
    "version": 3
   },
   "file_extension": ".py",
   "mimetype": "text/x-python",
   "name": "python",
   "nbconvert_exporter": "python",
   "pygments_lexer": "ipython3",
   "version": "3.7.4"
  }
 },
 "nbformat": 4,
 "nbformat_minor": 2
}
