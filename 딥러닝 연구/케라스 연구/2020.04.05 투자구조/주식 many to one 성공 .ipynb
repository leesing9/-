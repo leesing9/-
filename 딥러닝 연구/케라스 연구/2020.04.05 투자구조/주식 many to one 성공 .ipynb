{
 "cells": [
  {
   "cell_type": "code",
   "execution_count": null,
   "metadata": {},
   "outputs": [],
   "source": [
    "# many to one 성공@@@@@@@@@@@@@@@@@@@@@@@@@@@@@@@@@@@@@@@@@@@@@@@@@@@@\n",
    "\n",
    "df = fdr.DataReader(\"KS11\",\"2009-01-01\",\"2019-01-01\")\n",
    "\n",
    "df=get_time(df)\n",
    "df=get_stochastic(df)\n",
    "df=get_MA(df)\n",
    "\n",
    "y=[]\n",
    "for x in range(1,10001):\n",
    "    try:\n",
    "        y.append(np.where(df[\"Change\"][(x*20)]>0,1,0))\n",
    "    except:\n",
    "        continue\n",
    "\n",
    "y_train=y[1:]\n",
    "y_test=y[1]\n",
    "\n",
    "df = df.values\n",
    "df.astype('float32')\n",
    "scaler = MinMaxScaler(feature_range=(0, 1))\n",
    "df = scaler.fit_transform(df)\n",
    "X_train=df[20:-(len(df)%20)]\n",
    "X_test=df[0:20]\n",
    "\n",
    "# many to one 전처리 필요\n",
    "y_train = np.reshape(y_train, (len(y_train), 1))\n",
    "y_test = np.reshape(y_test, (1, 1))\n",
    "X_train = np.reshape(X_train, (y_train.shape[0],20, X_train.shape[1]))\n",
    "X_test = np.reshape(X_test, (y_test.shape[0],20, X_test.shape[1]))\n",
    "\n",
    "# simple lstm network learning\n",
    "model = Sequential()\n",
    "model.add(LSTM(36, input_shape=(20, 12)))\n",
    "for i in range(5):\n",
    "    model.add(Dense(36,activation='sigmoid'))\n",
    "model.add(Dense(1,activation='sigmoid'))\n",
    "model.compile(loss='binary_crossentropy', optimizer='adam', metrics=['acc'])\n",
    "model.fit(X_train, y_train, epochs=10, batch_size=16,validation_split=0.1)\n",
    "model.predict(X_test)"
   ]
  }
 ],
 "metadata": {
  "kernelspec": {
   "display_name": "Python 3",
   "language": "python",
   "name": "python3"
  },
  "language_info": {
   "codemirror_mode": {
    "name": "ipython",
    "version": 3
   },
   "file_extension": ".py",
   "mimetype": "text/x-python",
   "name": "python",
   "nbconvert_exporter": "python",
   "pygments_lexer": "ipython3",
   "version": "3.7.4"
  }
 },
 "nbformat": 4,
 "nbformat_minor": 2
}
