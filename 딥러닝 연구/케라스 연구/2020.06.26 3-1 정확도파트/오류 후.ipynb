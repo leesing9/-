{
 "cells": [
  {
   "cell_type": "markdown",
   "metadata": {},
   "source": [
    "# python 에 필요한 module 불러오기"
   ]
  },
  {
   "cell_type": "code",
   "execution_count": 1,
   "metadata": {},
   "outputs": [
    {
     "name": "stderr",
     "output_type": "stream",
     "text": [
      "Using TensorFlow backend.\n"
     ]
    }
   ],
   "source": [
    "%matplotlib inline\n",
    "import warnings\n",
    "warnings.filterwarnings('ignore')\n",
    "import matplotlib.pyplot as plt\n",
    "import pandas as pd\n",
    "import numpy as np\n",
    "from keras.models import Sequential\n",
    "from keras.layers import Dense\n",
    "from keras.layers import LSTM\n",
    "from keras.layers import Dropout\n",
    "from math import exp\n",
    "\n",
    "from sklearn.preprocessing import MinMaxScaler\n",
    "from sklearn.metrics import mean_squared_error\n",
    "import FinanceDataReader as fdr\n",
    "from sklearn.metrics import accuracy_score"
   ]
  },
  {
   "cell_type": "markdown",
   "metadata": {},
   "source": [
    "# 특성(MA,Stochastic,rsi) 추가"
   ]
  },
  {
   "cell_type": "code",
   "execution_count": 2,
   "metadata": {},
   "outputs": [],
   "source": [
    "\n",
    "\n",
    "#특성 추가 ------------------------------------------\n",
    "    #이동평균선\n",
    "def get_MA(df):\n",
    "    MA_26=df[\"Close\"].rolling(26).mean()\n",
    "    MA_52=df[\"Close\"].rolling(52).mean()\n",
    "    df=df.assign(MA_26=MA_26,MA_52=MA_52).dropna()\n",
    "    \n",
    "    return df\n",
    "\n",
    "    \n",
    "    #스토캐스틱\n",
    "def get_stochastic(df, n=15, m=5, t=3):\n",
    "    # n일중 최고가\n",
    "    ndays_high = df.High.rolling(window=n, min_periods=1).max()\n",
    "    # n일중 최저가\n",
    "    ndays_low = df.Low.rolling(window=n, min_periods=1).min()\n",
    " \n",
    "    # Fast%K 계산\n",
    "    kdj_k = ((df.Close - ndays_low) / (ndays_high - ndays_low))*100\n",
    "    # Fast%D (=Slow%K) 계산\n",
    "    kdj_d = kdj_k.ewm(span=m).mean()\n",
    "    # Slow%D 계산\n",
    "    kdj_j = kdj_d.ewm(span=t).mean()\n",
    " \n",
    "    # dataframe에 컬럼 추가\n",
    "    df = df.assign(kdj_k=kdj_k, kdj_d=kdj_d, kdj_j=kdj_j).dropna()\n",
    "    \n",
    "    return df\n",
    "\n",
    "\n",
    "def rsi(values):\n",
    "    up = values[values>0].mean()\n",
    "    down = -1*values[values<0].mean()\n",
    "    return 100 * up / (up + down)\n",
    "# Add Momentum_1D column for all 15 stocks.\n",
    "# Momentum_1D = P(t) - P(t-1)\n"
   ]
  },
  {
   "cell_type": "markdown",
   "metadata": {},
   "source": [
    "# 주식 데이터 불러오기"
   ]
  },
  {
   "cell_type": "code",
   "execution_count": 3,
   "metadata": {},
   "outputs": [],
   "source": [
    "KS11 = fdr.DataReader(\"KS11\",\"2009-01-01\",\"2019-01-01\") #코스피\n",
    "KQ11= fdr.DataReader(\"KQ11\",\"2009-01-01\",\"2019-01-01\") #코스닥\n",
    "US500 = fdr.DataReader(\"US500\",\"2009-01-01\",\"2019-01-01\") #SP500\n",
    "HSI = fdr.DataReader(\"HSI\",\"2009-01-01\",\"2019-01-01\") #항생지수\n",
    "IXIC = fdr.DataReader(\"IXIC\",\"2009-01-01\",\"2019-01-01\") #나스닥\n",
    "\n",
    "KS11 = KS11.drop(['Volume'], axis = 1 )\n",
    "KQ11 = KQ11.drop(['Volume'], axis = 1 )\n",
    "US500 = US500.drop(['Volume'], axis = 1 )\n",
    "HSI = HSI.drop(['Volume'], axis = 1 )\n",
    "IXIC = IXIC.drop(['Volume'], axis = 1 )"
   ]
  },
  {
   "cell_type": "markdown",
   "metadata": {},
   "source": [
    "# 사용될 변수 생성"
   ]
  },
  {
   "cell_type": "code",
   "execution_count": 7,
   "metadata": {},
   "outputs": [],
   "source": [
    "예측dic={}\n",
    "수익률dic={}\n",
    "End = 1 # 0이 되면 반복 종료\n",
    "초기돈 = 10000\n",
    "d,dd= 1, 20\n",
    "BATCH = 20 # 리밸런싱 주기\n",
    "count = 0 # 리밸런싱된 횟수 count\n",
    "pred_dic={}\n",
    "투자결과=[]\n",
    "그래프용={}\n",
    "총df=pd.DataFrame()\n",
    "\n",
    "all_df=pd.DataFrame(columns=[\"영업일\",\"인덱스\",\"상승예측확률\",\"실제수익률\"]) # 총 table\n",
    "set_df=pd.DataFrame(columns=[\"영업일\",\"인덱스\",\"상승예측확률\",\"실제수익률\"]) # 20일 주기 table"
   ]
  },
  {
   "cell_type": "markdown",
   "metadata": {},
   "source": [
    "# Main 모델"
   ]
  },
  {
   "cell_type": "code",
   "execution_count": 13,
   "metadata": {},
   "outputs": [
    {
     "data": {
      "text/html": [
       "<div>\n",
       "<style scoped>\n",
       "    .dataframe tbody tr th:only-of-type {\n",
       "        vertical-align: middle;\n",
       "    }\n",
       "\n",
       "    .dataframe tbody tr th {\n",
       "        vertical-align: top;\n",
       "    }\n",
       "\n",
       "    .dataframe thead th {\n",
       "        text-align: right;\n",
       "    }\n",
       "</style>\n",
       "<table border=\"1\" class=\"dataframe\">\n",
       "  <thead>\n",
       "    <tr style=\"text-align: right;\">\n",
       "      <th></th>\n",
       "      <th>Close</th>\n",
       "      <th>Open</th>\n",
       "      <th>High</th>\n",
       "      <th>Low</th>\n",
       "      <th>Change</th>\n",
       "      <th>kdj_k</th>\n",
       "      <th>kdj_d</th>\n",
       "      <th>kdj_j</th>\n",
       "      <th>MA_26</th>\n",
       "      <th>MA_52</th>\n",
       "      <th>RSI_14D</th>\n",
       "    </tr>\n",
       "    <tr>\n",
       "      <th>Date</th>\n",
       "      <th></th>\n",
       "      <th></th>\n",
       "      <th></th>\n",
       "      <th></th>\n",
       "      <th></th>\n",
       "      <th></th>\n",
       "      <th></th>\n",
       "      <th></th>\n",
       "      <th></th>\n",
       "      <th></th>\n",
       "      <th></th>\n",
       "    </tr>\n",
       "  </thead>\n",
       "  <tbody>\n",
       "    <tr>\n",
       "      <th>2016-01-07</th>\n",
       "      <td>0.518595</td>\n",
       "      <td>0.537505</td>\n",
       "      <td>0.535522</td>\n",
       "      <td>0.519737</td>\n",
       "      <td>0.376316</td>\n",
       "      <td>0.029847</td>\n",
       "      <td>0.206614</td>\n",
       "      <td>0.297518</td>\n",
       "      <td>0.580365</td>\n",
       "      <td>0.606727</td>\n",
       "      <td>0.259014</td>\n",
       "    </tr>\n",
       "    <tr>\n",
       "      <th>2016-01-08</th>\n",
       "      <td>0.508330</td>\n",
       "      <td>0.518377</td>\n",
       "      <td>0.523409</td>\n",
       "      <td>0.509838</td>\n",
       "      <td>0.489474</td>\n",
       "      <td>0.021888</td>\n",
       "      <td>0.130607</td>\n",
       "      <td>0.204328</td>\n",
       "      <td>0.576977</td>\n",
       "      <td>0.605307</td>\n",
       "      <td>0.275045</td>\n",
       "    </tr>\n",
       "    <tr>\n",
       "      <th>2016-01-11</th>\n",
       "      <td>0.509129</td>\n",
       "      <td>0.508728</td>\n",
       "      <td>0.511379</td>\n",
       "      <td>0.501402</td>\n",
       "      <td>0.592105</td>\n",
       "      <td>0.125069</td>\n",
       "      <td>0.116409</td>\n",
       "      <td>0.150444</td>\n",
       "      <td>0.574053</td>\n",
       "      <td>0.603938</td>\n",
       "      <td>0.246829</td>\n",
       "    </tr>\n",
       "    <tr>\n",
       "      <th>2016-01-12</th>\n",
       "      <td>0.516446</td>\n",
       "      <td>0.509559</td>\n",
       "      <td>0.517080</td>\n",
       "      <td>0.507841</td>\n",
       "      <td>0.652632</td>\n",
       "      <td>0.208246</td>\n",
       "      <td>0.136348</td>\n",
       "      <td>0.133738</td>\n",
       "      <td>0.571972</td>\n",
       "      <td>0.602758</td>\n",
       "      <td>0.244577</td>\n",
       "    </tr>\n",
       "    <tr>\n",
       "      <th>2016-01-13</th>\n",
       "      <td>0.492854</td>\n",
       "      <td>0.515640</td>\n",
       "      <td>0.518514</td>\n",
       "      <td>0.494263</td>\n",
       "      <td>0.364912</td>\n",
       "      <td>0.019831</td>\n",
       "      <td>0.083035</td>\n",
       "      <td>0.098014</td>\n",
       "      <td>0.568194</td>\n",
       "      <td>0.600901</td>\n",
       "      <td>0.184816</td>\n",
       "    </tr>\n",
       "    <tr>\n",
       "      <th>...</th>\n",
       "      <td>...</td>\n",
       "      <td>...</td>\n",
       "      <td>...</td>\n",
       "      <td>...</td>\n",
       "      <td>...</td>\n",
       "      <td>...</td>\n",
       "      <td>...</td>\n",
       "      <td>...</td>\n",
       "      <td>...</td>\n",
       "      <td>...</td>\n",
       "      <td>...</td>\n",
       "    </tr>\n",
       "    <tr>\n",
       "      <th>2018-12-07</th>\n",
       "      <td>0.854910</td>\n",
       "      <td>0.880662</td>\n",
       "      <td>0.887053</td>\n",
       "      <td>0.852283</td>\n",
       "      <td>0.379825</td>\n",
       "      <td>0.064652</td>\n",
       "      <td>0.354491</td>\n",
       "      <td>0.438706</td>\n",
       "      <td>0.909924</td>\n",
       "      <td>0.945265</td>\n",
       "      <td>0.228555</td>\n",
       "    </tr>\n",
       "    <tr>\n",
       "      <th>2018-12-10</th>\n",
       "      <td>0.857171</td>\n",
       "      <td>0.851302</td>\n",
       "      <td>0.857389</td>\n",
       "      <td>0.832889</td>\n",
       "      <td>0.600000</td>\n",
       "      <td>0.251164</td>\n",
       "      <td>0.310240</td>\n",
       "      <td>0.367149</td>\n",
       "      <td>0.908536</td>\n",
       "      <td>0.942687</td>\n",
       "      <td>0.225937</td>\n",
       "    </tr>\n",
       "    <tr>\n",
       "      <th>2018-12-11</th>\n",
       "      <td>0.856713</td>\n",
       "      <td>0.867625</td>\n",
       "      <td>0.870435</td>\n",
       "      <td>0.851389</td>\n",
       "      <td>0.580702</td>\n",
       "      <td>0.246831</td>\n",
       "      <td>0.279208</td>\n",
       "      <td>0.315438</td>\n",
       "      <td>0.906592</td>\n",
       "      <td>0.940190</td>\n",
       "      <td>0.284265</td>\n",
       "    </tr>\n",
       "    <tr>\n",
       "      <th>2018-12-12</th>\n",
       "      <td>0.863678</td>\n",
       "      <td>0.864607</td>\n",
       "      <td>0.875825</td>\n",
       "      <td>0.865462</td>\n",
       "      <td>0.631579</td>\n",
       "      <td>0.312699</td>\n",
       "      <td>0.281804</td>\n",
       "      <td>0.290916</td>\n",
       "      <td>0.905242</td>\n",
       "      <td>0.937750</td>\n",
       "      <td>0.293750</td>\n",
       "    </tr>\n",
       "    <tr>\n",
       "      <th>2018-12-13</th>\n",
       "      <td>0.863420</td>\n",
       "      <td>0.864835</td>\n",
       "      <td>0.868413</td>\n",
       "      <td>0.859150</td>\n",
       "      <td>0.582456</td>\n",
       "      <td>0.310256</td>\n",
       "      <td>0.282672</td>\n",
       "      <td>0.279100</td>\n",
       "      <td>0.903595</td>\n",
       "      <td>0.935306</td>\n",
       "      <td>0.375653</td>\n",
       "    </tr>\n",
       "  </tbody>\n",
       "</table>\n",
       "<p>740 rows × 11 columns</p>\n",
       "</div>"
      ],
      "text/plain": [
       "               Close      Open      High       Low    Change     kdj_k  \\\n",
       "Date                                                                     \n",
       "2016-01-07  0.518595  0.537505  0.535522  0.519737  0.376316  0.029847   \n",
       "2016-01-08  0.508330  0.518377  0.523409  0.509838  0.489474  0.021888   \n",
       "2016-01-11  0.509129  0.508728  0.511379  0.501402  0.592105  0.125069   \n",
       "2016-01-12  0.516446  0.509559  0.517080  0.507841  0.652632  0.208246   \n",
       "2016-01-13  0.492854  0.515640  0.518514  0.494263  0.364912  0.019831   \n",
       "...              ...       ...       ...       ...       ...       ...   \n",
       "2018-12-07  0.854910  0.880662  0.887053  0.852283  0.379825  0.064652   \n",
       "2018-12-10  0.857171  0.851302  0.857389  0.832889  0.600000  0.251164   \n",
       "2018-12-11  0.856713  0.867625  0.870435  0.851389  0.580702  0.246831   \n",
       "2018-12-12  0.863678  0.864607  0.875825  0.865462  0.631579  0.312699   \n",
       "2018-12-13  0.863420  0.864835  0.868413  0.859150  0.582456  0.310256   \n",
       "\n",
       "               kdj_d     kdj_j     MA_26     MA_52   RSI_14D  \n",
       "Date                                                          \n",
       "2016-01-07  0.206614  0.297518  0.580365  0.606727  0.259014  \n",
       "2016-01-08  0.130607  0.204328  0.576977  0.605307  0.275045  \n",
       "2016-01-11  0.116409  0.150444  0.574053  0.603938  0.246829  \n",
       "2016-01-12  0.136348  0.133738  0.571972  0.602758  0.244577  \n",
       "2016-01-13  0.083035  0.098014  0.568194  0.600901  0.184816  \n",
       "...              ...       ...       ...       ...       ...  \n",
       "2018-12-07  0.354491  0.438706  0.909924  0.945265  0.228555  \n",
       "2018-12-10  0.310240  0.367149  0.908536  0.942687  0.225937  \n",
       "2018-12-11  0.279208  0.315438  0.906592  0.940190  0.284265  \n",
       "2018-12-12  0.281804  0.290916  0.905242  0.937750  0.293750  \n",
       "2018-12-13  0.282672  0.279100  0.903595  0.935306  0.375653  \n",
       "\n",
       "[740 rows x 11 columns]"
      ]
     },
     "execution_count": 13,
     "metadata": {},
     "output_type": "execute_result"
    }
   ],
   "source": [
    "df_char[setlen:]"
   ]
  },
  {
   "cell_type": "code",
   "execution_count": 10,
   "metadata": {
    "scrolled": true
   },
   "outputs": [
    {
     "data": {
      "image/png": "[encoded data removed]",
      "text/plain": [
       "<Figure size 432x288 with 1 Axes>"
      ]
     },
     "metadata": {
      "needs_background": "light"
     },
     "output_type": "display_data"
    },
    {
     "name": "stdout",
     "output_type": "stream",
     "text": [
      "KOSPI 정확도 :  0.75\n"
     ]
    },
    {
     "data": {
      "image/png": "[encoded data removed]",
      "text/plain": [
       "<Figure size 432x288 with 1 Axes>"
      ]
     },
     "metadata": {
      "needs_background": "light"
     },
     "output_type": "display_data"
    },
    {
     "name": "stdout",
     "output_type": "stream",
     "text": [
      "KOSDAQ 정확도 :  0.7263888888888889\n"
     ]
    },
    {
     "data": {
      "image/png": "[encoded data removed]",
      "text/plain": [
       "<Figure size 432x288 with 1 Axes>"
      ]
     },
     "metadata": {
      "needs_background": "light"
     },
     "output_type": "display_data"
    },
    {
     "name": "stdout",
     "output_type": "stream",
     "text": [
      "NASDAQ 정확도 :  0.7324324324324324\n"
     ]
    },
    {
     "data": {
      "image/png": "[encoded data removed]",
      "text/plain": [
       "<Figure size 432x288 with 1 Axes>"
      ]
     },
     "metadata": {
      "needs_background": "light"
     },
     "output_type": "display_data"
    },
    {
     "name": "stdout",
     "output_type": "stream",
     "text": [
      "HSI 정확도 :  0.7569444444444444\n"
     ]
    },
    {
     "data": {
      "image/png": "[encoded data removed]",
      "text/plain": [
       "<Figure size 432x288 with 1 Axes>"
      ]
     },
     "metadata": {
      "needs_background": "light"
     },
     "output_type": "display_data"
    },
    {
     "name": "stdout",
     "output_type": "stream",
     "text": [
      "S&P500 정확도 :  0.7283783783783784\n"
     ]
    },
    {
     "ename": "KeyError",
     "evalue": "'코스피'",
     "output_type": "error",
     "traceback": [
      "\u001b[1;31m---------------------------------------------------------------------------\u001b[0m",
      "\u001b[1;31mKeyError\u001b[0m                                  Traceback (most recent call last)",
      "\u001b[1;32m<ipython-input-10-a40d7e3a5888>\u001b[0m in \u001b[0;36m<module>\u001b[1;34m\u001b[0m\n\u001b[0;32m    123\u001b[0m \u001b[1;33m\u001b[0m\u001b[0m\n\u001b[0;32m    124\u001b[0m \u001b[1;33m\u001b[0m\u001b[0m\n\u001b[1;32m--> 125\u001b[1;33m         \u001b[1;32mif\u001b[0m\u001b[1;33m(\u001b[0m\u001b[0mlen\u001b[0m\u001b[1;33m(\u001b[0m\u001b[0m수익률dic\u001b[0m\u001b[1;33m[\u001b[0m\u001b[0mkey\u001b[0m\u001b[1;33m]\u001b[0m\u001b[1;33m)\u001b[0m\u001b[1;33m==\u001b[0m\u001b[0mBATCH\u001b[0m\u001b[1;33m+\u001b[0m\u001b[1;36m20\u001b[0m\u001b[1;33m)\u001b[0m\u001b[1;33m:\u001b[0m\u001b[1;33m\u001b[0m\u001b[1;33m\u001b[0m\u001b[0m\n\u001b[0m\u001b[0;32m    126\u001b[0m             \u001b[0mEnd\u001b[0m\u001b[1;33m=\u001b[0m\u001b[1;36m0\u001b[0m\u001b[1;33m\u001b[0m\u001b[1;33m\u001b[0m\u001b[0m\n\u001b[0;32m    127\u001b[0m             \u001b[0mprint\u001b[0m\u001b[1;33m(\u001b[0m\u001b[1;34m\"------------종료------------  ◆리밸런싱 수◆ : \"\u001b[0m \u001b[1;33m,\u001b[0m \u001b[0mcount\u001b[0m\u001b[1;33m)\u001b[0m\u001b[1;33m\u001b[0m\u001b[1;33m\u001b[0m\u001b[0m\n",
      "\u001b[1;31mKeyError\u001b[0m: '코스피'"
     ]
    }
   ],
   "source": [
    "\n",
    "\n",
    "for 인덱스,인덱스명 in zip([KS11,KQ11,IXIC,HSI,US500],[\"KOSPI\",\"KOSDAQ\",\"NASDAQ\",\"HSI\",\"S&P500\"]):\n",
    "    df = 인덱스\n",
    "    \n",
    "    # 특성 추가--------------------------------------------------------\n",
    "    \n",
    "    \n",
    "        #스토캐스틱과 이동평균선\n",
    "    df=get_stochastic(df)\n",
    "    df=get_MA(df)\n",
    "    \n",
    "        #RSI\n",
    "    df['Momentum_1D'] = (df['Close']-df['Close'].shift(1))\n",
    "    df['RSI_14D'] = df['Momentum_1D'].rolling(center=False, window=14).apply(rsi)\n",
    "    df=df.dropna()\n",
    "    df=df[0:-(len(df)%BATCH)]\n",
    "    df = df.drop(labels = ['Momentum_1D'], axis=1)\n",
    "    \n",
    "        #이동평균선\n",
    "    MA_26=df[\"Close\"].rolling(21).mean()\n",
    "    df_MA=MA_26.dropna()\n",
    "    df_char=df[20:] # df_char : 특성 모두 추가한 data, rolling,shifting 고려해서 제거\n",
    "       #------------------------------------------------------------------\n",
    "    \n",
    "    \n",
    "    \n",
    "    \n",
    "        # y ( target ) 생성 df_char= 값, df_MA= 이동평균선---------------------\n",
    "    y=[]\n",
    "    #20개로 1개 예측\n",
    "    h=1\n",
    "    for x in range(1,len(df_char)+1):\n",
    "        if(df_char[\"Close\"][x-1] > df_MA[20*h-1]):\n",
    "            y.append(0)\n",
    "        else:\n",
    "            y.append(1)\n",
    "        if(x%20==0):\n",
    "            h=h+1\n",
    "\n",
    "    df = df_char[:] # 20개 1개 예측이면 :-20, 20개로 20개예측이면 -20 제거\n",
    "    nparr = df # 스케일링 할 데이터\n",
    "    nparr2 = df # 스케일링 안한 데이터 백업\n",
    "\n",
    "    \n",
    "    #normalizing\n",
    "    scaler = MinMaxScaler(feature_range=(0, 1))\n",
    "    df[\"Close\"]=scaler.fit_transform(nparr[\"Close\"].values.reshape(-1,1))\n",
    "    df[\"Open\"]=scaler.fit_transform(nparr[\"Open\"].values.reshape(-1,1))\n",
    "    df[\"High\"]=scaler.fit_transform(nparr[\"High\"].values.reshape(-1,1))\n",
    "    df[\"Low\"]=scaler.fit_transform(nparr[\"Low\"].values.reshape(-1,1))\n",
    "    df[\"Change\"]=scaler.fit_transform(nparr[\"Change\"].values.reshape(-1,1))\n",
    "    df[\"kdj_k\"]=scaler.fit_transform(nparr[\"kdj_k\"].values.reshape(-1,1))\n",
    "    df[\"kdj_d\"]=scaler.fit_transform(nparr[\"kdj_d\"].values.reshape(-1,1))\n",
    "    df[\"kdj_j\"]=scaler.fit_transform(nparr[\"kdj_j\"].values.reshape(-1,1))\n",
    "    df[\"MA_26\"]=scaler.fit_transform(nparr[\"MA_26\"].values.reshape(-1,1))\n",
    "    df[\"MA_52\"]=scaler.fit_transform(nparr[\"MA_52\"].values.reshape(-1,1))\n",
    "    df[\"RSI_14D\"]=scaler.fit_transform(nparr[\"RSI_14D\"].values.reshape(-1,1))\n",
    "    \n",
    "    #-----\n",
    "#     df[\"y\"]=y\n",
    "#     print(df.corr()) #상관관계 분석 ( 출력하고 싶다면 주석 제거)\n",
    "#     df = df.drop(['y'],axis = 1)\n",
    "    #-----\n",
    "    \n",
    "    df = df.drop(['Close','Open','High','Low','MA_26','MA_52'], axis = 1 ) # 상관관계 분석 후 관계 적은 특성(열) 제거\n",
    "    X=df.values\n",
    "    \n",
    "    # train test val 세팅\n",
    "    setlen=int(len(X)/20*0.7)*20 # 데이터를 7:3으로 나누고 20의 배수로 만듬\n",
    "    X_train=X[:setlen]\n",
    "    X_test=X[setlen:]\n",
    "    y_train=y[:setlen]\n",
    "    y_test=y[setlen:]\n",
    "    \n",
    "    setlen2=int(len(X_train)/20*0.3)*20 # 검증 데이터를 3:7으로 나누고 20의 배수로 만듬\n",
    "    X_val = X_train[ : setlen2]\n",
    "    y_val = y_train[ : setlen2]\n",
    "    X_train2 = X_train[setlen2 : ]\n",
    "    y_train2 = y_train[setlen2 : ]\n",
    "    \n",
    "    \n",
    "    # 딥러닝 모델에 맞는 사이즈로 전처리\n",
    "    X_train = np.reshape(X_train, (X_train.shape[0],1, X_train.shape[1]))\n",
    "    X_test = np.reshape(X_test, (X_test.shape[0],1, X_test.shape[1]))\n",
    "    \n",
    "    X_val = np.reshape(X_val, (X_val.shape[0],1, X_val.shape[1]))\n",
    "    X_train2 = np.reshape(X_train2, (X_train2.shape[0],1, X_train2.shape[1]))\n",
    "    \n",
    "    #LSTM모델 생성\n",
    "    model = Sequential()\n",
    "    model.add(LSTM(36, input_shape=(1, 5)))\n",
    "    for i in range(2):\n",
    "        model.add(Dense(18,activation='relu'))\n",
    "        model.add(Dropout(0.2))\n",
    "    model.add(Dense(1,activation='sigmoid'))\n",
    "    model.compile(loss='binary_crossentropy', optimizer='adam', metrics=['accuracy'])\n",
    "    \n",
    "    history = model.fit(X_train2, y_train2, epochs=100, batch_size=16,validation_data=(X_val,y_val),verbose=0)\n",
    "    \n",
    "    history_dict= history.history\n",
    "    loss_values = history_dict['loss']\n",
    "    val_loss_values = history_dict['val_loss']\n",
    "    acc = history_dict['accuracy']\n",
    "    epochs = range(1,len(acc)+1)\n",
    "\n",
    "    plt.plot(epochs,loss_values,'bo',label='Training loss')\n",
    "    plt.plot(epochs,val_loss_values,'b',label='Validation loss')\n",
    "    plt.title(\"{}'s loss\".format(인덱스명))\n",
    "    plt.xlabel('Epochs')\n",
    "    plt.ylabel('Loss')\n",
    "    plt.legend()\n",
    "    plt.show()\n",
    "    pred=np.where(model.predict(X_test)>0.5,1,0)\n",
    "    예측dic[인덱스명]=pred # 예측 데이터 table에 추가\n",
    "    수익률dic[인덱스명]=nparr2[\"Close\"][setlen:] #투자 결과를 보기 위해 실제 수익률을 구함\n",
    "\n",
    "    print(인덱스명, \"정확도 : \", accuracy_score(y_test,np.where(model.predict(X_test)>0.5,1,0)))\n",
    "       \n",
    "    #모델 생성 완료 ------------------------------\n",
    "\n",
    "key=\"KOSPI\" #오류방지 임시\n",
    " \n",
    "while End==1: # 종료조건 ( END =0 )까지 반복\n",
    "    \n",
    "\n",
    "        if(len(수익률dic[key])==BATCH+20):\n",
    "            End=0\n",
    "            print(\"------------종료------------  ◆리밸런싱 수◆ : \" , count)\n",
    "            break\n",
    "            #----------------------------------\n",
    "        else:\n",
    "\n",
    "\n",
    "            # 날짜 출력 ------   \n",
    "            day= str(d) +\"~\" + str(dd) + \"일 차\"\n",
    "            print(day,\"---------------------------------\")\n",
    "            # --------------- \n",
    "            set_df=pd.DataFrame(columns=[\"영업일\",\"인덱스\",\"상승예측확률\",\"실제수익률\"])\n",
    "\n",
    "\n",
    "\n",
    "            for key,val in zip(예측dic.keys(),예측dic.values()): \n",
    "\n",
    "\n",
    "                #----------------------- 지수함수로 중요 비중 조정\n",
    "                e_sum = 0\n",
    "                for xx in range(1,21):\n",
    "                    e_sum=e_sum+exp(xx)\n",
    "\n",
    "                pred_list=[]\n",
    "                rank=1\n",
    "                pred=val[BATCH-20:BATCH] # BATCH는 0부터 매 리밸런싱마다 20씩 증가\n",
    "\n",
    "                for yy in pred:\n",
    "                    pred_list.append(yy*rank)\n",
    "                    rank = rank + 1       # ex ) [1,1,1,0,1,0,..] -> [1,2,3,0,5,0..] 로 가중치를 줌\n",
    "\n",
    "\n",
    "                pred_sum=0\n",
    "                for zz in pred_list:\n",
    "                    pred_sum=pred_sum+(exp(zz)/e_sum) # 가중치를 e에 대입\n",
    "                pred_sum=round(pred_sum,4) # 소수 4번째 반올림\n",
    "                #--------------------------------------------------\n",
    "\n",
    "\n",
    "                # 예측 결과를 표(dataframe)로 보기 쉽게 정리-----------------\n",
    "                if count==0:\n",
    "                    pred_dic[key]=pred_sum #pred_dic == {}\n",
    "                else:\n",
    "                    pred_dic[key]=np.append(pred_dic[key],pred_sum)\n",
    "                예측 = pred_sum\n",
    "                실제수익률 = ((수익률dic[key][BATCH+19])/(수익률dic[key][BATCH]))-1\n",
    "                turn_df=pd.DataFrame(data={\"영업일\":[day],\"인덱스\":[key],\"상승예측확률\":[예측],\"실제수익률\":[실제수익률] }, columns=[\"영업일\",\"인덱스\",\"상승예측확률\",\"실제수익률\"])\n",
    "                set_df=pd.concat([set_df,turn_df])\n",
    "                \n",
    "                if 예측>0.6:\n",
    "                    if count==0:\n",
    "                            그래프용[key]=1\n",
    "                    else:\n",
    "                        그래프용[key]=np.append(그래프용[key],1)\n",
    "                else:\n",
    "                    if count==0:\n",
    "                        그래프용[key]=0\n",
    "                    else:\n",
    "                        그래프용[key]=np.append(그래프용[key],0)\n",
    "\n",
    "                #------------------------------------------------------------\n",
    "\n",
    "            #--------데이터 20개 중 60% 이상 상승 예측 시 list에 추가(투자)\n",
    "            earn_list=[]\n",
    "\n",
    "            for x,y in zip(set_df[\"상승예측확률\"],set_df[\"실제수익률\"]):\n",
    "\n",
    "                if x>=0.6:\n",
    "                    earn_list.append(y)\n",
    "                    \n",
    "    \n",
    "            #-------하나도 상승 예측이 아니었다면 규제 줄이기\n",
    "            if len(earn_list)==0:\n",
    "                for x,y in zip(set_df[\"상승예측확률\"],set_df[\"실제수익률\"]):\n",
    "\n",
    "                    if x>=0.4:\n",
    "                        earn_list.append(y)\n",
    "            #---------------------------------------------------------------------\n",
    "\n",
    "\n",
    "            earn_list2=[]\n",
    "            if len(earn_list)!=0:\n",
    "                초기돈=초기돈/(len(earn_list))\n",
    "                for y in earn_list:\n",
    "                    earn_list2.append(초기돈+(초기돈*y))\n",
    "                초기돈=sum(earn_list2)    \n",
    "            else:\n",
    "                earn_list2.append(초기돈)\n",
    "\n",
    "\n",
    "            all_df=pd.concat([all_df,set_df])\n",
    "            BATCH=BATCH+20\n",
    "\n",
    "            print(\"분산 투자 : \",earn_list2)\n",
    "            print(\"투자 결과 : \",초기돈)\n",
    "            #print(set_df)\n",
    "            총df=pd.concat([총df,set_df])\n",
    "            \n",
    "            count=count+1\n",
    "            d=d+20\n",
    "            dd=dd+20\n",
    "\n"
   ]
  },
  {
   "cell_type": "code",
   "execution_count": 150,
   "metadata": {},
   "outputs": [],
   "source": [
    "그래프용[\"코스닥\"]=그래프용[\"코스닥\"]*2\n",
    "그래프용[\"나스닥\"]=그래프용[\"나스닥\"]*3\n",
    "그래프용[\"항생\"]=그래프용[\"항생\"]*4\n",
    "그래프용[\"S&P500\"]=그래프용[\"S&P500\"]*5"
   ]
  },
  {
   "cell_type": "code",
   "execution_count": 151,
   "metadata": {},
   "outputs": [
    {
     "data": {
      "text/plain": [
       "[<matplotlib.lines.Line2D at 0x244859ea248>]"
      ]
     },
     "execution_count": 151,
     "metadata": {},
     "output_type": "execute_result"
    },
    {
     "data": {
      "image/png": "[encoded data removed]",
      "text/plain": [
       "<Figure size 432x288 with 1 Axes>"
      ]
     },
     "metadata": {
      "needs_background": "light"
     },
     "output_type": "display_data"
    }
   ],
   "source": [
    "plt.plot(그래프용[\"코스피\"],'.')\n",
    "plt.plot(그래프용[\"코스닥\"],'.')\n",
    "plt.plot(그래프용[\"나스닥\"],'.')\n",
    "plt.plot(그래프용[\"항생\"],'.')\n",
    "plt.plot(그래프용[\"S&P500\"],'.')"
   ]
  },
  {
   "cell_type": "code",
   "execution_count": 152,
   "metadata": {
    "scrolled": true
   },
   "outputs": [
    {
     "ename": "FileCreateError",
     "evalue": "[Errno 13] Permission denied: 'pandas_xlsxWriter.xlsx'",
     "output_type": "error",
     "traceback": [
      "\u001b[1;31m---------------------------------------------------------------------------\u001b[0m",
      "\u001b[1;31mPermissionError\u001b[0m                           Traceback (most recent call last)",
      "\u001b[1;32mC:\\Program Files\\anaconda3\\lib\\site-packages\\xlsxwriter\\workbook.py\u001b[0m in \u001b[0;36mclose\u001b[1;34m(self)\u001b[0m\n\u001b[0;32m    310\u001b[0m             \u001b[1;32mtry\u001b[0m\u001b[1;33m:\u001b[0m\u001b[1;33m\u001b[0m\u001b[1;33m\u001b[0m\u001b[0m\n\u001b[1;32m--> 311\u001b[1;33m                 \u001b[0mself\u001b[0m\u001b[1;33m.\u001b[0m\u001b[0m_store_workbook\u001b[0m\u001b[1;33m(\u001b[0m\u001b[1;33m)\u001b[0m\u001b[1;33m\u001b[0m\u001b[1;33m\u001b[0m\u001b[0m\n\u001b[0m\u001b[0;32m    312\u001b[0m             \u001b[1;32mexcept\u001b[0m \u001b[0mIOError\u001b[0m \u001b[1;32mas\u001b[0m \u001b[0me\u001b[0m\u001b[1;33m:\u001b[0m\u001b[1;33m\u001b[0m\u001b[1;33m\u001b[0m\u001b[0m\n",
      "\u001b[1;32mC:\\Program Files\\anaconda3\\lib\\site-packages\\xlsxwriter\\workbook.py\u001b[0m in \u001b[0;36m_store_workbook\u001b[1;34m(self)\u001b[0m\n\u001b[0;32m    626\u001b[0m         \u001b[1;32mexcept\u001b[0m \u001b[0mIOError\u001b[0m \u001b[1;32mas\u001b[0m \u001b[0me\u001b[0m\u001b[1;33m:\u001b[0m\u001b[1;33m\u001b[0m\u001b[1;33m\u001b[0m\u001b[0m\n\u001b[1;32m--> 627\u001b[1;33m             \u001b[1;32mraise\u001b[0m \u001b[0me\u001b[0m\u001b[1;33m\u001b[0m\u001b[1;33m\u001b[0m\u001b[0m\n\u001b[0m\u001b[0;32m    628\u001b[0m \u001b[1;33m\u001b[0m\u001b[0m\n",
      "\u001b[1;32mC:\\Program Files\\anaconda3\\lib\\site-packages\\xlsxwriter\\workbook.py\u001b[0m in \u001b[0;36m_store_workbook\u001b[1;34m(self)\u001b[0m\n\u001b[0;32m    624\u001b[0m             xlsx_file = ZipFile(self.filename, \"w\", compression=ZIP_DEFLATED,\n\u001b[1;32m--> 625\u001b[1;33m                                 allowZip64=self.allow_zip64)\n\u001b[0m\u001b[0;32m    626\u001b[0m         \u001b[1;32mexcept\u001b[0m \u001b[0mIOError\u001b[0m \u001b[1;32mas\u001b[0m \u001b[0me\u001b[0m\u001b[1;33m:\u001b[0m\u001b[1;33m\u001b[0m\u001b[1;33m\u001b[0m\u001b[0m\n",
      "\u001b[1;32mC:\\Program Files\\anaconda3\\lib\\zipfile.py\u001b[0m in \u001b[0;36m__init__\u001b[1;34m(self, file, mode, compression, allowZip64, compresslevel)\u001b[0m\n\u001b[0;32m   1206\u001b[0m                 \u001b[1;32mtry\u001b[0m\u001b[1;33m:\u001b[0m\u001b[1;33m\u001b[0m\u001b[1;33m\u001b[0m\u001b[0m\n\u001b[1;32m-> 1207\u001b[1;33m                     \u001b[0mself\u001b[0m\u001b[1;33m.\u001b[0m\u001b[0mfp\u001b[0m \u001b[1;33m=\u001b[0m \u001b[0mio\u001b[0m\u001b[1;33m.\u001b[0m\u001b[0mopen\u001b[0m\u001b[1;33m(\u001b[0m\u001b[0mfile\u001b[0m\u001b[1;33m,\u001b[0m \u001b[0mfilemode\u001b[0m\u001b[1;33m)\u001b[0m\u001b[1;33m\u001b[0m\u001b[1;33m\u001b[0m\u001b[0m\n\u001b[0m\u001b[0;32m   1208\u001b[0m                 \u001b[1;32mexcept\u001b[0m \u001b[0mOSError\u001b[0m\u001b[1;33m:\u001b[0m\u001b[1;33m\u001b[0m\u001b[1;33m\u001b[0m\u001b[0m\n",
      "\u001b[1;31mPermissionError\u001b[0m: [Errno 13] Permission denied: 'pandas_xlsxWriter.xlsx'",
      "\nDuring handling of the above exception, another exception occurred:\n",
      "\u001b[1;31mFileCreateError\u001b[0m                           Traceback (most recent call last)",
      "\u001b[1;32m<ipython-input-152-1fc1c6171d7c>\u001b[0m in \u001b[0;36m<module>\u001b[1;34m\u001b[0m\n\u001b[0;32m      6\u001b[0m \u001b[1;33m\u001b[0m\u001b[0m\n\u001b[0;32m      7\u001b[0m \u001b[1;31m## Pandas writer 객체 닫기\u001b[0m\u001b[1;33m\u001b[0m\u001b[1;33m\u001b[0m\u001b[1;33m\u001b[0m\u001b[0m\n\u001b[1;32m----> 8\u001b[1;33m \u001b[0mwriter\u001b[0m\u001b[1;33m.\u001b[0m\u001b[0mclose\u001b[0m\u001b[1;33m(\u001b[0m\u001b[1;33m)\u001b[0m\u001b[1;33m\u001b[0m\u001b[1;33m\u001b[0m\u001b[0m\n\u001b[0m",
      "\u001b[1;32m~\\AppData\\Roaming\\Python\\Python37\\site-packages\\pandas\\io\\excel\\_base.py\u001b[0m in \u001b[0;36mclose\u001b[1;34m(self)\u001b[0m\n\u001b[0;32m    779\u001b[0m     \u001b[1;32mdef\u001b[0m \u001b[0mclose\u001b[0m\u001b[1;33m(\u001b[0m\u001b[0mself\u001b[0m\u001b[1;33m)\u001b[0m\u001b[1;33m:\u001b[0m\u001b[1;33m\u001b[0m\u001b[1;33m\u001b[0m\u001b[0m\n\u001b[0;32m    780\u001b[0m         \u001b[1;34m\"\"\"synonym for save, to make it more file-like\"\"\"\u001b[0m\u001b[1;33m\u001b[0m\u001b[1;33m\u001b[0m\u001b[0m\n\u001b[1;32m--> 781\u001b[1;33m         \u001b[1;32mreturn\u001b[0m \u001b[0mself\u001b[0m\u001b[1;33m.\u001b[0m\u001b[0msave\u001b[0m\u001b[1;33m(\u001b[0m\u001b[1;33m)\u001b[0m\u001b[1;33m\u001b[0m\u001b[1;33m\u001b[0m\u001b[0m\n\u001b[0m\u001b[0;32m    782\u001b[0m \u001b[1;33m\u001b[0m\u001b[0m\n\u001b[0;32m    783\u001b[0m \u001b[1;33m\u001b[0m\u001b[0m\n",
      "\u001b[1;32m~\\AppData\\Roaming\\Python\\Python37\\site-packages\\pandas\\io\\excel\\_xlsxwriter.py\u001b[0m in \u001b[0;36msave\u001b[1;34m(self)\u001b[0m\n\u001b[0;32m    193\u001b[0m         \"\"\"\n\u001b[0;32m    194\u001b[0m \u001b[1;33m\u001b[0m\u001b[0m\n\u001b[1;32m--> 195\u001b[1;33m         \u001b[1;32mreturn\u001b[0m \u001b[0mself\u001b[0m\u001b[1;33m.\u001b[0m\u001b[0mbook\u001b[0m\u001b[1;33m.\u001b[0m\u001b[0mclose\u001b[0m\u001b[1;33m(\u001b[0m\u001b[1;33m)\u001b[0m\u001b[1;33m\u001b[0m\u001b[1;33m\u001b[0m\u001b[0m\n\u001b[0m\u001b[0;32m    196\u001b[0m \u001b[1;33m\u001b[0m\u001b[0m\n\u001b[0;32m    197\u001b[0m     def write_cells(\n",
      "\u001b[1;32mC:\\Program Files\\anaconda3\\lib\\site-packages\\xlsxwriter\\workbook.py\u001b[0m in \u001b[0;36mclose\u001b[1;34m(self)\u001b[0m\n\u001b[0;32m    311\u001b[0m                 \u001b[0mself\u001b[0m\u001b[1;33m.\u001b[0m\u001b[0m_store_workbook\u001b[0m\u001b[1;33m(\u001b[0m\u001b[1;33m)\u001b[0m\u001b[1;33m\u001b[0m\u001b[1;33m\u001b[0m\u001b[0m\n\u001b[0;32m    312\u001b[0m             \u001b[1;32mexcept\u001b[0m \u001b[0mIOError\u001b[0m \u001b[1;32mas\u001b[0m \u001b[0me\u001b[0m\u001b[1;33m:\u001b[0m\u001b[1;33m\u001b[0m\u001b[1;33m\u001b[0m\u001b[0m\n\u001b[1;32m--> 313\u001b[1;33m                 \u001b[1;32mraise\u001b[0m \u001b[0mFileCreateError\u001b[0m\u001b[1;33m(\u001b[0m\u001b[0me\u001b[0m\u001b[1;33m)\u001b[0m\u001b[1;33m\u001b[0m\u001b[1;33m\u001b[0m\u001b[0m\n\u001b[0m\u001b[0;32m    314\u001b[0m             \u001b[1;32mexcept\u001b[0m \u001b[0mLargeZipFile\u001b[0m \u001b[1;32mas\u001b[0m \u001b[0me\u001b[0m\u001b[1;33m:\u001b[0m\u001b[1;33m\u001b[0m\u001b[1;33m\u001b[0m\u001b[0m\n\u001b[0;32m    315\u001b[0m                 raise FileSizeError(\"Filesize would require ZIP64 extensions. \"\n",
      "\u001b[1;31mFileCreateError\u001b[0m: [Errno 13] Permission denied: 'pandas_xlsxWriter.xlsx'"
     ]
    }
   ],
   "source": [
    "총df\n",
    "writer = pd.ExcelWriter('pandas_xlsxWriter.xlsx', engine='xlsxwriter')\n",
    " \n",
    "## DataFrame을 xlsx에 쓰기\n",
    "총df.to_excel(writer, sheet_name='Sheet1')\n",
    " \n",
    "## Pandas writer 객체 닫기\n",
    "writer.close()\n"
   ]
  },
  {
   "cell_type": "code",
   "execution_count": 7,
   "metadata": {},
   "outputs": [
    {
     "data": {
      "image/png": "[encoded data removed]",
      "text/plain": [
       "<Figure size 432x288 with 1 Axes>"
      ]
     },
     "metadata": {
      "needs_background": "light"
     },
     "output_type": "display_data"
    },
    {
     "name": "stdout",
     "output_type": "stream",
     "text": [
      "코스피 정확도 :  0.475\n"
     ]
    },
    {
     "data": {
      "image/png": "[encoded data removed]",
      "text/plain": [
       "<Figure size 432x288 with 1 Axes>"
      ]
     },
     "metadata": {
      "needs_background": "light"
     },
     "output_type": "display_data"
    },
    {
     "name": "stdout",
     "output_type": "stream",
     "text": [
      "코스닥 정확도 :  0.5180555555555556\n"
     ]
    },
    {
     "data": {
      "image/png": "[encoded data removed]",
      "text/plain": [
       "<Figure size 432x288 with 1 Axes>"
      ]
     },
     "metadata": {
      "needs_background": "light"
     },
     "output_type": "display_data"
    },
    {
     "name": "stdout",
     "output_type": "stream",
     "text": [
      "나스닥 정확도 :  0.6763888888888889\n"
     ]
    },
    {
     "data": {
      "image/png": "[encoded data removed]",
      "text/plain": [
       "<Figure size 432x288 with 1 Axes>"
      ]
     },
     "metadata": {
      "needs_background": "light"
     },
     "output_type": "display_data"
    },
    {
     "name": "stdout",
     "output_type": "stream",
     "text": [
      "항생 정확도 :  0.4\n"
     ]
    },
    {
     "data": {
      "image/png": "[encoded data removed]",
      "text/plain": [
       "<Figure size 432x288 with 1 Axes>"
      ]
     },
     "metadata": {
      "needs_background": "light"
     },
     "output_type": "display_data"
    },
    {
     "name": "stdout",
     "output_type": "stream",
     "text": [
      "S&P500 정확도 :  0.7041666666666667\n",
      "1~20일 차 ---------------------------------\n",
      "분산 투자 :  [8780.950924935027]\n",
      "투자 결과 :  8780.950924935027\n",
      "       영업일     인덱스 상승예측확률     실제수익률\n",
      "0  1~20일 차     코스피  [0.3] -0.002441\n",
      "0  1~20일 차     코스닥  [0.0]  0.003883\n",
      "0  1~20일 차     나스닥  [0.0]  0.131118\n",
      "0  1~20일 차      항생  [1.0] -0.121905\n",
      "0  1~20일 차  S&P500  [0.0]  0.119830\n",
      "21~40일 차 ---------------------------------\n",
      "분산 투자 :  [13260.243918165546]\n",
      "투자 결과 :  13260.243918165546\n",
      "        영업일     인덱스  상승예측확률     실제수익률\n",
      "0  21~40일 차     코스피  [0.35]  0.063096\n",
      "0  21~40일 차     코스닥   [0.0] -0.006145\n",
      "0  21~40일 차     나스닥   [0.0]  0.060298\n",
      "0  21~40일 차      항생   [1.0]  0.510115\n",
      "0  21~40일 차  S&P500   [0.0]  0.057339\n",
      "41~60일 차 ---------------------------------\n",
      "분산 투자 :  [6651.794362864986, 8381.81175194705]\n",
      "투자 결과 :  15033.606114812037\n",
      "        영업일     인덱스 상승예측확률     실제수익률\n",
      "0  41~60일 차     코스피  [1.0]  0.003269\n",
      "0  41~60일 차     코스닥  [0.0]  0.023125\n",
      "0  41~60일 차     나스닥  [0.0] -0.008284\n",
      "0  41~60일 차      항생  [1.0]  0.264202\n",
      "0  41~60일 차  S&P500  [0.0]  0.031097\n",
      "61~80일 차 ---------------------------------\n",
      "분산 투자 :  [7442.290686673108, 5561.46972013836]\n",
      "투자 결과 :  13003.760406811467\n",
      "        영업일     인덱스 상승예측확률     실제수익률\n",
      "0  61~80일 차     코스피  [0.9] -0.009913\n",
      "0  61~80일 차     코스닥  [0.0] -0.018464\n",
      "0  61~80일 차     나스닥  [0.0]  0.059644\n",
      "0  61~80일 차      항생  [1.0] -0.260128\n",
      "0  61~80일 차  S&P500  [0.0]  0.028364\n",
      "81~100일 차 ---------------------------------\n",
      "분산 투자 :  [6806.401025203295, 6953.537620321519]\n",
      "투자 결과 :  13759.938645524813\n",
      "         영업일     인덱스  상승예측확률     실제수익률\n",
      "0  81~100일 차     코스피  [0.65]  0.046836\n",
      "0  81~100일 차     코스닥   [0.0]  0.015619\n",
      "0  81~100일 차     나스닥   [0.0] -0.079190\n",
      "0  81~100일 차      항생   [1.0]  0.069466\n",
      "0  81~100일 차  S&P500   [0.0] -0.051828\n",
      "101~120일 차 ---------------------------------\n",
      "분산 투자 :  [16549.122011729534]\n",
      "투자 결과 :  16549.122011729534\n",
      "          영업일     인덱스  상승예측확률     실제수익률\n",
      "0  101~120일 차     코스피  [0.25] -0.055856\n",
      "0  101~120일 차     코스닥   [0.0] -0.038242\n",
      "0  101~120일 차     나스닥   [0.0]  0.115751\n",
      "0  101~120일 차      항생   [1.0]  0.202703\n",
      "0  101~120일 차  S&P500   [0.0]  0.080402\n",
      "121~140일 차 ---------------------------------\n",
      "분산 투자 :  [19725.987299142165]\n",
      "투자 결과 :  19725.987299142165\n",
      "          영업일     인덱스  상승예측확률     실제수익률\n",
      "0  121~140일 차     코스피  [0.45]  0.111225\n",
      "0  121~140일 차     코스닥   [0.0]  0.055769\n",
      "0  121~140일 차     나스닥   [0.0]  0.017964\n",
      "0  121~140일 차      항생   [1.0]  0.191966\n",
      "0  121~140일 차  S&P500   [0.0]  0.004168\n",
      "141~160일 차 ---------------------------------\n",
      "분산 투자 :  [10482.842174398684, 11607.206890071588]\n",
      "투자 결과 :  22090.049064470273\n",
      "          영업일     인덱스 상승예측확률     실제수익률\n",
      "0  141~160일 차     코스피  [1.0]  0.062846\n",
      "0  141~160일 차     코스닥  [0.0] -0.119922\n",
      "0  141~160일 차     나스닥  [0.0]  0.035885\n",
      "0  141~160일 차      항생  [1.0]  0.176844\n",
      "0  141~160일 차  S&P500  [0.0]  0.003642\n",
      "161~180일 차 ---------------------------------\n",
      "분산 투자 :  [11408.821198520487, 10696.229692221219]\n",
      "투자 결과 :  22105.050890741706\n",
      "          영업일     인덱스 상승예측확률     실제수익률\n",
      "0  161~180일 차     코스피  [0.9]  0.032938\n",
      "0  161~180일 차     코스닥  [0.0]  0.055742\n",
      "0  161~180일 차     나스닥  [0.0] -0.017553\n",
      "0  161~180일 차      항생  [1.0] -0.031579\n",
      "0  161~180일 차  S&P500  [0.0] -0.018163\n",
      "181~200일 차 ---------------------------------\n",
      "분산 투자 :  [10324.53294679568, 10083.36163932097]\n",
      "투자 결과 :  20407.89458611665\n",
      "          영업일     인덱스  상승예측확률     실제수익률\n",
      "0  181~200일 차     코스피  [0.65] -0.065867\n",
      "0  181~200일 차     코스닥   [0.0] -0.214071\n",
      "0  181~200일 차     나스닥   [0.0]  0.021310\n",
      "0  181~200일 차      항생   [1.0] -0.087687\n",
      "0  181~200일 차  S&P500   [0.0]  0.036418\n",
      "201~220일 차 ---------------------------------\n",
      "분산 투자 :  [21268.446917145586]\n",
      "투자 결과 :  21268.446917145586\n",
      "          영업일     인덱스 상승예측확률     실제수익률\n",
      "0  201~220일 차     코스피  [0.4] -0.000889\n",
      "0  201~220일 차     코스닥  [0.0] -0.050837\n",
      "0  201~220일 차     나스닥  [0.0]  0.031622\n",
      "0  201~220일 차      항생  [1.0]  0.042168\n",
      "0  201~220일 차  S&P500  [0.0]  0.058468\n",
      "221~240일 차 ---------------------------------\n",
      "분산 투자 :  [20301.201984034098]\n",
      "투자 결과 :  20301.201984034098\n",
      "          영업일     인덱스 상승예측확률     실제수익률\n",
      "0  221~240일 차     코스피  [0.4]  0.094215\n",
      "0  221~240일 차     코스닥  [0.0]  0.119372\n",
      "0  221~240일 차     나스닥  [0.0]  0.025891\n",
      "0  221~240일 차      항생  [1.0] -0.045478\n",
      "0  221~240일 차  S&P500  [0.0]  0.006766\n",
      "241~260일 차 ---------------------------------\n",
      "분산 투자 :  [10799.585120507334, 11394.208186007014]\n",
      "투자 결과 :  22193.793306514348\n",
      "          영업일     인덱스 상승예측확률     실제수익률\n",
      "0  241~260일 차     코스피  [0.9]  0.063936\n",
      "0  241~260일 차     코스닥  [0.0] -0.080976\n",
      "0  241~260일 차     나스닥  [0.0]  0.072076\n",
      "0  241~260일 차      항생  [1.0]  0.122516\n",
      "0  241~260일 차  S&P500  [0.0]  0.061796\n",
      "261~280일 차 ---------------------------------\n",
      "분산 투자 :  [11258.504179374033, 11397.431277318892]\n",
      "투자 결과 :  22655.935456692925\n",
      "          영업일     인덱스  상승예측확률     실제수익률\n",
      "0  261~280일 차     코스피  [0.95]  0.014563\n",
      "0  261~280일 차     코스닥   [0.0] -0.009939\n",
      "0  261~280일 차     나스닥   [0.0]  0.020686\n",
      "0  261~280일 차      항생   [1.0]  0.027083\n",
      "0  261~280일 차  S&P500   [0.0]  0.023268\n",
      "281~300일 차 ---------------------------------\n",
      "분산 투자 :  [12423.920246300366, 12258.22368679231]\n",
      "투자 결과 :  24682.143933092673\n",
      "          영업일     인덱스 상승예측확률     실제수익률\n",
      "0  281~300일 차     코스피  [0.9]  0.096747\n",
      "0  281~300일 차     코스닥  [0.0] -0.024930\n",
      "0  281~300일 차     나스닥  [0.0] -0.022623\n",
      "0  281~300일 차      항생  [1.0]  0.082120\n",
      "0  281~300일 차  S&P500  [0.0] -0.032886\n",
      "301~320일 차 ---------------------------------\n",
      "분산 투자 :  [12501.413509716955, 13287.495885401144]\n",
      "투자 결과 :  25788.9093951181\n",
      "          영업일     인덱스 상승예측확률     실제수익률\n",
      "0  301~320일 차     코스피  [1.0]  0.012993\n",
      "0  301~320일 차     코스닥  [0.0]  0.070734\n",
      "0  301~320일 차     나스닥  [0.0]  0.063073\n",
      "0  301~320일 차      항생  [1.0]  0.076689\n",
      "0  301~320일 차  S&P500  [0.0]  0.028499\n",
      "321~340일 차 ---------------------------------\n",
      "분산 투자 :  [28609.723527617327]\n",
      "투자 결과 :  28609.723527617327\n",
      "          영업일     인덱스  상승예측확률     실제수익률\n",
      "0  321~340일 차     코스피  [0.55]  0.189463\n",
      "0  321~340일 차     코스닥   [0.0]  0.060264\n",
      "0  321~340일 차     나스닥   [0.0]  0.005752\n",
      "0  321~340일 차      항생   [1.0]  0.109381\n",
      "0  321~340일 차  S&P500   [0.0]  0.017772\n",
      "341~360일 차 ---------------------------------\n",
      "분산 투자 :  [14819.29655150183, 13516.073085789545]\n",
      "투자 결과 :  28335.369637291376\n",
      "          영업일     인덱스 상승예측확률     실제수익률\n",
      "0  341~360일 차     코스피  [1.0]  0.035962\n",
      "0  341~360일 차     코스닥  [0.0]  0.108726\n",
      "0  341~360일 차     나스닥  [0.0] -0.005939\n",
      "0  341~360일 차      항생  [1.0] -0.055141\n",
      "0  341~360일 차  S&P500  [0.0] -0.009493\n",
      "361~380일 차 ---------------------------------\n",
      "분산 투자 :  [14986.089392476575, 17461.185891479512]\n",
      "투자 결과 :  32447.275283956085\n",
      "          영업일     인덱스 상승예측확률     실제수익률\n",
      "0  361~380일 차     코스피  [1.0]  0.057766\n",
      "0  361~380일 차     코스닥  [0.0]  0.017827\n",
      "0  361~380일 차     나스닥  [0.0]  0.023774\n",
      "0  361~380일 차      항생  [1.0]  0.232466\n",
      "0  361~380일 차  S&P500  [0.0]  0.020248\n",
      "381~400일 차 ---------------------------------\n",
      "분산 투자 :  [15102.791345133333, 17034.191043175026]\n",
      "투자 결과 :  32136.98238830836\n",
      "          영업일     인덱스 상승예측확률     실제수익률\n",
      "0  381~400일 차     코스피  [1.0] -0.069087\n",
      "0  381~400일 차     코스닥  [0.0] -0.100452\n",
      "0  381~400일 차     나스닥  [0.0]  0.008741\n",
      "0  381~400일 차      항생  [1.0]  0.049961\n",
      "0  381~400일 차  S&P500  [0.0] -0.005317\n",
      "401~420일 차 ---------------------------------\n",
      "분산 투자 :  [31237.94438109723]\n",
      "투자 결과 :  31237.94438109723\n",
      "          영업일     인덱스  상승예측확률     실제수익률\n",
      "0  401~420일 차     코스피  [0.35]  0.049361\n",
      "0  401~420일 차     코스닥   [0.0]  0.131406\n",
      "0  401~420일 차     나스닥   [0.0]  0.028891\n",
      "0  401~420일 차      항생   [1.0] -0.027975\n",
      "0  401~420일 차  S&P500   [0.0]  0.045802\n",
      "421~440일 차 ---------------------------------\n",
      "분산 투자 :  [16811.566248420037, 17041.21998564871]\n",
      "투자 결과 :  33852.78623406874\n",
      "          영업일     인덱스  상승예측확률     실제수익률\n",
      "0  421~440일 차     코스피  [0.75]  0.076355\n",
      "0  421~440일 차     코스닥   [0.0]  0.081586\n",
      "0  421~440일 차     나스닥   [0.0]  0.026654\n",
      "0  421~440일 차      항생   [1.0]  0.091059\n",
      "0  421~440일 차  S&P500   [0.0]  0.016313\n",
      "441~460일 차 ---------------------------------\n",
      "분산 투자 :  [17831.27792079837, 19069.348051385074]\n",
      "투자 결과 :  36900.62597218344\n",
      "          영업일     인덱스 상승예측확률     실제수익률\n",
      "0  441~460일 차     코스피  [1.0]  0.053460\n",
      "0  441~460일 차     코스닥  [0.0]  0.369992\n",
      "0  441~460일 차     나스닥  [0.0]  0.031486\n",
      "0  441~460일 차      항생  [1.0]  0.126604\n",
      "0  441~460일 차  S&P500  [0.0]  0.039824\n",
      "461~480일 차 ---------------------------------\n",
      "분산 투자 :  [17434.50377553, 18301.759343405894]\n",
      "투자 결과 :  35736.263118935894\n",
      "          영업일     인덱스 상승예측확률     실제수익률\n",
      "0  461~480일 차     코스피  [1.0] -0.055056\n",
      "0  461~480일 차     코스닥  [0.0] -0.107243\n",
      "0  461~480일 차     나스닥  [0.0]  0.010765\n",
      "0  461~480일 차      항생  [1.0] -0.008052\n",
      "0  461~480일 차  S&P500  [0.0]  0.017804\n",
      "481~500일 차 ---------------------------------\n",
      "분산 투자 :  [43920.50376368608]\n",
      "투자 결과 :  43920.50376368608\n",
      "          영업일     인덱스 상승예측확률     실제수익률\n",
      "0  481~500일 차     코스피  [0.1]  0.067596\n",
      "0  481~500일 차     코스닥  [0.0]  0.401397\n",
      "0  481~500일 차     나스닥  [0.0]  0.074041\n",
      "0  481~500일 차      항생  [1.0]  0.229018\n",
      "0  481~500일 차  S&P500  [0.0]  0.069699\n",
      "501~520일 차 ---------------------------------\n"
     ]
    },
    {
     "name": "stdout",
     "output_type": "stream",
     "text": [
      "분산 투자 :  [19963.203313944196, 19809.520764646135]\n",
      "투자 결과 :  39772.72407859033\n",
      "          영업일     인덱스 상승예측확률     실제수익률\n",
      "0  501~520일 차     코스피  [0.7] -0.090939\n",
      "0  501~520일 차     코스닥  [0.0] -0.038876\n",
      "0  501~520일 차     나스닥  [0.0] -0.024093\n",
      "0  501~520일 차      항생  [1.0] -0.097937\n",
      "0  501~520일 차  S&P500  [0.0] -0.056554\n",
      "521~540일 차 ---------------------------------\n",
      "분산 투자 :  [37866.26231158758]\n",
      "투자 결과 :  37866.26231158758\n",
      "          영업일     인덱스  상승예측확률     실제수익률\n",
      "0  521~540일 차     코스피  [0.45]  0.077571\n",
      "0  521~540일 차     코스닥   [0.0]  0.003039\n",
      "0  521~540일 차     나스닥   [0.0] -0.041935\n",
      "0  521~540일 차      항생   [1.0] -0.047934\n",
      "0  521~540일 차  S&P500   [0.0] -0.040405\n",
      "541~560일 차 ---------------------------------\n",
      "분산 투자 :  [20176.07610508725, 17913.39865136068]\n",
      "투자 결과 :  38089.47475644793\n",
      "          영업일     인덱스  상승예측확률     실제수익률\n",
      "0  541~560일 차     코스피  [0.65]  0.065649\n",
      "0  541~560일 차     코스닥   [0.0]  0.126270\n",
      "0  541~560일 차     나스닥   [0.0]  0.010231\n",
      "0  541~560일 차      항생   [1.0] -0.053860\n",
      "0  541~560일 차  S&P500   [0.0]  0.014798\n",
      "561~580일 차 ---------------------------------\n",
      "분산 투자 :  [39478.32998442797]\n",
      "투자 결과 :  39478.32998442797\n",
      "          영업일     인덱스  상승예측확률     실제수익률\n",
      "0  561~580일 차     코스피  [0.45] -0.009643\n",
      "0  561~580일 차     코스닥   [0.0] -0.033798\n",
      "0  561~580일 차     나스닥   [0.0]  0.055838\n",
      "0  561~580일 차      항생   [1.0]  0.036463\n",
      "0  561~580일 차  S&P500   [0.0]  0.032304\n",
      "581~600일 차 ---------------------------------\n",
      "분산 투자 :  [35031.96981210945]\n",
      "투자 결과 :  35031.96981210945\n",
      "          영업일     인덱스  상승예측확률     실제수익률\n",
      "0  581~600일 차     코스피  [0.55] -0.120644\n",
      "0  581~600일 차     코스닥   [0.0] -0.093427\n",
      "0  581~600일 차     나스닥   [0.0]  0.044885\n",
      "0  581~600일 차      항생   [1.0] -0.112628\n",
      "0  581~600일 차  S&P500   [0.0]  0.018212\n",
      "601~620일 차 ---------------------------------\n",
      "분산 투자 :  [36665.90899715004]\n",
      "투자 결과 :  36665.90899715004\n",
      "          영업일     인덱스  상승예측확률     실제수익률\n",
      "0  601~620일 차     코스피  [0.45] -0.075180\n",
      "0  601~620일 차     코스닥   [0.0] -0.080291\n",
      "0  601~620일 차     나스닥   [0.0]  0.052807\n",
      "0  601~620일 차      항생   [1.0]  0.046641\n",
      "0  601~620일 차  S&P500   [0.0]  0.048919\n",
      "621~640일 차 ---------------------------------\n",
      "분산 투자 :  [34168.35269949416]\n",
      "투자 결과 :  34168.35269949416\n",
      "          영업일     인덱스 상승예측확률     실제수익률\n",
      "0  621~640일 차     코스피  [0.1] -0.045378\n",
      "0  621~640일 차     코스닥  [0.0] -0.050542\n",
      "0  621~640일 차     나스닥  [0.0] -0.003199\n",
      "0  621~640일 차      항생  [1.0] -0.068117\n",
      "0  621~640일 차  S&P500  [0.0]  0.018879\n",
      "641~660일 차 ---------------------------------\n",
      "분산 투자 :  [33034.094577604556]\n",
      "투자 결과 :  33034.094577604556\n",
      "          영업일     인덱스 상승예측확률     실제수익률\n",
      "0  641~660일 차     코스피  [0.5]  0.079304\n",
      "0  641~660일 차     코스닥  [0.0]  0.180801\n",
      "0  641~660일 차     나스닥  [0.0]  0.015648\n",
      "0  641~660일 차      항생  [1.0] -0.033196\n",
      "0  641~660일 차  S&P500  [0.0]  0.020844\n",
      "661~680일 차 ---------------------------------\n",
      "분산 투자 :  [13945.212970859282, 14568.496468936206]\n",
      "투자 결과 :  28513.709439795486\n",
      "          영업일     인덱스 상승예측확률     실제수익률\n",
      "0  661~680일 차     코스피  [0.8] -0.155708\n",
      "0  661~680일 차     코스닥  [0.0] -0.210812\n",
      "0  661~680일 차     나스닥  [0.0] -0.048450\n",
      "0  661~680일 차      항생  [1.0] -0.117972\n",
      "0  661~680일 차  S&P500  [0.0] -0.048319\n",
      "------------종료------------  ◆리밸런싱 수◆ :  34\n"
     ]
    }
   ],
   "source": [
    "\n",
    "for 인덱스,인덱스명 in zip([KS11,KQ11,IXIC,HSI,US500],[\"코스피\",\"코스닥\",\"나스닥\",\"항생\",\"S&P500\"]):\n",
    "    df = 인덱스\n",
    "    \n",
    "    # 특성 추가--------------------------------------------------------\n",
    "    \n",
    "    \n",
    "        #스토캐스틱과 이동평균선\n",
    "    df=get_stochastic(df)\n",
    "    df=get_MA(df)\n",
    "    \n",
    "        #RSI\n",
    "    df['Momentum_1D'] = (df['Close']-df['Close'].shift(1))\n",
    "    df['RSI_14D'] = df['Momentum_1D'].rolling(center=False, window=14).apply(rsi)\n",
    "    df=df.dropna()\n",
    "    df=df[0:-(len(df)%BATCH)]\n",
    "    df = df.drop(labels = ['Momentum_1D'], axis=1)\n",
    "    \n",
    "        #이동평균선\n",
    "    MA_26=df[\"Close\"].rolling(21).mean()\n",
    "    df_MA=MA_26.dropna()\n",
    "    df_char=df[20:-20] # df_char : 특성 모두 추가한 data, rolling,shifting 고려해서 제거\n",
    "       #------------------------------------------------------------------\n",
    "    y=[]\n",
    "    for x in range(0,len(df_char)):\n",
    "        if(df_char[\"Close\"][x] > df_MA[x+20]):\n",
    "            y.append(1)\n",
    "        else:\n",
    "            y.append(0)\n",
    "\n",
    "#     y=np.where(np.array(df_char[\"Close\"])>np.array(df_MA.shift(-20).dropna()),1,0) #값과 이평선( 20일 차 )\n",
    "\n",
    "    df = df_char[:] # 20개 1개 예측이면 :-20, 20개로 20개예측이면 -20 제거\n",
    "    nparr = df # 스케일링 할 데이터\n",
    "    nparr2 = df # 스케일링 안한 데이터 백업\n",
    "\n",
    "    \n",
    "    #normalizing\n",
    "    scaler = MinMaxScaler(feature_range=(0, 1))\n",
    "    df[\"Close\"]=scaler.fit_transform(nparr[\"Close\"].values.reshape(-1,1))\n",
    "    df[\"Open\"]=scaler.fit_transform(nparr[\"Open\"].values.reshape(-1,1))\n",
    "    df[\"High\"]=scaler.fit_transform(nparr[\"High\"].values.reshape(-1,1))\n",
    "    df[\"Low\"]=scaler.fit_transform(nparr[\"Low\"].values.reshape(-1,1))\n",
    "    df[\"Change\"]=scaler.fit_transform(nparr[\"Change\"].values.reshape(-1,1))\n",
    "    df[\"kdj_k\"]=scaler.fit_transform(nparr[\"kdj_k\"].values.reshape(-1,1))\n",
    "    df[\"kdj_d\"]=scaler.fit_transform(nparr[\"kdj_d\"].values.reshape(-1,1))\n",
    "    df[\"kdj_j\"]=scaler.fit_transform(nparr[\"kdj_j\"].values.reshape(-1,1))\n",
    "    df[\"MA_26\"]=scaler.fit_transform(nparr[\"MA_26\"].values.reshape(-1,1))\n",
    "    df[\"MA_52\"]=scaler.fit_transform(nparr[\"MA_52\"].values.reshape(-1,1))\n",
    "    df[\"RSI_14D\"]=scaler.fit_transform(nparr[\"RSI_14D\"].values.reshape(-1,1))\n",
    "    \n",
    "    #-----\n",
    "#     df[\"y\"]=y\n",
    "#     print(df.corr()) #상관관계 분석 ( 출력하고 싶다면 주석 제거)\n",
    "#     df = df.drop(['y'],axis = 1)\n",
    "    #-----\n",
    "    \n",
    "    df = df.drop(['Close','Open','High','Low','MA_26','MA_52'], axis = 1 ) # 상관관계 분석 후 관계 적은 특성(열) 제거\n",
    "    X=df.values\n",
    "    \n",
    "    # train test val 세팅\n",
    "    setlen=int(len(X)/20*0.7)*20 # 데이터를 7:3으로 나누고 20의 배수로 만듬\n",
    "    X_train=X[:setlen]\n",
    "    X_test=X[setlen:]\n",
    "    y_train=y[:setlen]\n",
    "    y_test=y[setlen:]\n",
    "    \n",
    "    setlen2=int(len(X_train)/20*0.3)*20 # 검증 데이터를 3:7으로 나누고 20의 배수로 만듬\n",
    "    X_val = X_train[ : setlen2]\n",
    "    y_val = y_train[ : setlen2]\n",
    "    X_train2 = X_train[setlen2 : ]\n",
    "    y_train2 = y_train[setlen2 : ]\n",
    "    \n",
    "    \n",
    "    # 딥러닝 모델에 맞는 사이즈로 전처리\n",
    "    X_train = np.reshape(X_train, (X_train.shape[0],1, X_train.shape[1]))\n",
    "    X_test = np.reshape(X_test, (X_test.shape[0],1, X_test.shape[1]))\n",
    "    \n",
    "    X_val = np.reshape(X_val, (X_val.shape[0],1, X_val.shape[1]))\n",
    "    X_train2 = np.reshape(X_train2, (X_train2.shape[0],1, X_train2.shape[1]))\n",
    "    \n",
    "    #LSTM모델 생성\n",
    "    model = Sequential()\n",
    "    model.add(LSTM(36, input_shape=(1, 5)))\n",
    "    for i in range(2):\n",
    "        model.add(Dense(18,activation='relu'))\n",
    "        model.add(Dropout(0.2))\n",
    "    model.add(Dense(1,activation='sigmoid'))\n",
    "    model.compile(loss='binary_crossentropy', optimizer='adam', metrics=['accuracy'])\n",
    "    \n",
    "    history = model.fit(X_train2, y_train2, epochs=6, batch_size=16,validation_data=(X_val,y_val),verbose=0)\n",
    "    \n",
    "    history_dict= history.history\n",
    "    loss_values = history_dict['loss']\n",
    "    val_loss_values = history_dict['val_loss']\n",
    "    acc = history_dict['accuracy']\n",
    "    epochs = range(1,len(acc)+1)\n",
    "\n",
    "    plt.plot(epochs,loss_values,'bo',label='Training loss')\n",
    "    plt.plot(epochs,val_loss_values,'b',label='Validation loss')\n",
    "    plt.title('Training and validation loss')\n",
    "    plt.xlabel('Epochs')\n",
    "    plt.ylabel('Loss')\n",
    "    plt.legend()\n",
    "    plt.show()\n",
    "    pred=np.where(model.predict(X_test)>0.5,1,0)\n",
    "    예측dic[인덱스명]=pred # 예측 데이터 table에 추가\n",
    "    수익률dic[인덱스명]=nparr2[\"Close\"][setlen:] #투자 결과를 보기 위해 실제 수익률을 구함\n",
    "\n",
    "    print(인덱스명, \"정확도 : \", accuracy_score(y_test,np.where(model.predict(X_test)>0.5,1,0)))\n",
    "       \n",
    "    #모델 생성 완료 ------------------------------\n",
    "\n",
    "\n",
    "End=1\n",
    "while End==1: # 종료조건 ( END =0 )까지 반복\n",
    "    \n",
    "    # 날짜 출력 ------   \n",
    "    day= str(d) +\"~\" + str(dd) + \"일 차\"\n",
    "    print(day,\"---------------------------------\")\n",
    "    # --------------- \n",
    "    set_df=pd.DataFrame(columns=[\"영업일\",\"인덱스\",\"상승예측확률\",\"실제수익률\"])\n",
    "\n",
    "    \n",
    "    \n",
    "    for key,val in zip(예측dic.keys(),예측dic.values()): \n",
    "    \n",
    "    \n",
    "        # 비중조정없음--\n",
    "        pred=val[BATCH-20:BATCH]\n",
    "        pred_sum=sum(pred)\n",
    "        #--------------------------------------------------\n",
    "        \n",
    "        \n",
    "        # 예측 결과를 표(dataframe)로 보기 쉽게 정리-----------------\n",
    "        if count==0:\n",
    "            pred_dic[key]=pred_sum #pred_dic == {}\n",
    "        else:\n",
    "            pred_dic[key]=np.append(pred_dic[key],pred_sum)\n",
    "        예측 = pred_sum/20\n",
    "        실제수익률 = ((수익률dic[key][BATCH+19])/(수익률dic[key][BATCH]))-1\n",
    "        turn_df=pd.DataFrame(data={\"영업일\":[day],\"인덱스\":[key],\"상승예측확률\":[예측],\"실제수익률\":[실제수익률] }, columns=[\"영업일\",\"인덱스\",\"상승예측확률\",\"실제수익률\"])\n",
    "        set_df=pd.concat([set_df,turn_df])    \n",
    "        #------------------------------------------------------------\n",
    "        \n",
    "    #--------데이터 20개 중 60% 이상 상승 예측 시 list에 추가\n",
    "    earn_list=[]\n",
    "    \n",
    "    for x,y in zip(set_df[\"상승예측확률\"],set_df[\"실제수익률\"]):\n",
    "        \n",
    "        if x>=0.6:\n",
    "            earn_list.append(y)\n",
    "    \n",
    "    #-------하나도 상승 예측이 아니었다면 규제 줄이기\n",
    "    if len(earn_list)==0:\n",
    "        for x,y in zip(set_df[\"상승예측확률\"],set_df[\"실제수익률\"]):\n",
    "        \n",
    "            if x>=0.4:\n",
    "                earn_list.append(y)\n",
    "    #---------------------------------------------------------------------\n",
    "    \n",
    "    \n",
    "    earn_list2=[]\n",
    "    if len(earn_list)!=0:\n",
    "        초기돈=초기돈/(len(earn_list))\n",
    "        for y in earn_list:\n",
    "            earn_list2.append(초기돈+(초기돈*y))\n",
    "        초기돈=sum(earn_list2)    \n",
    "    else:\n",
    "        earn_list2.append(초기돈)\n",
    "    \n",
    "\n",
    "    all_df=pd.concat([all_df,set_df])\n",
    "    BATCH=BATCH+20\n",
    "\n",
    "    print(\"분산 투자 : \",earn_list2)\n",
    "    print(\"투자 결과 : \",초기돈)\n",
    "    print(set_df.head(5))\n",
    "    count=count+1\n",
    "    d=d+20\n",
    "    dd=dd+20\n",
    "\n",
    "        #종료조건---------------\n",
    "\n",
    "    if(len(수익률dic[key])==BATCH+20):\n",
    "        End=0\n",
    "        print(\"------------종료------------  ◆리밸런싱 수◆ : \" , count)\n",
    "        break\n",
    "        #----------------------------------"
   ]
  },
  {
   "cell_type": "code",
   "execution_count": null,
   "metadata": {},
   "outputs": [],
   "source": []
  },
  {
   "cell_type": "code",
   "execution_count": null,
   "metadata": {},
   "outputs": [],
   "source": []
  },
  {
   "cell_type": "code",
   "execution_count": null,
   "metadata": {},
   "outputs": [],
   "source": []
  },
  {
   "cell_type": "code",
   "execution_count": null,
   "metadata": {},
   "outputs": [],
   "source": []
  },
  {
   "cell_type": "code",
   "execution_count": null,
   "metadata": {},
   "outputs": [],
   "source": []
  },
  {
   "cell_type": "code",
   "execution_count": null,
   "metadata": {},
   "outputs": [],
   "source": []
  },
  {
   "cell_type": "code",
   "execution_count": null,
   "metadata": {},
   "outputs": [],
   "source": []
  },
  {
   "cell_type": "code",
   "execution_count": 83,
   "metadata": {
    "scrolled": true
   },
   "outputs": [
    {
     "data": {
      "text/html": [
       "<div>\n",
       "<style scoped>\n",
       "    .dataframe tbody tr th:only-of-type {\n",
       "        vertical-align: middle;\n",
       "    }\n",
       "\n",
       "    .dataframe tbody tr th {\n",
       "        vertical-align: top;\n",
       "    }\n",
       "\n",
       "    .dataframe thead th {\n",
       "        text-align: right;\n",
       "    }\n",
       "</style>\n",
       "<table border=\"1\" class=\"dataframe\">\n",
       "  <thead>\n",
       "    <tr style=\"text-align: right;\">\n",
       "      <th></th>\n",
       "      <th>Close</th>\n",
       "      <th>Open</th>\n",
       "      <th>High</th>\n",
       "      <th>Low</th>\n",
       "      <th>Change</th>\n",
       "      <th>kdj_k</th>\n",
       "      <th>kdj_d</th>\n",
       "      <th>kdj_j</th>\n",
       "      <th>MA_26</th>\n",
       "      <th>MA_52</th>\n",
       "      <th>RSI_14D</th>\n",
       "      <th>y</th>\n",
       "    </tr>\n",
       "  </thead>\n",
       "  <tbody>\n",
       "    <tr>\n",
       "      <th>Close</th>\n",
       "      <td>1.000000</td>\n",
       "      <td>0.998715</td>\n",
       "      <td>0.999337</td>\n",
       "      <td>0.999494</td>\n",
       "      <td>0.015206</td>\n",
       "      <td>0.068068</td>\n",
       "      <td>0.077974</td>\n",
       "      <td>0.079723</td>\n",
       "      <td>0.984766</td>\n",
       "      <td>0.970942</td>\n",
       "      <td>0.072694</td>\n",
       "      <td>-0.090708</td>\n",
       "    </tr>\n",
       "    <tr>\n",
       "      <th>Open</th>\n",
       "      <td>0.998715</td>\n",
       "      <td>1.000000</td>\n",
       "      <td>0.999569</td>\n",
       "      <td>0.999204</td>\n",
       "      <td>-0.020894</td>\n",
       "      <td>0.051945</td>\n",
       "      <td>0.072280</td>\n",
       "      <td>0.077292</td>\n",
       "      <td>0.985684</td>\n",
       "      <td>0.971743</td>\n",
       "      <td>0.067324</td>\n",
       "      <td>-0.083135</td>\n",
       "    </tr>\n",
       "    <tr>\n",
       "      <th>High</th>\n",
       "      <td>0.999337</td>\n",
       "      <td>0.999569</td>\n",
       "      <td>1.000000</td>\n",
       "      <td>0.999167</td>\n",
       "      <td>-0.008152</td>\n",
       "      <td>0.053079</td>\n",
       "      <td>0.069327</td>\n",
       "      <td>0.073409</td>\n",
       "      <td>0.986543</td>\n",
       "      <td>0.972856</td>\n",
       "      <td>0.065906</td>\n",
       "      <td>-0.083113</td>\n",
       "    </tr>\n",
       "    <tr>\n",
       "      <th>Low</th>\n",
       "      <td>0.999494</td>\n",
       "      <td>0.999204</td>\n",
       "      <td>0.999167</td>\n",
       "      <td>1.000000</td>\n",
       "      <td>0.002420</td>\n",
       "      <td>0.066184</td>\n",
       "      <td>0.080376</td>\n",
       "      <td>0.083093</td>\n",
       "      <td>0.984043</td>\n",
       "      <td>0.970008</td>\n",
       "      <td>0.074089</td>\n",
       "      <td>-0.090376</td>\n",
       "    </tr>\n",
       "    <tr>\n",
       "      <th>Change</th>\n",
       "      <td>0.015206</td>\n",
       "      <td>-0.020894</td>\n",
       "      <td>-0.008152</td>\n",
       "      <td>0.002420</td>\n",
       "      <td>1.000000</td>\n",
       "      <td>0.415547</td>\n",
       "      <td>0.143374</td>\n",
       "      <td>0.057160</td>\n",
       "      <td>-0.035080</td>\n",
       "      <td>-0.033227</td>\n",
       "      <td>0.141130</td>\n",
       "      <td>-0.200830</td>\n",
       "    </tr>\n",
       "    <tr>\n",
       "      <th>kdj_k</th>\n",
       "      <td>0.068068</td>\n",
       "      <td>0.051945</td>\n",
       "      <td>0.053079</td>\n",
       "      <td>0.066184</td>\n",
       "      <td>0.415547</td>\n",
       "      <td>1.000000</td>\n",
       "      <td>0.899231</td>\n",
       "      <td>0.803273</td>\n",
       "      <td>-0.056700</td>\n",
       "      <td>-0.065149</td>\n",
       "      <td>0.494614</td>\n",
       "      <td>-0.496330</td>\n",
       "    </tr>\n",
       "    <tr>\n",
       "      <th>kdj_d</th>\n",
       "      <td>0.077974</td>\n",
       "      <td>0.072280</td>\n",
       "      <td>0.069327</td>\n",
       "      <td>0.080376</td>\n",
       "      <td>0.143374</td>\n",
       "      <td>0.899231</td>\n",
       "      <td>1.000000</td>\n",
       "      <td>0.980342</td>\n",
       "      <td>-0.053669</td>\n",
       "      <td>-0.071287</td>\n",
       "      <td>0.544340</td>\n",
       "      <td>-0.447462</td>\n",
       "    </tr>\n",
       "    <tr>\n",
       "      <th>kdj_j</th>\n",
       "      <td>0.079723</td>\n",
       "      <td>0.077292</td>\n",
       "      <td>0.073409</td>\n",
       "      <td>0.083093</td>\n",
       "      <td>0.057160</td>\n",
       "      <td>0.803273</td>\n",
       "      <td>0.980342</td>\n",
       "      <td>1.000000</td>\n",
       "      <td>-0.048850</td>\n",
       "      <td>-0.071116</td>\n",
       "      <td>0.540528</td>\n",
       "      <td>-0.399029</td>\n",
       "    </tr>\n",
       "    <tr>\n",
       "      <th>MA_26</th>\n",
       "      <td>0.984766</td>\n",
       "      <td>0.985684</td>\n",
       "      <td>0.986543</td>\n",
       "      <td>0.984043</td>\n",
       "      <td>-0.035080</td>\n",
       "      <td>-0.056700</td>\n",
       "      <td>-0.053669</td>\n",
       "      <td>-0.048850</td>\n",
       "      <td>1.000000</td>\n",
       "      <td>0.992477</td>\n",
       "      <td>-0.010909</td>\n",
       "      <td>-0.022565</td>\n",
       "    </tr>\n",
       "    <tr>\n",
       "      <th>MA_52</th>\n",
       "      <td>0.970942</td>\n",
       "      <td>0.971743</td>\n",
       "      <td>0.972856</td>\n",
       "      <td>0.970008</td>\n",
       "      <td>-0.033227</td>\n",
       "      <td>-0.065149</td>\n",
       "      <td>-0.071287</td>\n",
       "      <td>-0.071116</td>\n",
       "      <td>0.992477</td>\n",
       "      <td>1.000000</td>\n",
       "      <td>-0.028219</td>\n",
       "      <td>-0.015638</td>\n",
       "    </tr>\n",
       "    <tr>\n",
       "      <th>RSI_14D</th>\n",
       "      <td>0.072694</td>\n",
       "      <td>0.067324</td>\n",
       "      <td>0.065906</td>\n",
       "      <td>0.074089</td>\n",
       "      <td>0.141130</td>\n",
       "      <td>0.494614</td>\n",
       "      <td>0.544340</td>\n",
       "      <td>0.540528</td>\n",
       "      <td>-0.010909</td>\n",
       "      <td>-0.028219</td>\n",
       "      <td>1.000000</td>\n",
       "      <td>-0.239112</td>\n",
       "    </tr>\n",
       "    <tr>\n",
       "      <th>y</th>\n",
       "      <td>-0.090708</td>\n",
       "      <td>-0.083135</td>\n",
       "      <td>-0.083113</td>\n",
       "      <td>-0.090376</td>\n",
       "      <td>-0.200830</td>\n",
       "      <td>-0.496330</td>\n",
       "      <td>-0.447462</td>\n",
       "      <td>-0.399029</td>\n",
       "      <td>-0.022565</td>\n",
       "      <td>-0.015638</td>\n",
       "      <td>-0.239112</td>\n",
       "      <td>1.000000</td>\n",
       "    </tr>\n",
       "  </tbody>\n",
       "</table>\n",
       "</div>"
      ],
      "text/plain": [
       "            Close      Open      High       Low    Change     kdj_k     kdj_d  \\\n",
       "Close    1.000000  0.998715  0.999337  0.999494  0.015206  0.068068  0.077974   \n",
       "Open     0.998715  1.000000  0.999569  0.999204 -0.020894  0.051945  0.072280   \n",
       "High     0.999337  0.999569  1.000000  0.999167 -0.008152  0.053079  0.069327   \n",
       "Low      0.999494  0.999204  0.999167  1.000000  0.002420  0.066184  0.080376   \n",
       "Change   0.015206 -0.020894 -0.008152  0.002420  1.000000  0.415547  0.143374   \n",
       "kdj_k    0.068068  0.051945  0.053079  0.066184  0.415547  1.000000  0.899231   \n",
       "kdj_d    0.077974  0.072280  0.069327  0.080376  0.143374  0.899231  1.000000   \n",
       "kdj_j    0.079723  0.077292  0.073409  0.083093  0.057160  0.803273  0.980342   \n",
       "MA_26    0.984766  0.985684  0.986543  0.984043 -0.035080 -0.056700 -0.053669   \n",
       "MA_52    0.970942  0.971743  0.972856  0.970008 -0.033227 -0.065149 -0.071287   \n",
       "RSI_14D  0.072694  0.067324  0.065906  0.074089  0.141130  0.494614  0.544340   \n",
       "y       -0.090708 -0.083135 -0.083113 -0.090376 -0.200830 -0.496330 -0.447462   \n",
       "\n",
       "            kdj_j     MA_26     MA_52   RSI_14D         y  \n",
       "Close    0.079723  0.984766  0.970942  0.072694 -0.090708  \n",
       "Open     0.077292  0.985684  0.971743  0.067324 -0.083135  \n",
       "High     0.073409  0.986543  0.972856  0.065906 -0.083113  \n",
       "Low      0.083093  0.984043  0.970008  0.074089 -0.090376  \n",
       "Change   0.057160 -0.035080 -0.033227  0.141130 -0.200830  \n",
       "kdj_k    0.803273 -0.056700 -0.065149  0.494614 -0.496330  \n",
       "kdj_d    0.980342 -0.053669 -0.071287  0.544340 -0.447462  \n",
       "kdj_j    1.000000 -0.048850 -0.071116  0.540528 -0.399029  \n",
       "MA_26   -0.048850  1.000000  0.992477 -0.010909 -0.022565  \n",
       "MA_52   -0.071116  0.992477  1.000000 -0.028219 -0.015638  \n",
       "RSI_14D  0.540528 -0.010909 -0.028219  1.000000 -0.239112  \n",
       "y       -0.399029 -0.022565 -0.015638 -0.239112  1.000000  "
      ]
     },
     "execution_count": 83,
     "metadata": {},
     "output_type": "execute_result"
    }
   ],
   "source": [
    "(ho_dic[\"코스피\"]+ho_dic[\"코스닥\"]+ho_dic[\"나스닥\"]+ho_dic['항생']+ho_dic[\"S&P500\"])/5"
   ]
  },
  {
   "cell_type": "code",
   "execution_count": 98,
   "metadata": {},
   "outputs": [
    {
     "data": {
      "text/plain": [
       "Text(0.5, 0, 'Day')"
      ]
     },
     "execution_count": 98,
     "metadata": {},
     "output_type": "execute_result"
    },
    {
     "data": {
      "image/png": "[encoded data removed]",
      "text/plain": [
       "<Figure size 432x288 with 1 Axes>"
      ]
     },
     "metadata": {
      "needs_background": "light"
     },
     "output_type": "display_data"
    }
   ],
   "source": [
    "y=[1,2,1]\n",
    "\n",
    "plt.plot(y)\n",
    "plt.ylabel(\"Close\")\n",
    "plt.xlabel(\"Day\")"
   ]
  },
  {
   "cell_type": "code",
   "execution_count": 106,
   "metadata": {},
   "outputs": [
    {
     "data": {
      "text/plain": [
       "[<matplotlib.lines.Line2D at 0x1ad81130048>]"
      ]
     },
     "execution_count": 106,
     "metadata": {},
     "output_type": "execute_result"
    },
    {
     "data": {
      "image/png": "[encoded data removed]",
      "text/plain": [
       "<Figure size 432x288 with 1 Axes>"
      ]
     },
     "metadata": {
      "needs_background": "light"
     },
     "output_type": "display_data"
    }
   ],
   "source": [
    "y=[1,2,1]\n",
    "z=[1.5,1.75,1.5]\n",
    "plt.plot(y)\n",
    "plt.ylabel(\"Close\")\n",
    "plt.xlabel(\"Day\")\n",
    "plt.plot(z,'-')"
   ]
  },
  {
   "cell_type": "code",
   "execution_count": 5,
   "metadata": {},
   "outputs": [],
   "source": [
    "a=fdr.DataReader(\"KS11\",\"2018-01-01\",\"2019-01-01\")"
   ]
  },
  {
   "cell_type": "code",
   "execution_count": 18,
   "metadata": {},
   "outputs": [
    {
     "data": {
      "text/plain": [
       "[<matplotlib.lines.Line2D at 0x24452572c48>]"
      ]
     },
     "execution_count": 18,
     "metadata": {},
     "output_type": "execute_result"
    },
    {
     "data": {
      "image/png": "[encoded data removed]",
      "text/plain": [
       "<Figure size 432x288 with 1 Axes>"
      ]
     },
     "metadata": {
      "needs_background": "light"
     },
     "output_type": "display_data"
    }
   ],
   "source": [
    "plt.plot(KS11[\"Close\"])\n",
    "plt.plot(MA)"
   ]
  },
  {
   "cell_type": "code",
   "execution_count": 14,
   "metadata": {},
   "outputs": [],
   "source": [
    "MA=KS11[\"Close\"].rolling(150).mean().dropna()"
   ]
  },
  {
   "cell_type": "code",
   "execution_count": 12,
   "metadata": {},
   "outputs": [
    {
     "data": {
      "text/plain": [
       "Date\n",
       "2009-02-10    1164.089615\n",
       "2009-02-11    1165.350385\n",
       "2009-02-12    1165.591538\n",
       "2009-02-13    1165.520769\n",
       "2009-02-16    1163.493846\n",
       "                 ...     \n",
       "2018-12-21    2083.118846\n",
       "2018-12-24    2081.680769\n",
       "2018-12-26    2078.890385\n",
       "2018-12-27    2076.808077\n",
       "2018-12-28    2075.442308\n",
       "Name: Close, Length: 2449, dtype: float64"
      ]
     },
     "execution_count": 12,
     "metadata": {},
     "output_type": "execute_result"
    }
   ],
   "source": [
    "MA"
   ]
  },
  {
   "cell_type": "code",
   "execution_count": 55,
   "metadata": {},
   "outputs": [],
   "source": [
    "y= [1/(exp(-i)+1) for i in range(-10,10)]\n",
    "i=[-10,-7.5,-5,-2.5,0,2.5,5,7.5,10]"
   ]
  },
  {
   "cell_type": "code",
   "execution_count": 57,
   "metadata": {},
   "outputs": [
    {
     "data": {
      "text/plain": [
       "Text(0, 0.5, 'y')"
      ]
     },
     "execution_count": 57,
     "metadata": {},
     "output_type": "execute_result"
    },
    {
     "data": {
      "image/png": "[encoded data removed]",
      "text/plain": [
       "<Figure size 432x288 with 1 Axes>"
      ]
     },
     "metadata": {
      "needs_background": "light"
     },
     "output_type": "display_data"
    }
   ],
   "source": [
    "\n",
    "plt.plot(y)\n",
    "plt.xlabel('x')\n",
    "plt.ylabel('y')"
   ]
  },
  {
   "cell_type": "code",
   "execution_count": 30,
   "metadata": {},
   "outputs": [],
   "source": [
    "x=[]\n",
    "for a in range(-20,20):\n",
    "    if a<0:\n",
    "        x.append(0)\n",
    "    else:\n",
    "        x.append(a)\n"
   ]
  },
  {
   "cell_type": "code",
   "execution_count": 58,
   "metadata": {},
   "outputs": [
    {
     "data": {
      "text/plain": [
       "[<matplotlib.lines.Line2D at 0x2445407d588>]"
      ]
     },
     "execution_count": 58,
     "metadata": {},
     "output_type": "execute_result"
    },
    {
     "data": {
      "image/png": "[encoded data removed]",
      "text/plain": [
       "<Figure size 432x288 with 1 Axes>"
      ]
     },
     "metadata": {
      "needs_background": "light"
     },
     "output_type": "display_data"
    }
   ],
   "source": [
    "plt.plot(x)"
   ]
  },
  {
   "cell_type": "code",
   "execution_count": 67,
   "metadata": {},
   "outputs": [
    {
     "ename": "NameError",
     "evalue": "name 'ifnull' is not defined",
     "output_type": "error",
     "traceback": [
      "\u001b[1;31m---------------------------------------------------------------------------\u001b[0m",
      "\u001b[1;31mNameError\u001b[0m                                 Traceback (most recent call last)",
      "\u001b[1;32m<ipython-input-67-2e6e928d9902>\u001b[0m in \u001b[0;36m<module>\u001b[1;34m\u001b[0m\n\u001b[1;32m----> 1\u001b[1;33m \u001b[0mifnull\u001b[0m\u001b[1;33m(\u001b[0m\u001b[0ma\u001b[0m\u001b[1;33m)\u001b[0m\u001b[1;33m\u001b[0m\u001b[1;33m\u001b[0m\u001b[0m\n\u001b[0m",
      "\u001b[1;31mNameError\u001b[0m: name 'ifnull' is not defined"
     ]
    }
   ],
   "source": [
    "ifnull(a)"
   ]
  },
  {
   "cell_type": "code",
   "execution_count": null,
   "metadata": {},
   "outputs": [],
   "source": []
  }
 ],
 "metadata": {
  "kernelspec": {
   "display_name": "Python 3",
   "language": "python",
   "name": "python3"
  },
  "language_info": {
   "codemirror_mode": {
    "name": "ipython",
    "version": 3
   },
   "file_extension": ".py",
   "mimetype": "text/x-python",
   "name": "python",
   "nbconvert_exporter": "python",
   "pygments_lexer": "ipython3",
   "version": "3.7.4"
  }
 },
 "nbformat": 4,
 "nbformat_minor": 2
}
