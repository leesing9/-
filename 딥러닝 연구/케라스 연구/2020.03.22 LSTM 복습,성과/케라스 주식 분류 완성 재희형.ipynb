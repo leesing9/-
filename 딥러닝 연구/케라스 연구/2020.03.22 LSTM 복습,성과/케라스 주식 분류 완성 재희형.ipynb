{
 "cells": [
  {
   "cell_type": "code",
   "execution_count": 2,
   "metadata": {},
   "outputs": [
    {
     "name": "stderr",
     "output_type": "stream",
     "text": [
      "Using TensorFlow backend.\n"
     ]
    }
   ],
   "source": [
    "\n",
    "%matplotlib inline\n",
    "import os\n",
    "import pandas as pd\n",
    "import numpy as np\n",
    "from keras.models import Sequential\n",
    "from keras.layers import Dense\n",
    "from keras.layers import LSTM\n",
    "from keras.layers import SimpleRNN\n",
    "\n",
    "from sklearn.preprocessing import MinMaxScaler\n",
    "import matplotlib.pyplot as plt\n",
    "import math\n",
    "from sklearn.metrics import mean_squared_error\n",
    "import FinanceDataReader as fdr"
   ]
  },
  {
   "cell_type": "code",
   "execution_count": 3,
   "metadata": {},
   "outputs": [],
   "source": [
    "pandf = fdr.DataReader(\"HSI\",\"2009.01.01\",\"2019.01.01\")\n"
   ]
  },
  {
   "cell_type": "code",
   "execution_count": 4,
   "metadata": {},
   "outputs": [
    {
     "name": "stderr",
     "output_type": "stream",
     "text": [
      "C:\\Program Files\\anaconda3\\lib\\site-packages\\pandas\\plotting\\_matplotlib\\converter.py:103: FutureWarning: Using an implicitly registered datetime converter for a matplotlib plotting method. The converter was registered by pandas on import. Future versions of pandas will require you to explicitly register matplotlib converters.\n",
      "\n",
      "To register the converters:\n",
      "\t>>> from pandas.plotting import register_matplotlib_converters\n",
      "\t>>> register_matplotlib_converters()\n",
      "  warnings.warn(msg, FutureWarning)\n"
     ]
    },
    {
     "data": {
      "text/plain": [
       "[<matplotlib.lines.Line2D at 0x2ba898ac9c8>]"
      ]
     },
     "execution_count": 4,
     "metadata": {},
     "output_type": "execute_result"
    },
    {
     "data": {
      "image/png": "[encoded data removed]",
      "text/plain": [
       "<Figure size 432x288 with 1 Axes>"
      ]
     },
     "metadata": {
      "needs_background": "light"
     },
     "output_type": "display_data"
    }
   ],
   "source": [
    "plt.plot(pandf[\"Close\"])"
   ]
  },
  {
   "cell_type": "code",
   "execution_count": 5,
   "metadata": {},
   "outputs": [
    {
     "name": "stdout",
     "output_type": "stream",
     "text": [
      "[[ 1.504281e+04  1.444822e+04  1.504281e+04  1.441212e+04  0.000000e+00\n",
      "   4.550000e-02]\n",
      " [ 1.556331e+04  1.534933e+04  1.556331e+04  1.512832e+04  0.000000e+00\n",
      "   3.460000e-02]\n",
      " [ 1.550951e+04  1.561247e+04  1.565161e+04  1.536793e+04  0.000000e+00\n",
      "  -3.500000e-03]\n",
      " ...\n",
      " [ 2.547888e+04  2.581881e+04  2.592063e+04  2.544680e+04  1.350000e+09\n",
      "  -6.700000e-03]\n",
      " [ 2.550420e+04  2.550234e+04  2.560025e+04  2.541636e+04  1.260000e+09\n",
      "   1.000000e-03]\n",
      " [ 2.584570e+04  2.573252e+04  2.591623e+04  2.568266e+04  8.520700e+08\n",
      "   1.340000e-02]]\n"
     ]
    }
   ],
   "source": [
    "# convert nparray\n",
    "nparr = pandf.values\n",
    "nparr.astype('float32')\n",
    "print(nparr)"
   ]
  },
  {
   "cell_type": "code",
   "execution_count": 6,
   "metadata": {},
   "outputs": [],
   "source": [
    "# normalization\n",
    "scaler = MinMaxScaler(feature_range=(0, 1))\n",
    "nptf = scaler.fit_transform(nparr)\n",
    "nptf=nptf[:-1]"
   ]
  },
  {
   "cell_type": "code",
   "execution_count": null,
   "metadata": {},
   "outputs": [],
   "source": []
  },
  {
   "cell_type": "code",
   "execution_count": 7,
   "metadata": {},
   "outputs": [
    {
     "data": {
      "text/plain": [
       "array([[0.16956937, 0.13331773, 0.15161727, 0.142329  , 0.        ,\n",
       "        0.78415094],\n",
       "       [0.19343507, 0.17466709, 0.17556265, 0.17555954, 0.        ,\n",
       "        0.70188679],\n",
       "       [0.19096826, 0.18674183, 0.17962485, 0.18667707, 0.        ,\n",
       "        0.41433962],\n",
       "       ...,\n",
       "       [0.47901515, 0.46338161, 0.46575535, 0.47774546, 0.18846695,\n",
       "        0.45358491],\n",
       "       [0.48077309, 0.47282197, 0.46571348, 0.48282934, 0.13292264,\n",
       "        0.45433962],\n",
       "       [0.49042804, 0.47385443, 0.47644727, 0.48727152, 0.1533052 ,\n",
       "        0.51320755]])"
      ]
     },
     "execution_count": 7,
     "metadata": {},
     "output_type": "execute_result"
    }
   ],
   "source": [
    "# split train, test\n",
    "\n",
    "y=np.where(pandf[\"Change\"].shift(-1).dropna()>0,1,0)\n",
    "train_size = int(len(nptf) * 0.7)\n",
    "y_train=y[:train_size]\n",
    "y_test=y[train_size:]\n",
    "X_train = nptf[:train_size]\n",
    "X_test = nptf[train_size:]\n",
    "\n",
    "\n",
    "X_train"
   ]
  },
  {
   "cell_type": "code",
   "execution_count": 8,
   "metadata": {},
   "outputs": [
    {
     "data": {
      "text/plain": [
       "array([[[0.16956937, 0.13331773, 0.15161727, 0.142329  , 0.        ,\n",
       "         0.78415094]],\n",
       "\n",
       "       [[0.19343507, 0.17466709, 0.17556265, 0.17555954, 0.        ,\n",
       "         0.70188679]],\n",
       "\n",
       "       [[0.19096826, 0.18674183, 0.17962485, 0.18667707, 0.        ,\n",
       "         0.41433962]],\n",
       "\n",
       "       ...,\n",
       "\n",
       "       [[0.47901515, 0.46338161, 0.46575535, 0.47774546, 0.18846695,\n",
       "         0.45358491]],\n",
       "\n",
       "       [[0.48077309, 0.47282197, 0.46571348, 0.48282934, 0.13292264,\n",
       "         0.45433962]],\n",
       "\n",
       "       [[0.49042804, 0.47385443, 0.47644727, 0.48727152, 0.1533052 ,\n",
       "         0.51320755]]])"
      ]
     },
     "execution_count": 8,
     "metadata": {},
     "output_type": "execute_result"
    }
   ],
   "source": [
    "# reshape input to be [samples, time steps, features]\n",
    "X_train = np.reshape(X_train, (X_train.shape[0], 1, X_train.shape[1]))\n",
    "X_test = np.reshape(X_test, (X_test.shape[0], 1, X_test.shape[1]))\n",
    "\n",
    "\n",
    "X_train"
   ]
  },
  {
   "cell_type": "code",
   "execution_count": 9,
   "metadata": {
    "scrolled": true
   },
   "outputs": [
    {
     "name": "stdout",
     "output_type": "stream",
     "text": [
      "WARNING:tensorflow:From C:\\Program Files\\anaconda3\\lib\\site-packages\\tensorflow_core\\python\\ops\\resource_variable_ops.py:1630: calling BaseResourceVariable.__init__ (from tensorflow.python.ops.resource_variable_ops) with constraint is deprecated and will be removed in a future version.\n",
      "Instructions for updating:\n",
      "If using Keras pass *_constraint arguments to layers.\n",
      "WARNING:tensorflow:From C:\\Program Files\\anaconda3\\lib\\site-packages\\tensorflow_core\\python\\ops\\nn_impl.py:183: where (from tensorflow.python.ops.array_ops) is deprecated and will be removed in a future version.\n",
      "Instructions for updating:\n",
      "Use tf.where in 2.0, which has the same broadcast rule as np.where\n",
      "WARNING:tensorflow:From C:\\Program Files\\anaconda3\\lib\\site-packages\\keras\\backend\\tensorflow_backend.py:422: The name tf.global_variables is deprecated. Please use tf.compat.v1.global_variables instead.\n",
      "\n",
      "Train on 1211 samples, validate on 520 samples\n",
      "Epoch 1/100\n",
      "1211/1211 [==============================] - 3s 2ms/step - loss: 0.6937 - acc: 0.4806 - val_loss: 0.6935 - val_acc: 0.4904\n",
      "Epoch 2/100\n",
      "1211/1211 [==============================] - 0s 267us/step - loss: 0.6930 - acc: 0.5161 - val_loss: 0.6933 - val_acc: 0.5096\n",
      "Epoch 3/100\n",
      "1211/1211 [==============================] - 0s 217us/step - loss: 0.6934 - acc: 0.5054 - val_loss: 0.6930 - val_acc: 0.4981\n",
      "Epoch 4/100\n",
      "1211/1211 [==============================] - 0s 179us/step - loss: 0.6930 - acc: 0.5070 - val_loss: 0.6935 - val_acc: 0.4981\n",
      "Epoch 5/100\n",
      "1211/1211 [==============================] - 0s 203us/step - loss: 0.6928 - acc: 0.5128 - val_loss: 0.6925 - val_acc: 0.5096\n",
      "Epoch 6/100\n",
      "1211/1211 [==============================] - 0s 278us/step - loss: 0.6932 - acc: 0.5136 - val_loss: 0.6925 - val_acc: 0.5096\n",
      "Epoch 7/100\n",
      "1211/1211 [==============================] - 0s 276us/step - loss: 0.6922 - acc: 0.5211 - val_loss: 0.6925 - val_acc: 0.5154\n",
      "Epoch 8/100\n",
      "1211/1211 [==============================] - 0s 259us/step - loss: 0.6927 - acc: 0.5194 - val_loss: 0.6933 - val_acc: 0.5019\n",
      "Epoch 9/100\n",
      "1211/1211 [==============================] - 0s 264us/step - loss: 0.6927 - acc: 0.5029 - val_loss: 0.6923 - val_acc: 0.5115\n",
      "Epoch 10/100\n",
      "1211/1211 [==============================] - 0s 273us/step - loss: 0.6926 - acc: 0.5244 - val_loss: 0.6922 - val_acc: 0.5288\n",
      "Epoch 11/100\n",
      "1211/1211 [==============================] - 0s 243us/step - loss: 0.6926 - acc: 0.5186 - val_loss: 0.6930 - val_acc: 0.5115\n",
      "Epoch 12/100\n",
      "1211/1211 [==============================] - 0s 253us/step - loss: 0.6923 - acc: 0.4979 - val_loss: 0.6938 - val_acc: 0.5096\n",
      "Epoch 13/100\n",
      "1211/1211 [==============================] - 0s 258us/step - loss: 0.6927 - acc: 0.5169 - val_loss: 0.6928 - val_acc: 0.5135\n",
      "Epoch 14/100\n",
      "1211/1211 [==============================] - 0s 276us/step - loss: 0.6919 - acc: 0.5285 - val_loss: 0.6922 - val_acc: 0.5212\n",
      "Epoch 15/100\n",
      "1211/1211 [==============================] - 0s 245us/step - loss: 0.6924 - acc: 0.5062 - val_loss: 0.6921 - val_acc: 0.5346\n",
      "Epoch 16/100\n",
      "1211/1211 [==============================] - 0s 273us/step - loss: 0.6921 - acc: 0.5194 - val_loss: 0.6930 - val_acc: 0.5115\n",
      "Epoch 17/100\n",
      "1211/1211 [==============================] - 0s 245us/step - loss: 0.6924 - acc: 0.5277 - val_loss: 0.6931 - val_acc: 0.5154\n",
      "Epoch 18/100\n",
      "1211/1211 [==============================] - 0s 242us/step - loss: 0.6917 - acc: 0.5186 - val_loss: 0.6929 - val_acc: 0.5115\n",
      "Epoch 19/100\n",
      "1211/1211 [==============================] - 0s 315us/step - loss: 0.6927 - acc: 0.5153 - val_loss: 0.6932 - val_acc: 0.5154\n",
      "Epoch 20/100\n",
      "1211/1211 [==============================] - 0s 325us/step - loss: 0.6914 - acc: 0.5293 - val_loss: 0.6927 - val_acc: 0.5038\n",
      "Epoch 21/100\n",
      "1211/1211 [==============================] - 0s 318us/step - loss: 0.6924 - acc: 0.5103 - val_loss: 0.6924 - val_acc: 0.5058\n",
      "Epoch 22/100\n",
      "1211/1211 [==============================] - 0s 329us/step - loss: 0.6916 - acc: 0.5136 - val_loss: 0.6927 - val_acc: 0.5115\n",
      "Epoch 23/100\n",
      "1211/1211 [==============================] - 0s 318us/step - loss: 0.6916 - acc: 0.5145 - val_loss: 0.6932 - val_acc: 0.5115\n",
      "Epoch 24/100\n",
      "1211/1211 [==============================] - 0s 314us/step - loss: 0.6924 - acc: 0.5186 - val_loss: 0.6922 - val_acc: 0.5212\n",
      "Epoch 25/100\n",
      "1211/1211 [==============================] - 0s 310us/step - loss: 0.6912 - acc: 0.5169 - val_loss: 0.6928 - val_acc: 0.5058\n",
      "Epoch 26/100\n",
      "1211/1211 [==============================] - 0s 262us/step - loss: 0.6914 - acc: 0.5318 - val_loss: 0.6941 - val_acc: 0.5135\n",
      "Epoch 27/100\n",
      "1211/1211 [==============================] - 0s 258us/step - loss: 0.6925 - acc: 0.5285 - val_loss: 0.6929 - val_acc: 0.5135\n",
      "Epoch 28/100\n",
      "1211/1211 [==============================] - 0s 284us/step - loss: 0.6913 - acc: 0.5186 - val_loss: 0.6969 - val_acc: 0.5096\n",
      "Epoch 29/100\n",
      "1211/1211 [==============================] - 0s 267us/step - loss: 0.6913 - acc: 0.5219 - val_loss: 0.6923 - val_acc: 0.5231\n",
      "Epoch 30/100\n",
      "1211/1211 [==============================] - 0s 285us/step - loss: 0.6913 - acc: 0.5293 - val_loss: 0.6947 - val_acc: 0.5154\n",
      "Epoch 31/100\n",
      "1211/1211 [==============================] - 0s 252us/step - loss: 0.6914 - acc: 0.5211 - val_loss: 0.6925 - val_acc: 0.5096\n",
      "Epoch 32/100\n",
      "1211/1211 [==============================] - 0s 245us/step - loss: 0.6918 - acc: 0.5244 - val_loss: 0.6922 - val_acc: 0.5212\n",
      "Epoch 33/100\n",
      "1211/1211 [==============================] - 0s 271us/step - loss: 0.6915 - acc: 0.5186 - val_loss: 0.6957 - val_acc: 0.5096\n",
      "Epoch 34/100\n",
      "1211/1211 [==============================] - 0s 274us/step - loss: 0.6924 - acc: 0.5153 - val_loss: 0.6934 - val_acc: 0.5154\n",
      "Epoch 35/100\n",
      "1211/1211 [==============================] - 0s 234us/step - loss: 0.6919 - acc: 0.5169 - val_loss: 0.6926 - val_acc: 0.5154\n",
      "Epoch 36/100\n",
      "1211/1211 [==============================] - 0s 261us/step - loss: 0.6915 - acc: 0.5343 - val_loss: 0.6921 - val_acc: 0.5212\n",
      "Epoch 37/100\n",
      "1211/1211 [==============================] - 0s 261us/step - loss: 0.6915 - acc: 0.5169 - val_loss: 0.6922 - val_acc: 0.5173\n",
      "Epoch 38/100\n",
      "1211/1211 [==============================] - 0s 255us/step - loss: 0.6914 - acc: 0.5120 - val_loss: 0.6929 - val_acc: 0.5038\n",
      "Epoch 39/100\n",
      "1211/1211 [==============================] - 0s 232us/step - loss: 0.6913 - acc: 0.5260 - val_loss: 0.6926 - val_acc: 0.5135\n",
      "Epoch 40/100\n",
      "1211/1211 [==============================] - 0s 259us/step - loss: 0.6925 - acc: 0.5285 - val_loss: 0.6922 - val_acc: 0.5058\n",
      "Epoch 41/100\n",
      "1211/1211 [==============================] - 0s 254us/step - loss: 0.6914 - acc: 0.5268 - val_loss: 0.6932 - val_acc: 0.5154\n",
      "Epoch 42/100\n",
      "1211/1211 [==============================] - 0s 262us/step - loss: 0.6911 - acc: 0.5202 - val_loss: 0.6932 - val_acc: 0.5058\n",
      "Epoch 43/100\n",
      "1211/1211 [==============================] - 0s 256us/step - loss: 0.6917 - acc: 0.5260 - val_loss: 0.6932 - val_acc: 0.5038\n",
      "Epoch 44/100\n",
      "1211/1211 [==============================] - 0s 251us/step - loss: 0.6925 - acc: 0.5194 - val_loss: 0.6923 - val_acc: 0.5192\n",
      "Epoch 45/100\n",
      "1211/1211 [==============================] - 0s 276us/step - loss: 0.6918 - acc: 0.5244 - val_loss: 0.6935 - val_acc: 0.5154\n",
      "Epoch 46/100\n",
      "1211/1211 [==============================] - 0s 253us/step - loss: 0.6913 - acc: 0.5219 - val_loss: 0.6944 - val_acc: 0.5154\n",
      "Epoch 47/100\n",
      "1211/1211 [==============================] - 0s 268us/step - loss: 0.6912 - acc: 0.5326 - val_loss: 0.6927 - val_acc: 0.5135\n",
      "Epoch 48/100\n",
      "1211/1211 [==============================] - 0s 269us/step - loss: 0.6925 - acc: 0.5111 - val_loss: 0.6929 - val_acc: 0.5058\n",
      "Epoch 49/100\n",
      "1211/1211 [==============================] - 0s 263us/step - loss: 0.6912 - acc: 0.5169 - val_loss: 0.6949 - val_acc: 0.5115\n",
      "Epoch 50/100\n",
      "1211/1211 [==============================] - 0s 268us/step - loss: 0.6912 - acc: 0.5211 - val_loss: 0.6940 - val_acc: 0.5154\n",
      "Epoch 51/100\n",
      "1211/1211 [==============================] - 0s 264us/step - loss: 0.6910 - acc: 0.5244 - val_loss: 0.6951 - val_acc: 0.5154\n",
      "Epoch 52/100\n",
      "1211/1211 [==============================] - 0s 218us/step - loss: 0.6913 - acc: 0.5367 - val_loss: 0.6970 - val_acc: 0.5115\n",
      "Epoch 53/100\n",
      "1211/1211 [==============================] - 0s 278us/step - loss: 0.6915 - acc: 0.5318 - val_loss: 0.6951 - val_acc: 0.5135\n"
     ]
    },
    {
     "name": "stdout",
     "output_type": "stream",
     "text": [
      "Epoch 54/100\n",
      "1211/1211 [==============================] - 0s 285us/step - loss: 0.6912 - acc: 0.5351 - val_loss: 0.6926 - val_acc: 0.5154\n",
      "Epoch 55/100\n",
      "1211/1211 [==============================] - 0s 192us/step - loss: 0.6914 - acc: 0.5310 - val_loss: 0.6945 - val_acc: 0.5154\n",
      "Epoch 56/100\n",
      "1211/1211 [==============================] - 0s 252us/step - loss: 0.6908 - acc: 0.5285 - val_loss: 0.6948 - val_acc: 0.5135\n",
      "Epoch 57/100\n",
      "1211/1211 [==============================] - 0s 253us/step - loss: 0.6910 - acc: 0.5343 - val_loss: 0.6958 - val_acc: 0.5154\n",
      "Epoch 58/100\n",
      "1211/1211 [==============================] - 0s 258us/step - loss: 0.6908 - acc: 0.5235 - val_loss: 0.6924 - val_acc: 0.5173\n",
      "Epoch 59/100\n",
      "1211/1211 [==============================] - 0s 270us/step - loss: 0.6913 - acc: 0.5202 - val_loss: 0.6926 - val_acc: 0.5173\n",
      "Epoch 60/100\n",
      "1211/1211 [==============================] - 0s 270us/step - loss: 0.6918 - acc: 0.5351 - val_loss: 0.6960 - val_acc: 0.5115\n",
      "Epoch 61/100\n",
      "1211/1211 [==============================] - 0s 258us/step - loss: 0.6917 - acc: 0.5128 - val_loss: 0.6927 - val_acc: 0.5115\n",
      "Epoch 62/100\n",
      "1211/1211 [==============================] - 0s 264us/step - loss: 0.6909 - acc: 0.5351 - val_loss: 0.6931 - val_acc: 0.5154\n",
      "Epoch 63/100\n",
      "1211/1211 [==============================] - 0s 273us/step - loss: 0.6915 - acc: 0.5260 - val_loss: 0.6927 - val_acc: 0.5135\n",
      "Epoch 64/100\n",
      "1211/1211 [==============================] - 0s 274us/step - loss: 0.6908 - acc: 0.5301 - val_loss: 0.6948 - val_acc: 0.5154\n",
      "Epoch 65/100\n",
      "1211/1211 [==============================] - 0s 249us/step - loss: 0.6914 - acc: 0.5202 - val_loss: 0.6943 - val_acc: 0.5135\n",
      "Epoch 66/100\n",
      "1211/1211 [==============================] - 0s 283us/step - loss: 0.6908 - acc: 0.5211 - val_loss: 0.6936 - val_acc: 0.5058\n",
      "Epoch 67/100\n",
      "1211/1211 [==============================] - 0s 278us/step - loss: 0.6910 - acc: 0.5186 - val_loss: 0.6961 - val_acc: 0.5154\n",
      "Epoch 68/100\n",
      "1211/1211 [==============================] - 0s 275us/step - loss: 0.6913 - acc: 0.5169 - val_loss: 0.6944 - val_acc: 0.5115\n",
      "Epoch 69/100\n",
      "1211/1211 [==============================] - 0s 278us/step - loss: 0.6911 - acc: 0.5334 - val_loss: 0.6946 - val_acc: 0.5154\n",
      "Epoch 70/100\n",
      "1211/1211 [==============================] - 0s 283us/step - loss: 0.6911 - acc: 0.5285 - val_loss: 0.6938 - val_acc: 0.5135\n",
      "Epoch 71/100\n",
      "1211/1211 [==============================] - 0s 284us/step - loss: 0.6911 - acc: 0.5293 - val_loss: 0.6936 - val_acc: 0.5115\n",
      "Epoch 72/100\n",
      "1211/1211 [==============================] - 0s 264us/step - loss: 0.6916 - acc: 0.5211 - val_loss: 0.6943 - val_acc: 0.5135\n",
      "Epoch 73/100\n",
      "1211/1211 [==============================] - 0s 267us/step - loss: 0.6912 - acc: 0.5235 - val_loss: 0.6943 - val_acc: 0.5135\n",
      "Epoch 74/100\n",
      "1211/1211 [==============================] - 0s 215us/step - loss: 0.6913 - acc: 0.5268 - val_loss: 0.6962 - val_acc: 0.5115\n",
      "Epoch 75/100\n",
      "1211/1211 [==============================] - 0s 280us/step - loss: 0.6915 - acc: 0.5359 - val_loss: 0.6958 - val_acc: 0.5115\n",
      "Epoch 76/100\n",
      "1211/1211 [==============================] - 0s 283us/step - loss: 0.6907 - acc: 0.5202 - val_loss: 0.6932 - val_acc: 0.5115\n",
      "Epoch 77/100\n",
      "1211/1211 [==============================] - 0s 281us/step - loss: 0.6914 - acc: 0.5227 - val_loss: 0.6952 - val_acc: 0.5154\n",
      "Epoch 78/100\n",
      "1211/1211 [==============================] - 0s 265us/step - loss: 0.6911 - acc: 0.5351 - val_loss: 0.6937 - val_acc: 0.5154\n",
      "Epoch 79/100\n",
      "1211/1211 [==============================] - 0s 261us/step - loss: 0.6907 - acc: 0.5252 - val_loss: 0.6947 - val_acc: 0.5135\n",
      "Epoch 80/100\n",
      "1211/1211 [==============================] - 0s 264us/step - loss: 0.6908 - acc: 0.5277 - val_loss: 0.6946 - val_acc: 0.5135\n",
      "Epoch 81/100\n",
      "1211/1211 [==============================] - 0s 264us/step - loss: 0.6909 - acc: 0.5244 - val_loss: 0.6962 - val_acc: 0.5154\n",
      "Epoch 82/100\n",
      "1211/1211 [==============================] - 0s 270us/step - loss: 0.6917 - acc: 0.5202 - val_loss: 0.6944 - val_acc: 0.5115\n",
      "Epoch 83/100\n",
      "1211/1211 [==============================] - 0s 271us/step - loss: 0.6910 - acc: 0.5219 - val_loss: 0.6944 - val_acc: 0.5135\n",
      "Epoch 84/100\n",
      "1211/1211 [==============================] - 0s 287us/step - loss: 0.6908 - acc: 0.5186 - val_loss: 0.6930 - val_acc: 0.5135\n",
      "Epoch 85/100\n",
      "1211/1211 [==============================] - 0s 254us/step - loss: 0.6909 - acc: 0.5301 - val_loss: 0.6950 - val_acc: 0.5154\n",
      "Epoch 86/100\n",
      "1211/1211 [==============================] - 0s 277us/step - loss: 0.6916 - acc: 0.5169 - val_loss: 0.6944 - val_acc: 0.5135\n",
      "Epoch 87/100\n",
      "1211/1211 [==============================] - 0s 282us/step - loss: 0.6914 - acc: 0.5211 - val_loss: 0.6922 - val_acc: 0.5154\n",
      "Epoch 88/100\n",
      "1211/1211 [==============================] - 0s 262us/step - loss: 0.6910 - acc: 0.5244 - val_loss: 0.6941 - val_acc: 0.5135\n",
      "Epoch 89/100\n",
      "1211/1211 [==============================] - 0s 273us/step - loss: 0.6917 - acc: 0.5227 - val_loss: 0.6928 - val_acc: 0.5154\n",
      "Epoch 90/100\n",
      "1211/1211 [==============================] - 0s 278us/step - loss: 0.6920 - acc: 0.5153 - val_loss: 0.6934 - val_acc: 0.5135\n",
      "Epoch 91/100\n",
      "1211/1211 [==============================] - 0s 259us/step - loss: 0.6918 - acc: 0.5334 - val_loss: 0.6939 - val_acc: 0.5154\n",
      "Epoch 92/100\n",
      "1211/1211 [==============================] - 0s 275us/step - loss: 0.6912 - acc: 0.5161 - val_loss: 0.6943 - val_acc: 0.5154\n",
      "Epoch 93/100\n",
      "1211/1211 [==============================] - 0s 247us/step - loss: 0.6908 - acc: 0.5301 - val_loss: 0.6945 - val_acc: 0.5173\n",
      "Epoch 94/100\n",
      "1211/1211 [==============================] - 0s 251us/step - loss: 0.6909 - acc: 0.5219 - val_loss: 0.6941 - val_acc: 0.5173\n",
      "Epoch 95/100\n",
      "1211/1211 [==============================] - 0s 240us/step - loss: 0.6908 - acc: 0.5211 - val_loss: 0.6939 - val_acc: 0.5096\n",
      "Epoch 96/100\n",
      "1211/1211 [==============================] - 0s 258us/step - loss: 0.6908 - acc: 0.5301 - val_loss: 0.6945 - val_acc: 0.5135\n",
      "Epoch 97/100\n",
      "1211/1211 [==============================] - 0s 220us/step - loss: 0.6910 - acc: 0.5235 - val_loss: 0.6954 - val_acc: 0.5154\n",
      "Epoch 98/100\n",
      "1211/1211 [==============================] - 0s 259us/step - loss: 0.6907 - acc: 0.5277 - val_loss: 0.6937 - val_acc: 0.5096\n",
      "Epoch 99/100\n",
      "1211/1211 [==============================] - 0s 260us/step - loss: 0.6911 - acc: 0.5235 - val_loss: 0.6929 - val_acc: 0.5135\n",
      "Epoch 100/100\n",
      "1211/1211 [==============================] - 0s 265us/step - loss: 0.6914 - acc: 0.5244 - val_loss: 0.6942 - val_acc: 0.5173\n"
     ]
    }
   ],
   "source": [
    "# simple lstm network learning\n",
    "model = Sequential()\n",
    "model.add(LSTM(36, input_shape=(1, 6)))\n",
    "for i in range(2):\n",
    "    model.add(Dense(36,activation='tanh'))\n",
    "model.add(Dense(1,activation='sigmoid'))\n",
    "model.compile(loss='binary_crossentropy', optimizer='adam', metrics=['acc'])\n",
    "result=model.fit(X_train, y_train, epochs=100, batch_size=16,validation_split=0.3)"
   ]
  },
  {
   "cell_type": "code",
   "execution_count": 10,
   "metadata": {},
   "outputs": [
    {
     "data": {
      "text/plain": [
       "0.5251299826689775"
      ]
     },
     "execution_count": 10,
     "metadata": {},
     "output_type": "execute_result"
    }
   ],
   "source": [
    "from sklearn.metrics import accuracy_score\n",
    "accuracy_score(y_train,np.where(model.predict(X_train)>0.5,1,0))"
   ]
  },
  {
   "cell_type": "code",
   "execution_count": 11,
   "metadata": {},
   "outputs": [
    {
     "data": {
      "image/png": "[encoded data removed]",
      "text/plain": [
       "<Figure size 864x576 with 1 Axes>"
      ]
     },
     "metadata": {
      "needs_background": "light"
     },
     "output_type": "display_data"
    }
   ],
   "source": [
    "#-------------성과 측정 -------------\n",
    "import matplotlib.pyplot as plt\n",
    "%matplotlib inline\n",
    "\n",
    "plt.figure(figsize=(12,8))\n",
    "plt.plot(result.history['loss'])\n",
    "plt.plot(result.history['val_loss'])\n",
    "plt.plot(result.history['acc'])\n",
    "plt.plot(result.history['val_acc'])\n",
    "plt.legend(['loss','val_loss', 'acc','val_acc'])\n",
    "plt.grid()\n",
    "plt.show()"
   ]
  },
  {
   "cell_type": "code",
   "execution_count": 12,
   "metadata": {},
   "outputs": [
    {
     "ename": "NameError",
     "evalue": "name 'y_pred' is not defined",
     "output_type": "error",
     "traceback": [
      "\u001b[1;31m---------------------------------------------------------------------------\u001b[0m",
      "\u001b[1;31mNameError\u001b[0m                                 Traceback (most recent call last)",
      "\u001b[1;32m<ipython-input-12-a950412d13d5>\u001b[0m in \u001b[0;36m<module>\u001b[1;34m\u001b[0m\n\u001b[1;32m----> 1\u001b[1;33m \u001b[0my_pred\u001b[0m\u001b[1;33m.\u001b[0m\u001b[0mshape\u001b[0m\u001b[1;33m\u001b[0m\u001b[1;33m\u001b[0m\u001b[0m\n\u001b[0m",
      "\u001b[1;31mNameError\u001b[0m: name 'y_pred' is not defined"
     ]
    }
   ],
   "source": [
    "y_pred.shape"
   ]
  },
  {
   "cell_type": "code",
   "execution_count": 17,
   "metadata": {},
   "outputs": [],
   "source": [
    "y_pred=model.predict(X_test)\n",
    "y_test_class=np.argmax(y_test)"
   ]
  },
  {
   "cell_type": "code",
   "execution_count": 18,
   "metadata": {},
   "outputs": [],
   "source": [
    "y_pred2=np.where(y_pred>0.5,1,0)"
   ]
  },
  {
   "cell_type": "code",
   "execution_count": 19,
   "metadata": {},
   "outputs": [
    {
     "data": {
      "text/plain": [
       "array([[285,  57],\n",
       "       [338,  62]], dtype=int64)"
      ]
     },
     "execution_count": 19,
     "metadata": {},
     "output_type": "execute_result"
    }
   ],
   "source": [
    "from sklearn.metrics import confusion_matrix\n",
    "\n",
    "confusion_matrix(y_test, y_pred2)"
   ]
  },
  {
   "cell_type": "code",
   "execution_count": 20,
   "metadata": {},
   "outputs": [
    {
     "data": {
      "text/plain": [
       "(742,)"
      ]
     },
     "execution_count": 20,
     "metadata": {},
     "output_type": "execute_result"
    }
   ],
   "source": [
    "y_test.shape"
   ]
  },
  {
   "cell_type": "code",
   "execution_count": 23,
   "metadata": {},
   "outputs": [
    {
     "name": "stdout",
     "output_type": "stream",
     "text": [
      "0.23892100192678226\n"
     ]
    }
   ],
   "source": [
    "from sklearn.metrics import f1_score\n",
    "print(f1_score(y_test, y_pred2))"
   ]
  },
  {
   "cell_type": "code",
   "execution_count": null,
   "metadata": {},
   "outputs": [],
   "source": [
    "y_test.shape"
   ]
  },
  {
   "cell_type": "code",
   "execution_count": 39,
   "metadata": {},
   "outputs": [
    {
     "data": {
      "text/plain": [
       "<matplotlib.legend.Legend at 0x2ba8f894d88>"
      ]
     },
     "execution_count": 39,
     "metadata": {},
     "output_type": "execute_result"
    },
    {
     "data": {
      "image/png": "[encoded data removed]",
      "text/plain": [
       "<Figure size 432x288 with 1 Axes>"
      ]
     },
     "metadata": {
      "needs_background": "light"
     },
     "output_type": "display_data"
    }
   ],
   "source": [
    "from sklearn.metrics import roc_auc_score\n",
    "roc_auc_score(y_test, y_pred2)\n",
    "\n",
    "from sklearn.metrics import roc_curve\n",
    "y_prob=model.predict_proba(X_test)\n",
    "fpr,tpr,thresholds=roc_curve(y_test,y_prob)\n",
    "plt.plot(fpr,tpr,label=\"ROC curve\")\n",
    "plt.xlabel(\"FPR\")\n",
    "plt.ylabel(\"TPR\")\n",
    "close_zero=np.argmin(np.abs(thresholds))\n",
    "plt.legend(loc=4)"
   ]
  },
  {
   "cell_type": "code",
   "execution_count": 36,
   "metadata": {},
   "outputs": [],
   "source": [
    "y_prob=model.predict_proba(X_test)"
   ]
  },
  {
   "cell_type": "code",
   "execution_count": null,
   "metadata": {},
   "outputs": [],
   "source": []
  }
 ],
 "metadata": {
  "kernelspec": {
   "display_name": "Python 3",
   "language": "python",
   "name": "python3"
  },
  "language_info": {
   "codemirror_mode": {
    "name": "ipython",
    "version": 3
   },
   "file_extension": ".py",
   "mimetype": "text/x-python",
   "name": "python",
   "nbconvert_exporter": "python",
   "pygments_lexer": "ipython3",
   "version": "3.7.4"
  }
 },
 "nbformat": 4,
 "nbformat_minor": 2
}
