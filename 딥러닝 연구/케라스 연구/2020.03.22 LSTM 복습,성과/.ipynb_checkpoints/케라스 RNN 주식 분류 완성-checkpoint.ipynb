{
 "cells": [
  {
   "cell_type": "code",
   "execution_count": 1,
   "metadata": {},
   "outputs": [
    {
     "name": "stderr",
     "output_type": "stream",
     "text": [
      "Using TensorFlow backend.\n"
     ]
    }
   ],
   "source": [
    "\n",
    "%matplotlib inline\n",
    "import os\n",
    "import pandas as pd\n",
    "import numpy as np\n",
    "from keras.models import Sequential\n",
    "from keras.layers import Dense\n",
    "from keras.layers import LSTM\n",
    "from keras.layers import SimpleRNN\n",
    "\n",
    "from sklearn.preprocessing import MinMaxScaler\n",
    "import matplotlib.pyplot as plt\n",
    "import math\n",
    "from sklearn.metrics import mean_squared_error\n",
    "import FinanceDataReader as fdr"
   ]
  },
  {
   "cell_type": "code",
   "execution_count": 2,
   "metadata": {},
   "outputs": [],
   "source": [
    "pandf = fdr.DataReader(\"KS11\",\"2009.01.01\",\"2019-01-01\")"
   ]
  },
  {
   "cell_type": "code",
   "execution_count": 3,
   "metadata": {
    "collapsed": true
   },
   "outputs": [
    {
     "name": "stdout",
     "output_type": "stream",
     "text": [
      "[[ 1.15740e+03  1.13287e+03  1.15740e+03  1.11884e+03  3.40780e+08\n",
      "   2.93000e-02]\n",
      " [ 1.17357e+03  1.18098e+03  1.18522e+03  1.16666e+03  4.14760e+08\n",
      "   1.40000e-02]\n",
      " [ 1.19428e+03  1.18352e+03  1.20359e+03  1.17994e+03  4.44200e+08\n",
      "   1.76000e-02]\n",
      " ...\n",
      " [ 2.02801e+03  2.02881e+03  2.03783e+03  2.01428e+03  3.21500e+08\n",
      "  -1.31000e-02]\n",
      " [ 2.02844e+03  2.03209e+03  2.03557e+03  2.02139e+03  3.98020e+08\n",
      "   2.00000e-04]\n",
      " [ 2.04104e+03  2.03670e+03  2.04697e+03  2.03541e+03  3.52680e+08\n",
      "   6.20000e-03]]\n"
     ]
    }
   ],
   "source": [
    "# convert nparray\n",
    "nparr = pandf.values\n",
    "nparr.astype('float32')\n",
    "print(nparr)"
   ]
  },
  {
   "cell_type": "code",
   "execution_count": 4,
   "metadata": {},
   "outputs": [],
   "source": [
    "# normalization\n",
    "scaler = MinMaxScaler(feature_range=(0, 1))\n",
    "nptf = scaler.fit_transform(nparr)"
   ]
  },
  {
   "cell_type": "code",
   "execution_count": 5,
   "metadata": {},
   "outputs": [],
   "source": [
    "nptf=nptf[:-1]"
   ]
  },
  {
   "cell_type": "code",
   "execution_count": 6,
   "metadata": {},
   "outputs": [],
   "source": [
    "# split train, test\n",
    "y=np.where(pandf[\"Change\"].shift(-1).dropna()>0,1,0)\n",
    "train_size = int(len(nptf) * 0.7)\n",
    "y_train=y[:train_size]\n",
    "y_test=y[train_size:]\n",
    "X_train = nptf[:train_size]\n",
    "X_test = nptf[train_size:]"
   ]
  },
  {
   "cell_type": "code",
   "execution_count": 7,
   "metadata": {},
   "outputs": [],
   "source": [
    "# reshape input to be [samples, time steps, features]\n",
    "X_train = np.reshape(X_train, (X_train.shape[0], 1, X_train.shape[1]))\n",
    "X_test = np.reshape(X_test, (X_test.shape[0], 1, X_test.shape[1]))"
   ]
  },
  {
   "cell_type": "code",
   "execution_count": 10,
   "metadata": {
    "scrolled": true
   },
   "outputs": [
    {
     "name": "stdout",
     "output_type": "stream",
     "text": [
      "Train on 1557 samples, validate on 174 samples\n",
      "Epoch 1/100\n",
      "1557/1557 [==============================] - 1s 425us/step - loss: 0.6946 - acc: 0.4978 - val_loss: 0.7071 - val_acc: 0.4828\n",
      "Epoch 2/100\n",
      "1557/1557 [==============================] - 0s 261us/step - loss: 0.6975 - acc: 0.5042 - val_loss: 0.6932 - val_acc: 0.4828\n",
      "Epoch 3/100\n",
      "1557/1557 [==============================] - 0s 263us/step - loss: 0.6931 - acc: 0.4984 - val_loss: 0.6983 - val_acc: 0.4828\n",
      "Epoch 4/100\n",
      "1557/1557 [==============================] - 0s 264us/step - loss: 0.6922 - acc: 0.5228 - val_loss: 0.6926 - val_acc: 0.5172\n",
      "Epoch 5/100\n",
      "1557/1557 [==============================] - 0s 261us/step - loss: 0.6942 - acc: 0.4971 - val_loss: 0.6979 - val_acc: 0.4828\n",
      "Epoch 6/100\n",
      "1557/1557 [==============================] - 0s 262us/step - loss: 0.6943 - acc: 0.5080 - val_loss: 0.6956 - val_acc: 0.4828\n",
      "Epoch 7/100\n",
      "1557/1557 [==============================] - 0s 262us/step - loss: 0.6945 - acc: 0.5093 - val_loss: 0.6943 - val_acc: 0.4828\n",
      "Epoch 8/100\n",
      "1557/1557 [==============================] - 0s 271us/step - loss: 0.6951 - acc: 0.5100 - val_loss: 0.6929 - val_acc: 0.5172\n",
      "Epoch 9/100\n",
      "1557/1557 [==============================] - 0s 264us/step - loss: 0.6937 - acc: 0.4990 - val_loss: 0.6971 - val_acc: 0.4828\n",
      "Epoch 10/100\n",
      "1557/1557 [==============================] - 0s 265us/step - loss: 0.6942 - acc: 0.5061 - val_loss: 0.6962 - val_acc: 0.4828\n",
      "Epoch 11/100\n",
      "1557/1557 [==============================] - 0s 265us/step - loss: 0.6945 - acc: 0.5087 - val_loss: 0.6965 - val_acc: 0.4828\n",
      "Epoch 12/100\n",
      "1557/1557 [==============================] - 0s 260us/step - loss: 0.6935 - acc: 0.5196 - val_loss: 0.6927 - val_acc: 0.5172\n",
      "Epoch 13/100\n",
      "1557/1557 [==============================] - 0s 261us/step - loss: 0.6937 - acc: 0.5010 - val_loss: 0.6940 - val_acc: 0.4828\n",
      "Epoch 14/100\n",
      "1557/1557 [==============================] - 0s 263us/step - loss: 0.6933 - acc: 0.5112 - val_loss: 0.6935 - val_acc: 0.4828\n",
      "Epoch 15/100\n",
      "1557/1557 [==============================] - 0s 265us/step - loss: 0.6925 - acc: 0.5138 - val_loss: 0.7053 - val_acc: 0.4828\n",
      "Epoch 16/100\n",
      "1557/1557 [==============================] - 0s 265us/step - loss: 0.6933 - acc: 0.5183 - val_loss: 0.6960 - val_acc: 0.4828\n",
      "Epoch 17/100\n",
      "1557/1557 [==============================] - 0s 260us/step - loss: 0.6935 - acc: 0.5093 - val_loss: 0.6970 - val_acc: 0.4828\n",
      "Epoch 18/100\n",
      "1557/1557 [==============================] - 0s 263us/step - loss: 0.6935 - acc: 0.5061 - val_loss: 0.6925 - val_acc: 0.5172\n",
      "Epoch 19/100\n",
      "1557/1557 [==============================] - 0s 263us/step - loss: 0.6937 - acc: 0.5074 - val_loss: 0.6940 - val_acc: 0.4828\n",
      "Epoch 20/100\n",
      "1557/1557 [==============================] - 0s 272us/step - loss: 0.6936 - acc: 0.5119 - val_loss: 0.6938 - val_acc: 0.4828\n",
      "Epoch 21/100\n",
      "1557/1557 [==============================] - 0s 263us/step - loss: 0.6937 - acc: 0.5061 - val_loss: 0.6932 - val_acc: 0.4828\n",
      "Epoch 22/100\n",
      "1557/1557 [==============================] - 0s 263us/step - loss: 0.6928 - acc: 0.5112 - val_loss: 0.6966 - val_acc: 0.4828\n",
      "Epoch 23/100\n",
      "1557/1557 [==============================] - 0s 263us/step - loss: 0.6932 - acc: 0.5080 - val_loss: 0.6952 - val_acc: 0.4828\n",
      "Epoch 24/100\n",
      "1557/1557 [==============================] - 0s 266us/step - loss: 0.6924 - acc: 0.5241 - val_loss: 0.6927 - val_acc: 0.5172\n",
      "Epoch 25/100\n",
      "1557/1557 [==============================] - 0s 266us/step - loss: 0.6926 - acc: 0.5132 - val_loss: 0.6941 - val_acc: 0.4828\n",
      "Epoch 26/100\n",
      "1557/1557 [==============================] - 0s 266us/step - loss: 0.6948 - acc: 0.5042 - val_loss: 0.6933 - val_acc: 0.4828\n",
      "Epoch 27/100\n",
      "1557/1557 [==============================] - 0s 270us/step - loss: 0.6934 - acc: 0.5055 - val_loss: 0.6945 - val_acc: 0.4828\n",
      "Epoch 28/100\n",
      "1557/1557 [==============================] - 0s 265us/step - loss: 0.6926 - acc: 0.5189 - val_loss: 0.6928 - val_acc: 0.5057\n",
      "Epoch 29/100\n",
      "1557/1557 [==============================] - 0s 267us/step - loss: 0.6921 - acc: 0.5112 - val_loss: 0.6987 - val_acc: 0.4828\n",
      "Epoch 30/100\n",
      "1557/1557 [==============================] - 0s 269us/step - loss: 0.6924 - acc: 0.5138 - val_loss: 0.6944 - val_acc: 0.4828\n",
      "Epoch 31/100\n",
      "1557/1557 [==============================] - 0s 261us/step - loss: 0.6934 - acc: 0.5189 - val_loss: 0.6919 - val_acc: 0.5172\n",
      "Epoch 32/100\n",
      "1557/1557 [==============================] - 0s 263us/step - loss: 0.6948 - acc: 0.5035 - val_loss: 0.6919 - val_acc: 0.5172\n",
      "Epoch 33/100\n",
      "1557/1557 [==============================] - 0s 266us/step - loss: 0.6921 - acc: 0.5112 - val_loss: 0.6935 - val_acc: 0.4828\n",
      "Epoch 34/100\n",
      "1557/1557 [==============================] - 0s 269us/step - loss: 0.6925 - acc: 0.4926 - val_loss: 0.6920 - val_acc: 0.5632\n",
      "Epoch 35/100\n",
      "1557/1557 [==============================] - 0s 263us/step - loss: 0.6917 - acc: 0.5318 - val_loss: 0.6920 - val_acc: 0.5172\n",
      "Epoch 36/100\n",
      "1557/1557 [==============================] - 0s 271us/step - loss: 0.6924 - acc: 0.5067 - val_loss: 0.6906 - val_acc: 0.5345\n",
      "Epoch 37/100\n",
      "1557/1557 [==============================] - 0s 266us/step - loss: 0.6912 - acc: 0.5222 - val_loss: 0.6911 - val_acc: 0.5632\n",
      "Epoch 38/100\n",
      "1557/1557 [==============================] - 0s 273us/step - loss: 0.6912 - acc: 0.5170 - val_loss: 0.6914 - val_acc: 0.5172\n",
      "Epoch 39/100\n",
      "1557/1557 [==============================] - 0s 263us/step - loss: 0.6932 - acc: 0.4997 - val_loss: 0.6917 - val_acc: 0.5517\n",
      "Epoch 40/100\n",
      "1557/1557 [==============================] - 0s 266us/step - loss: 0.6922 - acc: 0.5151 - val_loss: 0.6921 - val_acc: 0.4828\n",
      "Epoch 41/100\n",
      "1557/1557 [==============================] - 0s 261us/step - loss: 0.6915 - acc: 0.5048 - val_loss: 0.6914 - val_acc: 0.5345\n",
      "Epoch 42/100\n",
      "1557/1557 [==============================] - 0s 269us/step - loss: 0.6912 - acc: 0.5157 - val_loss: 0.6914 - val_acc: 0.5345\n",
      "Epoch 43/100\n",
      "1557/1557 [==============================] - 0s 263us/step - loss: 0.6921 - acc: 0.5189 - val_loss: 0.6961 - val_acc: 0.4828\n",
      "Epoch 44/100\n",
      "1557/1557 [==============================] - 0s 268us/step - loss: 0.6920 - acc: 0.5260 - val_loss: 0.6912 - val_acc: 0.5287\n",
      "Epoch 45/100\n",
      "1557/1557 [==============================] - 0s 266us/step - loss: 0.6914 - acc: 0.5177 - val_loss: 0.6915 - val_acc: 0.5345\n",
      "Epoch 46/100\n",
      "1557/1557 [==============================] - 0s 265us/step - loss: 0.6914 - acc: 0.5080 - val_loss: 0.6925 - val_acc: 0.4828\n",
      "Epoch 47/100\n",
      "1557/1557 [==============================] - 0s 260us/step - loss: 0.6915 - acc: 0.5112 - val_loss: 0.6915 - val_acc: 0.5345\n",
      "Epoch 48/100\n",
      "1557/1557 [==============================] - 0s 261us/step - loss: 0.6911 - acc: 0.5234 - val_loss: 0.6914 - val_acc: 0.5172\n",
      "Epoch 49/100\n",
      "1557/1557 [==============================] - 0s 260us/step - loss: 0.6908 - acc: 0.5273 - val_loss: 0.6912 - val_acc: 0.5517\n",
      "Epoch 50/100\n",
      "1557/1557 [==============================] - 0s 269us/step - loss: 0.6922 - acc: 0.5183 - val_loss: 0.6926 - val_acc: 0.4828\n",
      "Epoch 51/100\n",
      "1557/1557 [==============================] - 0s 271us/step - loss: 0.6909 - acc: 0.5106 - val_loss: 0.6910 - val_acc: 0.5575\n",
      "Epoch 52/100\n",
      "1557/1557 [==============================] - 0s 263us/step - loss: 0.6924 - acc: 0.4971 - val_loss: 0.6934 - val_acc: 0.4828\n",
      "Epoch 53/100\n",
      "1557/1557 [==============================] - 0s 266us/step - loss: 0.6908 - acc: 0.5138 - val_loss: 0.6917 - val_acc: 0.5172\n",
      "Epoch 54/100\n",
      "1557/1557 [==============================] - 0s 263us/step - loss: 0.6930 - acc: 0.5067 - val_loss: 0.6917 - val_acc: 0.5345\n",
      "Epoch 55/100\n",
      "1557/1557 [==============================] - 0s 268us/step - loss: 0.6928 - acc: 0.4997 - val_loss: 0.6914 - val_acc: 0.5287\n",
      "Epoch 56/100\n",
      "1557/1557 [==============================] - 0s 266us/step - loss: 0.6912 - acc: 0.5228 - val_loss: 0.6909 - val_acc: 0.5287\n",
      "Epoch 57/100\n",
      "1557/1557 [==============================] - 0s 260us/step - loss: 0.6912 - acc: 0.5350 - val_loss: 0.6909 - val_acc: 0.5345\n",
      "Epoch 58/100\n",
      "1557/1557 [==============================] - 0s 270us/step - loss: 0.6915 - acc: 0.5292 - val_loss: 0.6913 - val_acc: 0.5287\n",
      "Epoch 59/100\n",
      "1557/1557 [==============================] - 0s 266us/step - loss: 0.6914 - acc: 0.5170 - val_loss: 0.6911 - val_acc: 0.5460\n",
      "Epoch 60/100\n"
     ]
    },
    {
     "name": "stdout",
     "output_type": "stream",
     "text": [
      "1557/1557 [==============================] - 0s 268us/step - loss: 0.6909 - acc: 0.5267 - val_loss: 0.6961 - val_acc: 0.4828\n",
      "Epoch 61/100\n",
      "1557/1557 [==============================] - 0s 259us/step - loss: 0.6916 - acc: 0.5215 - val_loss: 0.6908 - val_acc: 0.5345\n",
      "Epoch 62/100\n",
      "1557/1557 [==============================] - 0s 266us/step - loss: 0.6910 - acc: 0.5234 - val_loss: 0.6920 - val_acc: 0.5172\n",
      "Epoch 63/100\n",
      "1557/1557 [==============================] - 0s 261us/step - loss: 0.6917 - acc: 0.5093 - val_loss: 0.6930 - val_acc: 0.4828\n",
      "Epoch 64/100\n",
      "1557/1557 [==============================] - 0s 265us/step - loss: 0.6910 - acc: 0.5292 - val_loss: 0.6919 - val_acc: 0.5172\n",
      "Epoch 65/100\n",
      "1557/1557 [==============================] - 0s 261us/step - loss: 0.6905 - acc: 0.5337 - val_loss: 0.6912 - val_acc: 0.5460\n",
      "Epoch 66/100\n",
      "1557/1557 [==============================] - 0s 266us/step - loss: 0.6905 - acc: 0.5337 - val_loss: 0.6915 - val_acc: 0.5000\n",
      "Epoch 67/100\n",
      "1557/1557 [==============================] - 0s 263us/step - loss: 0.6910 - acc: 0.5273 - val_loss: 0.6942 - val_acc: 0.4828\n",
      "Epoch 68/100\n",
      "1557/1557 [==============================] - 0s 269us/step - loss: 0.6909 - acc: 0.5189 - val_loss: 0.6910 - val_acc: 0.5460\n",
      "Epoch 69/100\n",
      "1557/1557 [==============================] - 0s 268us/step - loss: 0.6900 - acc: 0.5337 - val_loss: 0.6915 - val_acc: 0.5287\n",
      "Epoch 70/100\n",
      "1557/1557 [==============================] - 0s 265us/step - loss: 0.6915 - acc: 0.5228 - val_loss: 0.6909 - val_acc: 0.5402\n",
      "Epoch 71/100\n",
      "1557/1557 [==============================] - 0s 266us/step - loss: 0.6905 - acc: 0.5356 - val_loss: 0.6909 - val_acc: 0.5517\n",
      "Epoch 72/100\n",
      "1557/1557 [==============================] - 0s 272us/step - loss: 0.6902 - acc: 0.5337 - val_loss: 0.6909 - val_acc: 0.5460\n",
      "Epoch 73/100\n",
      "1557/1557 [==============================] - 0s 266us/step - loss: 0.6912 - acc: 0.5228 - val_loss: 0.6910 - val_acc: 0.5402\n",
      "Epoch 74/100\n",
      "1557/1557 [==============================] - 0s 268us/step - loss: 0.6915 - acc: 0.5247 - val_loss: 0.6913 - val_acc: 0.5345\n",
      "Epoch 75/100\n",
      "1557/1557 [==============================] - 0s 263us/step - loss: 0.6908 - acc: 0.5311 - val_loss: 0.6911 - val_acc: 0.5517\n",
      "Epoch 76/100\n",
      "1557/1557 [==============================] - 0s 267us/step - loss: 0.6918 - acc: 0.5209 - val_loss: 0.6922 - val_acc: 0.5230\n",
      "Epoch 77/100\n",
      "1557/1557 [==============================] - 0s 264us/step - loss: 0.6908 - acc: 0.5234 - val_loss: 0.6916 - val_acc: 0.5287\n",
      "Epoch 78/100\n",
      "1557/1557 [==============================] - 0s 269us/step - loss: 0.6903 - acc: 0.5305 - val_loss: 0.6912 - val_acc: 0.5345\n",
      "Epoch 79/100\n",
      "1557/1557 [==============================] - 0s 266us/step - loss: 0.6910 - acc: 0.5267 - val_loss: 0.6914 - val_acc: 0.5230\n",
      "Epoch 80/100\n",
      "1557/1557 [==============================] - 0s 264us/step - loss: 0.6902 - acc: 0.5279 - val_loss: 0.6918 - val_acc: 0.5345\n",
      "Epoch 81/100\n",
      "1557/1557 [==============================] - 0s 269us/step - loss: 0.6895 - acc: 0.5376 - val_loss: 0.6915 - val_acc: 0.5402\n",
      "Epoch 82/100\n",
      "1557/1557 [==============================] - 0s 269us/step - loss: 0.6888 - acc: 0.5478 - val_loss: 0.6964 - val_acc: 0.4713\n",
      "Epoch 83/100\n",
      "1557/1557 [==============================] - 0s 270us/step - loss: 0.6908 - acc: 0.5491 - val_loss: 0.6917 - val_acc: 0.5345\n",
      "Epoch 84/100\n",
      "1557/1557 [==============================] - 0s 268us/step - loss: 0.6904 - acc: 0.5382 - val_loss: 0.6953 - val_acc: 0.5172\n",
      "Epoch 85/100\n",
      "1557/1557 [==============================] - 0s 265us/step - loss: 0.6910 - acc: 0.5241 - val_loss: 0.6923 - val_acc: 0.5517\n",
      "Epoch 86/100\n",
      "1557/1557 [==============================] - 0s 259us/step - loss: 0.6899 - acc: 0.5408 - val_loss: 0.6918 - val_acc: 0.5172\n",
      "Epoch 87/100\n",
      "1557/1557 [==============================] - 0s 272us/step - loss: 0.6904 - acc: 0.5369 - val_loss: 0.6923 - val_acc: 0.5345\n",
      "Epoch 88/100\n",
      "1557/1557 [==============================] - 0s 265us/step - loss: 0.6897 - acc: 0.5299 - val_loss: 0.6923 - val_acc: 0.5287\n",
      "Epoch 89/100\n",
      "1557/1557 [==============================] - 0s 265us/step - loss: 0.6908 - acc: 0.5421 - val_loss: 0.6944 - val_acc: 0.5172\n",
      "Epoch 90/100\n",
      "1557/1557 [==============================] - 0s 265us/step - loss: 0.6896 - acc: 0.5382 - val_loss: 0.6923 - val_acc: 0.5460\n",
      "Epoch 91/100\n",
      "1557/1557 [==============================] - 0s 268us/step - loss: 0.6885 - acc: 0.5408 - val_loss: 0.6953 - val_acc: 0.5115\n",
      "Epoch 92/100\n",
      "1557/1557 [==============================] - 0s 266us/step - loss: 0.6901 - acc: 0.5440 - val_loss: 0.6930 - val_acc: 0.5345\n",
      "Epoch 93/100\n",
      "1557/1557 [==============================] - 0s 265us/step - loss: 0.6909 - acc: 0.5331 - val_loss: 0.7005 - val_acc: 0.5172\n",
      "Epoch 94/100\n",
      "1557/1557 [==============================] - 0s 265us/step - loss: 0.6908 - acc: 0.5247 - val_loss: 0.6936 - val_acc: 0.5115\n",
      "Epoch 95/100\n",
      "1557/1557 [==============================] - 0s 272us/step - loss: 0.6893 - acc: 0.5318 - val_loss: 0.6924 - val_acc: 0.5345\n",
      "Epoch 96/100\n",
      "1557/1557 [==============================] - 0s 267us/step - loss: 0.6891 - acc: 0.5491 - val_loss: 0.6927 - val_acc: 0.5230\n",
      "Epoch 97/100\n",
      "1557/1557 [==============================] - 0s 268us/step - loss: 0.6886 - acc: 0.5511 - val_loss: 0.6963 - val_acc: 0.5172\n",
      "Epoch 98/100\n",
      "1557/1557 [==============================] - 0s 268us/step - loss: 0.6891 - acc: 0.5267 - val_loss: 0.6968 - val_acc: 0.5172\n",
      "Epoch 99/100\n",
      "1557/1557 [==============================] - 0s 263us/step - loss: 0.6899 - acc: 0.5337 - val_loss: 0.6934 - val_acc: 0.5345\n",
      "Epoch 100/100\n",
      "1557/1557 [==============================] - 0s 268us/step - loss: 0.6898 - acc: 0.5440 - val_loss: 0.6928 - val_acc: 0.5000\n",
      "742/742 [==============================] - 0s 59us/step\n"
     ]
    },
    {
     "data": {
      "text/plain": [
       "[0.6956148480148007, 0.5]"
      ]
     },
     "execution_count": 10,
     "metadata": {},
     "output_type": "execute_result"
    }
   ],
   "source": [
    "# simple lstm network learning\n",
    "model = Sequential()\n",
    "model.add(SimpleRNN(36, input_shape=(1, 6)))\n",
    "for i in range(5):\n",
    "    model.add(Dense(36,activation='sigmoid'))\n",
    "model.add(Dense(1,activation='sigmoid'))\n",
    "model.compile(loss='binary_crossentropy', optimizer='adam', metrics=['acc'])\n",
    "model.fit(X_train, y_train, epochs=100, batch_size=16,validation_split=0.1)\n",
    "model.evaluate(X_test,y_test)"
   ]
  },
  {
   "cell_type": "code",
   "execution_count": 11,
   "metadata": {},
   "outputs": [
    {
     "data": {
      "text/plain": [
       "0.534950895436164"
      ]
     },
     "execution_count": 11,
     "metadata": {},
     "output_type": "execute_result"
    }
   ],
   "source": [
    "from sklearn.metrics import accuracy_score\n",
    "accuracy_score(y_train,np.where(model.predict(X_train)>0.5,1,0))"
   ]
  },
  {
   "cell_type": "code",
   "execution_count": null,
   "metadata": {},
   "outputs": [],
   "source": []
  },
  {
   "cell_type": "code",
   "execution_count": null,
   "metadata": {},
   "outputs": [],
   "source": []
  },
  {
   "cell_type": "code",
   "execution_count": null,
   "metadata": {},
   "outputs": [],
   "source": []
  },
  {
   "cell_type": "code",
   "execution_count": null,
   "metadata": {},
   "outputs": [],
   "source": []
  },
  {
   "cell_type": "code",
   "execution_count": null,
   "metadata": {},
   "outputs": [],
   "source": []
  },
  {
   "cell_type": "code",
   "execution_count": null,
   "metadata": {},
   "outputs": [],
   "source": []
  },
  {
   "cell_type": "code",
   "execution_count": null,
   "metadata": {},
   "outputs": [],
   "source": []
  }
 ],
 "metadata": {
  "kernelspec": {
   "display_name": "Python 3",
   "language": "python",
   "name": "python3"
  },
  "language_info": {
   "codemirror_mode": {
    "name": "ipython",
    "version": 3
   },
   "file_extension": ".py",
   "mimetype": "text/x-python",
   "name": "python",
   "nbconvert_exporter": "python",
   "pygments_lexer": "ipython3",
   "version": "3.7.4"
  }
 },
 "nbformat": 4,
 "nbformat_minor": 2
}
