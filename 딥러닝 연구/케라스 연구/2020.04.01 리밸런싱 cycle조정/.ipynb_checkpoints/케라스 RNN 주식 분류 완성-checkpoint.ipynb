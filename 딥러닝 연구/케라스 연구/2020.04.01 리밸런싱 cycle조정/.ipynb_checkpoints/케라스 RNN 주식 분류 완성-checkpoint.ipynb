{
 "cells": [
  {
   "cell_type": "code",
   "execution_count": 1,
   "metadata": {},
   "outputs": [
    {
     "name": "stderr",
     "output_type": "stream",
     "text": [
      "Using TensorFlow backend.\n"
     ]
    }
   ],
   "source": [
    "\n",
    "%matplotlib inline\n",
    "import os\n",
    "import pandas as pd\n",
    "import numpy as np\n",
    "from keras.models import Sequential\n",
    "from keras.layers import Dense\n",
    "from keras.layers import LSTM\n",
    "from keras.layers import SimpleRNN\n",
    "\n",
    "from sklearn.preprocessing import MinMaxScaler\n",
    "import matplotlib.pyplot as plt\n",
    "import math\n",
    "from sklearn.metrics import mean_squared_error\n",
    "import FinanceDataReader as fdr"
   ]
  },
  {
   "cell_type": "code",
   "execution_count": 41,
   "metadata": {},
   "outputs": [],
   "source": [
    "pandf = fdr.DataReader(\"HSI\",\"2009-01-01\",\"2019-01-01\")[0:200]\n"
   ]
  },
  {
   "cell_type": "code",
   "execution_count": 54,
   "metadata": {},
   "outputs": [
    {
     "data": {
      "text/html": [
       "<div>\n",
       "<style scoped>\n",
       "    .dataframe tbody tr th:only-of-type {\n",
       "        vertical-align: middle;\n",
       "    }\n",
       "\n",
       "    .dataframe tbody tr th {\n",
       "        vertical-align: top;\n",
       "    }\n",
       "\n",
       "    .dataframe thead th {\n",
       "        text-align: right;\n",
       "    }\n",
       "</style>\n",
       "<table border=\"1\" class=\"dataframe\">\n",
       "  <thead>\n",
       "    <tr style=\"text-align: right;\">\n",
       "      <th></th>\n",
       "      <th>Close</th>\n",
       "      <th>Open</th>\n",
       "      <th>High</th>\n",
       "      <th>Low</th>\n",
       "      <th>Volume</th>\n",
       "      <th>Change</th>\n",
       "    </tr>\n",
       "    <tr>\n",
       "      <th>Date</th>\n",
       "      <th></th>\n",
       "      <th></th>\n",
       "      <th></th>\n",
       "      <th></th>\n",
       "      <th></th>\n",
       "      <th></th>\n",
       "    </tr>\n",
       "  </thead>\n",
       "  <tbody>\n",
       "    <tr>\n",
       "      <td>2009-01-02</td>\n",
       "      <td>15042.81</td>\n",
       "      <td>14448.22</td>\n",
       "      <td>15042.81</td>\n",
       "      <td>14412.12</td>\n",
       "      <td>0.0</td>\n",
       "      <td>0.0455</td>\n",
       "    </tr>\n",
       "    <tr>\n",
       "      <td>2009-01-05</td>\n",
       "      <td>15563.31</td>\n",
       "      <td>15349.33</td>\n",
       "      <td>15563.31</td>\n",
       "      <td>15128.32</td>\n",
       "      <td>0.0</td>\n",
       "      <td>0.0346</td>\n",
       "    </tr>\n",
       "    <tr>\n",
       "      <td>2009-01-06</td>\n",
       "      <td>15509.51</td>\n",
       "      <td>15612.47</td>\n",
       "      <td>15651.61</td>\n",
       "      <td>15367.93</td>\n",
       "      <td>0.0</td>\n",
       "      <td>-0.0035</td>\n",
       "    </tr>\n",
       "    <tr>\n",
       "      <td>2009-01-07</td>\n",
       "      <td>14987.46</td>\n",
       "      <td>15759.53</td>\n",
       "      <td>15763.55</td>\n",
       "      <td>14976.74</td>\n",
       "      <td>0.0</td>\n",
       "      <td>-0.0337</td>\n",
       "    </tr>\n",
       "    <tr>\n",
       "      <td>2009-01-08</td>\n",
       "      <td>14415.91</td>\n",
       "      <td>14755.81</td>\n",
       "      <td>14755.81</td>\n",
       "      <td>14334.15</td>\n",
       "      <td>0.0</td>\n",
       "      <td>-0.0381</td>\n",
       "    </tr>\n",
       "    <tr>\n",
       "      <td>...</td>\n",
       "      <td>...</td>\n",
       "      <td>...</td>\n",
       "      <td>...</td>\n",
       "      <td>...</td>\n",
       "      <td>...</td>\n",
       "      <td>...</td>\n",
       "    </tr>\n",
       "    <tr>\n",
       "      <td>2009-10-12</td>\n",
       "      <td>21299.35</td>\n",
       "      <td>21623.33</td>\n",
       "      <td>21623.33</td>\n",
       "      <td>21262.71</td>\n",
       "      <td>0.0</td>\n",
       "      <td>-0.0093</td>\n",
       "    </tr>\n",
       "    <tr>\n",
       "      <td>2009-10-13</td>\n",
       "      <td>21467.36</td>\n",
       "      <td>21371.82</td>\n",
       "      <td>21679.15</td>\n",
       "      <td>21371.82</td>\n",
       "      <td>0.0</td>\n",
       "      <td>0.0079</td>\n",
       "    </tr>\n",
       "    <tr>\n",
       "      <td>2009-10-14</td>\n",
       "      <td>21886.48</td>\n",
       "      <td>21564.33</td>\n",
       "      <td>21893.42</td>\n",
       "      <td>21562.66</td>\n",
       "      <td>0.0</td>\n",
       "      <td>0.0195</td>\n",
       "    </tr>\n",
       "    <tr>\n",
       "      <td>2009-10-15</td>\n",
       "      <td>21999.08</td>\n",
       "      <td>22209.19</td>\n",
       "      <td>22250.35</td>\n",
       "      <td>21971.48</td>\n",
       "      <td>0.0</td>\n",
       "      <td>0.0051</td>\n",
       "    </tr>\n",
       "    <tr>\n",
       "      <td>2009-10-16</td>\n",
       "      <td>21929.90</td>\n",
       "      <td>22138.06</td>\n",
       "      <td>22143.01</td>\n",
       "      <td>21899.17</td>\n",
       "      <td>0.0</td>\n",
       "      <td>-0.0031</td>\n",
       "    </tr>\n",
       "  </tbody>\n",
       "</table>\n",
       "<p>200 rows × 6 columns</p>\n",
       "</div>"
      ],
      "text/plain": [
       "               Close      Open      High       Low  Volume  Change\n",
       "Date                                                              \n",
       "2009-01-02  15042.81  14448.22  15042.81  14412.12     0.0  0.0455\n",
       "2009-01-05  15563.31  15349.33  15563.31  15128.32     0.0  0.0346\n",
       "2009-01-06  15509.51  15612.47  15651.61  15367.93     0.0 -0.0035\n",
       "2009-01-07  14987.46  15759.53  15763.55  14976.74     0.0 -0.0337\n",
       "2009-01-08  14415.91  14755.81  14755.81  14334.15     0.0 -0.0381\n",
       "...              ...       ...       ...       ...     ...     ...\n",
       "2009-10-12  21299.35  21623.33  21623.33  21262.71     0.0 -0.0093\n",
       "2009-10-13  21467.36  21371.82  21679.15  21371.82     0.0  0.0079\n",
       "2009-10-14  21886.48  21564.33  21893.42  21562.66     0.0  0.0195\n",
       "2009-10-15  21999.08  22209.19  22250.35  21971.48     0.0  0.0051\n",
       "2009-10-16  21929.90  22138.06  22143.01  21899.17     0.0 -0.0031\n",
       "\n",
       "[200 rows x 6 columns]"
      ]
     },
     "execution_count": 54,
     "metadata": {},
     "output_type": "execute_result"
    }
   ],
   "source": [
    "pandf"
   ]
  },
  {
   "cell_type": "code",
   "execution_count": 42,
   "metadata": {},
   "outputs": [],
   "source": [
    "#특성 추가 ------------------------------------------\n",
    "    #이동평균선\n",
    "def get_MA(df):\n",
    "    MA_26=df[\"Close\"].rolling(26).mean()\n",
    "    MA_52=df[\"Close\"].rolling(52).mean()\n",
    "    df=df.assign(MA_26=MA_26,MA_52=MA_52).dropna()\n",
    "    \n",
    "    return df\n",
    "\n",
    "    \n",
    "    #스토캐스틱\n",
    "def get_stochastic(df, n=15, m=5, t=3):\n",
    "    # n일중 최고가\n",
    "    ndays_high = df.High.rolling(window=n, min_periods=1).max()\n",
    "    # n일중 최저가\n",
    "    ndays_low = df.Low.rolling(window=n, min_periods=1).min()\n",
    " \n",
    "    # Fast%K 계산\n",
    "    kdj_k = ((df.Close - ndays_low) / (ndays_high - ndays_low))*100\n",
    "    # Fast%D (=Slow%K) 계산\n",
    "    kdj_d = kdj_k.ewm(span=m).mean()\n",
    "    # Slow%D 계산\n",
    "    kdj_j = kdj_d.ewm(span=t).mean()\n",
    " \n",
    "    # dataframe에 컬럼 추가\n",
    "    df = df.assign(kdj_k=kdj_k, kdj_d=kdj_d, kdj_j=kdj_j).dropna()\n",
    "    \n",
    "    return df\n",
    "   \n",
    "    #시간\n",
    "def get_time(df):\n",
    "    time=np.linspace(0,10,len(df),endpoint=False).reshape(-1,1)\n",
    "    df=df.assign(time=time)\n",
    "    \n",
    "    return df"
   ]
  },
  {
   "cell_type": "code",
   "execution_count": 43,
   "metadata": {},
   "outputs": [
    {
     "name": "stdout",
     "output_type": "stream",
     "text": [
      "[[13130.92       13205.17       13205.17       ...    72.18376706\n",
      "  12654.72115385 13154.59730769]\n",
      " [12833.51       13157.9        13157.9        ...    76.26544459\n",
      "  12639.53692308 13112.11076923]\n",
      " [13447.42       13001.55       13451.02       ...    81.55327893\n",
      "  12635.41192308 13071.42057692]\n",
      " ...\n",
      " [21886.48       21564.33       21893.42       ...    71.40441472\n",
      "  21174.43846154 20786.30038462]\n",
      " [21999.08       22209.19       22250.35       ...    76.7200485\n",
      "  21218.59384615 20809.42826923]\n",
      " [21929.9        22138.06       22143.01       ...    79.62639797\n",
      "  21251.68384615 20837.02692308]]\n"
     ]
    }
   ],
   "source": [
    "df=pandf\n",
    "df=get_time(df)\n",
    "df=get_stochastic(df)\n",
    "df=get_MA(df)\n",
    "# convert nparray\n",
    "\n",
    "nparr = df.values\n",
    "nparr.astype('float32')\n",
    "print(nparr)"
   ]
  },
  {
   "cell_type": "code",
   "execution_count": 44,
   "metadata": {},
   "outputs": [],
   "source": [
    "# normalization\n",
    "scaler = MinMaxScaler(feature_range=(0, 1))\n",
    "nptf = scaler.fit_transform(nparr)"
   ]
  },
  {
   "cell_type": "code",
   "execution_count": null,
   "metadata": {},
   "outputs": [],
   "source": []
  },
  {
   "cell_type": "code",
   "execution_count": 45,
   "metadata": {},
   "outputs": [],
   "source": [
    "# 값과 이평선 비교하기 ----------------\n",
    "\n",
    "MA_26=df[\"Close\"].rolling(26).mean()\n",
    "y_before=MA_26.dropna()\n",
    "df_before=df[\"Close\"][25:]\n",
    "y=np.where(df_before.shift(-1)>y_before.shift(-1),1,0)\n",
    "X=nptf[25:]"
   ]
  },
  {
   "cell_type": "code",
   "execution_count": 46,
   "metadata": {},
   "outputs": [],
   "source": [
    "# split train, test\n",
    "train_size = int(len(nptf) * 0.7)\n",
    "y_train2=y[:train_size]\n",
    "y_test2=y[train_size:]\n",
    "X_train2 = X[:train_size]\n",
    "X_test2 = X[train_size:]\n",
    "\n"
   ]
  },
  {
   "cell_type": "code",
   "execution_count": 47,
   "metadata": {},
   "outputs": [],
   "source": [
    "# reshape input to be [samples, time steps, features]\n",
    "X_train = np.reshape(X_train2, (X_train2.shape[0], 1, X_train2.shape[1]))\n",
    "X_test = np.reshape(X_test2, (X_test2.shape[0], 1, X_test2.shape[1]))\n",
    "y_train=y_train2\n",
    "y_test=y_test2\n"
   ]
  },
  {
   "cell_type": "code",
   "execution_count": 51,
   "metadata": {
    "scrolled": true
   },
   "outputs": [
    {
     "name": "stdout",
     "output_type": "stream",
     "text": [
      "Train on 93 samples, validate on 11 samples\n",
      "Epoch 1/10\n",
      "93/93 [==============================] - 1s 14ms/step - loss: 0.7287 - acc: 0.2473 - val_loss: 0.7543 - val_acc: 0.0000e+00\n",
      "Epoch 2/10\n",
      "93/93 [==============================] - 0s 332us/step - loss: 0.7224 - acc: 0.2473 - val_loss: 0.7420 - val_acc: 0.0000e+00\n",
      "Epoch 3/10\n",
      "93/93 [==============================] - 0s 331us/step - loss: 0.7156 - acc: 0.2473 - val_loss: 0.7303 - val_acc: 0.0000e+00\n",
      "Epoch 4/10\n",
      "93/93 [==============================] - 0s 353us/step - loss: 0.7100 - acc: 0.2473 - val_loss: 0.7183 - val_acc: 0.0000e+00\n",
      "Epoch 5/10\n",
      "93/93 [==============================] - 0s 365us/step - loss: 0.7040 - acc: 0.2473 - val_loss: 0.7068 - val_acc: 0.0000e+00\n",
      "Epoch 6/10\n",
      "93/93 [==============================] - 0s 343us/step - loss: 0.6980 - acc: 0.2473 - val_loss: 0.6958 - val_acc: 0.0000e+00\n",
      "Epoch 7/10\n",
      "93/93 [==============================] - 0s 332us/step - loss: 0.6922 - acc: 0.6882 - val_loss: 0.6855 - val_acc: 1.0000\n",
      "Epoch 8/10\n",
      "93/93 [==============================] - 0s 322us/step - loss: 0.6870 - acc: 0.7527 - val_loss: 0.6751 - val_acc: 1.0000\n",
      "Epoch 9/10\n",
      "93/93 [==============================] - 0s 339us/step - loss: 0.6820 - acc: 0.7527 - val_loss: 0.6648 - val_acc: 1.0000\n",
      "Epoch 10/10\n",
      "93/93 [==============================] - 0s 365us/step - loss: 0.6769 - acc: 0.7527 - val_loss: 0.6549 - val_acc: 1.0000\n",
      "20/20 [==============================] - 0s 100us/step\n"
     ]
    },
    {
     "data": {
      "text/plain": [
       "[0.6744173765182495, 0.75]"
      ]
     },
     "execution_count": 51,
     "metadata": {},
     "output_type": "execute_result"
    }
   ],
   "source": [
    "# simple lstm network learning\n",
    "model = Sequential()\n",
    "model.add(LSTM(8, input_shape=(1, 12)))\n",
    "for i in range(5):\n",
    "    model.add(Dense(4,activation='sigmoid'))\n",
    "model.add(Dense(1,activation='sigmoid'))\n",
    "model.compile(loss='binary_crossentropy', optimizer='adam', metrics=['acc'])\n",
    "model.fit(X_train, y_train, epochs=10, batch_size=16,validation_split=0.1)\n",
    "model.evaluate(X_test,y_test)"
   ]
  },
  {
   "cell_type": "code",
   "execution_count": 52,
   "metadata": {},
   "outputs": [
    {
     "data": {
      "text/plain": [
       "0.75"
      ]
     },
     "execution_count": 52,
     "metadata": {},
     "output_type": "execute_result"
    }
   ],
   "source": [
    "from sklearn.metrics import accuracy_score\n",
    "accuracy_score(y_test,np.where(model.predict(X_test)>0.5,1,0))"
   ]
  },
  {
   "cell_type": "code",
   "execution_count": 53,
   "metadata": {},
   "outputs": [
    {
     "data": {
      "text/plain": [
       "array([[0.5194838 ],\n",
       "       [0.5194842 ],\n",
       "       [0.519484  ],\n",
       "       [0.5194822 ],\n",
       "       [0.5194802 ],\n",
       "       [0.519476  ],\n",
       "       [0.5194745 ],\n",
       "       [0.51947254],\n",
       "       [0.5194716 ],\n",
       "       [0.5194689 ],\n",
       "       [0.5194679 ],\n",
       "       [0.5194677 ],\n",
       "       [0.51946944],\n",
       "       [0.5194725 ],\n",
       "       [0.5194757 ],\n",
       "       [0.51947755],\n",
       "       [0.51947933],\n",
       "       [0.51948154],\n",
       "       [0.51948303],\n",
       "       [0.5194834 ]], dtype=float32)"
      ]
     },
     "execution_count": 53,
     "metadata": {},
     "output_type": "execute_result"
    }
   ],
   "source": [
    "model.predict(X_test)"
   ]
  },
  {
   "cell_type": "code",
   "execution_count": 33,
   "metadata": {},
   "outputs": [
    {
     "name": "stdout",
     "output_type": "stream",
     "text": [
      "[[251  46]\n",
      " [ 61 344]]\n"
     ]
    }
   ],
   "source": [
    "from sklearn.metrics import confusion_matrix\n",
    "print(confusion_matrix(y_test,np.where(model.predict(X_test)>0.5,1,0)))"
   ]
  },
  {
   "cell_type": "code",
   "execution_count": null,
   "metadata": {},
   "outputs": [],
   "source": []
  },
  {
   "cell_type": "code",
   "execution_count": 12,
   "metadata": {},
   "outputs": [
    {
     "data": {
      "text/plain": [
       "(2398,)"
      ]
     },
     "execution_count": 12,
     "metadata": {},
     "output_type": "execute_result"
    }
   ],
   "source": [
    "MA_26=df[\"Close\"].rolling(26).mean()\n",
    "MA_26=MA_26.dropna()\n",
    "MA_26.shape\n"
   ]
  },
  {
   "cell_type": "code",
   "execution_count": 13,
   "metadata": {},
   "outputs": [
    {
     "data": {
      "text/plain": [
       "(2474, 6)"
      ]
     },
     "execution_count": 13,
     "metadata": {},
     "output_type": "execute_result"
    }
   ],
   "source": [
    "pandf.shape"
   ]
  },
  {
   "cell_type": "code",
   "execution_count": 14,
   "metadata": {},
   "outputs": [
    {
     "data": {
      "text/plain": [
       "(2398,)"
      ]
     },
     "execution_count": 14,
     "metadata": {},
     "output_type": "execute_result"
    }
   ],
   "source": [
    "MA_26.shape"
   ]
  },
  {
   "cell_type": "code",
   "execution_count": 15,
   "metadata": {},
   "outputs": [
    {
     "data": {
      "text/plain": [
       "(1696, 12)"
      ]
     },
     "execution_count": 15,
     "metadata": {},
     "output_type": "execute_result"
    }
   ],
   "source": [
    "X_train2.shape"
   ]
  },
  {
   "cell_type": "code",
   "execution_count": null,
   "metadata": {},
   "outputs": [],
   "source": []
  },
  {
   "cell_type": "code",
   "execution_count": null,
   "metadata": {},
   "outputs": [],
   "source": []
  },
  {
   "cell_type": "code",
   "execution_count": null,
   "metadata": {},
   "outputs": [],
   "source": []
  }
 ],
 "metadata": {
  "kernelspec": {
   "display_name": "Python 3",
   "language": "python",
   "name": "python3"
  },
  "language_info": {
   "codemirror_mode": {
    "name": "ipython",
    "version": 3
   },
   "file_extension": ".py",
   "mimetype": "text/x-python",
   "name": "python",
   "nbconvert_exporter": "python",
   "pygments_lexer": "ipython3",
   "version": "3.7.4"
  }
 },
 "nbformat": 4,
 "nbformat_minor": 2
}
