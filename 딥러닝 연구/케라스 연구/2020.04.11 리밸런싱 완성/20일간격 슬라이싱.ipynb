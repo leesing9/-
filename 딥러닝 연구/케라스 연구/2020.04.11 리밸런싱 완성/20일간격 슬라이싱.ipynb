{
 "cells": [
  {
   "cell_type": "code",
   "execution_count": 1,
   "metadata": {},
   "outputs": [
    {
     "name": "stderr",
     "output_type": "stream",
     "text": [
      "Using TensorFlow backend.\n"
     ]
    }
   ],
   "source": [
    "\n",
    "%matplotlib inline\n",
    "import os\n",
    "import pandas as pd\n",
    "import numpy as np\n",
    "from keras.models import Sequential\n",
    "from keras.layers import Dense\n",
    "from keras.layers import LSTM\n",
    "from keras.layers import SimpleRNN\n",
    "\n",
    "from sklearn.preprocessing import MinMaxScaler\n",
    "import matplotlib.pyplot as plt\n",
    "import math\n",
    "from sklearn.metrics import mean_squared_error\n",
    "import FinanceDataReader as fdr"
   ]
  },
  {
   "cell_type": "code",
   "execution_count": 2,
   "metadata": {},
   "outputs": [],
   "source": [
    "#특성 추가 ------------------------------------------\n",
    "    #이동평균선\n",
    "def get_MA(df):\n",
    "    MA_26=df[\"Close\"].rolling(26).mean()\n",
    "    MA_52=df[\"Close\"].rolling(52).mean()\n",
    "    df=df.assign(MA_26=MA_26,MA_52=MA_52).dropna()\n",
    "    \n",
    "    return df\n",
    "\n",
    "    \n",
    "    #스토캐스틱\n",
    "def get_stochastic(df, n=15, m=5, t=3):\n",
    "    # n일중 최고가\n",
    "    ndays_high = df.High.rolling(window=n, min_periods=1).max()\n",
    "    # n일중 최저가\n",
    "    ndays_low = df.Low.rolling(window=n, min_periods=1).min()\n",
    " \n",
    "    # Fast%K 계산\n",
    "    kdj_k = ((df.Close - ndays_low) / (ndays_high - ndays_low))*100\n",
    "    # Fast%D (=Slow%K) 계산\n",
    "    kdj_d = kdj_k.ewm(span=m).mean()\n",
    "    # Slow%D 계산\n",
    "    kdj_j = kdj_d.ewm(span=t).mean()\n",
    " \n",
    "    # dataframe에 컬럼 추가\n",
    "    df = df.assign(kdj_k=kdj_k, kdj_d=kdj_d, kdj_j=kdj_j).dropna()\n",
    "    \n",
    "    return df\n",
    "   \n",
    "    #시간\n",
    "def get_time(df):\n",
    "    time=np.linspace(0,10,len(df),endpoint=False).reshape(-1,1)\n",
    "    df=df.assign(time=time)\n",
    "    \n",
    "    return df"
   ]
  },
  {
   "cell_type": "code",
   "execution_count": 13,
   "metadata": {},
   "outputs": [
    {
     "data": {
      "text/plain": [
       "[]"
      ]
     },
     "execution_count": 13,
     "metadata": {},
     "output_type": "execute_result"
    }
   ],
   "source": [
    "earn_list"
   ]
  },
  {
   "cell_type": "code",
   "execution_count": 3,
   "metadata": {},
   "outputs": [],
   "source": [
    "KS11 = fdr.DataReader(\"KS11\",\"2010-01-01\",\"2019-01-01\")\n",
    "KQ11= fdr.DataReader(\"KQ11\",\"2010-01-01\",\"2019-01-01\")\n",
    "US500 = fdr.DataReader(\"US500\",\"2010-01-01\",\"2019-01-01\")\n",
    "HSI = fdr.DataReader(\"HSI\",\"2010-01-01\",\"2019-01-01\")\n",
    "IXIC = fdr.DataReader(\"IXIC\",\"2010-01-01\",\"2019-01-01\")"
   ]
  },
  {
   "cell_type": "code",
   "execution_count": 16,
   "metadata": {},
   "outputs": [
    {
     "data": {
      "text/html": [
       "<div>\n",
       "<style scoped>\n",
       "    .dataframe tbody tr th:only-of-type {\n",
       "        vertical-align: middle;\n",
       "    }\n",
       "\n",
       "    .dataframe tbody tr th {\n",
       "        vertical-align: top;\n",
       "    }\n",
       "\n",
       "    .dataframe thead th {\n",
       "        text-align: right;\n",
       "    }\n",
       "</style>\n",
       "<table border=\"1\" class=\"dataframe\">\n",
       "  <thead>\n",
       "    <tr style=\"text-align: right;\">\n",
       "      <th></th>\n",
       "      <th>영업일</th>\n",
       "      <th>인덱스</th>\n",
       "      <th>예측값</th>\n",
       "      <th>실제수익률</th>\n",
       "    </tr>\n",
       "  </thead>\n",
       "  <tbody>\n",
       "    <tr>\n",
       "      <td>0</td>\n",
       "      <td>461~479일 차</td>\n",
       "      <td>KS11</td>\n",
       "      <td>0</td>\n",
       "      <td>0.145879</td>\n",
       "    </tr>\n",
       "    <tr>\n",
       "      <td>0</td>\n",
       "      <td>461~479일 차</td>\n",
       "      <td>KQ11</td>\n",
       "      <td>0</td>\n",
       "      <td>0.169001</td>\n",
       "    </tr>\n",
       "    <tr>\n",
       "      <td>0</td>\n",
       "      <td>461~479일 차</td>\n",
       "      <td>IXIC</td>\n",
       "      <td>0</td>\n",
       "      <td>0.059922</td>\n",
       "    </tr>\n",
       "    <tr>\n",
       "      <td>0</td>\n",
       "      <td>461~479일 차</td>\n",
       "      <td>HSI</td>\n",
       "      <td>0</td>\n",
       "      <td>0.191978</td>\n",
       "    </tr>\n",
       "    <tr>\n",
       "      <td>0</td>\n",
       "      <td>461~479일 차</td>\n",
       "      <td>US500</td>\n",
       "      <td>0</td>\n",
       "      <td>0.067051</td>\n",
       "    </tr>\n",
       "  </tbody>\n",
       "</table>\n",
       "</div>"
      ],
      "text/plain": [
       "          영업일    인덱스 예측값     실제수익률\n",
       "0  461~479일 차   KS11   0  0.145879\n",
       "0  461~479일 차   KQ11   0  0.169001\n",
       "0  461~479일 차   IXIC   0  0.059922\n",
       "0  461~479일 차    HSI   0  0.191978\n",
       "0  461~479일 차  US500   0  0.067051"
      ]
     },
     "execution_count": 16,
     "metadata": {},
     "output_type": "execute_result"
    }
   ],
   "source": [
    "세트df"
   ]
  },
  {
   "cell_type": "code",
   "execution_count": null,
   "metadata": {},
   "outputs": [
    {
     "name": "stdout",
     "output_type": "stream",
     "text": [
      "1~19일 차 ---------------------------------\n"
     ]
    }
   ],
   "source": [
    "초기돈=10000\n",
    "d=1\n",
    "dd=19\n",
    "투자결과=[]\n",
    "총df=pd.DataFrame(columns=[\"영업일\",\"인덱스\",\"예측값\",\"실제수익률\"])\n",
    "세트df=pd.DataFrame(columns=[\"영업일\",\"인덱스\",\"예측값\",\"실제수익률\"])\n",
    "\n",
    "for x in range(int(min(len(KS11),len(KQ11),len(US500),len(HSI),len(IXIC))/20)): #예측머신돌리기\n",
    "    if (x==0): #day만들기\n",
    "        day= str(d) + \"~\" + str(dd) + \"일 차\" \n",
    "    else:\n",
    "        day= str(d+(20*x)) +\"~\" + str(dd+(20*x)) + \"일 차\"\n",
    "    print(day,\"---------------------------------\")\n",
    "    \n",
    "    세트df=pd.DataFrame(columns=[\"영업일\",\"인덱스\",\"예측값\",\"실제수익률\"])\n",
    "    \n",
    "    for 인덱스,인덱스명 in zip([KS11,KQ11,IXIC,HSI,US500],[\"KS11\",\"KQ11\",\"IXIC\",\"HSI\",\"US500\"]):\n",
    "\n",
    "    \n",
    "        \n",
    "        #예측머신--------------------------------------------------------\n",
    "\n",
    "    \n",
    "        BATCH = 20\n",
    "\n",
    "        df = 인덱스\n",
    "        df=get_MA(df)\n",
    "        df=get_stochastic(df)\n",
    "        df=get_time(df)\n",
    "        df=df[0:-(len(df)%BATCH)]\n",
    "        \n",
    "        MA_26=df[\"Close\"].rolling(26).mean()\n",
    "        y_before=MA_26.dropna()\n",
    "        df=df[25:]\n",
    "        \n",
    "        y=[]\n",
    "        for a in range(1,10001):\n",
    "            try:\n",
    "                y.append(np.where(df[\"Close\"][-1+(BATCH*a)]>y_before[-1+(BATCH*a)],1,0)) # 이평선비교\n",
    "                #y.append(np.where(df[\"Close\"][-1+(BATCH*a)] > df[\"Close\"][-1+(BATCH*(a-1))],1,0)) #값비교\n",
    "            except:\n",
    "                break\n",
    "\n",
    "        df = df.values\n",
    "        df.astype('float32')\n",
    "        scaler = MinMaxScaler(feature_range=(0, 1))\n",
    "        df = scaler.fit_transform(df)\n",
    "\n",
    "        Xtrain_size=int(df.shape[0]/BATCH*0.7)*BATCH + (x*BATCH)\n",
    "\n",
    "        X_train=df[0:Xtrain_size]\n",
    "        X_test=df[Xtrain_size:Xtrain_size+BATCH]\n",
    "\n",
    "        y_train=y[ 0 : int(Xtrain_size/BATCH) ]\n",
    "        y_test=y[int(Xtrain_size/BATCH)]\n",
    "\n",
    "        # many to one 전처리 필요\n",
    "        y_train = np.reshape(y_train, (len(y_train), 1))\n",
    "        y_test = np.reshape(y_test, (1, 1))\n",
    "        X_train = np.reshape(X_train, (int(X_train.shape[0]/BATCH),BATCH, X_train.shape[1]))\n",
    "        X_test = np.reshape(X_test, (int(X_test.shape[0]/BATCH),BATCH, X_test.shape[1]))\n",
    "        \n",
    "    \n",
    "        X_train[:,BATCH-1,:]=0 #!!!!!!!!!!!!!!!!!!!!!!!!!!!!!!!!!!!!!!\n",
    "        X_test[:,BATCH-1,:]=0 #!!!!!!!!!!!!!!!!!!!!!!!!!!!!!!!!!!!!!!!!!\n",
    "\n",
    "        \n",
    "        # simple lstm network learning\n",
    "        model = Sequential()\n",
    "        model.add(LSTM(36, input_shape=(BATCH, 12)))\n",
    "        for i in range(3):\n",
    "            model.add(Dense(36,activation='sigmoid'))\n",
    "        model.add(Dense(1,activation='sigmoid'))\n",
    "        model.compile(loss='binary_crossentropy', optimizer='adam', metrics=['acc'])\n",
    "        model.fit(X_train, y_train, epochs=10, batch_size=16,validation_split=0.1,verbose=0)\n",
    "\n",
    "    \n",
    "        #예측머신 끝 --------predict -> 0 or 1 나옴 ---------------------\n",
    "\n",
    "        예측 = model.predict(X_test)\n",
    "        print(예측)\n",
    "        if 예측>=0.5:\n",
    "            예측=1\n",
    "        else:\n",
    "            예측=0\n",
    "        \n",
    "        y_1=인덱스.loc[::19,:][\"Close\"][:-1] # 1일차,20,40, ...\n",
    "        실제수익률 = (y_1[x+1]-y_1[x])/ y_1[x]                                         \n",
    "        턴df=pd.DataFrame(data={\"영업일\":[day],\"인덱스\":[인덱스명],\"예측값\":[예측],\"실제수익률\":[실제수익률] }\n",
    "                         , columns=[\"영업일\",\"인덱스\",\"예측값\",\"실제수익률\"])\n",
    "        \n",
    "        세트df=pd.concat([세트df,턴df])\n",
    "        \n",
    "        if int(턴df[\"예측값\"])==1:\n",
    "            print(\"상승 예측된 인덱스 : \",인덱스명)\n",
    "        \n",
    "    earn_list=[]\n",
    "    for x,y in zip(세트df[\"예측값\"],세트df[\"실제수익률\"]):\n",
    "        if x==1:\n",
    "            earn_list.append(y)\n",
    "        \n",
    "    earn_list2=[]\n",
    "    \n",
    "    if len(earn_list)!=0:\n",
    "        초기돈=초기돈/(len(earn_list))\n",
    "        for y in earn_list:\n",
    "            earn_list2.append(초기돈+(초기돈*y))\n",
    "        초기돈=sum(earn_list2)    \n",
    "    \n",
    "    else:\n",
    "        earn_list2.append(초기돈)\n",
    "        \n",
    "    총df=pd.concat([총df,세트df])\n",
    "    총df = 총df.set_index(\"영업일\")\n",
    "\n",
    "    print(\"분산 투자 : \",earn_list2)\n",
    "    print(\"투자 결과 : \",초기돈)\n",
    "    \n",
    "    print(\"\\n★\")\n",
    "    print(세트df)\n",
    "    print(\"★\\n\")\n",
    "    \n",
    "        #MONEY = 투잣돈 * A의 20일후 change + 투잣돈 * B의 20일후 change #\"20일차MONEY\"출력\n",
    "print(총df)"
   ]
  },
  {
   "cell_type": "code",
   "execution_count": 19,
   "metadata": {},
   "outputs": [
    {
     "name": "stdout",
     "output_type": "stream",
     "text": [
      "KS11  :  12033.440635796573\n",
      "수익률 :  20.334406357965726 %\n",
      "\n",
      "KQ11  :  12794.220682080704\n",
      "수익률 :  27.942206820807048 %\n",
      "\n",
      "IXIC  :  28743.816116651215\n",
      "수익률 :  187.43816116651212 %\n",
      "\n",
      "HSI  :  11843.178477295805\n",
      "수익률 :  18.431784772958064 %\n",
      "\n",
      "US500  :  22125.967572529324\n",
      "수익률 :  121.25967572529323 %\n",
      "\n"
     ]
    }
   ],
   "source": [
    "# 면역전략의 수익\n",
    "\n",
    "for 인덱스,인덱스명 in zip([KS11,KQ11,IXIC,HSI,US500],[\"KS11\",\"KQ11\",\"IXIC\",\"HSI\",\"US500\"]):\n",
    "    돈 = 10000\n",
    "    df=인덱스\n",
    "    print(인덱스명,\" : \" , 돈 + ( 돈 * (df[\"Close\"][-1] - df[\"Close\"][0])/ df[\"Close\"][0] ))\n",
    "    print(\"수익률 : \",((df[\"Close\"][-1] - df[\"Close\"][0])/ df[\"Close\"][0] ) *100 , \"%\\n\")\n",
    "    "
   ]
  },
  {
   "cell_type": "code",
   "execution_count": 45,
   "metadata": {},
   "outputs": [
    {
     "ename": "ValueError",
     "evalue": "cannot reshape array of size 20880 into shape (4,20,20)",
     "output_type": "error",
     "traceback": [
      "\u001b[1;31m---------------------------------------------------------------------------\u001b[0m",
      "\u001b[1;31mValueError\u001b[0m                                Traceback (most recent call last)",
      "\u001b[1;32m<ipython-input-45-34b2041f9980>\u001b[0m in \u001b[0;36m<module>\u001b[1;34m\u001b[0m\n\u001b[1;32m----> 1\u001b[1;33m \u001b[0mX_train\u001b[0m \u001b[1;33m=\u001b[0m \u001b[0mnp\u001b[0m\u001b[1;33m.\u001b[0m\u001b[0mreshape\u001b[0m\u001b[1;33m(\u001b[0m\u001b[0mX_train\u001b[0m\u001b[1;33m,\u001b[0m \u001b[1;33m(\u001b[0m\u001b[0mint\u001b[0m\u001b[1;33m(\u001b[0m\u001b[0mX_train\u001b[0m\u001b[1;33m.\u001b[0m\u001b[0mshape\u001b[0m\u001b[1;33m[\u001b[0m\u001b[1;36m0\u001b[0m\u001b[1;33m]\u001b[0m\u001b[1;33m/\u001b[0m\u001b[0mBATCH\u001b[0m\u001b[1;33m)\u001b[0m\u001b[1;33m,\u001b[0m\u001b[0mBATCH\u001b[0m\u001b[1;33m,\u001b[0m \u001b[0mX_train\u001b[0m\u001b[1;33m.\u001b[0m\u001b[0mshape\u001b[0m\u001b[1;33m[\u001b[0m\u001b[1;36m1\u001b[0m\u001b[1;33m]\u001b[0m\u001b[1;33m)\u001b[0m\u001b[1;33m)\u001b[0m\u001b[1;33m\u001b[0m\u001b[1;33m\u001b[0m\u001b[0m\n\u001b[0m",
      "\u001b[1;32mC:\\Program Files\\anaconda3\\lib\\site-packages\\numpy\\core\\fromnumeric.py\u001b[0m in \u001b[0;36mreshape\u001b[1;34m(a, newshape, order)\u001b[0m\n\u001b[0;32m    290\u001b[0m            [5, 6]])\n\u001b[0;32m    291\u001b[0m     \"\"\"\n\u001b[1;32m--> 292\u001b[1;33m     \u001b[1;32mreturn\u001b[0m \u001b[0m_wrapfunc\u001b[0m\u001b[1;33m(\u001b[0m\u001b[0ma\u001b[0m\u001b[1;33m,\u001b[0m \u001b[1;34m'reshape'\u001b[0m\u001b[1;33m,\u001b[0m \u001b[0mnewshape\u001b[0m\u001b[1;33m,\u001b[0m \u001b[0morder\u001b[0m\u001b[1;33m=\u001b[0m\u001b[0morder\u001b[0m\u001b[1;33m)\u001b[0m\u001b[1;33m\u001b[0m\u001b[1;33m\u001b[0m\u001b[0m\n\u001b[0m\u001b[0;32m    293\u001b[0m \u001b[1;33m\u001b[0m\u001b[0m\n\u001b[0;32m    294\u001b[0m \u001b[1;33m\u001b[0m\u001b[0m\n",
      "\u001b[1;32mC:\\Program Files\\anaconda3\\lib\\site-packages\\numpy\\core\\fromnumeric.py\u001b[0m in \u001b[0;36m_wrapfunc\u001b[1;34m(obj, method, *args, **kwds)\u001b[0m\n\u001b[0;32m     54\u001b[0m \u001b[1;32mdef\u001b[0m \u001b[0m_wrapfunc\u001b[0m\u001b[1;33m(\u001b[0m\u001b[0mobj\u001b[0m\u001b[1;33m,\u001b[0m \u001b[0mmethod\u001b[0m\u001b[1;33m,\u001b[0m \u001b[1;33m*\u001b[0m\u001b[0margs\u001b[0m\u001b[1;33m,\u001b[0m \u001b[1;33m**\u001b[0m\u001b[0mkwds\u001b[0m\u001b[1;33m)\u001b[0m\u001b[1;33m:\u001b[0m\u001b[1;33m\u001b[0m\u001b[1;33m\u001b[0m\u001b[0m\n\u001b[0;32m     55\u001b[0m     \u001b[1;32mtry\u001b[0m\u001b[1;33m:\u001b[0m\u001b[1;33m\u001b[0m\u001b[1;33m\u001b[0m\u001b[0m\n\u001b[1;32m---> 56\u001b[1;33m         \u001b[1;32mreturn\u001b[0m \u001b[0mgetattr\u001b[0m\u001b[1;33m(\u001b[0m\u001b[0mobj\u001b[0m\u001b[1;33m,\u001b[0m \u001b[0mmethod\u001b[0m\u001b[1;33m)\u001b[0m\u001b[1;33m(\u001b[0m\u001b[1;33m*\u001b[0m\u001b[0margs\u001b[0m\u001b[1;33m,\u001b[0m \u001b[1;33m**\u001b[0m\u001b[0mkwds\u001b[0m\u001b[1;33m)\u001b[0m\u001b[1;33m\u001b[0m\u001b[1;33m\u001b[0m\u001b[0m\n\u001b[0m\u001b[0;32m     57\u001b[0m \u001b[1;33m\u001b[0m\u001b[0m\n\u001b[0;32m     58\u001b[0m     \u001b[1;31m# An AttributeError occurs if the object does not have\u001b[0m\u001b[1;33m\u001b[0m\u001b[1;33m\u001b[0m\u001b[1;33m\u001b[0m\u001b[0m\n",
      "\u001b[1;31mValueError\u001b[0m: cannot reshape array of size 20880 into shape (4,20,20)"
     ]
    }
   ],
   "source": [
    "X_train = np.reshape(X_train, (int(X_train.shape[0]/BATCH),BATCH, X_train.shape[1]))[:,:19,:]"
   ]
  },
  {
   "cell_type": "code",
   "execution_count": 19,
   "metadata": {},
   "outputs": [
    {
     "data": {
      "text/plain": [
       "(84, 1)"
      ]
     },
     "execution_count": 19,
     "metadata": {},
     "output_type": "execute_result"
    }
   ],
   "source": [
    "y_train.shape"
   ]
  },
  {
   "cell_type": "code",
   "execution_count": null,
   "metadata": {},
   "outputs": [],
   "source": []
  },
  {
   "cell_type": "code",
   "execution_count": null,
   "metadata": {},
   "outputs": [],
   "source": []
  },
  {
   "cell_type": "code",
   "execution_count": null,
   "metadata": {},
   "outputs": [],
   "source": []
  },
  {
   "cell_type": "code",
   "execution_count": null,
   "metadata": {},
   "outputs": [],
   "source": []
  },
  {
   "cell_type": "code",
   "execution_count": null,
   "metadata": {},
   "outputs": [],
   "source": [
    "\n",
    "\n",
    "\n",
    "\n"
   ]
  },
  {
   "cell_type": "code",
   "execution_count": null,
   "metadata": {},
   "outputs": [],
   "source": []
  },
  {
   "cell_type": "code",
   "execution_count": null,
   "metadata": {},
   "outputs": [],
   "source": []
  },
  {
   "cell_type": "code",
   "execution_count": null,
   "metadata": {},
   "outputs": [],
   "source": []
  },
  {
   "cell_type": "code",
   "execution_count": null,
   "metadata": {},
   "outputs": [],
   "source": []
  }
 ],
 "metadata": {
  "kernelspec": {
   "display_name": "Python 3",
   "language": "python",
   "name": "python3"
  }
 },
 "nbformat": 4,
 "nbformat_minor": 2
}
