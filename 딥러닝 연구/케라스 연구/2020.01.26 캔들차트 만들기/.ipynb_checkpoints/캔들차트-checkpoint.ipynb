{
 "cells": [
  {
   "cell_type": "code",
   "execution_count": 404,
   "metadata": {},
   "outputs": [],
   "source": [
    "\n",
    "%matplotlib inline\n",
    "import os\n",
    "import pandas as pd\n",
    "import numpy as np\n",
    "from keras.models import Sequential\n",
    "from keras.layers import Dense\n",
    "from keras.layers import LSTM\n",
    "from keras.layers import SimpleRNN\n",
    "\n",
    "from sklearn.preprocessing import MinMaxScaler\n",
    "import matplotlib.pyplot as plt\n",
    "import math\n",
    "from sklearn.metrics import mean_squared_error\n",
    "import FinanceDataReader as fdr\n",
    "import tensorflow as tf\n",
    "\n",
    "import matplotlib.pyplot as plt\n",
    "from pathlib import Path\n",
    "from shutil import copyfile, move\n",
    "from mpl_finance import candlestick2_ochl"
   ]
  },
  {
   "cell_type": "code",
   "execution_count": null,
   "metadata": {},
   "outputs": [],
   "source": []
  },
  {
   "cell_type": "code",
   "execution_count": 449,
   "metadata": {},
   "outputs": [],
   "source": [
    "def ohlc2cs(fname, seq_len, dimension):\n",
    "    print(\"Converting olhc to candlestick\")\n",
    "    df = pd.read_csv(fname)\n",
    "    df.fillna(0)\n",
    "    df.reset_index(inplace=True)\n",
    "    print(df[\"Close\"])\n",
    "    figs = np.zeros((len(df)-1, dimension, dimension, 3))\n",
    "    labels = []\n",
    "    \n",
    "    for i in range(0, len(df)-1):\n",
    "        c = df.ix[i:i + int(seq_len) - 1, :]\n",
    "        c_ = df.ix[i:i + int(seq_len), :]\n",
    "        if len(c) == int(seq_len):\n",
    "            my_dpi = 96\n",
    "            fig = plt.figure(figsize=(dimension / my_dpi,\n",
    "                                      dimension / my_dpi), dpi=my_dpi)\n",
    "            ax1 = fig.add_subplot(1, 1, 1)\n",
    "            c=c.loc[:,\"Close\":\"Change\"].astype(float)\n",
    "            candlestick2_ochl(ax1, c['Open'], c['Close'], c['High'],c['Low'], width=1,colorup='#77d879', \n",
    "                              colordown='#db3f3f')\n",
    "            ax1.grid(False)\n",
    "            ax1.set_xticklabels([])\n",
    "            ax1.set_yticklabels([])\n",
    "            ax1.xaxis.set_visible(False)\n",
    "            ax1.yaxis.set_visible(False)\n",
    "            ax1.axis('off')\n",
    "          \n",
    "        starting = c_[\"Close\"].iloc[-2]\n",
    "        endvalue = c_[\"Close\"].iloc[-1]\n",
    "        if endvalue > starting :\n",
    "            label = 1\n",
    "        else :\n",
    "            label = 0\n",
    "        labels.append(label)\n",
    "\n",
    "        fig.canvas.draw()\n",
    "        fig_np = np.array(fig.canvas.renderer._renderer)\n",
    "        figs[i] = fig_np[:,:,:3]\n",
    "        plt.close(fig)\n",
    "    return figs, labels"
   ]
  },
  {
   "cell_type": "code",
   "execution_count": 463,
   "metadata": {
    "scrolled": true
   },
   "outputs": [
    {
     "name": "stdout",
     "output_type": "stream",
     "text": [
      "Converting olhc to candlestick\n",
      "0       1157.40\n",
      "1       1173.57\n",
      "2       1194.28\n",
      "3       1228.17\n",
      "4       1205.70\n",
      "         ...   \n",
      "2731    2250.57\n",
      "2732    2262.64\n",
      "2733    2239.69\n",
      "2734    2267.25\n",
      "2735    2246.13\n",
      "Name: Close, Length: 2736, dtype: float64\n"
     ]
    },
    {
     "name": "stderr",
     "output_type": "stream",
     "text": [
      "C:\\Program Files\\anaconda3\\lib\\site-packages\\ipykernel_launcher.py:11: FutureWarning: \n",
      ".ix is deprecated. Please use\n",
      ".loc for label based indexing or\n",
      ".iloc for positional indexing\n",
      "\n",
      "See the documentation here:\n",
      "http://pandas.pydata.org/pandas-docs/stable/user_guide/indexing.html#ix-indexer-is-deprecated\n",
      "  # This is added back by InteractiveShellApp.init_path()\n",
      "C:\\Program Files\\anaconda3\\lib\\site-packages\\ipykernel_launcher.py:12: FutureWarning: \n",
      ".ix is deprecated. Please use\n",
      ".loc for label based indexing or\n",
      ".iloc for positional indexing\n",
      "\n",
      "See the documentation here:\n",
      "http://pandas.pydata.org/pandas-docs/stable/user_guide/indexing.html#ix-indexer-is-deprecated\n",
      "  if sys.path[0] == '':\n"
     ]
    }
   ],
   "source": [
    "df = fdr.DataReader(\"KS11\",\"2009\")\n",
    "y=np.where(df[\"Change\"].shift(-1).dropna()>0,1,0)\n",
    "\n",
    "df.to_csv('kospi.csv')\n",
    "inputs = 'kospi.csv'\n",
    "seq_len = 20\n",
    "dimension = 48\n",
    "\n",
    "figures, labels = ohlc2cs(inputs, seq_len, dimension)\n",
    "\n",
    "figures = figures/255.0\n",
    "\n",
    "setlen = int(len(df) * 0.7)\n",
    "X_train,X_test,Y_train,Y_test = \n",
    "figures[:setlen],figures[setlen:],np.array(labels[:setlen]),np.array(labels[setlen:])"
   ]
  },
  {
   "cell_type": "code",
   "execution_count": null,
   "metadata": {},
   "outputs": [],
   "source": []
  },
  {
   "cell_type": "code",
   "execution_count": 470,
   "metadata": {},
   "outputs": [
    {
     "data": {
      "image/png": "[encoded data removed]",
      "text/plain": [
       "<Figure size 432x288 with 1 Axes>"
      ]
     },
     "metadata": {
      "needs_background": "dark"
     },
     "output_type": "display_data"
    }
   ],
   "source": [
    "###### 만들어진 차트 이미지 중 하나를 예시로 그려보겠습니다.\n",
    "import matplotlib as mpl\n",
    "import matplotlib.pylab as plt\n",
    "%matplotlib inline\n",
    "plt.figure()\n",
    "plt.imshow(figures[1])\n",
    "plt.show()\n"
   ]
  },
  {
   "cell_type": "code",
   "execution_count": null,
   "metadata": {},
   "outputs": [],
   "source": []
  },
  {
   "cell_type": "markdown",
   "metadata": {
    "scrolled": true
   },
   "source": []
  },
  {
   "cell_type": "code",
   "execution_count": 467,
   "metadata": {
    "scrolled": true
   },
   "outputs": [
    {
     "name": "stdout",
     "output_type": "stream",
     "text": [
      "Train on 1340 samples, validate on 575 samples\n",
      "Epoch 1/10\n",
      "1340/1340 [==============================] - 7s 5ms/step - loss: 0.7025 - accuracy: 0.5067 - val_loss: 0.6933 - val_accuracy: 0.5096\n",
      "Epoch 2/10\n",
      "1340/1340 [==============================] - 6s 4ms/step - loss: 0.6938 - accuracy: 0.5119 - val_loss: 0.6934 - val_accuracy: 0.5096\n",
      "Epoch 3/10\n",
      "1340/1340 [==============================] - 6s 4ms/step - loss: 0.6926 - accuracy: 0.5269 - val_loss: 0.6935 - val_accuracy: 0.5096\n",
      "Epoch 4/10\n",
      "1340/1340 [==============================] - 6s 4ms/step - loss: 0.6924 - accuracy: 0.5224 - val_loss: 0.6941 - val_accuracy: 0.5096\n",
      "Epoch 5/10\n",
      "1340/1340 [==============================] - 6s 5ms/step - loss: 0.6934 - accuracy: 0.5209 - val_loss: 0.6940 - val_accuracy: 0.5096\n",
      "Epoch 6/10\n",
      "1340/1340 [==============================] - 6s 5ms/step - loss: 0.6923 - accuracy: 0.5090 - val_loss: 0.6947 - val_accuracy: 0.5096\n",
      "Epoch 7/10\n",
      "1340/1340 [==============================] - 6s 5ms/step - loss: 0.6920 - accuracy: 0.5231 - val_loss: 0.6932 - val_accuracy: 0.5096\n",
      "Epoch 8/10\n",
      "1340/1340 [==============================] - 6s 5ms/step - loss: 0.6932 - accuracy: 0.5224 - val_loss: 0.6934 - val_accuracy: 0.5096\n",
      "Epoch 9/10\n",
      "1340/1340 [==============================] - 6s 5ms/step - loss: 0.6931 - accuracy: 0.5201 - val_loss: 0.6934 - val_accuracy: 0.5096\n",
      "Epoch 10/10\n",
      "1340/1340 [==============================] - 6s 5ms/step - loss: 0.6925 - accuracy: 0.5246 - val_loss: 0.6936 - val_accuracy: 0.5096\n"
     ]
    },
    {
     "data": {
      "text/plain": [
       "<keras.callbacks.callbacks.History at 0x2b40a321908>"
      ]
     },
     "execution_count": 467,
     "metadata": {},
     "output_type": "execute_result"
    }
   ],
   "source": [
    "### from tensorflow import keras\n",
    "from tensorflow.keras import layers\n",
    "\n",
    "# 첫번째 시도할 구조는 논문에서 제시한 CNN 구조\n",
    "# CNN의 filter size, dropout rate, padding 등은 언급이 안되어 있어서 임의로 넣음\n",
    "\n",
    "from keras.layers import Dense,Dropout,Flatten,Conv2D,MaxPooling2D\n",
    "model = Sequential()\n",
    "model.add(Conv2D(32,3,activation='relu',padding=\"same\"))\n",
    "model.add(MaxPooling2D(2))\n",
    "model.add(Conv2D(48,3,activation='relu',padding=\"same\"))\n",
    "model.add(MaxPooling2D(2))\n",
    "model.add(Dropout(0.5))\n",
    "model.add(Conv2D(64,3,activation='relu',padding=\"same\"))\n",
    "model.add(MaxPooling2D(2))\n",
    "model.add(Conv2D(96,3,activation='relu',padding=\"same\"))\n",
    "model.add(MaxPooling2D(2))\n",
    "model.add(Dropout(0.5))\n",
    "model.add(Flatten())\n",
    "model.add(Dense(256,activation='relu'))\n",
    "model.add(Dropout(0.5))\n",
    "model.add(Dense(1,activation='sigmoid'))\n",
    "model.compile(loss='binary_crossentropy',optimizer='adam',metrics=['accuracy'])\n",
    "\n",
    "model.fit(X_train,Y_train, epochs=10,batch_size=16,validation_split=0.3)"
   ]
  },
  {
   "cell_type": "code",
   "execution_count": 468,
   "metadata": {},
   "outputs": [
    {
     "data": {
      "text/plain": [
       "0.5280487804878049"
      ]
     },
     "execution_count": 468,
     "metadata": {},
     "output_type": "execute_result"
    }
   ],
   "source": [
    "from sklearn.metrics import accuracy_score\n",
    "accuracy_score(Y_test,np.where(model.predict(test_img)>0.5,1,0))"
   ]
  },
  {
   "cell_type": "code",
   "execution_count": null,
   "metadata": {
    "scrolled": true
   },
   "outputs": [],
   "source": []
  },
  {
   "cell_type": "code",
   "execution_count": null,
   "metadata": {},
   "outputs": [],
   "source": []
  },
  {
   "cell_type": "code",
   "execution_count": null,
   "metadata": {},
   "outputs": [],
   "source": []
  },
  {
   "cell_type": "code",
   "execution_count": null,
   "metadata": {},
   "outputs": [],
   "source": []
  },
  {
   "cell_type": "code",
   "execution_count": null,
   "metadata": {},
   "outputs": [],
   "source": []
  },
  {
   "cell_type": "code",
   "execution_count": null,
   "metadata": {},
   "outputs": [],
   "source": []
  }
 ],
 "metadata": {
  "kernelspec": {
   "display_name": "Python 3",
   "language": "python",
   "name": "python3"
  },
  "language_info": {
   "codemirror_mode": {
    "name": "ipython",
    "version": 3
   },
   "file_extension": ".py",
   "mimetype": "text/x-python",
   "name": "python",
   "nbconvert_exporter": "python",
   "pygments_lexer": "ipython3",
   "version": "3.7.4"
  }
 },
 "nbformat": 4,
 "nbformat_minor": 2
}
